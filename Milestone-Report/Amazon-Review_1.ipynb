{
 "cells": [
  {
   "cell_type": "markdown",
   "metadata": {
    "collapsed": true
   },
   "source": [
    "# How many stars will I give? Predicting ratings of Amazon reviews"
   ]
  },
  {
   "cell_type": "markdown",
   "metadata": {},
   "source": [
    "----------------\n",
    "## Purpose\n",
    "Many product reviews (from other platforms than Amazon) are not accompanied by a scale rating system, consisting only of a textual evaluation. In this case, it becomes daunting and time-consuming to compare different products in order to eventually make a choice between them. Therefore, models able to predict the user rating from the text review are critically important. Getting an overall sense of a textual review could in turn improve consumer experience. Also, it can help business to increase sales, and improve the product by understanding customers' needs and pain-points.\n",
    "\n",
    "The purpose of this project is to develop models that are able to predict the user rating from the text review. While our model is built to work with any kind of product, the review dataset provided by Amazon only includes Clothing and Shoes  reviews.\n",
    " \n",
    "## Data-Source\n",
    "Amazon product data:  http://jmcauley.ucsd.edu/data/amazon/\n",
    "\n",
    "## Sample review:\n",
    "    \"reviewerID\": \"A2SUAM1J3GNN3B\",  \n",
    "    \"asin\": \"0000013714\",  \n",
    "    \"reviewerName\": \"J. McDonald\",  \n",
    "    \"helpful\": [2, 3],  \n",
    "    \"reviewText\": \"I bought this for my husband who plays the piano.  He is having a wonderful time playing these old hymns.  The music  is at times hard to read because we think the book was published for singing from more than playing from.  Great purchase though!\",  \n",
    "    \"overall\": 5.0,  \n",
    "    \"summary\": \"Heavenly Highway Hymns\",  \n",
    "    \"unixReviewTime\": 1252800000,  \n",
    "    \"reviewTime\": \"09 13, 2009\"  "
   ]
  },
  {
   "cell_type": "markdown",
   "metadata": {},
   "source": [
    "----------------\n",
    "## I. Preparing Amazon dataset"
   ]
  },
  {
   "cell_type": "code",
   "execution_count": 1,
   "metadata": {
    "collapsed": false
   },
   "outputs": [],
   "source": [
    "##########################################\n",
    "## 1.1 IMPORT DATA IN PANDAS\n",
    "##########################################\n",
    "import pandas as pd\n",
    "\n",
    "review_df = pd.read_json('Amazon_reviews/Clothing_Shoes_and_Jewelry_5.json', orient='records', lines=True)"
   ]
  },
  {
   "cell_type": "code",
   "execution_count": 2,
   "metadata": {
    "collapsed": false,
    "scrolled": true
   },
   "outputs": [
    {
     "name": "stdout",
     "output_type": "stream",
     "text": [
      "Total data: (278677, 9)\n"
     ]
    },
    {
     "data": {
      "text/html": [
       "<div>\n",
       "<table border=\"1\" class=\"dataframe\">\n",
       "  <thead>\n",
       "    <tr style=\"text-align: right;\">\n",
       "      <th></th>\n",
       "      <th>asin</th>\n",
       "      <th>helpful</th>\n",
       "      <th>Rating</th>\n",
       "      <th>reviewText</th>\n",
       "      <th>reviewTime</th>\n",
       "      <th>reviewerID</th>\n",
       "      <th>reviewerName</th>\n",
       "      <th>summary</th>\n",
       "      <th>unixReviewTime</th>\n",
       "    </tr>\n",
       "  </thead>\n",
       "  <tbody>\n",
       "    <tr>\n",
       "      <th>0</th>\n",
       "      <td>0000031887</td>\n",
       "      <td>[0, 0]</td>\n",
       "      <td>5</td>\n",
       "      <td>This is a great tutu and at a really great pri...</td>\n",
       "      <td>02 12, 2011</td>\n",
       "      <td>A1KLRMWW2FWPL4</td>\n",
       "      <td>Amazon Customer \"cameramom\"</td>\n",
       "      <td>Great tutu-  not cheaply made</td>\n",
       "      <td>1297468800</td>\n",
       "    </tr>\n",
       "    <tr>\n",
       "      <th>1</th>\n",
       "      <td>0000031887</td>\n",
       "      <td>[0, 0]</td>\n",
       "      <td>5</td>\n",
       "      <td>I bought this for my 4 yr old daughter for dan...</td>\n",
       "      <td>01 19, 2013</td>\n",
       "      <td>A2G5TCU2WDFZ65</td>\n",
       "      <td>Amazon Customer</td>\n",
       "      <td>Very Cute!!</td>\n",
       "      <td>1358553600</td>\n",
       "    </tr>\n",
       "    <tr>\n",
       "      <th>2</th>\n",
       "      <td>0000031887</td>\n",
       "      <td>[0, 0]</td>\n",
       "      <td>5</td>\n",
       "      <td>What can I say... my daughters have it in oran...</td>\n",
       "      <td>01 4, 2013</td>\n",
       "      <td>A1RLQXYNCMWRWN</td>\n",
       "      <td>Carola</td>\n",
       "      <td>I have buy more than one</td>\n",
       "      <td>1357257600</td>\n",
       "    </tr>\n",
       "    <tr>\n",
       "      <th>3</th>\n",
       "      <td>0000031887</td>\n",
       "      <td>[0, 0]</td>\n",
       "      <td>5</td>\n",
       "      <td>We bought several tutus at once, and they are ...</td>\n",
       "      <td>04 27, 2014</td>\n",
       "      <td>A8U3FAMSJVHS5</td>\n",
       "      <td>Caromcg</td>\n",
       "      <td>Adorable, Sturdy</td>\n",
       "      <td>1398556800</td>\n",
       "    </tr>\n",
       "    <tr>\n",
       "      <th>4</th>\n",
       "      <td>0000031887</td>\n",
       "      <td>[0, 0]</td>\n",
       "      <td>5</td>\n",
       "      <td>Thank you Halo Heaven great product for Little...</td>\n",
       "      <td>03 15, 2014</td>\n",
       "      <td>A3GEOILWLK86XM</td>\n",
       "      <td>CJ</td>\n",
       "      <td>Grammy's Angels Love it</td>\n",
       "      <td>1394841600</td>\n",
       "    </tr>\n",
       "  </tbody>\n",
       "</table>\n",
       "</div>"
      ],
      "text/plain": [
       "         asin helpful  Rating  \\\n",
       "0  0000031887  [0, 0]       5   \n",
       "1  0000031887  [0, 0]       5   \n",
       "2  0000031887  [0, 0]       5   \n",
       "3  0000031887  [0, 0]       5   \n",
       "4  0000031887  [0, 0]       5   \n",
       "\n",
       "                                          reviewText   reviewTime  \\\n",
       "0  This is a great tutu and at a really great pri...  02 12, 2011   \n",
       "1  I bought this for my 4 yr old daughter for dan...  01 19, 2013   \n",
       "2  What can I say... my daughters have it in oran...   01 4, 2013   \n",
       "3  We bought several tutus at once, and they are ...  04 27, 2014   \n",
       "4  Thank you Halo Heaven great product for Little...  03 15, 2014   \n",
       "\n",
       "       reviewerID                 reviewerName                        summary  \\\n",
       "0  A1KLRMWW2FWPL4  Amazon Customer \"cameramom\"  Great tutu-  not cheaply made   \n",
       "1  A2G5TCU2WDFZ65              Amazon Customer                    Very Cute!!   \n",
       "2  A1RLQXYNCMWRWN                       Carola       I have buy more than one   \n",
       "3   A8U3FAMSJVHS5                      Caromcg               Adorable, Sturdy   \n",
       "4  A3GEOILWLK86XM                           CJ        Grammy's Angels Love it   \n",
       "\n",
       "   unixReviewTime  \n",
       "0      1297468800  \n",
       "1      1358553600  \n",
       "2      1357257600  \n",
       "3      1398556800  \n",
       "4      1394841600  "
      ]
     },
     "execution_count": 2,
     "metadata": {},
     "output_type": "execute_result"
    }
   ],
   "source": [
    "##########################################\n",
    "## 1.2 CHECK DATA IN PANDAS\n",
    "##########################################\n",
    "\n",
    "# change column name \n",
    "review_df = review_df.rename(columns={'overall': 'Rating'})\n",
    "\n",
    "print (\"Total data:\", str(review_df.shape))\n",
    "review_df.head()"
   ]
  },
  {
   "cell_type": "markdown",
   "metadata": {
    "collapsed": true
   },
   "source": [
    "## II. Preliminary Analysis"
   ]
  },
  {
   "cell_type": "code",
   "execution_count": 3,
   "metadata": {
    "collapsed": false
   },
   "outputs": [
    {
     "name": "stdout",
     "output_type": "stream",
     "text": [
      "================================================\n",
      "Number of reviews:  278677\n",
      "\n",
      "Number of unique reviewers:  39387\n",
      "Prop of unique reviewers:  0.141\n",
      "\n",
      "Number of unique products:  23033\n",
      "Prop of unique products:  0.083\n",
      "\n",
      "Average rating score:  4.245\n",
      "================================================\n"
     ]
    }
   ],
   "source": [
    "##########################################\n",
    "## 2.1 DESCRIPTIVE STATISTICS\n",
    "##########################################\n",
    "\n",
    "print (\"================================================\")\n",
    "\n",
    "### Total reviews\n",
    "total = len(review_df)\n",
    "print (\"Number of reviews: \",total)\n",
    "print ()\n",
    "\n",
    "### How many unique reviewers?\n",
    "print (\"Number of unique reviewers: \",len(review_df.reviewerID.unique()))\n",
    "reviewer_prop = float(len(review_df.reviewerID.unique())/total)\n",
    "print (\"Prop of unique reviewers: \",round(reviewer_prop,3))\n",
    "print ()\n",
    "\n",
    "### How many unique products?\n",
    "print (\"Number of unique products: \", len(review_df.asin.unique()))\n",
    "product_prop = float(len(review_df.asin.unique())/total)\n",
    "print (\"Prop of unique products: \",round(product_prop,3))\n",
    "print ()\n",
    "\n",
    "### Average star score\n",
    "print (\"Average rating score: \",round(review_df.Rating.mean(),3))\n",
    "\n",
    "print (\"================================================\")"
   ]
  },
  {
   "cell_type": "code",
   "execution_count": 4,
   "metadata": {
    "collapsed": false,
    "scrolled": false
   },
   "outputs": [
    {
     "data": {
      "text/plain": [
       "(array([0, 1, 2, 3, 4]), <a list of 5 Text xticklabel objects>)"
      ]
     },
     "execution_count": 4,
     "metadata": {},
     "output_type": "execute_result"
    },
    {
     "data": {
      "image/png": "[encoded data removed]",
      "text/plain": [
       "<matplotlib.figure.Figure at 0x7f68cf83b8d0>"
      ]
     },
     "metadata": {},
     "output_type": "display_data"
    }
   ],
   "source": [
    "##########################################\n",
    "## 2.2 DISTRIBUTION OF RATING SCORE\n",
    "########################################## \n",
    "\n",
    "%matplotlib inline\n",
    "import matplotlib.pyplot as plt\n",
    "import seaborn as sns\n",
    "\n",
    "review_df.groupby('Rating').size().plot(kind='bar')\n",
    "plt.title(\"Frequency of Review Rating\")\n",
    "plt.xlabel(\"Rating\")\n",
    "plt.ylabel(\"Number of reviews\")\n",
    "plt.xticks(rotation=0)"
   ]
  },
  {
   "cell_type": "code",
   "execution_count": 5,
   "metadata": {
    "collapsed": false
   },
   "outputs": [
    {
     "data": {
      "text/plain": [
       "(array([0, 1, 2, 3, 4]), <a list of 5 Text xticklabel objects>)"
      ]
     },
     "execution_count": 5,
     "metadata": {},
     "output_type": "execute_result"
    },
    {
     "data": {
      "image/png": "[encoded data removed]",
      "text/plain": [
       "<matplotlib.figure.Figure at 0x7f68c5a99b38>"
      ]
     },
     "metadata": {},
     "output_type": "display_data"
    }
   ],
   "source": [
    "##########################################\n",
    "## 2.3 DISTRIBUTION OF RATING PROPOTION\n",
    "########################################## \n",
    "\n",
    "(review_df.groupby('Rating').size()/total).plot(kind='bar')\n",
    "plt.title(\"Propotion of Review Rating\")\n",
    "plt.xlabel(\"Rating\")\n",
    "plt.ylabel(\"Propotion of reviews\")\n",
    "plt.xticks(rotation=0)"
   ]
  },
  {
   "cell_type": "code",
   "execution_count": 6,
   "metadata": {
    "collapsed": false
   },
   "outputs": [
    {
     "name": "stdout",
     "output_type": "stream",
     "text": [
      "16434\n"
     ]
    }
   ],
   "source": [
    "######################\n",
    "## 2.4 SUBSET DATA\n",
    "######################\n",
    "\n",
    "from datetime import datetime\n",
    "def toDate(dt_str):\n",
    "    return datetime.strptime(dt_str, '%m %d, %Y')\n",
    "\n",
    "## select review time before 2012\n",
    "dt_year = toDate('01 01, 2012')\n",
    "review_df['reviewDate'] = review_df.reviewTime.apply(toDate)\n",
    "sub_df = review_df[review_df.reviewDate < dt_year]\n",
    "sub_total = len(sub_df)\n",
    "print (sub_total)"
   ]
  },
  {
   "cell_type": "code",
   "execution_count": 7,
   "metadata": {
    "collapsed": false
   },
   "outputs": [
    {
     "data": {
      "text/plain": [
       "Rating\n",
       "1      690\n",
       "2      861\n",
       "3     1518\n",
       "4     3363\n",
       "5    10002\n",
       "dtype: int64"
      ]
     },
     "execution_count": 7,
     "metadata": {},
     "output_type": "execute_result"
    }
   ],
   "source": [
    "class_counts = sub_df.groupby('Rating').size()\n",
    "class_counts"
   ]
  },
  {
   "cell_type": "code",
   "execution_count": 8,
   "metadata": {
    "collapsed": false
   },
   "outputs": [
    {
     "data": {
      "text/plain": [
       "(array([0, 1, 2, 3, 4]), <a list of 5 Text xticklabel objects>)"
      ]
     },
     "execution_count": 8,
     "metadata": {},
     "output_type": "execute_result"
    },
    {
     "data": {
      "image/png": "[encoded data removed]",
      "text/plain": [
       "<matplotlib.figure.Figure at 0x7f68c5ac29e8>"
      ]
     },
     "metadata": {},
     "output_type": "display_data"
    }
   ],
   "source": [
    "sub_df.groupby('Rating').size().plot(kind='bar')\n",
    "plt.title(\"Frequency of Review Rating\")\n",
    "plt.xlabel(\"Rating\")\n",
    "plt.ylabel(\"Number of reviews\")\n",
    "plt.xticks(rotation=0)"
   ]
  },
  {
   "cell_type": "code",
   "execution_count": 9,
   "metadata": {
    "collapsed": false
   },
   "outputs": [
    {
     "data": {
      "text/plain": [
       "(array([0, 1, 2, 3, 4]), <a list of 5 Text xticklabel objects>)"
      ]
     },
     "execution_count": 9,
     "metadata": {},
     "output_type": "execute_result"
    },
    {
     "data": {
      "image/png": "[encoded data removed]",
      "text/plain": [
       "<matplotlib.figure.Figure at 0x7f68c5993208>"
      ]
     },
     "metadata": {},
     "output_type": "display_data"
    }
   ],
   "source": [
    "(sub_df.groupby('Rating').size()/sub_total).plot(kind='bar')\n",
    "plt.title(\"Propotion of Review Rating\")\n",
    "plt.xlabel(\"Rating\")\n",
    "plt.ylabel(\"Propotion of reviews\")\n",
    "plt.xticks(rotation=0)"
   ]
  },
  {
   "cell_type": "markdown",
   "metadata": {},
   "source": [
    "## III. Pre-processing —— Text Normalization (Text Wrangling)\n",
    "Text normalization is defined as a process that consists of a series of steps that should be followed to wrangle, clean, and standardize textual data into a form that\n",
    "could be consumed by other NLP and analytics systems and applications as input. Besides tokenization, various other techniques include cleaning text, case conversion, correcting spellings,\n",
    "removing stopwords and other unnecessary terms, stemming, and lemmatization. Text normalization is also often called text cleansing or wrangling.  \n",
    "\n",
    "Below are various techniques used in the process of text normalization:\n",
    "* __Cleaning Text__\n",
    "* __Tokenizing Text__\n",
    "* __Removing Special Characters__\n",
    "* __Expanding Contractions__\n",
    "* __Case Conversions__\n",
    "* __Removing Stopwords__\n",
    "* __Correcting Words__\n",
    "* __Stemming__\n",
    "* __Lemmatization__"
   ]
  },
  {
   "cell_type": "code",
   "execution_count": 10,
   "metadata": {
    "collapsed": true
   },
   "outputs": [],
   "source": [
    "import nltk\n",
    "import re\n",
    "import string"
   ]
  },
  {
   "cell_type": "code",
   "execution_count": 11,
   "metadata": {
    "collapsed": false
   },
   "outputs": [
    {
     "data": {
      "text/html": [
       "<div>\n",
       "<table border=\"1\" class=\"dataframe\">\n",
       "  <thead>\n",
       "    <tr style=\"text-align: right;\">\n",
       "      <th></th>\n",
       "      <th>asin</th>\n",
       "      <th>helpful</th>\n",
       "      <th>Rating</th>\n",
       "      <th>reviewText</th>\n",
       "      <th>reviewTime</th>\n",
       "      <th>reviewerID</th>\n",
       "      <th>reviewerName</th>\n",
       "      <th>summary</th>\n",
       "      <th>unixReviewTime</th>\n",
       "      <th>reviewDate</th>\n",
       "    </tr>\n",
       "  </thead>\n",
       "  <tbody>\n",
       "    <tr>\n",
       "      <th>0</th>\n",
       "      <td>0000031887</td>\n",
       "      <td>[0, 0]</td>\n",
       "      <td>5</td>\n",
       "      <td>This is a great tutu and at a really great pri...</td>\n",
       "      <td>02 12, 2011</td>\n",
       "      <td>A1KLRMWW2FWPL4</td>\n",
       "      <td>Amazon Customer \"cameramom\"</td>\n",
       "      <td>Great tutu-  not cheaply made</td>\n",
       "      <td>1297468800</td>\n",
       "      <td>2011-02-12</td>\n",
       "    </tr>\n",
       "    <tr>\n",
       "      <th>1</th>\n",
       "      <td>0000031887</td>\n",
       "      <td>[0, 0]</td>\n",
       "      <td>5</td>\n",
       "      <td>Purchased this tutu for my granddaughter's fir...</td>\n",
       "      <td>11 12, 2011</td>\n",
       "      <td>A391EXIT5TFP72</td>\n",
       "      <td>Lisbeth Starr</td>\n",
       "      <td>Wonderful tutu!</td>\n",
       "      <td>1321056000</td>\n",
       "      <td>2011-11-12</td>\n",
       "    </tr>\n",
       "    <tr>\n",
       "      <th>2</th>\n",
       "      <td>1608299953</td>\n",
       "      <td>[201, 205]</td>\n",
       "      <td>4</td>\n",
       "      <td>The product itself is five stars, however the ...</td>\n",
       "      <td>12 4, 2011</td>\n",
       "      <td>A3INPLAFCMRI3I</td>\n",
       "      <td>Cheryl</td>\n",
       "      <td>4 stars BUT beware...</td>\n",
       "      <td>1322956800</td>\n",
       "      <td>2011-12-04</td>\n",
       "    </tr>\n",
       "    <tr>\n",
       "      <th>3</th>\n",
       "      <td>1608299953</td>\n",
       "      <td>[5, 6]</td>\n",
       "      <td>4</td>\n",
       "      <td>The first question was which computers to inst...</td>\n",
       "      <td>09 21, 2010</td>\n",
       "      <td>A3NHUQ33CFH3VM</td>\n",
       "      <td>Citizen John</td>\n",
       "      <td>Intense way to learn</td>\n",
       "      <td>1285027200</td>\n",
       "      <td>2010-09-21</td>\n",
       "    </tr>\n",
       "    <tr>\n",
       "      <th>4</th>\n",
       "      <td>1608299953</td>\n",
       "      <td>[11, 13]</td>\n",
       "      <td>5</td>\n",
       "      <td>Okay, I admit it. I'm one of the millions of A...</td>\n",
       "      <td>06 16, 2011</td>\n",
       "      <td>A253TILLU81VZK</td>\n",
       "      <td>D. Connelly</td>\n",
       "      <td>Helped me actually get an A in a foreign langu...</td>\n",
       "      <td>1308182400</td>\n",
       "      <td>2011-06-16</td>\n",
       "    </tr>\n",
       "  </tbody>\n",
       "</table>\n",
       "</div>"
      ],
      "text/plain": [
       "         asin     helpful  Rating  \\\n",
       "0  0000031887      [0, 0]       5   \n",
       "1  0000031887      [0, 0]       5   \n",
       "2  1608299953  [201, 205]       4   \n",
       "3  1608299953      [5, 6]       4   \n",
       "4  1608299953    [11, 13]       5   \n",
       "\n",
       "                                          reviewText   reviewTime  \\\n",
       "0  This is a great tutu and at a really great pri...  02 12, 2011   \n",
       "1  Purchased this tutu for my granddaughter's fir...  11 12, 2011   \n",
       "2  The product itself is five stars, however the ...   12 4, 2011   \n",
       "3  The first question was which computers to inst...  09 21, 2010   \n",
       "4  Okay, I admit it. I'm one of the millions of A...  06 16, 2011   \n",
       "\n",
       "       reviewerID                 reviewerName  \\\n",
       "0  A1KLRMWW2FWPL4  Amazon Customer \"cameramom\"   \n",
       "1  A391EXIT5TFP72                Lisbeth Starr   \n",
       "2  A3INPLAFCMRI3I                       Cheryl   \n",
       "3  A3NHUQ33CFH3VM                 Citizen John   \n",
       "4  A253TILLU81VZK                  D. Connelly   \n",
       "\n",
       "                                             summary  unixReviewTime  \\\n",
       "0                      Great tutu-  not cheaply made      1297468800   \n",
       "1                                    Wonderful tutu!      1321056000   \n",
       "2                              4 stars BUT beware...      1322956800   \n",
       "3                               Intense way to learn      1285027200   \n",
       "4  Helped me actually get an A in a foreign langu...      1308182400   \n",
       "\n",
       "  reviewDate  \n",
       "0 2011-02-12  \n",
       "1 2011-11-12  \n",
       "2 2011-12-04  \n",
       "3 2010-09-21  \n",
       "4 2011-06-16  "
      ]
     },
     "execution_count": 11,
     "metadata": {},
     "output_type": "execute_result"
    }
   ],
   "source": [
    "sdf = sub_df.copy()\n",
    "sdf.index = range(sub_total)\n",
    "sdf.head()"
   ]
  },
  {
   "cell_type": "markdown",
   "metadata": {},
   "source": [
    "### 1. Expanding Contractions\n",
    "Contractions are shortened version of words or syllables. They exist in either written or spoken forms. Shortened versions of existing words are created by removing specific letters and sounds. In case of English contractions, they are often created by removing one of the vowels from the word. \n",
    "\n",
    "By nature, contractions do pose a problem for NLP and text analytics because, to start with, we have a special apostrophe character in the word. Ideally, we can have a proper mapping for contractions and their corresponding expansions and then use it to expand all the contractions in our text. "
   ]
  },
  {
   "cell_type": "code",
   "execution_count": 12,
   "metadata": {
    "collapsed": true
   },
   "outputs": [],
   "source": [
    "from contractions import CONTRACTION_MAP\n",
    "\n",
    "# Define function to expand contractions\n",
    "def expand_contractions(text):\n",
    "    contractions_pattern = re.compile('({})'.format('|'.join(CONTRACTION_MAP.keys())),flags=re.IGNORECASE|re.DOTALL)\n",
    "    def expand_match(contraction):\n",
    "        match = contraction.group(0)\n",
    "        first_char = match[0]\n",
    "        expanded_contraction = CONTRACTION_MAP.get(match)\\\n",
    "                        if CONTRACTION_MAP.get(match)\\\n",
    "                        else CONTRACTION_MAP.get(match.lower())\n",
    "        expanded_contraction = first_char+expanded_contraction[1:]\n",
    "        return expanded_contraction\n",
    "    \n",
    "    expanded_text = contractions_pattern.sub(expand_match, text)\n",
    "    expanded_text = re.sub(\"'\", \"\", expanded_text)\n",
    "    return expanded_text"
   ]
  },
  {
   "cell_type": "markdown",
   "metadata": {},
   "source": [
    "### 2. Removing Special Characters\n",
    "One important task in text normalization involves removing unnecessary and *special characters*. These may be special symbols or even punctuation that occurs in sentences. This step is often performed before or after tokenization. The main reason for doing so is because often punctuation or special characters do not have much significance when we analyze the text and utilize it for extracting features or information based on NLP and ML."
   ]
  },
  {
   "cell_type": "code",
   "execution_count": 13,
   "metadata": {
    "collapsed": true
   },
   "outputs": [],
   "source": [
    "# Define the function to remove special characters\n",
    "def remove_characters(text):\n",
    "    text = text.strip()\n",
    "    PATTERN = '[^a-zA-Z ]' # only extract alpha characters\n",
    "    filtered_text = re.sub(PATTERN, '', text)\n",
    "    return filtered_text"
   ]
  },
  {
   "cell_type": "markdown",
   "metadata": {},
   "source": [
    "### 3. Tokenizing Text\n",
    "Tokenization can be defined as the process of breaking down or splitting textual data into smaller meaningful components called tokens.  \n",
    "\n",
    "**Sentence tokenization** is the process of splitting a text corpus into sentences that act as the first level of tokens which the corpus is comprised of. This is also known as sentence segmentation , because we try to segment the text into meaningful sentences.  \n",
    "\n",
    "**Word tokenization** is the process of splitting or segmenting sentences into their constituent words. A sentence is a collection of words, and with tokenization we essentially split a sentence into a list of words that can be used to reconstruct the sentence.  "
   ]
  },
  {
   "cell_type": "code",
   "execution_count": 14,
   "metadata": {
    "collapsed": false
   },
   "outputs": [],
   "source": [
    "# Define the tokenization function\n",
    "def tokenize_text(text):\n",
    "    word_tokens = nltk.word_tokenize(text)\n",
    "    tokens = [token.strip() for token in word_tokens]\n",
    "    return tokens"
   ]
  },
  {
   "cell_type": "markdown",
   "metadata": {},
   "source": [
    "### 4. Removing Stopwords\n",
    "*Stopwords* are words that have little or no significance. They are usually removed from text during processing so as to retain words having maximum significance and context. Stopwords are usually words that end up occurring the most if you aggregated any corpus of text based on singular tokens and checked their frequencies. Words like a, the , me , and so on are stopwords."
   ]
  },
  {
   "cell_type": "code",
   "execution_count": 15,
   "metadata": {
    "collapsed": true
   },
   "outputs": [],
   "source": [
    "from nltk.corpus import stopwords\n",
    "# In Python, searching a set is much faster than searching a list, \n",
    "# so convert the stop words to a set\n",
    "stopword_list = set(stopwords.words(\"english\"))\n",
    "\n",
    "# Define function to remove stopwords\n",
    "def remove_stopwords(tokens):\n",
    "    filtered_tokens = [token for token in tokens if token not in stopword_list]\n",
    "    return filtered_tokens"
   ]
  },
  {
   "cell_type": "markdown",
   "metadata": {},
   "source": [
    "### 5. Correcting Words\n",
    "One of the main challenges faced in text normalization is the presence of incorrect words in the text. The definition of incorrect here covers words that have spelling mistakes as well as words with several letters repeated that do not contribute much to its overall significance."
   ]
  },
  {
   "cell_type": "markdown",
   "metadata": {},
   "source": [
    "**5.1 Correcting Repeating Characters**"
   ]
  },
  {
   "cell_type": "code",
   "execution_count": 16,
   "metadata": {
    "collapsed": true
   },
   "outputs": [],
   "source": [
    "from nltk.corpus import wordnet\n",
    "\n",
    "# Define function to remove repeated characters\n",
    "def remove_repeated_characters(tokens):\n",
    "    repeat_pattern = re.compile(r'(\\w*)(\\w)\\2(\\w*)')\n",
    "    match_substitution = r'\\1\\2\\3'\n",
    "    def replace(old_word):\n",
    "        if wordnet.synsets(old_word):\n",
    "            return old_word\n",
    "        new_word = repeat_pattern.sub(match_substitution, old_word)\n",
    "        return replace(new_word) if new_word != old_word else new_word\n",
    "\n",
    "    correct_tokens = [replace(word) for word in tokens]\n",
    "    return correct_tokens"
   ]
  },
  {
   "cell_type": "markdown",
   "metadata": {},
   "source": [
    "**5.2 Correcting Spellings**"
   ]
  },
  {
   "cell_type": "code",
   "execution_count": 17,
   "metadata": {
    "collapsed": true
   },
   "outputs": [],
   "source": [
    "from collections import Counter\n",
    "\n",
    "# Generate a map of frequently occurring words in English and their counts\n",
    "\"\"\"\n",
    "The input corpus we use is a file containing several books from the Gutenberg corpus and also \n",
    "a list of most frequent words from Wiktionary and the British National Corpus. You can find \n",
    "the file under the name big.txt or download it from http://norvig.com/big.txt and use it.\n",
    "\"\"\"\n",
    "def tokens(text):\n",
    "    \"\"\"\n",
    "    Get all words from the corpus\n",
    "    \"\"\"\n",
    "    return re.findall('[a-z]+', text.lower())\n",
    "\n",
    "WORDS = tokens(open('big.txt').read())\n",
    "WORD_COUNTS = Counter(WORDS)"
   ]
  },
  {
   "cell_type": "code",
   "execution_count": 18,
   "metadata": {
    "collapsed": true
   },
   "outputs": [],
   "source": [
    "# Define functions that compute sets of words that are one and two edits away from input word.\n",
    "def edits1(word):\n",
    "    \"All edits that are one edit away from `word`.\"\n",
    "    letters    = 'abcdefghijklmnopqrstuvwxyz'\n",
    "    splits     = [(word[:i], word[i:])    for i in range(len(word) + 1)]\n",
    "    deletes    = [L + R[1:]               for L, R in splits if R]\n",
    "    transposes = [L + R[1] + R[0] + R[2:] for L, R in splits if len(R)>1]\n",
    "    replaces   = [L + c + R[1:]           for L, R in splits if R for c in letters]\n",
    "    inserts    = [L + c + R               for L, R in splits for c in letters]\n",
    "    return set(deletes + transposes + replaces + inserts)\n",
    "\n",
    "def edits2(word): \n",
    "    \"All edits that are two edits away from `word`.\"\n",
    "    return (e2 for e1 in edits1(word) for e2 in edits1(e1))"
   ]
  },
  {
   "cell_type": "code",
   "execution_count": 19,
   "metadata": {
    "collapsed": true
   },
   "outputs": [],
   "source": [
    "# Define function that returns a subset of words from our candidate set of words obtained from \n",
    "# the edit functions, based on whether they occur in our vocabulary dictionary WORD_COUNTS.\n",
    "# This gives us a list of valid words from our set of candidate words.\n",
    "def known(words): \n",
    "    \"The subset of `words` that appear in the dictionary of WORD_COUNTS.\"\n",
    "    return set(w for w in words if w in WORD_COUNTS)"
   ]
  },
  {
   "cell_type": "code",
   "execution_count": 20,
   "metadata": {
    "collapsed": true
   },
   "outputs": [],
   "source": [
    "# Define function to correct words\n",
    "def correct(words):\n",
    "    # Get the best correct spellings for the input words\n",
    "    def candidates(word): \n",
    "        # Generate possible spelling corrections for word.\n",
    "        # Priority is for edit distance 0, then 1, then 2, else defaults to the input word itself.\n",
    "        candidates = known([word]) or known(edits1(word)) or known(edits2(word)) or [word]\n",
    "        return candidates\n",
    "    \n",
    "    corrected_words = [max(candidates(word), key=WORD_COUNTS.get) for word in words]\n",
    "    return corrected_words"
   ]
  },
  {
   "cell_type": "markdown",
   "metadata": {},
   "source": [
    "### 6. Lemmatization\n",
    "The process of lemmatization is to remove word affixes to get to a base form of the word. The base form is also known as the root word, or the lemma, will always be present in the dictionary."
   ]
  },
  {
   "cell_type": "code",
   "execution_count": 21,
   "metadata": {
    "collapsed": true
   },
   "outputs": [],
   "source": [
    "import spacy\n",
    "nlp = spacy.load(\"en\")"
   ]
  },
  {
   "cell_type": "code",
   "execution_count": 22,
   "metadata": {
    "collapsed": true
   },
   "outputs": [],
   "source": [
    "# Define function for Lemmatization\n",
    "def Lemmatize_tokens(tokens):\n",
    "    doc = ' '.join(tokens)\n",
    "    Lemmatized_tokens = [token.lemma_ for token in nlp(doc)]\n",
    "    return Lemmatized_tokens"
   ]
  },
  {
   "cell_type": "markdown",
   "metadata": {},
   "source": [
    "### 7. Text Normalization"
   ]
  },
  {
   "cell_type": "code",
   "execution_count": 23,
   "metadata": {
    "collapsed": true
   },
   "outputs": [],
   "source": [
    "def normalize_corpus(corpus):\n",
    "    normalized_corpus = []    \n",
    "    for text in corpus:\n",
    "        text = text.lower()\n",
    "        text = expand_contractions(text)\n",
    "        text = remove_characters(text)\n",
    "        tokens = tokenize_text(text)\n",
    "        tokens = remove_stopwords(tokens)\n",
    "        tokens = remove_repeated_characters(tokens)\n",
    "        tokens = correct(tokens)\n",
    "        tokens = Lemmatize_tokens(tokens)\n",
    "        text = ' '.join(tokens)\n",
    "        normalized_corpus.append(text)\n",
    "                    \n",
    "    return normalized_corpus"
   ]
  },
  {
   "cell_type": "code",
   "execution_count": 24,
   "metadata": {
    "collapsed": true
   },
   "outputs": [],
   "source": [
    "# Normalize reviewText\n",
    "sdf = sdf.assign(Norm_reviewText = normalize_corpus(sdf.reviewText))"
   ]
  },
  {
   "cell_type": "code",
   "execution_count": 25,
   "metadata": {
    "collapsed": true
   },
   "outputs": [],
   "source": [
    "# Normalize summary\n",
    "sdf = sdf.assign(Norm_summary = normalize_corpus(sdf.summary))"
   ]
  },
  {
   "cell_type": "code",
   "execution_count": 26,
   "metadata": {
    "collapsed": false,
    "scrolled": true
   },
   "outputs": [
    {
     "data": {
      "text/html": [
       "<div>\n",
       "<table border=\"1\" class=\"dataframe\">\n",
       "  <thead>\n",
       "    <tr style=\"text-align: right;\">\n",
       "      <th></th>\n",
       "      <th>asin</th>\n",
       "      <th>helpful</th>\n",
       "      <th>Rating</th>\n",
       "      <th>reviewText</th>\n",
       "      <th>reviewTime</th>\n",
       "      <th>reviewerID</th>\n",
       "      <th>reviewerName</th>\n",
       "      <th>summary</th>\n",
       "      <th>unixReviewTime</th>\n",
       "      <th>reviewDate</th>\n",
       "      <th>Norm_reviewText</th>\n",
       "      <th>Norm_summary</th>\n",
       "    </tr>\n",
       "  </thead>\n",
       "  <tbody>\n",
       "    <tr>\n",
       "      <th>0</th>\n",
       "      <td>0000031887</td>\n",
       "      <td>[0, 0]</td>\n",
       "      <td>5</td>\n",
       "      <td>This is a great tutu and at a really great pri...</td>\n",
       "      <td>02 12, 2011</td>\n",
       "      <td>A1KLRMWW2FWPL4</td>\n",
       "      <td>Amazon Customer \"cameramom\"</td>\n",
       "      <td>Great tutu-  not cheaply made</td>\n",
       "      <td>1297468800</td>\n",
       "      <td>2011-02-12</td>\n",
       "      <td>great tut really great price look cheap glad l...</td>\n",
       "      <td>great tut cheaply make</td>\n",
       "    </tr>\n",
       "    <tr>\n",
       "      <th>1</th>\n",
       "      <td>0000031887</td>\n",
       "      <td>[0, 0]</td>\n",
       "      <td>5</td>\n",
       "      <td>Purchased this tutu for my granddaughter's fir...</td>\n",
       "      <td>11 12, 2011</td>\n",
       "      <td>A391EXIT5TFP72</td>\n",
       "      <td>Lisbeth Starr</td>\n",
       "      <td>Wonderful tutu!</td>\n",
       "      <td>1321056000</td>\n",
       "      <td>2011-11-12</td>\n",
       "      <td>purchase tut granddaughter first birthday fit ...</td>\n",
       "      <td>wonderful tut</td>\n",
       "    </tr>\n",
       "    <tr>\n",
       "      <th>2</th>\n",
       "      <td>1608299953</td>\n",
       "      <td>[201, 205]</td>\n",
       "      <td>4</td>\n",
       "      <td>The product itself is five stars, however the ...</td>\n",
       "      <td>12 4, 2011</td>\n",
       "      <td>A3INPLAFCMRI3I</td>\n",
       "      <td>Cheryl</td>\n",
       "      <td>4 stars BUT beware...</td>\n",
       "      <td>1322956800</td>\n",
       "      <td>2011-12-04</td>\n",
       "      <td>product five star however description faulty r...</td>\n",
       "      <td>star beware</td>\n",
       "    </tr>\n",
       "    <tr>\n",
       "      <th>3</th>\n",
       "      <td>1608299953</td>\n",
       "      <td>[5, 6]</td>\n",
       "      <td>4</td>\n",
       "      <td>The first question was which computers to inst...</td>\n",
       "      <td>09 21, 2010</td>\n",
       "      <td>A3NHUQ33CFH3VM</td>\n",
       "      <td>Citizen John</td>\n",
       "      <td>Intense way to learn</td>\n",
       "      <td>1285027200</td>\n",
       "      <td>2010-09-21</td>\n",
       "      <td>first question computer install program rise s...</td>\n",
       "      <td>intense way learn</td>\n",
       "    </tr>\n",
       "    <tr>\n",
       "      <th>4</th>\n",
       "      <td>1608299953</td>\n",
       "      <td>[11, 13]</td>\n",
       "      <td>5</td>\n",
       "      <td>Okay, I admit it. I'm one of the millions of A...</td>\n",
       "      <td>06 16, 2011</td>\n",
       "      <td>A253TILLU81VZK</td>\n",
       "      <td>D. Connelly</td>\n",
       "      <td>Helped me actually get an A in a foreign langu...</td>\n",
       "      <td>1308182400</td>\n",
       "      <td>2011-06-16</td>\n",
       "      <td>okay admit one million american passively stru...</td>\n",
       "      <td>help actually get foreign language class</td>\n",
       "    </tr>\n",
       "  </tbody>\n",
       "</table>\n",
       "</div>"
      ],
      "text/plain": [
       "         asin     helpful  Rating  \\\n",
       "0  0000031887      [0, 0]       5   \n",
       "1  0000031887      [0, 0]       5   \n",
       "2  1608299953  [201, 205]       4   \n",
       "3  1608299953      [5, 6]       4   \n",
       "4  1608299953    [11, 13]       5   \n",
       "\n",
       "                                          reviewText   reviewTime  \\\n",
       "0  This is a great tutu and at a really great pri...  02 12, 2011   \n",
       "1  Purchased this tutu for my granddaughter's fir...  11 12, 2011   \n",
       "2  The product itself is five stars, however the ...   12 4, 2011   \n",
       "3  The first question was which computers to inst...  09 21, 2010   \n",
       "4  Okay, I admit it. I'm one of the millions of A...  06 16, 2011   \n",
       "\n",
       "       reviewerID                 reviewerName  \\\n",
       "0  A1KLRMWW2FWPL4  Amazon Customer \"cameramom\"   \n",
       "1  A391EXIT5TFP72                Lisbeth Starr   \n",
       "2  A3INPLAFCMRI3I                       Cheryl   \n",
       "3  A3NHUQ33CFH3VM                 Citizen John   \n",
       "4  A253TILLU81VZK                  D. Connelly   \n",
       "\n",
       "                                             summary  unixReviewTime  \\\n",
       "0                      Great tutu-  not cheaply made      1297468800   \n",
       "1                                    Wonderful tutu!      1321056000   \n",
       "2                              4 stars BUT beware...      1322956800   \n",
       "3                               Intense way to learn      1285027200   \n",
       "4  Helped me actually get an A in a foreign langu...      1308182400   \n",
       "\n",
       "  reviewDate                                    Norm_reviewText  \\\n",
       "0 2011-02-12  great tut really great price look cheap glad l...   \n",
       "1 2011-11-12  purchase tut granddaughter first birthday fit ...   \n",
       "2 2011-12-04  product five star however description faulty r...   \n",
       "3 2010-09-21  first question computer install program rise s...   \n",
       "4 2011-06-16  okay admit one million american passively stru...   \n",
       "\n",
       "                               Norm_summary  \n",
       "0                    great tut cheaply make  \n",
       "1                             wonderful tut  \n",
       "2                               star beware  \n",
       "3                         intense way learn  \n",
       "4  help actually get foreign language class  "
      ]
     },
     "execution_count": 26,
     "metadata": {},
     "output_type": "execute_result"
    }
   ],
   "source": [
    "sdf.head()"
   ]
  },
  {
   "cell_type": "markdown",
   "metadata": {},
   "source": [
    "## IV. Feature Engineering"
   ]
  },
  {
   "cell_type": "code",
   "execution_count": 27,
   "metadata": {
    "collapsed": true
   },
   "outputs": [],
   "source": [
    "import pandas as pd\n",
    "import numpy as np"
   ]
  },
  {
   "cell_type": "code",
   "execution_count": 28,
   "metadata": {
    "collapsed": false
   },
   "outputs": [
    {
     "name": "stdout",
     "output_type": "stream",
     "text": [
      "749\n"
     ]
    }
   ],
   "source": [
    "#########################\n",
    "## SUBSET DATA FOR TEST\n",
    "#########################\n",
    "\n",
    "## select review time after Jul.15 2014\n",
    "dt_year = toDate('07 15, 2014')\n",
    "new_df = review_df[review_df.reviewDate > dt_year]\n",
    "new_total = len(new_df)\n",
    "print (new_total)"
   ]
  },
  {
   "cell_type": "code",
   "execution_count": 29,
   "metadata": {
    "collapsed": false,
    "scrolled": true
   },
   "outputs": [
    {
     "data": {
      "text/html": [
       "<div>\n",
       "<table border=\"1\" class=\"dataframe\">\n",
       "  <thead>\n",
       "    <tr style=\"text-align: right;\">\n",
       "      <th></th>\n",
       "      <th>asin</th>\n",
       "      <th>helpful</th>\n",
       "      <th>Rating</th>\n",
       "      <th>reviewText</th>\n",
       "      <th>reviewTime</th>\n",
       "      <th>reviewerID</th>\n",
       "      <th>reviewerName</th>\n",
       "      <th>summary</th>\n",
       "      <th>unixReviewTime</th>\n",
       "      <th>reviewDate</th>\n",
       "    </tr>\n",
       "  </thead>\n",
       "  <tbody>\n",
       "    <tr>\n",
       "      <th>0</th>\n",
       "      <td>B00022JPNE</td>\n",
       "      <td>[0, 0]</td>\n",
       "      <td>4</td>\n",
       "      <td>I wear a size 34 waist and based on the manufa...</td>\n",
       "      <td>07 16, 2014</td>\n",
       "      <td>A9NJQ4KOTWI4V</td>\n",
       "      <td>NaN</td>\n",
       "      <td>nice but tight</td>\n",
       "      <td>1405468800</td>\n",
       "      <td>2014-07-16</td>\n",
       "    </tr>\n",
       "    <tr>\n",
       "      <th>1</th>\n",
       "      <td>B00023JMYU</td>\n",
       "      <td>[0, 0]</td>\n",
       "      <td>1</td>\n",
       "      <td>start chanfin colors after one wear</td>\n",
       "      <td>07 20, 2014</td>\n",
       "      <td>A1O0GKFCQ0OP9I</td>\n",
       "      <td>NaN</td>\n",
       "      <td>One Star</td>\n",
       "      <td>1405814400</td>\n",
       "      <td>2014-07-20</td>\n",
       "    </tr>\n",
       "    <tr>\n",
       "      <th>2</th>\n",
       "      <td>B0002NYQN2</td>\n",
       "      <td>[0, 0]</td>\n",
       "      <td>5</td>\n",
       "      <td>Arrived as promised... hard to find PLAIN navy...</td>\n",
       "      <td>07 21, 2014</td>\n",
       "      <td>A2X616HR0FF4KK</td>\n",
       "      <td>Gary Van Thorntonpatricia Logan \"pjlogan-thor...</td>\n",
       "      <td>ready for a workout!</td>\n",
       "      <td>1405900800</td>\n",
       "      <td>2014-07-21</td>\n",
       "    </tr>\n",
       "    <tr>\n",
       "      <th>3</th>\n",
       "      <td>B000NIAH8E</td>\n",
       "      <td>[0, 0]</td>\n",
       "      <td>5</td>\n",
       "      <td>Great colorful and really cottonUse this as a ...</td>\n",
       "      <td>07 16, 2014</td>\n",
       "      <td>AA91O96C1Z18W</td>\n",
       "      <td>NaN</td>\n",
       "      <td>Happy Camper with colorful head wrap</td>\n",
       "      <td>1405468800</td>\n",
       "      <td>2014-07-16</td>\n",
       "    </tr>\n",
       "    <tr>\n",
       "      <th>4</th>\n",
       "      <td>B000PBTTO2</td>\n",
       "      <td>[0, 0]</td>\n",
       "      <td>5</td>\n",
       "      <td>These are wonderful pants. They are a great fi...</td>\n",
       "      <td>07 20, 2014</td>\n",
       "      <td>A31FXPO61IC3F8</td>\n",
       "      <td>Across the Pond</td>\n",
       "      <td>Dockers Men's Easy Khaki Slim Fit men's pant</td>\n",
       "      <td>1405814400</td>\n",
       "      <td>2014-07-20</td>\n",
       "    </tr>\n",
       "  </tbody>\n",
       "</table>\n",
       "</div>"
      ],
      "text/plain": [
       "         asin helpful  Rating  \\\n",
       "0  B00022JPNE  [0, 0]       4   \n",
       "1  B00023JMYU  [0, 0]       1   \n",
       "2  B0002NYQN2  [0, 0]       5   \n",
       "3  B000NIAH8E  [0, 0]       5   \n",
       "4  B000PBTTO2  [0, 0]       5   \n",
       "\n",
       "                                          reviewText   reviewTime  \\\n",
       "0  I wear a size 34 waist and based on the manufa...  07 16, 2014   \n",
       "1                start chanfin colors after one wear  07 20, 2014   \n",
       "2  Arrived as promised... hard to find PLAIN navy...  07 21, 2014   \n",
       "3  Great colorful and really cottonUse this as a ...  07 16, 2014   \n",
       "4  These are wonderful pants. They are a great fi...  07 20, 2014   \n",
       "\n",
       "       reviewerID                                      reviewerName  \\\n",
       "0   A9NJQ4KOTWI4V                                               NaN   \n",
       "1  A1O0GKFCQ0OP9I                                               NaN   \n",
       "2  A2X616HR0FF4KK  Gary Van Thorntonpatricia Logan \"pjlogan-thor...   \n",
       "3   AA91O96C1Z18W                                               NaN   \n",
       "4  A31FXPO61IC3F8                                   Across the Pond   \n",
       "\n",
       "                                        summary  unixReviewTime reviewDate  \n",
       "0                                nice but tight      1405468800 2014-07-16  \n",
       "1                                      One Star      1405814400 2014-07-20  \n",
       "2                          ready for a workout!      1405900800 2014-07-21  \n",
       "3          Happy Camper with colorful head wrap      1405468800 2014-07-16  \n",
       "4  Dockers Men's Easy Khaki Slim Fit men's pant      1405814400 2014-07-20  "
      ]
     },
     "execution_count": 29,
     "metadata": {},
     "output_type": "execute_result"
    }
   ],
   "source": [
    "ndf = new_df.copy()\n",
    "ndf.index = range(new_total)\n",
    "ndf.head()"
   ]
  },
  {
   "cell_type": "code",
   "execution_count": 30,
   "metadata": {
    "collapsed": true
   },
   "outputs": [],
   "source": [
    "# Normalize reviewText\n",
    "ndf = ndf.assign(Norm_reviewText = normalize_corpus(ndf.reviewText))"
   ]
  },
  {
   "cell_type": "code",
   "execution_count": 31,
   "metadata": {
    "collapsed": true
   },
   "outputs": [],
   "source": [
    "# Normalize summary\n",
    "ndf = ndf.assign(Norm_summary = normalize_corpus(ndf.summary))"
   ]
  },
  {
   "cell_type": "code",
   "execution_count": 32,
   "metadata": {
    "collapsed": true
   },
   "outputs": [],
   "source": [
    "# Define function to display feature names\n",
    "def display_features(features, feature_names):\n",
    "    df = pd.DataFrame(data=features,\n",
    "                      columns=feature_names)\n",
    "    print (df)"
   ]
  },
  {
   "cell_type": "markdown",
   "metadata": {
    "collapsed": true
   },
   "source": [
    "### 1. Bag of Words Model"
   ]
  },
  {
   "cell_type": "code",
   "execution_count": 33,
   "metadata": {
    "collapsed": true
   },
   "outputs": [],
   "source": [
    "from sklearn.feature_extraction.text import CountVectorizer\n",
    "\n",
    "def bow_extractor(corpus, ngram_range=(1,1)):\n",
    "    vectorizer = CountVectorizer(min_df=1, ngram_range=ngram_range, max_features = 5000)\n",
    "    features = vectorizer.fit_transform(corpus)\n",
    "    return vectorizer, features"
   ]
  },
  {
   "cell_type": "code",
   "execution_count": 34,
   "metadata": {
    "collapsed": false
   },
   "outputs": [
    {
     "name": "stdout",
     "output_type": "stream",
     "text": [
      "['ab', 'abdoman', 'ability', 'able', 'abolish', 'about', 'abrasion', 'absent', 'absolute', 'absolutely', 'absorb', 'absorbent', 'absorption', 'abuse', 'ac', 'accent', 'accept', 'acceptable', 'access', 'accessible', 'accessory', 'accident', 'accidental', 'accidentally', 'accidently', 'accommodate', 'accompany', 'accomplish', 'accord', 'accordingly', 'account', 'accuracy', 'accurate', 'accurately', 'accustomed', 'ache', 'achieve', 'achille', 'acid', 'acorn', 'acquire', 'acre', 'across', 'acrylic', 'act', 'action', 'activate', 'active', 'activity', 'actual', 'actually', 'acuteness', 'ad', 'adapt', 'add', 'added', 'addition', 'additional', 'address', 'adequate', 'adequately', 'adhere', 'adhesive', 'adjust', 'adjustable', 'adjusted', 'adjustment', 'admire', 'admit', 'admittedly', 'adorable', 'adore', 'adult', 'advance', 'advanced', 'advantage', 'adventure', 'advertise', 'advertised', 'advertising', 'advice', 'advise', 'aerobe', 'aerobic', 'aerosole', 'aesthetic', 'aesthetically', 'affect', 'afford', 'afghanistan', 'aficionado', 'afraid', 'afternoon', 'afterthought', 'afterwards', 'again', 'age', 'agent', 'aggravate', 'aggressive', 'agitator', 'ago', 'agree', 'ah', 'ahead', 'aid', 'aide', 'aim', 'air', 'airline', 'airplane', 'airport', 'airy', 'aisle', 'ak', 'akin', 'al', 'ala', 'alarm', 'alas', 'alaska', 'albeit', 'album', 'alcohol', 'alert', 'ali', 'alice', 'align', 'alike', 'all', 'allay', 'allegory', 'allen', 'allergic', 'alleviate', 'allot', 'allow', 'almost', 'alone', 'along', 'alphabet', 'already', 'alright', 'also', 'alter', 'alteration', 'alternate', 'alternative', 'although', 'altimeter', 'altogether', 'aluminium', 'always', 'amaze', 'amazed', 'amazing', 'amazingly', 'amazon', 'amazoncom', 'amber', 'america', 'american', 'amethyst', 'amid', 'among', 'amongst', 'amount', 'ample', 'an', 'ana', 'analogy', 'anatomy', 'anchor', 'and', 'andrew', 'anel', 'angel', 'angle', 'angry', 'animal', 'anita', 'ankle', 'ankles', 'anna', 'anniversary', 'annoy', 'annoyance', 'annoyed', 'annoying', 'another', 'answer', 'anti', 'anticipate', 'antimicrobial', 'antique', 'antivirus', 'anybody', 'anymore', 'anyone', 'anything', 'anyway', 'anywhere', 'apart', 'apparel', 'apparent', 'apparently', 'appeal', 'appealing', 'appear', 'appearance', 'application', 'apply', 'appreciate', 'apprehensive', 'approach', 'appropriate', 'appropriately', 'approve', 'approximately', 'april', 'apron', 'arabic', 'arch', 'ardor', 'area', 'argentina', 'arise', 'arizona', 'arm', 'armed', 'armitron', 'armor', 'armour', 'armpit', 'army', 'around', 'arrangement', 'array', 'arrival', 'arrive', 'arrived', 'arrow', 'art', 'arthritis', 'article', 'artificial', 'artist', 'as', 'ascit', 'ascite', 'ashamed', 'asia', 'aside', 'ask', 'asleep', 'aspect', 'ass', 'assemble', 'assert', 'asset', 'assist', 'associate', 'assortment', 'assume', 'assure', 'at', 'athen', 'athlete', 'athletic', 'atlantic', 'atomic', 'attach', 'attachment', 'attack', 'attempt', 'attend', 'attention', 'attic', 'attire', 'attitude', 'attract', 'attractive', 'attribute', 'audit', 'august', 'aunt', 'austin', 'australia', 'australian', 'authentic', 'authenticity', 'author', 'authorize', 'auto', 'automatic', 'automatically', 'autumn', 'avail', 'availability', 'available', 'ave', 'avenue', 'average', 'avoid', 'await', 'aware', 'away', 'awe', 'awesome', 'awful', 'awfully', 'awhile', 'awkward', 'awkwardly', 'baby', 'back', 'background', 'backing', 'backlight', 'backpack', 'backpacking', 'backside', 'backward', 'backwards', 'bacteria', 'bad', 'badge', 'badly', 'bag', 'bagalini', 'baggage', 'baggy', 'bah', 'bait', 'baker', 'balaclava', 'balance', 'balanced', 'balcony', 'ball', 'ballet', 'bamboo', 'ban', 'banana', 'band', 'bandage', 'bandit', 'bang', 'bank', 'banking', 'bar', 'bare', 'barefoot', 'barely', 'barelythere', 'bargain', 'barn', 'barometric', 'barrel', 'base', 'baseball', 'basement', 'basic', 'basically', 'basis', 'basket', 'basketball', 'bass', 'bat', 'batch', 'bath', 'bathe', 'bathing', 'bathroom', 'batman', 'battery', 'battle', 'bay', 'bc', 'be', 'beach', 'bead', 'beam', 'bean', 'bear', 'bearable', 'bearer', 'bearpaw', 'beast', 'beat', 'beautiful', 'beautifully', 'beauty', 'because', 'become', 'bed', 'bedroom', 'bee', 'beef', 'beer', 'before', 'beg', 'begin', 'beginner', 'beginning', 'behalf', 'behind', 'behold', 'beige', 'belaband', 'belief', 'believe', 'believer', 'bell', 'belly', 'belong', 'belova', 'beloved', 'below', 'belt', 'bench', 'bend', 'beneath', 'beneficial', 'benefit', 'bent', 'beside', 'besides', 'best', 'bet', 'better', 'beware', 'beyond', 'bible', 'bicycle', 'bid', 'bidding', 'big', 'bigger', 'bike', 'bikini', 'bill', 'bin', 'bind', 'bird', 'birkenstock', 'birth', 'birthday', 'birthstone', 'bit', 'bite', 'bitter', 'black', 'blackberry', 'blade', 'blaine', 'blame', 'blanket', 'blast', 'ble', 'bleed', 'blemish', 'blend', 'bless', 'blessing', 'blind', 'blister', 'block', 'blood', 'blow', 'blue', 'bluish', 'board', 'boat', 'bob', 'bodice', 'body', 'bodysuit', 'bold', 'bolivia', 'bomb', 'bomber', 'bond', 'bone', 'bonus', 'bony', 'book', 'booklet', 'boost', 'boot', 'booty', 'border', 'bore', 'boring', 'boris', 'borrow', 'bosom', 'boss', 'boston', 'both', 'bother', 'bothersome', 'bottle', 'bottom', 'bought', 'bounce', 'bound', 'bounty', 'bout', 'bow', 'box', 'boxer', 'boy', 'boyfriend', 'br', 'brace', 'bracelet', 'bracket', 'brag', 'braid', 'brain', 'branch', 'brand', 'brass', 'bravado', 'breach', 'bread', 'break', 'breaker', 'breaking', 'breast', 'breastfeed', 'breastfeeding', 'breath', 'breathability', 'breathable', 'breathe', 'breathing', 'breeze', 'breezy', 'brick', 'bride', 'bridesmaid', 'bridge', 'brief', 'briefcase', 'briefly', 'bright', 'brighter', 'brightly', 'brightness', 'brilliance', 'brilliant', 'brim', 'bring', 'brisk', 'brittle', 'broad', 'broke', 'broken', 'bronze', 'brook', 'brother', 'brotherhood', 'brown', 'brownish', 'browse', 'bruise', 'brush', 'bubble', 'buck', 'bucket', 'buckle', 'buckles', 'bud', 'budget', 'buena', 'buff', 'bug', 'build', 'building', 'bulge', 'bulk', 'bulky', 'bullet', 'bump', 'bunch', 'bunion', 'burgundy', 'burn', 'burst', 'bus', 'bush', 'bushy', 'business', 'bust', 'busy', 'but', 'butondown', 'butt', 'butter', 'butterfly', 'button', 'buy', 'buyer', 'buying', 'buzz', 'by', 'bye', 'ca', 'cabin', 'cable', 'cabman', 'cadet', 'cafe', 'cage', 'cake', 'calculate', 'calculation', 'calendar', 'calf', 'calidad', 'california', 'call', 'calm', 'calvin', 'camel', 'camera', 'camisole', 'camp', 'campaign', 'camping', 'can', 'canada', 'cancel', 'cancer', 'candle', 'candor', 'canva', 'canvas', 'cap', 'capability', 'capable', 'capacity', 'cape', 'caper', 'capezio', 'captain', 'captor', 'capture', 'car', 'carbon', 'card', 'cardboard', 'cardiac', 'care', 'careful', 'carefully', 'cargo', 'caribbean', 'carolina', 'carpenter', 'carpet', 'carpi', 'carrier', 'carry', 'cart', 'case', 'caseback', 'cash', 'cashier', 'casque', 'cast', 'casual', 'casually', 'cat', 'catalogue', 'catch', 'category', 'caught', 'cause', 'caution', 'cautious', 'cease', 'cedar', 'celebrate', 'cell', 'cellar', 'celtic', 'cement', 'cent', 'center', 'centimetre', 'central', 'centre', 'century', 'certain', 'certainly', 'certificate', 'chafe', 'chaff', 'chain', 'chair', 'chalk', 'challenge', 'champagne', 'champion', 'chance', 'change', 'channel', 'chaos', 'character', 'characteristic', 'charcoal', 'charge', 'charity', 'charm', 'chart', 'chase', 'cheap', 'cheaper', 'cheaply', 'check', 'checkbook', 'checking', 'cheek', 'cheese', 'chef', 'chemical', 'cherokee', 'chest', 'chester', 'chestnut', 'chew', 'chicago', 'chicken', 'child', 'childhood', 'chill', 'chilly', 'chime', 'chin', 'china', 'chinese', 'chink', 'chintz', 'chip', 'chlorine', 'chocolate', 'choice', 'choke', 'choose', 'chose', 'christian', 'christma', 'christmas', 'chromic', 'chronic', 'chronograph', 'chronometer', 'church', 'circle', 'circular', 'circulation', 'circumference', 'circumstance', 'citizen', 'citrate', 'city', 'cl', 'claim', 'clammy', 'clamp', 'clarity', 'clark', 'clasp', 'class', 'classic', 'classroom', 'claw', 'clean', 'cleaner', 'cleaning', 'clear', 'clearance', 'clearly', 'cleavage', 'cleft', 'clever', 'click', 'client', 'climate', 'climb', 'clinch', 'cling', 'clip', 'clock', 'clockwise', 'close', 'closed', 'closely', 'closer', 'closet', 'closing', 'closure', 'clot', 'cloth', 'clothe', 'clothing', 'cloud', 'cloudy', 'clown', 'club', 'clue', 'clumsy', 'clung', 'cm', 'co', 'coach', 'coal', 'coarse', 'coast', 'coat', 'coated', 'coating', 'cobblestone', 'cocktail', 'code', 'coffee', 'coffin', 'coin', 'cold', 'colder', 'coldly', 'coli', 'collapse', 'collar', 'collect', 'collection', 'collector', 'college', 'collin', 'colony', 'color', 'colorado', 'colored', 'coloring', 'colour', 'coloured', 'colourful', 'columbia', 'column', 'comb', 'combat', 'combination', 'combine', 'come', 'comfort', 'comfortable', 'comfortablethe', 'comfortably', 'comfortsoft', 'command', 'comment', 'commercial', 'common', 'commonly', 'commune', 'community', 'commute', 'compact', 'companion', 'company', 'comparable', 'compare', 'comparison', 'compartment', 'compass', 'compatible', 'compel', 'compensate', 'compete', 'competition', 'competitive', 'competitor', 'complain', 'complaint', 'complement', 'complete', 'completely', 'complicated', 'compliment', 'component', 'compress', 'compression', 'compromise', 'computer', 'con', 'conceal', 'concept', 'concern', 'concerned', 'conclude', 'conclusion', 'concrete', 'condition', 'cone', 'confidence', 'confident', 'configuration', 'confirm', 'confirmation', 'conform', 'confuse', 'confused', 'confusing', 'connect', 'connection', 'conscious', 'conservative', 'consider', 'considerable', 'considerably', 'consideration', 'considering', 'consistency', 'consistent', 'consistently', 'conspicuous', 'constant', 'constantly', 'constrict', 'construct', 'construction', 'consume', 'consumer', 'contact', 'contain', 'container', 'contemplation', 'contemporary', 'content', 'contest', 'continue', 'continuously', 'contour', 'contract', 'contrary', 'contrast', 'contribute', 'control', 'convenience', 'convenient', 'conventional', 'conversation', 'converse', 'convert', 'convertible', 'convince', 'convinced', 'cook', 'cool', 'coolness', 'cooper', 'coordinate', 'copper', 'copy', 'coral', 'cord', 'core', 'cork', 'corn', 'corner', 'corporate', 'correct', 'correctly', 'correspond', 'corset', 'cortex', 'cos', 'cosmetic', 'cost', 'costa', 'costly', 'costo', 'costume', 'cotton', 'couch', 'could', 'couldn', 'count', 'countdown', 'counter', 'counterclockwise', 'counterfeit', 'countless', 'country', 'county', 'couple', 'coupon', 'course', 'court', 'cousin', 'couture', 'cover', 'coverage', 'covered', 'covering', 'cow', 'cowboy', 'crack', 'cracking', 'cradle', 'craft', 'craftsmanship', 'cramp', 'crash', 'crawl', 'crazy', 'cream', 'crease', 'create', 'creative', 'credit', 'creek', 'creep', 'crew', 'crisp', 'criterion', 'critical', 'criticism', 'crooked', 'crop', 'cros', 'crosbody', 'croscountry', 'cross', 'crostrainer', 'crowd', 'crown', 'crucial', 'cruise', 'crush', 'crutch', 'cry', 'crystal', 'cuba', 'cubic', 'cuff', 'culture', 'cultured', 'cumberland', 'cumbersome', 'cup', 'cure', 'curiosity', 'curious', 'curl', 'curly', 'currency', 'current', 'currently', 'curve', 'curved', 'cushion', 'cushioned', 'custom', 'customer', 'customize', 'cut', 'cutlet', 'cycle', 'cycling', 'cyclop', 'da', 'dad', 'daddy', 'daily', 'dainty', 'dakota', 'damage', 'damn', 'damp', 'dan', 'dance', 'dancer', 'dancing', 'danger', 'dangerous', 'dangle', 'dare', 'dark', 'darker', 'darkness', 'darling', 'dash', 'date', 'datum', 'daughter', 'daughterinlaw', 'davis', 'day', 'daylight', 'daypack', 'daytime', 'daytoday', 'dayton', 'dazzle', 'de', 'dead', 'deal', 'dealer', 'dear', 'dearfoam', 'death', 'debate', 'debit', 'debris', 'debut', 'dec', 'decade', 'deceive', 'december', 'decent', 'decently', 'deceptive', 'decide', 'decision', 'deck', 'decline', 'decorate', 'decoration', 'decorative', 'decrease', 'dedicated', 'deduce', 'deep', 'deeper', 'deeply', 'def', 'default', 'defeat', 'defect', 'defective', 'defiantly', 'define', 'definite', 'definitely', 'definition', 'degree', 'del', 'delay', 'delegate', 'delete', 'delicate', 'delight', 'delighted', 'delightful', 'deliver', 'delivery', 'deluge', 'demand', 'deni', 'denis', 'denote', 'dental', 'deny', 'deodorant', 'department', 'depend', 'dependable', 'dependent', 'depict', 'depress', 'depth', 'describe', 'description', 'desert', 'deserve', 'design', 'designate', 'designer', 'desirable', 'desire', 'desk', 'desperately', 'despite', 'destination', 'destroy', 'detach', 'detachable', 'detail', 'detailed', 'detect', 'deter', 'detergent', 'deteriorate', 'determine', 'develop', 'device', 'devil', 'dexterity', 'diabetic', 'dial', 'diameter', 'diamond', 'didn', 'die', 'diego', 'diet', 'differ', 'difference', 'different', 'differently', 'difficult', 'difficulty', 'dig', 'digit', 'digital', 'dim', 'dimension', 'diminish', 'dingy', 'dining', 'dinner', 'dinnerless', 'dip', 'diploe', 'direct', 'direction', 'directly', 'dirt', 'dirty', 'disability', 'disagree', 'disappear', 'disappoint', 'disappointed', 'disappointing', 'disappointment', 'disaster', 'disc', 'discard', 'discoloration', 'discomfort', 'discontinue', 'discount', 'discover', 'discreet', 'discuss', 'discussion', 'disease', 'disguise', 'dish', 'disintegrate', 'dislike', 'dismay', 'dismount', 'display', 'disposal', 'dissection', 'distance', 'distinct', 'distinctive', 'distinguish', 'distract', 'distressed', 'distribute', 'ditch', 'dive', 'diver', 'divide', 'diving', 'division', 'do', 'doc', 'dock', 'docs', 'doctor', 'document', 'doesn', 'dog', 'dollar', 'dome', 'don', 'donate', 'door', 'doorway', 'dootie', 'doran', 'dot', 'double', 'doubt', 'down', 'downgrade', 'downhill', 'download', 'downpour', 'downright', 'downside', 'downsize', 'downtown', 'dozen', 'dr', 'drab', 'draft', 'drag', 'drain', 'dramatically', 'drape', 'draw', 'drawback', 'drawer', 'drawstr', 'drawstring', 'dread', 'dreaded', 'dream', 'dres', 'dress', 'dressed', 'dresser', 'drift', 'drill', 'drink', 'drip', 'drive', 'driver', 'driveway', 'drone', 'droning', 'droop', 'drop', 'dry', 'drying', 'dual', 'duck', 'due', 'dull', 'dumb', 'dump', 'duplicate', 'durham', 'during', 'dust', 'dusty', 'duty', 'dwyer', 'dye', 'each', 'eager', 'eagle', 'ear', 'earle', 'earlier', 'early', 'earn', 'earner', 'earning', 'earring', 'earth', 'ease', 'easier', 'easily', 'east', 'eastward', 'easy', 'easytone', 'easytoread', 'eat', 'ebook', 'ecodrive', 'ecofriendly', 'economic', 'economical', 'edge', 'edit', 'edition', 'educational', 'effect', 'effective', 'effectively', 'efficient', 'efficiently', 'effort', 'eg', 'egg', 'eggplant', 'eight', 'either', 'el', 'elaborate', 'elapsed', 'elastic', 'elasticity', 'elbow', 'elderly', 'elect', 'electric', 'electrical', 'electronic', 'elegance', 'elegant', 'element', 'elevated', 'eleven', 'eliminate', 'elingwod', 'elite', 'elliptical', 'else', 'elsewhere', 'em', 'email', 'embarrassed', 'embarrassing', 'emboss', 'embrace', 'embroider', 'embroidery', 'emerald', 'emergency', 'emit', 'employee', 'employment', 'empty', 'en', 'enable', 'encase', 'enclose', 'encounter', 'encourage', 'end', 'endless', 'endure', 'enemy', 'energy', 'engage', 'engagement', 'engine', 'engineer', 'engineering', 'england', 'english', 'engrave', 'enhance', 'enjoy', 'enormous', 'enough', 'ensure', 'entangle', 'enter', 'entertain', 'enthusiast', 'entire', 'entirely', 'entry', 'envelope', 'environment', 'environmental', 'envirosax', 'envy', 'episode', 'epoch', 'equal', 'equally', 'equino', 'equipment', 'equivalent', 'era', 'errand', 'error', 'es', 'escape', 'esp', 'espadrille', 'especially', 'essential', 'essentially', 'est', 'estate', 'estimate', 'et', 'etc', 'etcthe', 'euer', 'europe', 'european', 'evaluate', 'even', 'evening', 'evenly', 'event', 'eventually', 'ever', 'every', 'everybody', 'everyday', 'everyone', 'everything', 'everytime', 'everywhere', 'evidence', 'evident', 'evil', 'ex', 'exact', 'exactly', 'exaggeration', 'examination', 'examine', 'example', 'exceed', 'excellent', 'except', 'exception', 'exceptional', 'exceptionally', 'excess', 'excessive', 'excessively', 'exchange', 'excite', 'excited', 'exciting', 'exclusively', 'excuse', 'exercise', 'exist', 'exodri', 'exoficio', 'expand', 'expandable', 'expansion', 'expect', 'expectation', 'expected', 'expedition', 'expense', 'expensive', 'experience', 'experienced', 'experiment', 'expert', 'explain', 'explore', 'expose', 'exposure', 'express', 'exquisite', 'extend', 'extended', 'extension', 'extensive', 'extensively', 'extent', 'exterior', 'external', 'extra', 'extreme', 'extremely', 'eye', 'eyecatch', 'eyecatching', 'eyeglass', 'eyelid', 'eyesight', 'fabric', 'fabulous', 'face', 'facet', 'facility', 'fact', 'factor', 'factory', 'fad', 'fade', 'fahrenheit', 'fail', 'failure', 'faint', 'fair', 'fairly', 'faith', 'faithful', 'fall', 'fallen', 'false', 'familiar', 'family', 'famous', 'fan', 'fancy', 'fanny', 'fantastic', 'far', 'farm', 'farmer', 'farther', 'fascia', 'fashion', 'fashionable', 'fashioning', 'fast', 'fasten', 'fastened', 'fastener', 'faster', 'fat', 'father', 'fatigue', 'fatty', 'fault', 'faulty', 'faut', 'favor', 'favorable', 'favorit', 'favorite', 'favourite', 'fear', 'fearless', 'fearlessly', 'feather', 'feature', 'feb', 'february', 'fee', 'feed', 'feedback', 'feel', 'feeling', 'feet', 'fellow', 'felt', 'female', 'feminine', 'fence', 'fetch', 'fete', 'few', 'fiance', 'fiancee', 'fibre', 'field', 'fifteen', 'fifth', 'fifty', 'fig', 'fight', 'figure', 'figured', 'file', 'filigree', 'fill', 'film', 'filter', 'final', 'finally', 'find', 'finding', 'fine', 'finely', 'finer', 'finger', 'fingernail', 'finish', 'finished', 'fire', 'firing', 'firm', 'firmly', 'first', 'fish', 'fisherman', 'fishing', 'fit', 'fitflop', 'fitflops', 'fitness', 'fitted', 'fitting', 'five', 'fix', 'flag', 'flair', 'flame', 'flannel', 'flap', 'flaps', 'flare', 'flash', 'flashlight', 'flat', 'flatten', 'flatter', 'flattering', 'flaw', 'fleecy', 'flesh', 'flex', 'flexibility', 'flexible', 'flight', 'flipflop', 'flipflops', 'float', 'flood', 'floor', 'flop', 'floppy', 'flora', 'florida', 'florsheim', 'flow', 'flower', 'fluctuate', 'fluff', 'fluffy', 'fluid', 'flush', 'fly', 'foam', 'foci', 'focus', 'fog', 'foi', 'foil', 'fold', 'folk', 'follow', 'follower', 'fond', 'food', 'fool', 'foot', 'football', 'footgear', 'footprint', 'for', 'forbid', 'force', 'forehead', 'foreign', 'foreman', 'foremost', 'forest', 'forever', 'forgery', 'forget', 'forgive', 'form', 'formal', 'format', 'former', 'formfit', 'formula', 'fort', 'forth', 'fortunately', 'fortune', 'forty', 'forward', 'fossil', 'foul', 'found', 'foundation', 'four', 'fourth', 'fraction', 'fragile', 'frame', 'france', 'frankly', 'fraser', 'fray', 'frayed', 'freak', 'free', 'freedom', 'freely', 'freeze', 'french', 'frequent', 'frequently', 'fresh', 'freshwater', 'friction', 'friday', 'friend', 'friendly', 'fringe', 'from', 'front', 'frozen', 'fruit', 'frustrate', 'frustrated', 'frustration', 'frye', 'ft', 'fulfil', 'full', 'fullness', 'fully', 'fun', 'function', 'functional', 'functionality', 'funny', 'fur', 'furniture', 'furry', 'furthermore', 'fusion', 'fuss', 'fussy', 'futile', 'future', 'ga', 'gag', 'gain', 'gait', 'gal', 'gallop', 'gamble', 'game', 'gap', 'garage', 'garden', 'gardening', 'garment', 'garnish', 'garter', 'gas', 'gash', 'gate', 'gather', 'gathering', 'gauge', 'gauzy', 'gear', 'gem', 'gemstone', 'general', 'generally', 'generation', 'generous', 'generously', 'genetic', 'genii', 'gentle', 'gentleman', 'gently', 'genuine', 'geoffrey', 'german', 'germany', 'get', 'giant', 'gift', 'gigantic', 'gimmick', 'girdle', 'girl', 'girlfriend', 'girth', 'give', 'glad', 'gladly', 'glamorise', 'glance', 'glare', 'glass', 'glide', 'glimmer', 'glitter', 'glory', 'gloss', 'glossy', 'glove', 'glow', 'glowinthedark', 'glue', 'glycerin', 'go', 'goal', 'god', 'godlok', 'godson', 'gold', 'golden', 'goldplate', 'golf', 'gone', 'good', 'goodness', 'goodwill', 'goose', 'gorge', 'gorgeous', 'got', 'gotten', 'gown', 'grab', 'grace', 'grade', 'gradually', 'graduate', 'graft', 'grain', 'grand', 'grandchild', 'granddaughter', 'grandmother', 'grandson', 'granger', 'granny', 'grant', 'granulation', 'grape', 'graph', 'graphic', 'grass', 'grateful', 'grave', 'gravel', 'gravity', 'gray', 'grease', 'greasy', 'great', 'greatly', 'green', 'grey', 'grind', 'grip', 'grm', 'grocer', 'grocery', 'grommet', 'groove', 'gross', 'ground', 'group', 'grow', 'grown', 'growth', 'grumpy', 'guarantee', 'guard', 'gues', 'guess', 'guest', 'guide', 'guitar', 'gum', 'gumma', 'gun', 'gunmetal', 'gust', 'gut', 'guy', 'ha', 'habit', 'hack', 'hair', 'haired', 'half', 'halfsize', 'halfway', 'halloween', 'hammer', 'hamper', 'hamstring', 'hand', 'handcuff', 'handful', 'handle', 'handling', 'handsome', 'handwash', 'handy', 'hang', 'happen', 'happier', 'happily', 'happy', 'hard', 'harder', 'hardihood', 'hardly', 'hardware', 'hardy', 'harm', 'harness', 'harry', 'harsh', 'haste', 'hat', 'hata', 'hate', 'haul', 'have', 'haven', 'hawaii', 'head', 'headache', 'headband', 'headlight', 'headphone', 'heal', 'healing', 'health', 'healthy', 'hear', 'hearing', 'heart', 'heartfelt', 'heat', 'heather', 'heaven', 'heavenly', 'heavier', 'heavily', 'heavy', 'heavyduty', 'heavyweight', 'heed', 'heel', 'height', 'heirloom', 'helene', 'hell', 'hello', 'helmet', 'help', 'helpful', 'hem', 'hemp', 'hen', 'hence', 'her', 'here', 'hero', 'hesitate', 'hesitation', 'hetty', 'hey', 'hi', 'hidden', 'hide', 'hiding', 'high', 'higher', 'highimpact', 'highlight', 'highly', 'highquality', 'hilarious', 'hill', 'hillock', 'hinder', 'hinge', 'hint', 'hip', 'hiram', 'history', 'hit', 'hm', 'hobby', 'hold', 'holder', 'hole', 'holiday', 'hollow', 'holy', 'home', 'homework', 'hondura', 'honest', 'honestly', 'honey', 'honor', 'hood', 'hoof', 'hoofs', 'hook', 'hooked', 'hop', 'hope', 'hopeful', 'hopefully', 'hoping', 'horizontal', 'horn', 'horrible', 'horribly', 'horrid', 'horse', 'hosmer', 'hospital', 'hot', 'hotel', 'hour', 'hourglass', 'house', 'household', 'housing', 'how', 'however', 'howl', 'hue', 'hug', 'huge', 'hum', 'human', 'humid', 'humidity', 'hundred', 'hung', 'hunger', 'hunt', 'hunter', 'hunting', 'hurry', 'hurt', 'husband', 'hussar', 'hut', 'hydrate', 'ice', 'icon', 'icy', 'idea', 'ideal', 'identical', 'identify', 'idiot', 'if', 'ignore', 'ii', 'ill', 'illuminate', 'illumination', 'illusion', 'iluminator', 'image', 'imagination', 'imagine', 'imitation', 'immediate', 'immediately', 'immensely', 'immersion', 'impact', 'imperfection', 'imply', 'import', 'important', 'importantly', 'impossible', 'impress', 'impressed', 'impression', 'impressive', 'improve', 'improved', 'improvement', 'in', 'inability', 'inaccurate', 'inbetwen', 'inch', 'inches', 'incline', 'include', 'inconsistency', 'inconsistent', 'inconvenience', 'inconvenient', 'incorrect', 'increase', 'incredible', 'incredibly', 'increment', 'indeed', 'indentation', 'indestructible', 'index', 'india', 'indiana', 'indicate', 'indication', 'indicator', 'indie', 'indigo', 'individual', 'individually', 'indoor', 'indoors', 'induration', 'industrial', 'industry', 'ineffective', 'inevitably', 'infant', 'inferior', 'inflate', 'inform', 'informal', 'information', 'informed', 'initial', 'initially', 'injinji', 'injury', 'ink', 'inner', 'input', 'insanely', 'insect', 'insert', 'inside', 'insidious', 'inspect', 'inspection', 'inspire', 'instal', 'install', 'installation', 'instance', 'instant', 'instantly', 'instead', 'instep', 'instruct', 'instruction', 'instructor', 'instrument', 'insulate', 'insurance', 'intact', 'intend', 'intense', 'intensity', 'intent', 'intention', 'intentionally', 'interchangeable', 'interest', 'interested', 'interesting', 'interface', 'interfere', 'interior', 'internal', 'international', 'internet', 'interval', 'intimate', 'into', 'intricate', 'intrigue', 'introduce', 'intuition', 'invent', 'invention', 'invest', 'investment', 'invisible', 'invite', 'involf', 'involve', 'inward', 'ireland', 'iridium', 'iron', 'ironic', 'irregular', 'irritate', 'irritated', 'irritating', 'irritation', 'island', 'isn', 'iso', 'issue', 'italian', 'italy', 'itch', 'itchy', 'item', 'iv', 'ivory', 'jack', 'jacket', 'jackson', 'jam', 'jame', 'jan', 'jane', 'january', 'japan', 'japanese', 'jar', 'jaw', 'jazz', 'jealous', 'jean', 'jersey', 'jesuit', 'jet', 'jewel', 'jeweller', 'jewellery', 'jim', 'jingle', 'job', 'jockey', 'john', 'join', 'joint', 'joke', 'joy', 'judge', 'julie', 'july', 'jump', 'jumper', 'june', 'jungle', 'junior', 'just', 'justice', 'justify', 'kaspersky', 'kayaking', 'kazan', 'keen', 'keep', 'keeper', 'keeping', 'kenneth', 'kept', 'key', 'keyboard', 'keychain', 'kick', 'kid', 'kill', 'killer', 'kind', 'kindle', 'kinetic', 'king', 'kis', 'kiss', 'kit', 'kitchen', 'knee', 'knife', 'knit', 'knob', 'knock', 'knockoff', 'knot', 'know', 'knowledge', 'known', 'knuckle', 'kocher', 'la', 'lab', 'label', 'labor', 'lace', 'lack', 'lady', 'lag', 'lake', 'lamp', 'land', 'language', 'lanskoy', 'lap', 'large', 'largely', 'larger', 'las', 'last', 'lastly', 'latch', 'late', 'lately', 'later', 'lateral', 'lathe', 'latter', 'laugh', 'laura', 'lavender', 'law', 'lawless', 'lawn', 'lawton', 'lay', 'layer', 'laying', 'layout', 'lazy', 'lb', 'le', 'lea', 'lead', 'leader', 'leaf', 'leak', 'leakage', 'lean', 'leap', 'learn', 'learning', 'least', 'leather', 'leave', 'lee', 'left', 'leg', 'legal', 'legging', 'legible', 'leisure', 'lemon', 'len', 'lend', 'length', 'lengthen', 'lengthwise', 'lengthy', 'lens', 'leo', 'leopard', 'les', 'less', 'lessen', 'lesson', 'let', 'letter', 'level', 'lever', 'leverback', 'levi', 'lewi', 'lewis', 'liable', 'liberal', 'license', 'lick', 'lid', 'lie', 'life', 'lifesaver', 'lifespan', 'lifestyle', 'lifetime', 'lift', 'ligament', 'light', 'lighter', 'lighting', 'lightly', 'lightn', 'lightness', 'lightning', 'lightweight', 'like', 'liked', 'likely', 'liking', 'lilac', 'limb', 'lime', 'limit', 'limitation', 'limited', 'limp', 'line', 'linen', 'liner', 'linger', 'lining', 'link', 'lint', 'lip', 'lipstick', 'liquid', 'list', 'listen', 'literally', 'lithe', 'little', 'live', 'll', 'lo', 'load', 'loafer', 'loathe', 'lobster', 'local', 'locally', 'locate', 'location', 'lock', 'locked', 'locket', 'log', 'logging', 'loi', 'london', 'long', 'longer', 'longevity', 'longlast', 'look', 'looked', 'looking', 'lookout', 'loom', 'loop', 'loose', 'loosely', 'loosen', 'loot', 'lord', 'los', 'lose', 'loss', 'lost', 'lot', 'lotion', 'loud', 'louis', 'louise', 'lounge', 'louse', 'love', 'lovely', 'lover', 'loving', 'low', 'lower', 'loyal', 'luck', 'luckily', 'lucky', 'luggage', 'luke', 'luman', 'lumen', 'luminescence', 'luminescent', 'luminous', 'lump', 'lunch', 'lung', 'lupus', 'lure', 'luster', 'lustrous', 'luxurious', 'luxury', 'ma', 'machine', 'mad', 'made', 'madman', 'magazine', 'magic', 'magical', 'magna', 'magnet', 'magnetic', 'magnification', 'magnificent', 'magnify', 'maiden', 'maidenform', 'mail', 'mailbox', 'main', 'mainly', 'maintain', 'maintenance', 'major', 'majority', 'make', 'maker', 'making', 'mala', 'male', 'malfunction', 'malindi', 'malindis', 'mall', 'mammoth', 'man', 'manage', 'manageable', 'mandate', 'maneuver', 'mankind', 'manly', 'manner', 'manual', 'manufacture', 'manufactured', 'manufacturer', 'manufacturing', 'many', 'map', 'marathon', 'marble', 'march', 'marcus', 'margin', 'marine', 'mark', 'marked', 'marker', 'market', 'marketing', 'marketplace', 'marking', 'maroon', 'married', 'marry', 'martial', 'martin', 'mary', 'masculine', 'mask', 'mass', 'massage', 'massive', 'master', 'mat', 'match', 'material', 'matter', 'mature', 'max', 'maximum', 'may', 'maybe', 'mean', 'meaning', 'meant', 'meantime', 'measure', 'measured', 'measurement', 'meat', 'mechanic', 'mechanical', 'mechanically', 'mechanism', 'med', 'medal', 'medical', 'medium', 'meet', 'meeting', 'melissa', 'melt', 'member', 'membership', 'memory', 'mentally', 'mention', 'merchandise', 'merchant', 'mere', 'merely', 'merit', 'merry', 'mesh', 'mess', 'message', 'messenger', 'met', 'metal', 'metallic', 'metatarsal', 'mete', 'method', 'mexico', 'mi', 'michael', 'michigan', 'micro', 'microfiber', 'microphone', 'mid', 'midcalf', 'middle', 'midnight', 'midst', 'midway', 'midwife', 'mild', 'mile', 'mileage', 'military', 'milk', 'millimetre', 'million', 'min', 'mind', 'mine', 'mineral', 'minetonka', 'minimal', 'minimalist', 'minimize', 'minimum', 'minor', 'mint', 'minus', 'minute', 'miracle', 'mirror', 'mis', 'miserable', 'mislead', 'misleading', 'miss', 'missing', 'mission', 'mistake', 'mistaken', 'mix', 'mixed', 'mm', 'mo', 'mob', 'mobile', 'mock', 'mode', 'model', 'moderate', 'moderately', 'modern', 'modest', 'modestly', 'modesty', 'modify', 'moisture', 'mold', 'molded', 'moment', 'mon', 'monday', 'money', 'monitor', 'monkey', 'monster', 'montana', 'month', 'monthly', 'mood', 'moon', 'moral', 'more', 'moreover', 'morning', 'mortar', 'moss', 'most', 'mostly', 'mot', 'mother', 'motherofpearl', 'motion', 'motivation', 'motor', 'motorcycle', 'mount', 'mountain', 'mouse', 'mouth', 'movable', 'move', 'movement', 'movie', 'mr', 'mrs', 'ms', 'much', 'mud', 'muddy', 'mule', 'multi', 'multicolor', 'multiple', 'multipurpose', 'mummy', 'munch', 'murat', 'muscle', 'muscular', 'museum', 'mushroom', 'music', 'musical', 'must', 'mustache', 'mute', 'myoma', 'na', 'nail', 'naked', 'name', 'narrow', 'narrowed', 'naso', 'nasty', 'national', 'native', 'natural', 'naturally', 'nature', 'naughty', 'nautical', 'naval', 'navigable', 'navy', 'nd', 'ne', 'near', 'nearby', 'nearly', 'neat', 'neatly', 'necessarily', 'necessary', 'necessity', 'neck', 'necklace', 'need', 'needed', 'needle', 'needless', 'negative', 'negligible', 'neighbor', 'neighborhood', 'neither', 'neoprene', 'nephew', 'nerve', 'nervous', 'net', 'nether', 'network', 'neuro', 'neutral', 'never', 'nevertheless', 'new', 'newer', 'newport', 'news', 'newspaper', 'newton', 'next', 'nice', 'nicely', 'nicer', 'nicest', 'nicety', 'nickel', 'niece', 'night', 'nightgown', 'nightmare', 'nikita', 'nina', 'nine', 'nipper', 'nipple', 'no', 'nobody', 'nod', 'noise', 'noisy', 'non', 'none', 'nonetheless', 'nonexistent', 'nonsense', 'nonskid', 'nonslip', 'nonstop', 'noon', 'nordstrom', 'norm', 'normal', 'normally', 'north', 'northeast', 'northern', 'norton', 'nos', 'nose', 'not', 'notch', 'note', 'notebook', 'noted', 'nothing', 'notice', 'noticeable', 'noticeably', 'noticed', 'nov', 'novelty', 'november', 'now', 'nowadays', 'nowhere', 'numb', 'number', 'numerous', 'nurse', 'nursing', 'nut', 'ny', 'oak', 'object', 'obnoxious', 'obscure', 'observation', 'obsess', 'obtain', 'obvious', 'obviously', 'occasion', 'occasional', 'occasionally', 'occupy', 'occur', 'ocean', 'october', 'odd', 'oddly', 'odor', 'of', 'off', 'offensive', 'offer', 'offering', 'office', 'officer', 'official', 'offset', 'often', 'oh', 'oil', 'ok', 'okay', 'old', 'ole', 'olga', 'olive', 'on', 'one', 'onesizefitsal', 'online', 'only', 'onset', 'onto', 'ooze', 'opaque', 'open', 'opening', 'opera', 'operate', 'operation', 'opinion', 'opportunity', 'oppose', 'opposite', 'opt', 'optical', 'option', 'optional', 'or', 'orange', 'order', 'ordered', 'ordering', 'ordinarily', 'ordinary', 'org', 'organic', 'organization', 'organize', 'organized', 'organizer', 'orient', 'original', 'originally', 'orthahel', 'orthopaedic', 'orthotic', 'other', 'otherwise', 'ought', 'ounce', 'out', 'outcast', 'outdo', 'outdoor', 'outer', 'outerwear', 'outfit', 'outing', 'outlet', 'outline', 'outre', 'outside', 'outstanding', 'outward', 'oval', 'oven', 'overall', 'overflow', 'overhead', 'overlay', 'overlie', 'overnight', 'overpower', 'overpowering', 'overprice', 'overpriced', 'overseas', 'oversiz', 'oversized', 'overwhelm', 'owe', 'own', 'owner', 'ownership', 'oxford', 'oz', 'pace', 'pacific', 'pack', 'package', 'packed', 'packet', 'packing', 'pad', 'padded', 'page', 'paid', 'pain', 'painful', 'painfully', 'painless', 'paint', 'pair', 'pairs', 'pale', 'palm', 'palmar', 'palpable', 'panama', 'panel', 'pantyhose', 'papa', 'paper', 'paperwork', 'par', 'para', 'parameter', 'parasite', 'parent', 'paris', 'parish', 'park', 'parking', 'part', 'partial', 'partially', 'particular', 'particularly', 'partie', 'partition', 'partly', 'partner', 'party', 'pas', 'pashmina', 'pass', 'passage', 'passport', 'past', 'paste', 'patch', 'patent', 'paternity', 'path', 'pathfinder', 'patience', 'patient', 'patrick', 'pattern', 'pavement', 'paw', 'pay', 'pea', 'peace', 'peacock', 'pear', 'pearl', 'peasant', 'pebble', 'peddler', 'peel', 'peep', 'pen', 'pencil', 'penis', 'penny', 'people', 'per', 'percent', 'perceptible', 'perfect', 'perfection', 'perfectly', 'perform', 'performance', 'perhaps', 'peri', 'period', 'permanent', 'permanently', 'perpetual', 'perry', 'person', 'personal', 'personality', 'personally', 'perspective', 'perspiration', 'pet', 'petal', 'peter', 'petipant', 'petite', 'petticoat', 'petty', 'petya', 'phase', 'phone', 'photo', 'photograph', 'photographer', 'phrase', 'physical', 'physically', 'pick', 'picking', 'picture', 'pictured', 'piece', 'pier', 'pierce', 'pierre', 'pile', 'pill', 'pillow', 'pilot', 'pin', 'pinch', 'pink', 'pip', 'pirate', 'pit', 'pitch', 'pity', 'place', 'placement', 'plaid', 'plain', 'plan', 'plane', 'planet', 'planning', 'plant', 'plantar', 'planter', 'plastic', 'plat', 'plate', 'platform', 'plating', 'platino', 'play', 'player', 'playing', 'plea', 'pleasant', 'pleasantly', 'please', 'pleased', 'pleasing', 'pleasure', 'plenty', 'pliable', 'plover', 'plug', 'pluie', 'plum', 'plunge', 'plus', 'plush', 'ply', 'pm', 'pobox', 'pocket', 'podiatrist', 'point', 'pointed', 'poke', 'polar', 'polarize', 'pole', 'police', 'policy', 'polish', 'polished', 'polite', 'pollen', 'poly', 'polyester', 'polyurethane', 'pony', 'ponytail', 'pool', 'poor', 'poorly', 'pop', 'popular', 'porch', 'port', 'portable', 'porter', 'portfolio', 'portion', 'portray', 'pose', 'position', 'positive', 'possibility', 'possible', 'possibly', 'post', 'postage', 'poster', 'posture', 'potato', 'potential', 'potentially', 'pouch', 'pound', 'pour', 'powder', 'power', 'powerback', 'powerful', 'pp', 'practical', 'practically', 'practice', 'praise', 'pray', 'prayer', 'pre', 'preach', 'precious', 'precise', 'precisely', 'precision', 'predict', 'prefer', 'preferable', 'preference', 'preferred', 'pregnancy', 'pregnant', 'premature', 'premium', 'prepare', 'prepared', 'prepregnancy', 'prescription', 'present', 'presentation', 'preserve', 'preshrunk', 'press', 'pressure', 'pretend', 'pretty', 'prevent', 'previous', 'previously', 'price', 'prick', 'pricking', 'primarily', 'primary', 'prime', 'princess', 'print', 'printing', 'prior', 'priority', 'private', 'prize', 'pro', 'probably', 'problem', 'problematical', 'procedure', 'process', 'produce', 'producer', 'product', 'production', 'professional', 'professionally', 'profile', 'profit', 'program', 'programme', 'progress', 'project', 'prominent', 'promise', 'promote', 'promotion', 'prompt', 'promptly', 'pron', 'pronate', 'pronation', 'prone', 'pronounce', 'pronounced', 'pronunciation', 'proof', 'prop', 'proper', 'properly', 'property', 'proportion', 'protect', 'protection', 'protective', 'protector', 'protrude', 'proud', 'prove', 'provide', 'public', 'pucker', 'puddle', 'puff', 'puffy', 'pull', 'pulse', 'pump', 'punch', 'punishment', 'puppy', 'purchase', 'purchasing', 'pure', 'purely', 'purple', 'purpose', 'purse', 'pursue', 'pus', 'push', 'pushkin', 'put', 'qualify', 'quality', 'quantity', 'quarante', 'quart', 'quarter', 'que', 'queen', 'quest', 'question', 'questionable', 'quick', 'quicker', 'quickly', 'quiet', 'quit', 'quite', 'quote', 'rabbit', 'race', 'racerback', 'rack', 'radiant', 'radiation', 'radio', 'radium', 'rag', 'ragged', 'railroad', 'rain', 'rainbow', 'raincoat', 'rainy', 'raise', 'ran', 'random', 'range', 'ranger', 'rank', 'rapid', 'rapidly', 'rare', 'rarely', 'rash', 'rat', 'rate', 'rather', 'rating', 'ratio', 'rattle', 'rave', 'raw', 'ray', 'rayban', 'rd', 're', 'reach', 'react', 'reaction', 'read', 'readable', 'reader', 'readily', 'reading', 'readjust', 'ready', 'real', 'realise', 'realistic', 'reality', 'realize', 'really', 'reap', 'rear', 'reason', 'reasonable', 'reasonably', 'rebuild', 'receipt', 'receive', 'received', 'recent', 'recently', 'reception', 'recess', 'recipient', 'reckless', 'recognition', 'recognize', 'recommend', 'recommendation', 'reconstruct', 'record', 'recorder', 'recover', 'recovery', 'recycle', 'red', 'reddish', 'redoubt', 'redstone', 'reduce', 'reduction', 'redundant', 'reed', 'reef', 'refer', 'reference', 'refill', 'refined', 'reflect', 'reflection', 'reflex', 'refund', 'refuse', 'regard', 'regardless', 'region', 'register', 'regret', 'regular', 'regularly', 'reinforce', 'reinforcement', 'relate', 'relationship', 'relative', 'relatively', 'relax', 'relaxed', 'release', 'reliability', 'reliable', 'relief', 'relieve', 'relieved', 'relit', 'reluctant', 'rely', 'remain', 'remark', 'remarkable', 'remarkably', 'remember', 'remind', 'reminder', 'remote', 'removable', 'removal', 'remove', 'removed', 'render', 'renew', 'rent', 'repair', 'repairman', 'repeat', 'repeatedly', 'repel', 'repellent', 'replace', 'replaceable', 'replacement', 'reply', 'report', 'represent', 'republic', 'reputation', 'request', 'require', 'requirement', 'rescue', 'research', 'resect', 'resemble', 'resent', 'reservation', 'reserve', 'reside', 'resident', 'residue', 'resin', 'resist', 'resistance', 'resistant', 'resolve', 'resort', 'respect', 'respond', 'response', 'responsible', 'rest', 'restaurant', 'restore', 'restrict', 'restriction', 'restrictive', 'result', 'retail', 'retailer', 'retain', 'retainer', 'retire', 'retract', 'retrieve', 'retro', 'return', 'reveal', 'reverse', 'reversible', 'review', 'reviews', 'revolution', 'reward', 'rheumatoid', 'rhinestone', 'rib', 'ribbon', 'ribcage', 'rich', 'rid', 'ride', 'rider', 'ridge', 'ridiculous', 'ridiculously', 'right', 'rigid', 'rim', 'ring', 'rinse', 'rip', 'ripstop', 'rise', 'risk', 'rite', 'rival', 'river', 'road', 'rob', 'robe', 'robust', 'rock', 'rocket', 'rockie', 'rockport', 'rocky', 'rod', 'role', 'roll', 'roller', 'rolling', 'roman', 'rome', 'room', 'roomy', 'rope', 'rose', 'rotate', 'rotation', 'roth', 'rough', 'roughly', 'roughness', 'round', 'rounded', 'rounder', 'rouse', 'route', 'routine', 'row', 'royal', 'rub', 'rubber', 'rubberized', 'rubbing', 'ruby', 'rude', 'ruffle', 'rug', 'rugg', 'rugged', 'ruin', 'rule', 'ruler', 'run', 'runner', 'running', 'rush', 'russell', 'russia', 'russian', 'rust', 'ryazan', 'saber', 'sack', 'sacrifice', 'sad', 'saddle', 'sadly', 'safe', 'safely', 'safety', 'sake', 'salary', 'sale', 'salesman', 'salon', 'salt', 'same', 'sample', 'samsonite', 'san', 'sand', 'sandbag', 'sang', 'santa', 'santo', 'sap', 'sapphire', 'satin', 'satisfaction', 'satisfied', 'satisfy', 'saturday', 'sauconys', 'savage', 'save', 'saving', 'saw', 'say', 'saying', 'scale', 'scan', 'scandal', 'scar', 'scare', 'scarf', 'scent', 'schedule', 'scheme', 'school', 'science', 'scissor', 'scoop', 'score', 'scout', 'scrap', 'scrape', 'scratch', 'scream', 'screen', 'screw', 'screwdown', 'screwdriver', 'scrub', 'se', 'sea', 'seal', 'seam', 'seams', 'search', 'season', 'seat', 'second', 'secondly', 'secret', 'section', 'secure', 'secured', 'securely', 'security', 'see', 'seek', 'seem', 'seemingly', 'segment', 'seize', 'seizing', 'seldom', 'select', 'selection', 'self', 'selfwind', 'selfwinding', 'sell', 'seller', 'selling', 'semi', 'senate', 'send', 'senior', 'sensation', 'sense', 'sensitive', 'separate', 'separately', 'separation', 'september', 'serf', 'serie', 'series', 'serious', 'seriously', 'serve', 'service', 'serviceable', 'session', 'set', 'setting', 'settle', 'seven', 'several', 'severe', 'severely', 'sew', 'sewing', 'sewn', 'sex', 'shabby', 'shade', 'shadow', 'shaft', 'shake', 'shako', 'shakos', 'shallow', 'shalt', 'shame', 'shampoo', 'shape', 'shapewear', 'shaping', 'share', 'sharp', 'shawl', 'sheath', 'shed', 'sheen', 'sheep', 'sheepskin', 'sheer', 'sheet', 'shelf', 'shell', 'shelter', 'shield', 'shift', 'shin', 'shine', 'shiny', 'ship', 'shipment', 'shipper', 'shipping', 'shirt', 'shiver', 'shock', 'shocked', 'shod', 'shoe', 'shoelace', 'shoesthe', 'shoesthey', 'shoot', 'shop', 'shopping', 'shore', 'short', 'shortcoming', 'shorten', 'shorter', 'shortly', 'shot', 'should', 'shoulder', 'shout', 'shove', 'shovel', 'show', 'shower', 'showy', 'shrink', 'shrinkage', 'shrug', 'shrunk', 'shut', 'si', 'sick', 'side', 'sidelong', 'sidewalk', 'sideways', 'sigh', 'sight', 'sign', 'signal', 'signature', 'significant', 'significantly', 'silent', 'silhouette', 'silicon', 'silicone', 'silk', 'silly', 'silver', 'silvertone', 'silvery', 'similar', 'similarly', 'simon', 'simple', 'simpleton', 'simplicity', 'simply', 'since', 'sing', 'singapore', 'singer', 'single', 'sink', 'sinner', 'sinus', 'sister', 'sisterinlaw', 'sit', 'site', 'situation', 'six', 'size', 'sized', 'sizethe', 'skeleton', 'skeptically', 'sketch', 'skewer', 'ski', 'skill', 'skin', 'skinny', 'skintight', 'skirt', 'skull', 'sky', 'slack', 'slander', 'slap', 'slate', 'slave', 'sleek', 'sleep', 'sleeper', 'sleepless', 'sleev', 'sleeve', 'slender', 'slice', 'slide', 'slight', 'slightly', 'slim', 'sling', 'slingback', 'slink', 'slip', 'slipper', 'slippered', 'slippers', 'slippery', 'slit', 'slogger', 'slot', 'slough', 'sloughy', 'slow', 'slowly', 'small', 'smaller', 'smallish', 'smalmedium', 'smart', 'smartwol', 'smash', 'smell', 'smile', 'smoke', 'smooth', 'smoothly', 'smudge', 'smythe', 'snack', 'snake', 'snap', 'snatch', 'snazzy', 'snorkel', 'snorkeling', 'snow', 'snowy', 'snuff', 'snug', 'snuggery', 'snugly', 'so', 'soak', 'soap', 'sob', 'soccer', 'social', 'sock', 'socks', 'soda', 'soft', 'soften', 'softer', 'softness', 'software', 'soil', 'sol', 'solar', 'solaratomic', 'solarpower', 'soldier', 'sole', 'solely', 'solid', 'solo', 'solution', 'solve', 'some', 'somebody', 'somehow', 'someone', 'something', 'sometime', 'sometimes', 'somewhat', 'somewhere', 'son', 'song', 'soon', 'sooner', 'soothe', 'sophisticated', 'sore', 'sorry', 'sort', 'soul', 'sound', 'source', 'south', 'southern', 'souvenir', 'space', 'spacious', 'spaghetti', 'span', 'spanish', 'spare', 'sparkle', 'speak', 'speaker', 'special', 'specially', 'specific', 'specifically', 'specify', 'speck', 'spectacular', 'speech', 'speed', 'speedily', 'speedy', 'spell', 'spend', 'spending', 'spent', 'spice', 'spider', 'spiderman', 'spike', 'spill', 'spin', 'spine', 'spiral', 'spire', 'spirit', 'spite', 'splash', 'splint', 'split', 'spoil', 'sponge', 'spongy', 'sport', 'sportswear', 'spot', 'spouse', 'spr', 'spray', 'spread', 'spring', 'springsumer', 'spur', 'square', 'squat', 'squeaky', 'squeeze', 'squish', 'squishy', 'st', 'stab', 'stability', 'stable', 'staff', 'stage', 'stain', 'stair', 'stamp', 'stand', 'standard', 'standing', 'staple', 'star', 'stare', 'start', 'state', 'stated', 'statement', 'static', 'station', 'stationary', 'status', 'stay', 'stays', 'steady', 'steal', 'steam', 'steel', 'steep', 'stem', 'step', 'sterling', 'steve', 'steven', 'stick', 'sticky', 'stiff', 'stiffen', 'stiffness', 'stiletto', 'still', 'stink', 'stitch', 'stitching', 'stock', 'stocking', 'stomach', 'stone', 'stonewash', 'stop', 'stoppage', 'stopwatch', 'storage', 'store', 'storm', 'story', 'str', 'straight', 'straighten', 'straightforward', 'strain', 'strand', 'strange', 'strangely', 'stranger', 'strap', 'straps', 'stream', 'streamline', 'street', 'strength', 'strengthen', 'stress', 'stretch', 'stretcher', 'strictly', 'stride', 'strike', 'striking', 'string', 'strip', 'stripe', 'stroll', 'strong', 'strongly', 'structure', 'struggle', 'stuck', 'stud', 'student', 'study', 'stuff', 'stuffed', 'stuffy', 'stumble', 'stun', 'stunning', 'stupid', 'sturdily', 'sturdiness', 'sturdy', 'style', 'stylish', 'sub', 'subdued', 'subject', 'submarine', 'submerge', 'submit', 'subside', 'substance', 'substandard', 'substantial', 'substantially', 'substitute', 'subtle', 'subtract', 'success', 'successful', 'successfully', 'such', 'suck', 'suction', 'sudden', 'suddenly', 'suffer', 'sufferer', 'sufficient', 'sufficiently', 'sugar', 'suggest', 'suggestion', 'suit', 'suitable', 'suitcase', 'suite', 'suited', 'sum', 'summary', 'summer', 'summertime', 'sun', 'sunday', 'sundial', 'sundry', 'sunglass', 'sunlight', 'sunny', 'sunscreen', 'sunset', 'sunshine', 'super', 'superb', 'superbe', 'superglue', 'superhero', 'superior', 'supper', 'supple', 'supplier', 'supply', 'support', 'suppose', 'supposedly', 'suppurative', 'supreme', 'sure', 'surely', 'surf', 'surface', 'surge', 'surgeon', 'surgery', 'surgical', 'surpass', 'surplus', 'surprise', 'surprised', 'surprising', 'surprisingly', 'surround', 'survival', 'survive', 'suspect', 'suspend', 'sw', 'swap', 'swarovski', 'sway', 'swear', 'sweat', 'sweatpant', 'sweatshirt', 'swede', 'sweep', 'sweet', 'sweeter', 'swell', 'swim', 'swimmer', 'swimming', 'swimsuit', 'swing', 'swis', 'swish', 'swiss', 'switch', 'switzerland', 'swollen', 'sword', 'symbol', 'synchronize', 'synthesis', 'system', 'ta', 'tabe', 'table', 'tack', 'tactical', 'tafa', 'tag', 'tail', 'tailor', 'take', 'taking', 'talk', 'tall', 'tamarac', 'tangle', 'tangled', 'tank', 'tap', 'tape', 'taper', 'target', 'tarso', 'task', 'taste', 'tattoo', 'tax', 'taylor', 'tea', 'teach', 'teacher', 'team', 'teamster', 'tear', 'technical', 'technically', 'technology', 'teenage', 'teenager', 'telephone', 'telescope', 'tell', 'telling', 'temp', 'temperature', 'temple', 'temporary', 'tempt', 'ten', 'tend', 'tendency', 'tender', 'tendon', 'tennis', 'tension', 'tent', 'term', 'terrain', 'terrible', 'terribly', 'terrific', 'test', 'testing', 'texas', 'text', 'textbook', 'texture', 'th', 'thailand', 'than', 'thank', 'thankful', 'thanks', 'that', 'the', 'theater', 'thembut', 'theme', 'themthese', 'themthey', 'themupdate', 'then', 'theory', 'therapy', 'there', 'therefore', 'thermal', 'thermometer', 'these', 'thick', 'thicker', 'thickness', 'thief', 'thigh', 'thighigh', 'thighs', 'thin', 'thing', 'think', 'thinking', 'thinner', 'thinness', 'third', 'thirty', 'this', 'thither', 'thorax', 'thorn', 'thorough', 'thoroughly', 'those', 'thou', 'though', 'thought', 'thousand', 'thread', 'three', 'thrill', 'thrilled', 'through', 'throughout', 'throw', 'thumb', 'thumbs', 'thursday', 'thus', 'tick', 'ticket', 'tide', 'tidy', 'tie', 'tiffany', 'tiger', 'tight', 'tighten', 'tighter', 'tightly', 'tightness', 'til', 'tile', 'till', 'tilt', 'timber', 'timberland', 'time', 'timekeeping', 'timely', 'timepiece', 'timezone', 'timing', 'timothy', 'tin', 'tint', 'tiny', 'tip', 'tire', 'tired', 'tireless', 'tissue', 'tit', 'titanic', 'title', 'tm', 'to', 'toast', 'today', 'toe', 'toes', 'together', 'toi', 'toil', 'toilet', 'tolerable', 'tolerate', 'toll', 'toller', 'tomorrow', 'ton', 'tone', 'tongue', 'tonight', 'tonsil', 'too', 'tool', 'tooth', 'toothbrush', 'toothpaste', 'top', 'topnotch', 'torn', 'tortoise', 'torture', 'toss', 'total', 'totally', 'touch', 'tough', 'tour', 'tourist', 'toward', 'towards', 'towel', 'tower', 'town', 'toy', 'toying', 'tr', 'trace', 'track', 'traction', 'trade', 'trademark', 'tradition', 'traditional', 'traffic', 'trail', 'train', 'trainer', 'training', 'tramp', 'trance', 'transfer', 'transit', 'transition', 'translate', 'translucent', 'transmit', 'transparent', 'transport', 'transportation', 'trap', 'trash', 'travel', 'traveler', 'traveling', 'tread', 'treadmill', 'treasure', 'treat', 'treatment', 'tree', 'tremendous', 'trend', 'trial', 'triangle', 'triangular', 'triathlon', 'trick', 'tricky', 'trifle', 'trim', 'trinity', 'trip', 'triple', 'trotter', 'trouble', 'trouser', 'truck', 'true', 'truetosize', 'truly', 'trunk', 'trust', 'trusty', 'truth', 'try', 'tt', 'tub', 'tube', 'tuck', 'tucked', 'tuesday', 'tug', 'tumble', 'tumbler', 'tune', 'tungsten', 'tunic', 'turn', 'turquoise', 'turtle', 'turtleneck', 'tut', 'twelve', 'twenty', 'twice', 'twin', 'twist', 'twitch', 'two', 'twofold', 'twotone', 'type', 'typical', 'typically', 'ugh', 'ugliness', 'ugly', 'ultimate', 'ultimately', 'ultra', 'umbrella', 'un', 'unable', 'unacceptable', 'unattractive', 'unbearable', 'unbelievable', 'unbelievably', 'unbuttoned', 'uncle', 'uncomfortable', 'undecided', 'under', 'underarm', 'undergarment', 'undermine', 'underneath', 'underpant', 'undershirt', 'understand', 'understatement', 'undertake', 'underwater', 'underwear', 'underwire', 'undo', 'undone', 'undoubtedly', 'uneasy', 'uneven', 'unexpected', 'unfamiliar', 'unfordable', 'unfortunate', 'unfortunately', 'unhappy', 'unidirectional', 'uniform', 'union', 'unique', 'unit', 'unite', 'united', 'universal', 'university', 'unless', 'unlike', 'unlikely', 'unload', 'unnatural', 'unnecessary', 'unobtrusive', 'unpack', 'unpleasant', 'unravel', 'unseen', 'unsightly', 'untied', 'until', 'unto', 'unusual', 'unusually', 'up', 'update', 'updated', 'upgrade', 'uplift', 'upon', 'upper', 'upright', 'upset', 'upside', 'upwards', 'urban', 'urge', 'us', 'usage', 'use', 'used', 'useful', 'useless', 'user', 'using', 'usual', 'usually', 'utilitarian', 'utility', 'utilize', 'vacation', 'vacuum', 'vagrant', 'valentine', 'valley', 'valuable', 'value', 'valve', 'van', 'vanish', 'vanity', 'vantage', 'variance', 'variation', 'variety', 'various', 'varnish', 'vary', 'vehicle', 'vein', 'velcro', 'velvet', 'velvety', 'vendor', 'vent', 'ventilator', 'venture', 'vera', 'versatile', 'versatility', 'version', 'versus', 'vertical', 'vertically', 'very', 'vesical', 'vest', 'via', 'vibram', 'vibrate', 'vibration', 'vice', 'victor', 'victoria', 'victory', 'video', 'view', 'vigor', 'vigorous', 'vine', 'violet', 'virtually', 'virus', 'visible', 'vision', 'visit', 'visual', 'vital', 'vivid', 'vocabulary', 'voice', 'void', 'voila', 'vol', 'volume', 'von', 'vote', 'vs', 'wagram', 'waist', 'waistband', 'wait', 'wake', 'walk', 'walker', 'walking', 'walkstar', 'wall', 'wallerian', 'wallet', 'wan', 'wand', 'wander', 'want', 'wanted', 'war', 'wardrobe', 'ware', 'warehouse', 'warfare', 'warm', 'warmskin', 'warmth', 'warn', 'warning', 'warrant', 'warranty', 'wary', 'wash', 'washable', 'washing', 'washington', 'waste', 'wasteful', 'watch', 'watchband', 'watchdog', 'watchface', 'watchful', 'watching', 'watchmaker', 'watchman', 'watchthe', 'watchthis', 'water', 'wateresistant', 'waterproof', 'waterproofing', 'watertight', 'wave', 'waveceptor', 'wax', 'way', 'wayfarer', 'weak', 'weakness', 'wealth', 'weapon', 'wear', 'wearer', 'wearing', 'wears', 'weary', 'weather', 'weave', 'web', 'webpage', 'webster', 'wed', 'wedding', 'wedge', 'week', 'weekend', 'weekly', 'weeper', 'weigh', 'weight', 'weighty', 'weird', 'welcome', 'weld', 'welfare', 'welknown', 'well', 'west', 'western', 'wet', 'what', 'whatev', 'whatsoever', 'wheel', 'wheeled', 'when', 'whenever', 'whereas', 'wherever', 'whether', 'which', 'whim', 'whip', 'whisper', 'whistle', 'white', 'who', 'whoever', 'whole', 'whose', 'wick', 'wicked', 'wide', 'widely', 'widen', 'wider', 'width', 'widthwise', 'wife', 'wig', 'wild', 'will', 'willing', 'win', 'wind', 'windbreaker', 'window', 'windy', 'wine', 'wing', 'winner', 'winter', 'wipe', 'wire', 'wirefre', 'wisconsin', 'wise', 'wish', 'witch', 'with', 'within', 'without', 'withstand', 'witness', 'wizard', 'wo', 'wobbly', 'wolf', 'woman', 'wonder', 'wonderful', 'wonderfully', 'wood', 'wooden', 'wool', 'woolly', 'word', 'wore', 'work', 'workbag', 'worked', 'worker', 'working', 'workmanship', 'workout', 'workplace', 'world', 'worldwide', 'worn', 'worried', 'worry', 'worse', 'worst', 'worth', 'worthless', 'worthwhile', 'worthy', 'would', 'wouldn', 'wound', 'wrangle', 'wrap', 'wrapping', 'wrest', 'wriggle', 'wrinkle', 'wrinkled', 'wrinkling', 'wrist', 'wristband', 'wristwatch', 'write', 'writing', 'wrong', 'wythe', 'xx', 'yaktrax', 'yard', 'yeah', 'year', 'yearly', 'yellow', 'yellowish', 'yep', 'yes', 'yesterday', 'yet', 'yield', 'york', 'young', 'youth', 'zapata', 'zenger', 'zero', 'zip', 'zirconia', 'zone']\n"
     ]
    }
   ],
   "source": [
    "bow_vectorizer, bow_features = bow_extractor(sdf.Norm_reviewText)\n",
    "features_bow = bow_features.todense()\n",
    "feature_names = bow_vectorizer.get_feature_names()\n",
    "print (feature_names)"
   ]
  },
  {
   "cell_type": "code",
   "execution_count": 35,
   "metadata": {
    "collapsed": false
   },
   "outputs": [
    {
     "name": "stdout",
     "output_type": "stream",
     "text": [
      "   ab  abdoman  ability  able  abolish  about  abrasion  absent  absolute  \\\n",
      "0   0        0        0     0        0      0         0       0         0   \n",
      "1   0        0        0     0        0      0         0       0         0   \n",
      "2   0        0        0     0        0      0         0       0         0   \n",
      "3   0        0        0     0        0      0         0       0         0   \n",
      "4   0        0        0     0        0      0         0       0         0   \n",
      "5   0        0        0     0        0      0         0       0         0   \n",
      "6   0        0        0     0        0      0         0       0         0   \n",
      "7   0        0        0     0        0      0         0       0         0   \n",
      "8   0        0        0     0        0      0         0       0         0   \n",
      "9   0        0        0     0        0      0         0       0         0   \n",
      "\n",
      "   absolutely  ...   yield  york  young  youth  zapata  zenger  zero  zip  \\\n",
      "0           0  ...       0     0      0      0       0       0     0    0   \n",
      "1           0  ...       0     0      0      0       0       0     0    0   \n",
      "2           0  ...       0     0      0      0       0       0     0    0   \n",
      "3           0  ...       0     0      0      0       0       0     0    0   \n",
      "4           0  ...       0     0      0      0       0       0     0    0   \n",
      "5           0  ...       0     0      0      0       0       0     0    0   \n",
      "6           0  ...       0     0      0      0       0       0     0    0   \n",
      "7           0  ...       0     0      0      0       0       0     0    0   \n",
      "8           0  ...       0     0      0      0       0       0     0    0   \n",
      "9           0  ...       0     0      0      0       0       0     0    0   \n",
      "\n",
      "   zirconia  zone  \n",
      "0         0     0  \n",
      "1         0     0  \n",
      "2         0     0  \n",
      "3         0     0  \n",
      "4         0     0  \n",
      "5         0     0  \n",
      "6         0     0  \n",
      "7         0     0  \n",
      "8         0     0  \n",
      "9         0     0  \n",
      "\n",
      "[10 rows x 5000 columns]\n"
     ]
    }
   ],
   "source": [
    "display_features(features_bow[5000:5010], feature_names)"
   ]
  },
  {
   "cell_type": "code",
   "execution_count": null,
   "metadata": {
    "collapsed": true
   },
   "outputs": [],
   "source": [
    "# sdf = sdf.assign(features_bow = features_bow)"
   ]
  },
  {
   "cell_type": "code",
   "execution_count": 36,
   "metadata": {
    "collapsed": true
   },
   "outputs": [],
   "source": [
    "# extract features from new document using built vectorizer\n",
    "new_features = bow_vectorizer.transform(ndf.Norm_reviewText)\n",
    "new_features_bow = new_features.todense()"
   ]
  },
  {
   "cell_type": "code",
   "execution_count": 37,
   "metadata": {
    "collapsed": false
   },
   "outputs": [
    {
     "name": "stdout",
     "output_type": "stream",
     "text": [
      "   ab  abdoman  ability  able  abolish  about  abrasion  absent  absolute  \\\n",
      "0   0        0        0     0        0      0         0       0         0   \n",
      "1   0        0        0     0        0      0         0       0         0   \n",
      "2   0        0        0     0        0      0         0       0         0   \n",
      "3   0        0        0     0        0      0         0       0         0   \n",
      "4   0        0        0     0        0      0         0       0         0   \n",
      "5   0        0        0     0        0      0         0       0         0   \n",
      "6   0        0        0     0        0      0         0       0         0   \n",
      "7   0        0        1     0        0      0         0       0         0   \n",
      "8   0        0        0     0        0      0         0       0         0   \n",
      "9   0        0        0     0        0      0         0       0         0   \n",
      "\n",
      "   absolutely  ...   yield  york  young  youth  zapata  zenger  zero  zip  \\\n",
      "0           0  ...       0     0      0      0       0       0     0    0   \n",
      "1           0  ...       0     0      0      0       0       0     0    0   \n",
      "2           0  ...       0     0      0      0       0       0     0    0   \n",
      "3           0  ...       0     0      0      0       0       0     0    0   \n",
      "4           0  ...       0     0      0      0       0       0     0    0   \n",
      "5           0  ...       0     0      0      0       0       0     0    0   \n",
      "6           0  ...       0     0      0      0       0       0     0    0   \n",
      "7           0  ...       0     0      0      0       0       0     0    0   \n",
      "8           0  ...       0     0      0      0       0       0     0    0   \n",
      "9           0  ...       0     0      0      0       0       0     0    0   \n",
      "\n",
      "   zirconia  zone  \n",
      "0         0     0  \n",
      "1         0     0  \n",
      "2         0     0  \n",
      "3         0     0  \n",
      "4         0     0  \n",
      "5         0     0  \n",
      "6         0     0  \n",
      "7         0     0  \n",
      "8         0     0  \n",
      "9         0     0  \n",
      "\n",
      "[10 rows x 5000 columns]\n"
     ]
    }
   ],
   "source": [
    "display_features(new_features_bow[0:10], feature_names)"
   ]
  },
  {
   "cell_type": "markdown",
   "metadata": {},
   "source": [
    "### 2. TF-IDF Model \n",
    "TF-IDF stands for Term Frequency-Inverse Document Frequency, a combination of two metrics: term frequency and inverse document frequency."
   ]
  },
  {
   "cell_type": "code",
   "execution_count": 38,
   "metadata": {
    "collapsed": true
   },
   "outputs": [],
   "source": [
    "from sklearn.feature_extraction.text import TfidfVectorizer\n",
    "\n",
    "# Define function to directly compute the tfidf-based feature vectors for documents from the raw documents.\n",
    "def tfidf_extractor(corpus, ngram_range=(1,1)):\n",
    "    vectorizer = TfidfVectorizer(min_df=1,\n",
    "                                 norm='l2',\n",
    "                                 smooth_idf=True,\n",
    "                                 use_idf=True,\n",
    "                                 ngram_range=ngram_range,\n",
    "                                 max_features = 5000)\n",
    "    features = vectorizer.fit_transform(corpus)\n",
    "    return vectorizer, features"
   ]
  },
  {
   "cell_type": "code",
   "execution_count": 39,
   "metadata": {
    "collapsed": false
   },
   "outputs": [],
   "source": [
    "# get training corpus feature vectors\n",
    "tfidf_vectorizer, tdidf_features = tfidf_extractor(sdf.Norm_reviewText)\n",
    "features = tdidf_features.todense()\n",
    "features_tfidf = np.round(features, 2)"
   ]
  },
  {
   "cell_type": "code",
   "execution_count": 40,
   "metadata": {
    "collapsed": false
   },
   "outputs": [
    {
     "data": {
      "text/plain": [
       "(16434, 5000)"
      ]
     },
     "execution_count": 40,
     "metadata": {},
     "output_type": "execute_result"
    }
   ],
   "source": [
    "features.shape"
   ]
  },
  {
   "cell_type": "code",
   "execution_count": 41,
   "metadata": {
    "collapsed": false
   },
   "outputs": [
    {
     "name": "stdout",
     "output_type": "stream",
     "text": [
      "    ab  abdoman  ability  able  abolish  about  abrasion  absent  absolute  \\\n",
      "0  0.0      0.0      0.0  0.00      0.0    0.0       0.0     0.0       0.0   \n",
      "1  0.0      0.0      0.0  0.00      0.0    0.0       0.0     0.0       0.0   \n",
      "2  0.0      0.0      0.0  0.00      0.0    0.0       0.0     0.0       0.0   \n",
      "3  0.0      0.0      0.0  0.06      0.0    0.0       0.0     0.0       0.0   \n",
      "4  0.0      0.0      0.0  0.10      0.0    0.0       0.0     0.0       0.0   \n",
      "5  0.0      0.0      0.0  0.00      0.0    0.0       0.0     0.0       0.0   \n",
      "6  0.0      0.0      0.0  0.00      0.0    0.0       0.0     0.0       0.0   \n",
      "7  0.0      0.0      0.0  0.00      0.0    0.0       0.0     0.0       0.0   \n",
      "8  0.0      0.0      0.0  0.00      0.0    0.0       0.0     0.0       0.0   \n",
      "9  0.0      0.0      0.0  0.19      0.0    0.0       0.0     0.0       0.0   \n",
      "\n",
      "   absolutely  ...   yield  york  young  youth  zapata  zenger  zero  zip  \\\n",
      "0         0.0  ...     0.0   0.0    0.0    0.0     0.0     0.0   0.0  0.0   \n",
      "1         0.0  ...     0.0   0.0    0.0    0.0     0.0     0.0   0.0  0.0   \n",
      "2         0.0  ...     0.0   0.0    0.0    0.0     0.0     0.0   0.0  0.0   \n",
      "3         0.0  ...     0.0   0.0    0.0    0.0     0.0     0.0   0.0  0.0   \n",
      "4         0.0  ...     0.0   0.0    0.0    0.0     0.0     0.0   0.0  0.0   \n",
      "5         0.0  ...     0.0   0.0    0.0    0.0     0.0     0.0   0.0  0.0   \n",
      "6         0.0  ...     0.0   0.0    0.0    0.0     0.0     0.0   0.0  0.0   \n",
      "7         0.0  ...     0.0   0.0    0.0    0.0     0.0     0.0   0.0  0.0   \n",
      "8         0.0  ...     0.0   0.0    0.0    0.0     0.0     0.0   0.0  0.0   \n",
      "9         0.0  ...     0.0   0.0    0.0    0.0     0.0     0.0   0.0  0.0   \n",
      "\n",
      "   zirconia  zone  \n",
      "0       0.0   0.0  \n",
      "1       0.0   0.0  \n",
      "2       0.0   0.0  \n",
      "3       0.0   0.0  \n",
      "4       0.0   0.0  \n",
      "5       0.0   0.0  \n",
      "6       0.0   0.0  \n",
      "7       0.0   0.0  \n",
      "8       0.0   0.0  \n",
      "9       0.0   0.0  \n",
      "\n",
      "[10 rows x 5000 columns]\n"
     ]
    }
   ],
   "source": [
    "feature_names = tfidf_vectorizer.get_feature_names()\n",
    "display_features(features_tfidf[0:10], feature_names)"
   ]
  },
  {
   "cell_type": "code",
   "execution_count": 42,
   "metadata": {
    "collapsed": true
   },
   "outputs": [],
   "source": [
    "# get tfidf feature vector for the new document\n",
    "new_features = tfidf_vectorizer.transform(sdf.Norm_reviewText)\n",
    "new_features_tfidf = new_features.todense()"
   ]
  },
  {
   "cell_type": "code",
   "execution_count": 43,
   "metadata": {
    "collapsed": false
   },
   "outputs": [
    {
     "name": "stdout",
     "output_type": "stream",
     "text": [
      "    ab  abdoman  ability      able  abolish  about  abrasion  absent  \\\n",
      "0  0.0      0.0      0.0  0.000000      0.0    0.0       0.0     0.0   \n",
      "1  0.0      0.0      0.0  0.000000      0.0    0.0       0.0     0.0   \n",
      "2  0.0      0.0      0.0  0.000000      0.0    0.0       0.0     0.0   \n",
      "3  0.0      0.0      0.0  0.060399      0.0    0.0       0.0     0.0   \n",
      "4  0.0      0.0      0.0  0.096016      0.0    0.0       0.0     0.0   \n",
      "5  0.0      0.0      0.0  0.000000      0.0    0.0       0.0     0.0   \n",
      "6  0.0      0.0      0.0  0.000000      0.0    0.0       0.0     0.0   \n",
      "7  0.0      0.0      0.0  0.000000      0.0    0.0       0.0     0.0   \n",
      "8  0.0      0.0      0.0  0.000000      0.0    0.0       0.0     0.0   \n",
      "9  0.0      0.0      0.0  0.193265      0.0    0.0       0.0     0.0   \n",
      "\n",
      "   absolute  absolutely  ...   yield  york  young  youth  zapata  zenger  \\\n",
      "0       0.0         0.0  ...     0.0   0.0    0.0    0.0     0.0     0.0   \n",
      "1       0.0         0.0  ...     0.0   0.0    0.0    0.0     0.0     0.0   \n",
      "2       0.0         0.0  ...     0.0   0.0    0.0    0.0     0.0     0.0   \n",
      "3       0.0         0.0  ...     0.0   0.0    0.0    0.0     0.0     0.0   \n",
      "4       0.0         0.0  ...     0.0   0.0    0.0    0.0     0.0     0.0   \n",
      "5       0.0         0.0  ...     0.0   0.0    0.0    0.0     0.0     0.0   \n",
      "6       0.0         0.0  ...     0.0   0.0    0.0    0.0     0.0     0.0   \n",
      "7       0.0         0.0  ...     0.0   0.0    0.0    0.0     0.0     0.0   \n",
      "8       0.0         0.0  ...     0.0   0.0    0.0    0.0     0.0     0.0   \n",
      "9       0.0         0.0  ...     0.0   0.0    0.0    0.0     0.0     0.0   \n",
      "\n",
      "   zero  zip  zirconia  zone  \n",
      "0   0.0  0.0       0.0   0.0  \n",
      "1   0.0  0.0       0.0   0.0  \n",
      "2   0.0  0.0       0.0   0.0  \n",
      "3   0.0  0.0       0.0   0.0  \n",
      "4   0.0  0.0       0.0   0.0  \n",
      "5   0.0  0.0       0.0   0.0  \n",
      "6   0.0  0.0       0.0   0.0  \n",
      "7   0.0  0.0       0.0   0.0  \n",
      "8   0.0  0.0       0.0   0.0  \n",
      "9   0.0  0.0       0.0   0.0  \n",
      "\n",
      "[10 rows x 5000 columns]\n"
     ]
    }
   ],
   "source": [
    "display_features(new_features_tfidf[0:10], feature_names)"
   ]
  },
  {
   "cell_type": "markdown",
   "metadata": {},
   "source": [
    "### 3. Averaged Word Vectors"
   ]
  },
  {
   "cell_type": "code",
   "execution_count": 44,
   "metadata": {
    "collapsed": true
   },
   "outputs": [],
   "source": [
    "import numpy as np    \n",
    "\n",
    "# Define function to average word vectors for a text document\n",
    "def average_word_vectors(words, model, vocabulary, num_features):\n",
    "    \n",
    "    feature_vector = np.zeros((num_features,),dtype=\"float64\")\n",
    "    nwords = 0.\n",
    "    \n",
    "    for word in words:\n",
    "        if word in vocabulary: \n",
    "            nwords = nwords + 1.\n",
    "            feature_vector = np.add(feature_vector, model[word])\n",
    "    \n",
    "    if nwords:\n",
    "        feature_vector = np.divide(feature_vector, nwords)\n",
    "        \n",
    "    return feature_vector"
   ]
  },
  {
   "cell_type": "code",
   "execution_count": 53,
   "metadata": {
    "collapsed": true
   },
   "outputs": [],
   "source": [
    "# Generalize above function for a corpus of documents  \n",
    "def averaged_word_vectorizer(corpus, model, num_features):\n",
    "    vocabulary = set(model.wv.index2word)\n",
    "    features = [average_word_vectors(sentence, model, vocabulary, num_features) for sentence in corpus]\n",
    "    return np.array(features)"
   ]
  },
  {
   "cell_type": "code",
   "execution_count": 46,
   "metadata": {
    "collapsed": false
   },
   "outputs": [],
   "source": [
    "# tokenize reviewText\n",
    "tokenized_reviewText = [nltk.word_tokenize(text) for text in sdf.Norm_reviewText]\n",
    "tokenized_newReview = [nltk.word_tokenize(text) for text in ndf.Norm_reviewText]                        "
   ]
  },
  {
   "cell_type": "code",
   "execution_count": 54,
   "metadata": {
    "collapsed": true
   },
   "outputs": [],
   "source": [
    "import gensim\n",
    "\n",
    "# build the word2vec model on our training corpus\n",
    "model = gensim.models.Word2Vec(tokenized_reviewText, \n",
    "                               size=5000,\n",
    "                               window=10,\n",
    "                               min_count=2,\n",
    "                               sample=1e-3)"
   ]
  },
  {
   "cell_type": "code",
   "execution_count": 55,
   "metadata": {
    "collapsed": false
   },
   "outputs": [
    {
     "name": "stdout",
     "output_type": "stream",
     "text": [
      "[[-0.065  0.041 -0.042 ...,  0.073  0.002  0.019]\n",
      " [-0.203  0.056 -0.101 ...,  0.022  0.007  0.001]\n",
      " [-0.034  0.022 -0.048 ...,  0.018 -0.009  0.005]\n",
      " ..., \n",
      " [-0.095  0.042 -0.114 ...,  0.021  0.009  0.035]\n",
      " [-0.002 -0.01  -0.04  ..., -0.003 -0.001  0.034]\n",
      " [-0.115 -0.014 -0.077 ..., -0.026  0.008  0.048]]\n"
     ]
    }
   ],
   "source": [
    "# get averaged word vectors for our training CORPUS\n",
    "avg_word_vec_features = averaged_word_vectorizer(corpus=tokenized_reviewText, model=model, num_features=5000)\n",
    "print (np.round(avg_word_vec_features, 3))"
   ]
  },
  {
   "cell_type": "code",
   "execution_count": 57,
   "metadata": {
    "collapsed": false
   },
   "outputs": [
    {
     "name": "stdout",
     "output_type": "stream",
     "text": [
      "[[-0.086 -0.05   0.032 ...,  0.034  0.026  0.04 ]\n",
      " [-0.152  0.003 -0.036 ..., -0.062 -0.015  0.023]\n",
      " [-0.077 -0.016 -0.044 ...,  0.007 -0.005  0.016]\n",
      " ..., \n",
      " [ 0.053 -0.029  0.054 ...,  0.009 -0.008  0.002]\n",
      " [ 0.052 -0.027  0.05  ...,  0.024  0.016  0.027]\n",
      " [ 0.    -0.004  0.004 ...,  0.01  -0.01  -0.006]]\n"
     ]
    }
   ],
   "source": [
    "# get averaged word vectors for our test new_doc\n",
    "new_avg_word_vec_features = averaged_word_vectorizer(corpus=tokenized_newReview, model=model, num_features=5000)\n",
    "print (np.round(new_avg_word_vec_features, 3))"
   ]
  },
  {
   "cell_type": "markdown",
   "metadata": {},
   "source": [
    "### 4. TF-IDF Weighted Averaged Word Vectors"
   ]
  },
  {
   "cell_type": "code",
   "execution_count": 58,
   "metadata": {
    "collapsed": true
   },
   "outputs": [],
   "source": [
    "# Define function to compute tfidf weighted averaged word vector for a document\n",
    "def tfidf_wtd_avg_word_vectors(words, tfidf_vector, tfidf_vocabulary, model, num_features):\n",
    "    \n",
    "    word_tfidfs = [tfidf_vector[0, tfidf_vocabulary.get(word)] \n",
    "                   if tfidf_vocabulary.get(word) \n",
    "                   else 0 for word in words]    \n",
    "    word_tfidf_map = {word:tfidf_val for word, tfidf_val in zip(words, word_tfidfs)}\n",
    "    \n",
    "    feature_vector = np.zeros((num_features,),dtype=\"float64\")\n",
    "    vocabulary = set(model.wv.index2word)\n",
    "    wts = 0.\n",
    "    for word in words:\n",
    "        if word in vocabulary: \n",
    "            word_vector = model[word]\n",
    "            weighted_word_vector = word_tfidf_map[word] * word_vector\n",
    "            wts = wts + word_tfidf_map[word]\n",
    "            feature_vector = np.add(feature_vector, weighted_word_vector)\n",
    "    if wts:\n",
    "        feature_vector = np.divide(feature_vector, wts)\n",
    "        \n",
    "    return feature_vector"
   ]
  },
  {
   "cell_type": "code",
   "execution_count": 59,
   "metadata": {
    "collapsed": true
   },
   "outputs": [],
   "source": [
    "# Generalize above function for a corpus of documents\n",
    "def tfidf_weighted_averaged_word_vectorizer(corpus, tfidf_vectors, \n",
    "                                   tfidf_vocabulary, model, num_features):\n",
    "                                       \n",
    "    docs_tfidfs = [(doc, doc_tfidf) \n",
    "                   for doc, doc_tfidf \n",
    "                   in zip(corpus, tfidf_vectors)]\n",
    "    features = [tfidf_wtd_avg_word_vectors(tokenized_sentence, tfidf, tfidf_vocabulary,\n",
    "                                   model, num_features)\n",
    "                    for tokenized_sentence, tfidf in docs_tfidfs]\n",
    "    return np.array(features) "
   ]
  },
  {
   "cell_type": "code",
   "execution_count": 60,
   "metadata": {
    "collapsed": false
   },
   "outputs": [
    {
     "name": "stdout",
     "output_type": "stream",
     "text": [
      "[[ 0.  0.  0. ...,  0.  0.  0.]\n",
      " [ 0.  0.  0. ...,  0.  0.  0.]\n",
      " [ 0.  0.  0. ...,  0.  0.  0.]\n",
      " ..., \n",
      " [ 0.  0.  0. ...,  0.  0.  0.]\n",
      " [ 0.  0.  0. ...,  0.  0.  0.]\n",
      " [ 0.  0.  0. ...,  0.  0.  0.]]\n"
     ]
    }
   ],
   "source": [
    "# get tfidf weights and vocabulary from earlier results and compute result\n",
    "corpus_tfidf = tdidf_features\n",
    "vocab = tfidf_vectorizer.vocabulary_\n",
    "wt_tfidf_word_vec_features = tfidf_weighted_averaged_word_vectorizer(corpus=sdf.Norm_reviewText,\n",
    "                                                                     tfidf_vectors=corpus_tfidf,\n",
    "                                                                     tfidf_vocabulary=vocab,\n",
    "                                                                     model=model, \n",
    "                                                                     num_features=5000)\n",
    "print (np.round(wt_tfidf_word_vec_features, 3))"
   ]
  },
  {
   "cell_type": "code",
   "execution_count": 63,
   "metadata": {
    "collapsed": false
   },
   "outputs": [
    {
     "name": "stdout",
     "output_type": "stream",
     "text": [
      "[[ 0.  0.  0. ...,  0.  0.  0.]\n",
      " [ 0.  0.  0. ...,  0.  0.  0.]\n",
      " [ 0.  0.  0. ...,  0.  0.  0.]\n",
      " ..., \n",
      " [ 0.  0.  0. ...,  0.  0.  0.]\n",
      " [ 0.  0.  0. ...,  0.  0.  0.]\n",
      " [ 0.  0.  0. ...,  0.  0.  0.]]\n"
     ]
    }
   ],
   "source": [
    "# compute avgd word vector for test new_doc\n",
    "new_wt_tfidf_word_vec_features = tfidf_weighted_averaged_word_vectorizer(corpus=ndf.Norm_reviewText,\n",
    "                                                                     tfidf_vectors=corpus_tfidf,\n",
    "                                                                     tfidf_vocabulary=vocab,\n",
    "                                                                     model=model, \n",
    "                                                                     num_features=5000)\n",
    "print (np.round(new_wt_tfidf_word_vec_features, 3))"
   ]
  },
  {
   "cell_type": "code",
   "execution_count": null,
   "metadata": {
    "collapsed": true
   },
   "outputs": [],
   "source": []
  }
 ],
 "metadata": {
  "kernelspec": {
   "display_name": "Python 3",
   "language": "python",
   "name": "python3"
  },
  "language_info": {
   "codemirror_mode": {
    "name": "ipython",
    "version": 3
   },
   "file_extension": ".py",
   "mimetype": "text/x-python",
   "name": "python",
   "nbconvert_exporter": "python",
   "pygments_lexer": "ipython3",
   "version": "3.6.0"
  }
 },
 "nbformat": 4,
 "nbformat_minor": 2
}
