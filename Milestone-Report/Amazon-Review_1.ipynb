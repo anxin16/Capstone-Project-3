{
 "cells": [
  {
   "cell_type": "markdown",
   "metadata": {
    "collapsed": true
   },
   "source": [
    "# How many stars will I give? Predicting ratings of Amazon reviews"
   ]
  },
  {
   "cell_type": "markdown",
   "metadata": {},
   "source": [
    "----------------\n",
    "## Purpose\n",
    "Many product reviews (from other platforms than Amazon) are not accompanied by a scale rating system, consisting only of a textual evaluation. In this case, it becomes daunting and time-consuming to compare different products in order to eventually make a choice between them. Therefore, models able to predict the user rating from the text review are critically important. Getting an overall sense of a textual review could in turn improve consumer experience. Also, it can help business to increase sales, and improve the product by understanding customers' needs and pain-points.\n",
    "\n",
    "The purpose of this project is to develop models that are able to predict the user rating from the text review. While our model is built to work with any kind of product, the review dataset provided by Amazon only includes Clothing and Shoes  reviews.\n",
    " \n",
    "## Data-Source\n",
    "Amazon product data:  http://jmcauley.ucsd.edu/data/amazon/\n",
    "\n",
    "## Sample review:\n",
    "    \"reviewerID\": \"A2SUAM1J3GNN3B\",  \n",
    "    \"asin\": \"0000013714\",  \n",
    "    \"reviewerName\": \"J. McDonald\",  \n",
    "    \"helpful\": [2, 3],  \n",
    "    \"reviewText\": \"I bought this for my husband who plays the piano.  He is having a wonderful time playing these old hymns.  The music  is at times hard to read because we think the book was published for singing from more than playing from.  Great purchase though!\",  \n",
    "    \"overall\": 5.0,  \n",
    "    \"summary\": \"Heavenly Highway Hymns\",  \n",
    "    \"unixReviewTime\": 1252800000,  \n",
    "    \"reviewTime\": \"09 13, 2009\"  "
   ]
  },
  {
   "cell_type": "markdown",
   "metadata": {},
   "source": [
    "----------------\n",
    "## I. Preparing Amazon dataset"
   ]
  },
  {
   "cell_type": "code",
   "execution_count": 1,
   "metadata": {
    "collapsed": false
   },
   "outputs": [],
   "source": [
    "##########################################\n",
    "## 1.1 IMPORT DATA IN PANDAS\n",
    "##########################################\n",
    "import pandas as pd\n",
    "\n",
    "review_df = pd.read_json('Amazon_reviews/Clothing_Shoes_and_Jewelry_5.json', orient='records', lines=True)"
   ]
  },
  {
   "cell_type": "code",
   "execution_count": 2,
   "metadata": {
    "collapsed": false,
    "scrolled": true
   },
   "outputs": [
    {
     "name": "stdout",
     "output_type": "stream",
     "text": [
      "Total data: (278677, 9)\n"
     ]
    },
    {
     "data": {
      "text/html": [
       "<div>\n",
       "<table border=\"1\" class=\"dataframe\">\n",
       "  <thead>\n",
       "    <tr style=\"text-align: right;\">\n",
       "      <th></th>\n",
       "      <th>asin</th>\n",
       "      <th>helpful</th>\n",
       "      <th>Rating</th>\n",
       "      <th>reviewText</th>\n",
       "      <th>reviewTime</th>\n",
       "      <th>reviewerID</th>\n",
       "      <th>reviewerName</th>\n",
       "      <th>summary</th>\n",
       "      <th>unixReviewTime</th>\n",
       "    </tr>\n",
       "  </thead>\n",
       "  <tbody>\n",
       "    <tr>\n",
       "      <th>0</th>\n",
       "      <td>0000031887</td>\n",
       "      <td>[0, 0]</td>\n",
       "      <td>5</td>\n",
       "      <td>This is a great tutu and at a really great pri...</td>\n",
       "      <td>02 12, 2011</td>\n",
       "      <td>A1KLRMWW2FWPL4</td>\n",
       "      <td>Amazon Customer \"cameramom\"</td>\n",
       "      <td>Great tutu-  not cheaply made</td>\n",
       "      <td>1297468800</td>\n",
       "    </tr>\n",
       "    <tr>\n",
       "      <th>1</th>\n",
       "      <td>0000031887</td>\n",
       "      <td>[0, 0]</td>\n",
       "      <td>5</td>\n",
       "      <td>I bought this for my 4 yr old daughter for dan...</td>\n",
       "      <td>01 19, 2013</td>\n",
       "      <td>A2G5TCU2WDFZ65</td>\n",
       "      <td>Amazon Customer</td>\n",
       "      <td>Very Cute!!</td>\n",
       "      <td>1358553600</td>\n",
       "    </tr>\n",
       "    <tr>\n",
       "      <th>2</th>\n",
       "      <td>0000031887</td>\n",
       "      <td>[0, 0]</td>\n",
       "      <td>5</td>\n",
       "      <td>What can I say... my daughters have it in oran...</td>\n",
       "      <td>01 4, 2013</td>\n",
       "      <td>A1RLQXYNCMWRWN</td>\n",
       "      <td>Carola</td>\n",
       "      <td>I have buy more than one</td>\n",
       "      <td>1357257600</td>\n",
       "    </tr>\n",
       "    <tr>\n",
       "      <th>3</th>\n",
       "      <td>0000031887</td>\n",
       "      <td>[0, 0]</td>\n",
       "      <td>5</td>\n",
       "      <td>We bought several tutus at once, and they are ...</td>\n",
       "      <td>04 27, 2014</td>\n",
       "      <td>A8U3FAMSJVHS5</td>\n",
       "      <td>Caromcg</td>\n",
       "      <td>Adorable, Sturdy</td>\n",
       "      <td>1398556800</td>\n",
       "    </tr>\n",
       "    <tr>\n",
       "      <th>4</th>\n",
       "      <td>0000031887</td>\n",
       "      <td>[0, 0]</td>\n",
       "      <td>5</td>\n",
       "      <td>Thank you Halo Heaven great product for Little...</td>\n",
       "      <td>03 15, 2014</td>\n",
       "      <td>A3GEOILWLK86XM</td>\n",
       "      <td>CJ</td>\n",
       "      <td>Grammy's Angels Love it</td>\n",
       "      <td>1394841600</td>\n",
       "    </tr>\n",
       "    <tr>\n",
       "      <th>5</th>\n",
       "      <td>0000031887</td>\n",
       "      <td>[0, 0]</td>\n",
       "      <td>4</td>\n",
       "      <td>I received this today and I'm not a fan of it ...</td>\n",
       "      <td>03 31, 2014</td>\n",
       "      <td>A27UF1MSF3DB2</td>\n",
       "      <td>C-Lo \"Cynthia\"</td>\n",
       "      <td>It's ok</td>\n",
       "      <td>1396224000</td>\n",
       "    </tr>\n",
       "    <tr>\n",
       "      <th>6</th>\n",
       "      <td>0000031887</td>\n",
       "      <td>[0, 0]</td>\n",
       "      <td>5</td>\n",
       "      <td>Bought this as a backup to the regular ballet ...</td>\n",
       "      <td>05 3, 2014</td>\n",
       "      <td>A16GFPNVF4Y816</td>\n",
       "      <td>design maven</td>\n",
       "      <td>Great for dress-up and for ballet practice</td>\n",
       "      <td>1399075200</td>\n",
       "    </tr>\n",
       "    <tr>\n",
       "      <th>7</th>\n",
       "      <td>0000031887</td>\n",
       "      <td>[0, 0]</td>\n",
       "      <td>5</td>\n",
       "      <td>Great tutu for a great price. It isn't a &amp;#34;...</td>\n",
       "      <td>12 23, 2012</td>\n",
       "      <td>A2M2APVYIB2U6K</td>\n",
       "      <td>Jamie P.</td>\n",
       "      <td>Great value</td>\n",
       "      <td>1356220800</td>\n",
       "    </tr>\n",
       "    <tr>\n",
       "      <th>8</th>\n",
       "      <td>0000031887</td>\n",
       "      <td>[0, 0]</td>\n",
       "      <td>4</td>\n",
       "      <td>My daughter liked this, and it with her costum...</td>\n",
       "      <td>11 10, 2013</td>\n",
       "      <td>A1NJ71X3YPQNQ9</td>\n",
       "      <td>JBerger</td>\n",
       "      <td>Good</td>\n",
       "      <td>1384041600</td>\n",
       "    </tr>\n",
       "    <tr>\n",
       "      <th>9</th>\n",
       "      <td>0000031887</td>\n",
       "      <td>[7, 8]</td>\n",
       "      <td>5</td>\n",
       "      <td>For what I paid for two tutus is unbeatable an...</td>\n",
       "      <td>10 7, 2012</td>\n",
       "      <td>A3EERSWHAI6SO</td>\n",
       "      <td>Jeffrey Hollingshead \"Jillian hollingshead\"</td>\n",
       "      <td>WOW !! ..is all I have to say!</td>\n",
       "      <td>1349568000</td>\n",
       "    </tr>\n",
       "  </tbody>\n",
       "</table>\n",
       "</div>"
      ],
      "text/plain": [
       "         asin helpful  Rating  \\\n",
       "0  0000031887  [0, 0]       5   \n",
       "1  0000031887  [0, 0]       5   \n",
       "2  0000031887  [0, 0]       5   \n",
       "3  0000031887  [0, 0]       5   \n",
       "4  0000031887  [0, 0]       5   \n",
       "5  0000031887  [0, 0]       4   \n",
       "6  0000031887  [0, 0]       5   \n",
       "7  0000031887  [0, 0]       5   \n",
       "8  0000031887  [0, 0]       4   \n",
       "9  0000031887  [7, 8]       5   \n",
       "\n",
       "                                          reviewText   reviewTime  \\\n",
       "0  This is a great tutu and at a really great pri...  02 12, 2011   \n",
       "1  I bought this for my 4 yr old daughter for dan...  01 19, 2013   \n",
       "2  What can I say... my daughters have it in oran...   01 4, 2013   \n",
       "3  We bought several tutus at once, and they are ...  04 27, 2014   \n",
       "4  Thank you Halo Heaven great product for Little...  03 15, 2014   \n",
       "5  I received this today and I'm not a fan of it ...  03 31, 2014   \n",
       "6  Bought this as a backup to the regular ballet ...   05 3, 2014   \n",
       "7  Great tutu for a great price. It isn't a &#34;...  12 23, 2012   \n",
       "8  My daughter liked this, and it with her costum...  11 10, 2013   \n",
       "9  For what I paid for two tutus is unbeatable an...   10 7, 2012   \n",
       "\n",
       "       reviewerID                                 reviewerName  \\\n",
       "0  A1KLRMWW2FWPL4                  Amazon Customer \"cameramom\"   \n",
       "1  A2G5TCU2WDFZ65                              Amazon Customer   \n",
       "2  A1RLQXYNCMWRWN                                       Carola   \n",
       "3   A8U3FAMSJVHS5                                      Caromcg   \n",
       "4  A3GEOILWLK86XM                                           CJ   \n",
       "5   A27UF1MSF3DB2                               C-Lo \"Cynthia\"   \n",
       "6  A16GFPNVF4Y816                                 design maven   \n",
       "7  A2M2APVYIB2U6K                                     Jamie P.   \n",
       "8  A1NJ71X3YPQNQ9                                      JBerger   \n",
       "9   A3EERSWHAI6SO  Jeffrey Hollingshead \"Jillian hollingshead\"   \n",
       "\n",
       "                                      summary  unixReviewTime  \n",
       "0               Great tutu-  not cheaply made      1297468800  \n",
       "1                                 Very Cute!!      1358553600  \n",
       "2                    I have buy more than one      1357257600  \n",
       "3                            Adorable, Sturdy      1398556800  \n",
       "4                     Grammy's Angels Love it      1394841600  \n",
       "5                                     It's ok      1396224000  \n",
       "6  Great for dress-up and for ballet practice      1399075200  \n",
       "7                                 Great value      1356220800  \n",
       "8                                        Good      1384041600  \n",
       "9              WOW !! ..is all I have to say!      1349568000  "
      ]
     },
     "execution_count": 2,
     "metadata": {},
     "output_type": "execute_result"
    }
   ],
   "source": [
    "##########################################\n",
    "## 1.2 CHECK DATA IN PANDAS\n",
    "##########################################\n",
    "\n",
    "# change column name \n",
    "review_df = review_df.rename(columns={'overall': 'Rating'})\n",
    "\n",
    "print (\"Total data:\", str(review_df.shape))\n",
    "review_df.head(10)"
   ]
  },
  {
   "cell_type": "code",
   "execution_count": 3,
   "metadata": {
    "collapsed": false
   },
   "outputs": [
    {
     "data": {
      "text/plain": [
       "39387"
      ]
     },
     "execution_count": 3,
     "metadata": {},
     "output_type": "execute_result"
    }
   ],
   "source": [
    "len(review_df['reviewerID'].unique())"
   ]
  },
  {
   "cell_type": "markdown",
   "metadata": {
    "collapsed": true
   },
   "source": [
    "## II. Preliminary Analysis"
   ]
  },
  {
   "cell_type": "code",
   "execution_count": 12,
   "metadata": {
    "collapsed": false
   },
   "outputs": [
    {
     "name": "stdout",
     "output_type": "stream",
     "text": [
      "================================================\n",
      "Number of reviews:  278677\n",
      "\n",
      "Number of unique reviewers:  39387\n",
      "Prop of unique reviewers:  0.141\n",
      "\n",
      "Number of unique products:  23033\n",
      "Prop of unique products:  0.083\n",
      "\n",
      "Average rating score:  4.245\n",
      "================================================\n"
     ]
    }
   ],
   "source": [
    "##########################################\n",
    "## 2.1 DESCRIPTIVE STATISTICS\n",
    "##########################################\n",
    "\n",
    "print (\"================================================\")\n",
    "\n",
    "### Total reviews\n",
    "total = len(review_df)\n",
    "print (\"Number of reviews: \",total)\n",
    "print ()\n",
    "\n",
    "### How many unique reviewers?\n",
    "print (\"Number of unique reviewers: \",len(review_df.reviewerID.unique()))\n",
    "reviewer_prop = float(len(review_df.reviewerID.unique())/total)\n",
    "print (\"Prop of unique reviewers: \",round(reviewer_prop,3))\n",
    "print ()\n",
    "\n",
    "### How many unique products?\n",
    "print (\"Number of unique products: \", len(review_df.asin.unique()))\n",
    "product_prop = float(len(review_df.asin.unique())/total)\n",
    "print (\"Prop of unique products: \",round(product_prop,3))\n",
    "print ()\n",
    "\n",
    "### Average star score\n",
    "print (\"Average rating score: \",round(review_df.Rating.mean(),3))\n",
    "\n",
    "print (\"================================================\")"
   ]
  },
  {
   "cell_type": "code",
   "execution_count": 10,
   "metadata": {
    "collapsed": false,
    "scrolled": true
   },
   "outputs": [
    {
     "data": {
      "text/plain": [
       "(array([0, 1, 2, 3, 4]), <a list of 5 Text xticklabel objects>)"
      ]
     },
     "execution_count": 10,
     "metadata": {},
     "output_type": "execute_result"
    },
    {
     "data": {
      "image/png": "[encoded data removed]",
      "text/plain": [
       "<matplotlib.figure.Figure at 0x7fc235b60470>"
      ]
     },
     "metadata": {},
     "output_type": "display_data"
    }
   ],
   "source": [
    "##########################################\n",
    "## 2.2 DISTRIBUTION OF RATING SCORE\n",
    "########################################## \n",
    "\n",
    "%matplotlib inline\n",
    "import matplotlib.pyplot as plt\n",
    "import seaborn as sns\n",
    "\n",
    "review_df.groupby('Rating').size().plot(kind='bar')\n",
    "plt.title(\"Frequency of Review Rating\")\n",
    "plt.xlabel(\"Rating\")\n",
    "plt.ylabel(\"Number of reviews\")\n",
    "plt.xticks(rotation=0)"
   ]
  },
  {
   "cell_type": "code",
   "execution_count": 16,
   "metadata": {
    "collapsed": false
   },
   "outputs": [
    {
     "data": {
      "text/plain": [
       "(array([0, 1, 2, 3, 4]), <a list of 5 Text xticklabel objects>)"
      ]
     },
     "execution_count": 16,
     "metadata": {},
     "output_type": "execute_result"
    },
    {
     "data": {
      "image/png": "[encoded data removed]",
      "text/plain": [
       "<matplotlib.figure.Figure at 0x7fc23530f240>"
      ]
     },
     "metadata": {},
     "output_type": "display_data"
    }
   ],
   "source": [
    "##########################################\n",
    "## 2.3 DISTRIBUTION OF RATING PROPOTION\n",
    "########################################## \n",
    "\n",
    "(review_df.groupby('Rating').size()/total).plot(kind='bar')\n",
    "plt.title(\"Propotion of Review Rating\")\n",
    "plt.xlabel(\"Rating\")\n",
    "plt.ylabel(\"Propotion of reviews\")\n",
    "plt.xticks(rotation=0)"
   ]
  },
  {
   "cell_type": "code",
   "execution_count": 59,
   "metadata": {
    "collapsed": false
   },
   "outputs": [
    {
     "name": "stdout",
     "output_type": "stream",
     "text": [
      "16434\n"
     ]
    }
   ],
   "source": [
    "######################\n",
    "## 2.4 SUBSET DATA\n",
    "######################\n",
    "\n",
    "from datetime import datetime\n",
    "def toDate(dt_str):\n",
    "    return datetime.strptime(dt_str, '%m %d, %Y')\n",
    "\n",
    "## select review time before 2012\n",
    "dt_year = toDate('01 01, 2012')\n",
    "review_df['reviewDate'] = review_df.reviewTime.apply(toDate)\n",
    "sdf = review_df[review_df.reviewDate < dt_year]\n",
    "sub_total = len(sdf)\n",
    "print (sub_total)"
   ]
  },
  {
   "cell_type": "code",
   "execution_count": 24,
   "metadata": {
    "collapsed": false
   },
   "outputs": [
    {
     "data": {
      "text/plain": [
       "Rating\n",
       "1      690\n",
       "2      861\n",
       "3     1518\n",
       "4     3363\n",
       "5    10002\n",
       "dtype: int64"
      ]
     },
     "execution_count": 24,
     "metadata": {},
     "output_type": "execute_result"
    }
   ],
   "source": [
    "class_counts = sdf.groupby('Rating').size()\n",
    "class_counts"
   ]
  },
  {
   "cell_type": "code",
   "execution_count": 25,
   "metadata": {
    "collapsed": false
   },
   "outputs": [
    {
     "data": {
      "text/plain": [
       "(array([0, 1, 2, 3, 4]), <a list of 5 Text xticklabel objects>)"
      ]
     },
     "execution_count": 25,
     "metadata": {},
     "output_type": "execute_result"
    },
    {
     "data": {
      "image/png": "[encoded data removed]",
      "text/plain": [
       "<matplotlib.figure.Figure at 0x7fc235382780>"
      ]
     },
     "metadata": {},
     "output_type": "display_data"
    }
   ],
   "source": [
    "sdf.groupby('Rating').size().plot(kind='bar')\n",
    "plt.title(\"Frequency of Review Rating\")\n",
    "plt.xlabel(\"Rating\")\n",
    "plt.ylabel(\"Number of reviews\")\n",
    "plt.xticks(rotation=0)"
   ]
  },
  {
   "cell_type": "code",
   "execution_count": 28,
   "metadata": {
    "collapsed": false
   },
   "outputs": [
    {
     "data": {
      "text/plain": [
       "(array([0, 1, 2, 3, 4]), <a list of 5 Text xticklabel objects>)"
      ]
     },
     "execution_count": 28,
     "metadata": {},
     "output_type": "execute_result"
    },
    {
     "data": {
      "image/png": "[encoded data removed]",
      "text/plain": [
       "<matplotlib.figure.Figure at 0x7fc234fd0400>"
      ]
     },
     "metadata": {},
     "output_type": "display_data"
    }
   ],
   "source": [
    "(sdf.groupby('Rating').size()/sub_total).plot(kind='bar')\n",
    "plt.title(\"Propotion of Review Rating\")\n",
    "plt.xlabel(\"Rating\")\n",
    "plt.ylabel(\"Propotion of reviews\")\n",
    "plt.xticks(rotation=0)"
   ]
  },
  {
   "cell_type": "markdown",
   "metadata": {},
   "source": [
    "## III. Pre-processing —— Text Normalization (Text Wrangling)\n",
    "Text normalization is defined as a process that consists of a series of steps that should be followed to wrangle, clean, and standardize textual data into a form that\n",
    "could be consumed by other NLP and analytics systems and applications as input. Besides tokenization, various other techniques include cleaning text, case conversion, correcting spellings,\n",
    "removing stopwords and other unnecessary terms, stemming, and lemmatization. Text normalization is also often called text cleansing or wrangling.  \n",
    "* __Expanding Contractions__\n",
    "* __Removing Special Characters__\n",
    "* __Case Conversions__\n",
    "* __Tokenizing Text__\n",
    "* __Removing Stopwords__\n",
    "* __Correcting Words__\n",
    "* __Lemmatization__"
   ]
  },
  {
   "cell_type": "code",
   "execution_count": 29,
   "metadata": {
    "collapsed": true
   },
   "outputs": [],
   "source": [
    "import nltk\n",
    "import re\n",
    "import string\n",
    "from pprint import pprint"
   ]
  },
  {
   "cell_type": "code",
   "execution_count": 60,
   "metadata": {
    "collapsed": false
   },
   "outputs": [
    {
     "data": {
      "text/html": [
       "<div>\n",
       "<table border=\"1\" class=\"dataframe\">\n",
       "  <thead>\n",
       "    <tr style=\"text-align: right;\">\n",
       "      <th></th>\n",
       "      <th>asin</th>\n",
       "      <th>helpful</th>\n",
       "      <th>Rating</th>\n",
       "      <th>reviewText</th>\n",
       "      <th>reviewTime</th>\n",
       "      <th>reviewerID</th>\n",
       "      <th>reviewerName</th>\n",
       "      <th>summary</th>\n",
       "      <th>unixReviewTime</th>\n",
       "      <th>reviewDate</th>\n",
       "    </tr>\n",
       "  </thead>\n",
       "  <tbody>\n",
       "    <tr>\n",
       "      <th>0</th>\n",
       "      <td>0000031887</td>\n",
       "      <td>[0, 0]</td>\n",
       "      <td>5</td>\n",
       "      <td>This is a great tutu and at a really great pri...</td>\n",
       "      <td>02 12, 2011</td>\n",
       "      <td>A1KLRMWW2FWPL4</td>\n",
       "      <td>Amazon Customer \"cameramom\"</td>\n",
       "      <td>Great tutu-  not cheaply made</td>\n",
       "      <td>1297468800</td>\n",
       "      <td>2011-02-12</td>\n",
       "    </tr>\n",
       "    <tr>\n",
       "      <th>1</th>\n",
       "      <td>0000031887</td>\n",
       "      <td>[0, 0]</td>\n",
       "      <td>5</td>\n",
       "      <td>Purchased this tutu for my granddaughter's fir...</td>\n",
       "      <td>11 12, 2011</td>\n",
       "      <td>A391EXIT5TFP72</td>\n",
       "      <td>Lisbeth Starr</td>\n",
       "      <td>Wonderful tutu!</td>\n",
       "      <td>1321056000</td>\n",
       "      <td>2011-11-12</td>\n",
       "    </tr>\n",
       "    <tr>\n",
       "      <th>2</th>\n",
       "      <td>1608299953</td>\n",
       "      <td>[201, 205]</td>\n",
       "      <td>4</td>\n",
       "      <td>The product itself is five stars, however the ...</td>\n",
       "      <td>12 4, 2011</td>\n",
       "      <td>A3INPLAFCMRI3I</td>\n",
       "      <td>Cheryl</td>\n",
       "      <td>4 stars BUT beware...</td>\n",
       "      <td>1322956800</td>\n",
       "      <td>2011-12-04</td>\n",
       "    </tr>\n",
       "    <tr>\n",
       "      <th>3</th>\n",
       "      <td>1608299953</td>\n",
       "      <td>[5, 6]</td>\n",
       "      <td>4</td>\n",
       "      <td>The first question was which computers to inst...</td>\n",
       "      <td>09 21, 2010</td>\n",
       "      <td>A3NHUQ33CFH3VM</td>\n",
       "      <td>Citizen John</td>\n",
       "      <td>Intense way to learn</td>\n",
       "      <td>1285027200</td>\n",
       "      <td>2010-09-21</td>\n",
       "    </tr>\n",
       "    <tr>\n",
       "      <th>4</th>\n",
       "      <td>1608299953</td>\n",
       "      <td>[11, 13]</td>\n",
       "      <td>5</td>\n",
       "      <td>Okay, I admit it. I'm one of the millions of A...</td>\n",
       "      <td>06 16, 2011</td>\n",
       "      <td>A253TILLU81VZK</td>\n",
       "      <td>D. Connelly</td>\n",
       "      <td>Helped me actually get an A in a foreign langu...</td>\n",
       "      <td>1308182400</td>\n",
       "      <td>2011-06-16</td>\n",
       "    </tr>\n",
       "  </tbody>\n",
       "</table>\n",
       "</div>"
      ],
      "text/plain": [
       "         asin     helpful  Rating  \\\n",
       "0  0000031887      [0, 0]       5   \n",
       "1  0000031887      [0, 0]       5   \n",
       "2  1608299953  [201, 205]       4   \n",
       "3  1608299953      [5, 6]       4   \n",
       "4  1608299953    [11, 13]       5   \n",
       "\n",
       "                                          reviewText   reviewTime  \\\n",
       "0  This is a great tutu and at a really great pri...  02 12, 2011   \n",
       "1  Purchased this tutu for my granddaughter's fir...  11 12, 2011   \n",
       "2  The product itself is five stars, however the ...   12 4, 2011   \n",
       "3  The first question was which computers to inst...  09 21, 2010   \n",
       "4  Okay, I admit it. I'm one of the millions of A...  06 16, 2011   \n",
       "\n",
       "       reviewerID                 reviewerName  \\\n",
       "0  A1KLRMWW2FWPL4  Amazon Customer \"cameramom\"   \n",
       "1  A391EXIT5TFP72                Lisbeth Starr   \n",
       "2  A3INPLAFCMRI3I                       Cheryl   \n",
       "3  A3NHUQ33CFH3VM                 Citizen John   \n",
       "4  A253TILLU81VZK                  D. Connelly   \n",
       "\n",
       "                                             summary  unixReviewTime  \\\n",
       "0                      Great tutu-  not cheaply made      1297468800   \n",
       "1                                    Wonderful tutu!      1321056000   \n",
       "2                              4 stars BUT beware...      1322956800   \n",
       "3                               Intense way to learn      1285027200   \n",
       "4  Helped me actually get an A in a foreign langu...      1308182400   \n",
       "\n",
       "  reviewDate  \n",
       "0 2011-02-12  \n",
       "1 2011-11-12  \n",
       "2 2011-12-04  \n",
       "3 2010-09-21  \n",
       "4 2011-06-16  "
      ]
     },
     "execution_count": 60,
     "metadata": {},
     "output_type": "execute_result"
    }
   ],
   "source": [
    "sdf.index = range(sub_total)\n",
    "sdf.head()"
   ]
  },
  {
   "cell_type": "markdown",
   "metadata": {},
   "source": [
    "### 1. Expanding Contractions\n",
    "Contractions are shortened version of words or syllables. They exist in either written or spoken forms. Shortened versions of existing words are created by removing specific letters and sounds. In case of English contractions, they are often created by removing one of the vowels from the word.  \n",
    "By nature, contractions do pose a problem for NLP and text analytics because, to start with, we have a special apostrophe character in the word. "
   ]
  },
  {
   "cell_type": "code",
   "execution_count": 58,
   "metadata": {
    "collapsed": true
   },
   "outputs": [],
   "source": [
    "from contractions import CONTRACTION_MAP\n",
    "\n",
    "# Define function to expand contractions\n",
    "def expand_contractions(sentence, contraction_mapping):\n",
    "    contractions_pattern = re.compile('({})'.format('|'.join(contraction_mapping.keys())),flags=re.IGNORECASE|re.DOTALL)\n",
    "    def expand_match(contraction):\n",
    "        match = contraction.group(0)\n",
    "        first_char = match[0]\n",
    "        expanded_contraction = contraction_mapping.get(match)\\\n",
    "                        if contraction_mapping.get(match)\\\n",
    "                        else contraction_mapping.get(match.lower())\n",
    "        expanded_contraction = first_char+expanded_contraction[1:]\n",
    "        return expanded_contraction\n",
    "    \n",
    "    expanded_sentence = contractions_pattern.sub(expand_match, sentence)\n",
    "    return expanded_sentence"
   ]
  },
  {
   "cell_type": "code",
   "execution_count": 61,
   "metadata": {
    "collapsed": true
   },
   "outputs": [],
   "source": [
    "# Expand contractions of reviewText \n",
    "sdf = sdf.assign(expanded_reviewText = [expand_contractions(sentence, CONTRACTION_MAP) for sentence in sdf.reviewText])"
   ]
  },
  {
   "cell_type": "code",
   "execution_count": 63,
   "metadata": {
    "collapsed": true
   },
   "outputs": [],
   "source": [
    "# Expand contractions of summary \n",
    "sdf = sdf.assign(expanded_summary = [expand_contractions(sentence, CONTRACTION_MAP) for sentence in sdf.summary])"
   ]
  },
  {
   "cell_type": "markdown",
   "metadata": {},
   "source": [
    "### 2. Removing Special Characters\n",
    "One important task in text normalization involves removing unnecessary and *special characters*. These may be special symbols or even punctuation that occurs in sentences. This step is often performed before or after tokenization. The main reason for doing so is because often punctuation or special characters do not have much significance when we analyze the text and utilize it for extracting features or information based on NLP and ML."
   ]
  },
  {
   "cell_type": "code",
   "execution_count": 93,
   "metadata": {
    "collapsed": true
   },
   "outputs": [],
   "source": [
    "# Define the function to remove special characters\n",
    "def remove_characters(sentence):\n",
    "    sentence = sentence.strip()\n",
    "    PATTERN = '[^a-zA-Z0-9 ]' # only extract alpha-numeric characters\n",
    "    filtered_sentence = re.sub(PATTERN, '', sentence)\n",
    "    return filtered_sentence"
   ]
  },
  {
   "cell_type": "code",
   "execution_count": 95,
   "metadata": {
    "collapsed": true
   },
   "outputs": [],
   "source": [
    "# Remove special characters & Case Conversions in reviewText\n",
    "sdf = sdf.assign(filtered_reviewText = [remove_characters(sentence).lower() for sentence in sdf.expanded_reviewText])"
   ]
  },
  {
   "cell_type": "code",
   "execution_count": null,
   "metadata": {
    "collapsed": true
   },
   "outputs": [],
   "source": [
    "# Remove special characters & Case Conversions in summary\n",
    "sdf = sdf.assign(filtered_summary = [remove_characters(sentence).lower() for sentence in sdf.expanded_summary])"
   ]
  },
  {
   "cell_type": "markdown",
   "metadata": {},
   "source": [
    "### 3. Tokenizing Text\n",
    "Tokenization can be defined as the process of breaking down or splitting textual data into smaller meaningful components called tokens.  \n",
    "\n",
    "**Sentence tokenization** is the process of splitting a text corpus into sentences that act as the first level of tokens which the corpus is comprised of. This is also known as sentence segmentation , because we try to segment the text into meaningful sentences.  \n",
    "\n",
    "**Word tokenization** is the process of splitting or segmenting sentences into their constituent words. A sentence is a collection of words, and with tokenization we essentially split a sentence into a list of words that can be used to reconstruct the sentence.  "
   ]
  },
  {
   "cell_type": "code",
   "execution_count": 97,
   "metadata": {
    "collapsed": false
   },
   "outputs": [],
   "source": [
    "# Define the tokenization function\n",
    "def tokenize_text(text):\n",
    "    sentences = nltk.sent_tokenize(text)\n",
    "    word_tokens = [nltk.word_tokenize(sentence) for sentence in sentences]\n",
    "    return word_tokens"
   ]
  },
  {
   "cell_type": "code",
   "execution_count": 98,
   "metadata": {
    "collapsed": false
   },
   "outputs": [],
   "source": [
    "# Get token list of reviewText\n",
    "sdf = sdf.assign(reviewText_token_list = [tokenize_text(text) for text in sdf.filtered_reviewText])"
   ]
  },
  {
   "cell_type": "code",
   "execution_count": 99,
   "metadata": {
    "collapsed": false
   },
   "outputs": [],
   "source": [
    "# Get token list of summary\n",
    "sdf = sdf.assign(summary_token_list = [tokenize_text(text) for text in sdf.filtered_summary])"
   ]
  },
  {
   "cell_type": "markdown",
   "metadata": {},
   "source": [
    "### 4. Removing Stopwords\n",
    "*Stopwords* are words that have little or no significance. They are usually removed from text during processing so as to retain words having maximum significance and context. Stopwords are usually words that end up occurring the most if you aggregated any corpus of text based on singular tokens and checked their frequencies. Words like a, the , me , and so on are stopwords."
   ]
  },
  {
   "cell_type": "code",
   "execution_count": 101,
   "metadata": {
    "collapsed": true
   },
   "outputs": [],
   "source": [
    "# Define function to remove stopwords\n",
    "def remove_stopwords(tokens):\n",
    "    stopword_list = nltk.corpus.stopwords.words('english')\n",
    "    filtered_tokens = [token for token in tokens if token not in stopword_list]\n",
    "    return filtered_tokens"
   ]
  },
  {
   "cell_type": "code",
   "execution_count": 103,
   "metadata": {
    "collapsed": false
   },
   "outputs": [],
   "source": [
    "# Remove stopwords from reviewText tokens\n",
    "sdf = sdf.assign(reviewText_token_list = [[remove_stopwords(tokens) for tokens in sentence_tokens] for sentence_tokens in sdf.reviewText_token_list])"
   ]
  },
  {
   "cell_type": "code",
   "execution_count": 104,
   "metadata": {
    "collapsed": true
   },
   "outputs": [],
   "source": [
    "# Remove stopwords from summary tokens\n",
    "sdf = sdf.assign(summary_token_list = [[remove_stopwords(tokens) for tokens in sentence_tokens] for sentence_tokens in sdf.summary_token_list])"
   ]
  },
  {
   "cell_type": "markdown",
   "metadata": {},
   "source": [
    "### 5. Correcting Words\n",
    "One of the main challenges faced in text normalization is the presence of incorrect words in the text. The definition of incorrect here covers words that have spelling mistakes as well as words with several letters repeated that do not contribute much to its overall significance."
   ]
  },
  {
   "cell_type": "markdown",
   "metadata": {},
   "source": [
    "**Correcting Repeating Characters**"
   ]
  },
  {
   "cell_type": "code",
   "execution_count": 106,
   "metadata": {
    "collapsed": true
   },
   "outputs": [],
   "source": [
    "from nltk.corpus import wordnet\n",
    "\n",
    "# Define function to remove repeated characters\n",
    "def remove_repeated_characters(tokens):\n",
    "    repeat_pattern = re.compile(r'(\\w*)(\\w)\\2(\\w*)')\n",
    "    match_substitution = r'\\1\\2\\3'\n",
    "    def replace(old_word):\n",
    "        if wordnet.synsets(old_word):\n",
    "            return old_word\n",
    "        new_word = repeat_pattern.sub(match_substitution, old_word)\n",
    "        return replace(new_word) if new_word != old_word else new_word\n",
    "\n",
    "    correct_tokens = [replace(word) for word in tokens]\n",
    "    return correct_tokens"
   ]
  },
  {
   "cell_type": "code",
   "execution_count": 107,
   "metadata": {
    "collapsed": true
   },
   "outputs": [],
   "source": [
    "# Correct repeating characters from reviewText tokens\n",
    "sdf = sdf.assign(reviewText_token_list = [[remove_repeated_characters(tokens) for tokens in sentence_tokens] for sentence_tokens in sdf.reviewText_token_list])"
   ]
  },
  {
   "cell_type": "code",
   "execution_count": 108,
   "metadata": {
    "collapsed": true
   },
   "outputs": [],
   "source": [
    "# Correct repeating characters from summary tokens\n",
    "sdf = sdf.assign(reviewText_token_list = [[remove_repeated_characters(tokens) for tokens in sentence_tokens] for sentence_tokens in sdf.summary_token_list])"
   ]
  },
  {
   "cell_type": "code",
   "execution_count": 109,
   "metadata": {
    "collapsed": false
   },
   "outputs": [
    {
     "data": {
      "text/html": [
       "<div>\n",
       "<table border=\"1\" class=\"dataframe\">\n",
       "  <thead>\n",
       "    <tr style=\"text-align: right;\">\n",
       "      <th></th>\n",
       "      <th>asin</th>\n",
       "      <th>helpful</th>\n",
       "      <th>Rating</th>\n",
       "      <th>reviewText</th>\n",
       "      <th>reviewTime</th>\n",
       "      <th>reviewerID</th>\n",
       "      <th>reviewerName</th>\n",
       "      <th>summary</th>\n",
       "      <th>unixReviewTime</th>\n",
       "      <th>reviewDate</th>\n",
       "      <th>expanded_reviewText</th>\n",
       "      <th>expanded_summary</th>\n",
       "      <th>filtered_summary</th>\n",
       "      <th>filtered_reviewText</th>\n",
       "      <th>reviewText_token_list</th>\n",
       "      <th>summary_token_list</th>\n",
       "    </tr>\n",
       "  </thead>\n",
       "  <tbody>\n",
       "    <tr>\n",
       "      <th>0</th>\n",
       "      <td>0000031887</td>\n",
       "      <td>[0, 0]</td>\n",
       "      <td>5</td>\n",
       "      <td>This is a great tutu and at a really great pri...</td>\n",
       "      <td>02 12, 2011</td>\n",
       "      <td>A1KLRMWW2FWPL4</td>\n",
       "      <td>Amazon Customer \"cameramom\"</td>\n",
       "      <td>Great tutu-  not cheaply made</td>\n",
       "      <td>1297468800</td>\n",
       "      <td>2011-02-12</td>\n",
       "      <td>This is a great tutu and at a really great pri...</td>\n",
       "      <td>Great tutu-  not cheaply made</td>\n",
       "      <td>great tutu  not cheaply made</td>\n",
       "      <td>this is a great tutu and at a really great pri...</td>\n",
       "      <td>[[great, tutu, cheaply, made]]</td>\n",
       "      <td>[[great, tutu, cheaply, made]]</td>\n",
       "    </tr>\n",
       "    <tr>\n",
       "      <th>1</th>\n",
       "      <td>0000031887</td>\n",
       "      <td>[0, 0]</td>\n",
       "      <td>5</td>\n",
       "      <td>Purchased this tutu for my granddaughter's fir...</td>\n",
       "      <td>11 12, 2011</td>\n",
       "      <td>A391EXIT5TFP72</td>\n",
       "      <td>Lisbeth Starr</td>\n",
       "      <td>Wonderful tutu!</td>\n",
       "      <td>1321056000</td>\n",
       "      <td>2011-11-12</td>\n",
       "      <td>Purchased this tutu for my granddaughter's fir...</td>\n",
       "      <td>Wonderful tutu!</td>\n",
       "      <td>wonderful tutu</td>\n",
       "      <td>purchased this tutu for my granddaughters firs...</td>\n",
       "      <td>[[wonderful, tutu]]</td>\n",
       "      <td>[[wonderful, tutu]]</td>\n",
       "    </tr>\n",
       "    <tr>\n",
       "      <th>2</th>\n",
       "      <td>1608299953</td>\n",
       "      <td>[201, 205]</td>\n",
       "      <td>4</td>\n",
       "      <td>The product itself is five stars, however the ...</td>\n",
       "      <td>12 4, 2011</td>\n",
       "      <td>A3INPLAFCMRI3I</td>\n",
       "      <td>Cheryl</td>\n",
       "      <td>4 stars BUT beware...</td>\n",
       "      <td>1322956800</td>\n",
       "      <td>2011-12-04</td>\n",
       "      <td>The product itself is five stars, however the ...</td>\n",
       "      <td>4 stars BUT beware...</td>\n",
       "      <td>4 stars but beware</td>\n",
       "      <td>the product itself is five stars however the d...</td>\n",
       "      <td>[[4, stars, beware]]</td>\n",
       "      <td>[[4, stars, beware]]</td>\n",
       "    </tr>\n",
       "    <tr>\n",
       "      <th>3</th>\n",
       "      <td>1608299953</td>\n",
       "      <td>[5, 6]</td>\n",
       "      <td>4</td>\n",
       "      <td>The first question was which computers to inst...</td>\n",
       "      <td>09 21, 2010</td>\n",
       "      <td>A3NHUQ33CFH3VM</td>\n",
       "      <td>Citizen John</td>\n",
       "      <td>Intense way to learn</td>\n",
       "      <td>1285027200</td>\n",
       "      <td>2010-09-21</td>\n",
       "      <td>The first question was which computers to inst...</td>\n",
       "      <td>Intense way to learn</td>\n",
       "      <td>intense way to learn</td>\n",
       "      <td>the first question was which computers to inst...</td>\n",
       "      <td>[[intense, way, learn]]</td>\n",
       "      <td>[[intense, way, learn]]</td>\n",
       "    </tr>\n",
       "    <tr>\n",
       "      <th>4</th>\n",
       "      <td>1608299953</td>\n",
       "      <td>[11, 13]</td>\n",
       "      <td>5</td>\n",
       "      <td>Okay, I admit it. I'm one of the millions of A...</td>\n",
       "      <td>06 16, 2011</td>\n",
       "      <td>A253TILLU81VZK</td>\n",
       "      <td>D. Connelly</td>\n",
       "      <td>Helped me actually get an A in a foreign langu...</td>\n",
       "      <td>1308182400</td>\n",
       "      <td>2011-06-16</td>\n",
       "      <td>Okay, I admit it. I am one of the millions of ...</td>\n",
       "      <td>Helped me actually get an A in a foreign langu...</td>\n",
       "      <td>helped me actually get an a in a foreign langu...</td>\n",
       "      <td>okay i admit it i am one of the millions of am...</td>\n",
       "      <td>[[helped, actually, get, foreign, language, cl...</td>\n",
       "      <td>[[helped, actually, get, foreign, language, cl...</td>\n",
       "    </tr>\n",
       "  </tbody>\n",
       "</table>\n",
       "</div>"
      ],
      "text/plain": [
       "         asin     helpful  Rating  \\\n",
       "0  0000031887      [0, 0]       5   \n",
       "1  0000031887      [0, 0]       5   \n",
       "2  1608299953  [201, 205]       4   \n",
       "3  1608299953      [5, 6]       4   \n",
       "4  1608299953    [11, 13]       5   \n",
       "\n",
       "                                          reviewText   reviewTime  \\\n",
       "0  This is a great tutu and at a really great pri...  02 12, 2011   \n",
       "1  Purchased this tutu for my granddaughter's fir...  11 12, 2011   \n",
       "2  The product itself is five stars, however the ...   12 4, 2011   \n",
       "3  The first question was which computers to inst...  09 21, 2010   \n",
       "4  Okay, I admit it. I'm one of the millions of A...  06 16, 2011   \n",
       "\n",
       "       reviewerID                 reviewerName  \\\n",
       "0  A1KLRMWW2FWPL4  Amazon Customer \"cameramom\"   \n",
       "1  A391EXIT5TFP72                Lisbeth Starr   \n",
       "2  A3INPLAFCMRI3I                       Cheryl   \n",
       "3  A3NHUQ33CFH3VM                 Citizen John   \n",
       "4  A253TILLU81VZK                  D. Connelly   \n",
       "\n",
       "                                             summary  unixReviewTime  \\\n",
       "0                      Great tutu-  not cheaply made      1297468800   \n",
       "1                                    Wonderful tutu!      1321056000   \n",
       "2                              4 stars BUT beware...      1322956800   \n",
       "3                               Intense way to learn      1285027200   \n",
       "4  Helped me actually get an A in a foreign langu...      1308182400   \n",
       "\n",
       "  reviewDate                                expanded_reviewText  \\\n",
       "0 2011-02-12  This is a great tutu and at a really great pri...   \n",
       "1 2011-11-12  Purchased this tutu for my granddaughter's fir...   \n",
       "2 2011-12-04  The product itself is five stars, however the ...   \n",
       "3 2010-09-21  The first question was which computers to inst...   \n",
       "4 2011-06-16  Okay, I admit it. I am one of the millions of ...   \n",
       "\n",
       "                                    expanded_summary  \\\n",
       "0                      Great tutu-  not cheaply made   \n",
       "1                                    Wonderful tutu!   \n",
       "2                              4 stars BUT beware...   \n",
       "3                               Intense way to learn   \n",
       "4  Helped me actually get an A in a foreign langu...   \n",
       "\n",
       "                                    filtered_summary  \\\n",
       "0                       great tutu  not cheaply made   \n",
       "1                                     wonderful tutu   \n",
       "2                                 4 stars but beware   \n",
       "3                               intense way to learn   \n",
       "4  helped me actually get an a in a foreign langu...   \n",
       "\n",
       "                                 filtered_reviewText  \\\n",
       "0  this is a great tutu and at a really great pri...   \n",
       "1  purchased this tutu for my granddaughters firs...   \n",
       "2  the product itself is five stars however the d...   \n",
       "3  the first question was which computers to inst...   \n",
       "4  okay i admit it i am one of the millions of am...   \n",
       "\n",
       "                               reviewText_token_list  \\\n",
       "0                     [[great, tutu, cheaply, made]]   \n",
       "1                                [[wonderful, tutu]]   \n",
       "2                               [[4, stars, beware]]   \n",
       "3                            [[intense, way, learn]]   \n",
       "4  [[helped, actually, get, foreign, language, cl...   \n",
       "\n",
       "                                  summary_token_list  \n",
       "0                     [[great, tutu, cheaply, made]]  \n",
       "1                                [[wonderful, tutu]]  \n",
       "2                               [[4, stars, beware]]  \n",
       "3                            [[intense, way, learn]]  \n",
       "4  [[helped, actually, get, foreign, language, cl...  "
      ]
     },
     "execution_count": 109,
     "metadata": {},
     "output_type": "execute_result"
    }
   ],
   "source": [
    "sdf.head()"
   ]
  },
  {
   "cell_type": "markdown",
   "metadata": {},
   "source": [
    "**Correcting Spellings**"
   ]
  },
  {
   "cell_type": "code",
   "execution_count": 110,
   "metadata": {
    "collapsed": true
   },
   "outputs": [],
   "source": [
    "import collections\n",
    "\n",
    "# Generate a map of frequently occurring words in English and their counts\n",
    "\"\"\"\n",
    "The input corpus we use is a file containing several books from the Gutenberg corpus and also \n",
    "a list of most frequent words from Wiktionary and the British National Corpus. You can find \n",
    "the file under the name big.txt or download it from http://norvig.com/big.txt and use it.\n",
    "\"\"\"\n",
    "def tokens(text):\n",
    "    \"\"\"\n",
    "    Get all words from the corpus\n",
    "    \"\"\"\n",
    "    return re.findall('[a-z]+', text.lower())\n",
    "\n",
    "WORDS = tokens(open('big.txt').read())\n",
    "WORD_COUNTS = collections.Counter(WORDS)"
   ]
  },
  {
   "cell_type": "code",
   "execution_count": 119,
   "metadata": {
    "collapsed": true
   },
   "outputs": [],
   "source": [
    "# Define three functions that compute sets of words that are zero, one, and two edits away from input word.\n",
    "def edits0(word): \n",
    "    \"\"\"\n",
    "    Return all strings that are zero edits away \n",
    "    from the input word (i.e., the word itself).\n",
    "    \"\"\"\n",
    "    return {word}\n",
    "\n",
    "def edits1(word):\n",
    "    \"\"\"\n",
    "    Return all strings that are one edit away \n",
    "    from the input word.\n",
    "    \"\"\"\n",
    "    alphabet = 'abcdefghijklmnopqrstuvwxyz'\n",
    "    def splits(word):\n",
    "        \"\"\"\n",
    "        Return a list of all possible (first, rest) pairs \n",
    "        that the input word is made of.\n",
    "        \"\"\"\n",
    "        return [(word[:i], word[i:]) for i in range(len(word)+1)]\n",
    "                \n",
    "    pairs      = splits(word)\n",
    "    deletes    = [a+b[1:]           for (a, b) in pairs if b]\n",
    "    transposes = [a+b[1]+b[0]+b[2:] for (a, b) in pairs if len(b) > 1]\n",
    "    replaces   = [a+c+b[1:]         for (a, b) in pairs for c in alphabet if b]\n",
    "    inserts    = [a+c+b             for (a, b) in pairs for c in alphabet]\n",
    "    return set(deletes + transposes + replaces + inserts)\n",
    "\n",
    "def edits2(word):\n",
    "    \"\"\"Return all strings that are two edits away \n",
    "    from the input word.\n",
    "    \"\"\"\n",
    "    return {e2 for e1 in edits1(word) for e2 in edits1(e1)}"
   ]
  },
  {
   "cell_type": "code",
   "execution_count": 120,
   "metadata": {
    "collapsed": true
   },
   "outputs": [],
   "source": [
    "# Define function that returns a subset of words from our candidate set of words obtained from \n",
    "# the edit functions, based on whether they occur in our vocabulary dictionary WORD_COUNTS.\n",
    "# This gives us a list of valid words from our set of candidate words.\n",
    "def known(words):\n",
    "    \"\"\"\n",
    "    Return the subset of words that are actually \n",
    "    in our WORD_COUNTS dictionary.\n",
    "    \"\"\"\n",
    "    return {w for w in words if w in WORD_COUNTS}"
   ]
  },
  {
   "cell_type": "code",
   "execution_count": 121,
   "metadata": {
    "collapsed": true
   },
   "outputs": [],
   "source": [
    "# Define function to correct words\n",
    "def correct(word):\n",
    "    \"\"\"\n",
    "    Get the best correct spelling for the input word\n",
    "    \"\"\"\n",
    "    # Priority is for edit distance 0, then 1, then 2\n",
    "    # else defaults to the input word itself.\n",
    "    candidates = (known(edits0(word)) or \n",
    "                  known(edits1(word)) or \n",
    "                  known(edits2(word)) or [word])\n",
    "    return max(candidates, key=WORD_COUNTS.get)"
   ]
  },
  {
   "cell_type": "code",
   "execution_count": 122,
   "metadata": {
    "collapsed": false
   },
   "outputs": [
    {
     "ename": "TypeError",
     "evalue": "unhashable type: 'list'",
     "output_type": "error",
     "traceback": [
      "\u001b[0;31m---------------------------------------------------------------------------\u001b[0m",
      "\u001b[0;31mTypeError\u001b[0m                                 Traceback (most recent call last)",
      "\u001b[0;32m<ipython-input-122-9e9288b76a29>\u001b[0m in \u001b[0;36m<module>\u001b[0;34m()\u001b[0m\n\u001b[1;32m      1\u001b[0m \u001b[0;31m# Correct spelling from reviewText tokens\u001b[0m\u001b[0;34m\u001b[0m\u001b[0;34m\u001b[0m\u001b[0m\n\u001b[0;32m----> 2\u001b[0;31m \u001b[0msdf\u001b[0m \u001b[0;34m=\u001b[0m \u001b[0msdf\u001b[0m\u001b[0;34m.\u001b[0m\u001b[0massign\u001b[0m\u001b[0;34m(\u001b[0m\u001b[0mreviewText_token_list\u001b[0m \u001b[0;34m=\u001b[0m \u001b[0;34m[\u001b[0m\u001b[0;34m[\u001b[0m\u001b[0mcorrect\u001b[0m\u001b[0;34m(\u001b[0m\u001b[0mtokens\u001b[0m\u001b[0;34m)\u001b[0m \u001b[0;32mfor\u001b[0m \u001b[0mtokens\u001b[0m \u001b[0;32min\u001b[0m \u001b[0msentence_tokens\u001b[0m\u001b[0;34m]\u001b[0m \u001b[0;32mfor\u001b[0m \u001b[0msentence_tokens\u001b[0m \u001b[0;32min\u001b[0m \u001b[0msdf\u001b[0m\u001b[0;34m.\u001b[0m\u001b[0mreviewText_token_list\u001b[0m\u001b[0;34m]\u001b[0m\u001b[0;34m)\u001b[0m\u001b[0;34m\u001b[0m\u001b[0m\n\u001b[0m",
      "\u001b[0;32m<ipython-input-122-9e9288b76a29>\u001b[0m in \u001b[0;36m<listcomp>\u001b[0;34m(.0)\u001b[0m\n\u001b[1;32m      1\u001b[0m \u001b[0;31m# Correct spelling from reviewText tokens\u001b[0m\u001b[0;34m\u001b[0m\u001b[0;34m\u001b[0m\u001b[0m\n\u001b[0;32m----> 2\u001b[0;31m \u001b[0msdf\u001b[0m \u001b[0;34m=\u001b[0m \u001b[0msdf\u001b[0m\u001b[0;34m.\u001b[0m\u001b[0massign\u001b[0m\u001b[0;34m(\u001b[0m\u001b[0mreviewText_token_list\u001b[0m \u001b[0;34m=\u001b[0m \u001b[0;34m[\u001b[0m\u001b[0;34m[\u001b[0m\u001b[0mcorrect\u001b[0m\u001b[0;34m(\u001b[0m\u001b[0mtokens\u001b[0m\u001b[0;34m)\u001b[0m \u001b[0;32mfor\u001b[0m \u001b[0mtokens\u001b[0m \u001b[0;32min\u001b[0m \u001b[0msentence_tokens\u001b[0m\u001b[0;34m]\u001b[0m \u001b[0;32mfor\u001b[0m \u001b[0msentence_tokens\u001b[0m \u001b[0;32min\u001b[0m \u001b[0msdf\u001b[0m\u001b[0;34m.\u001b[0m\u001b[0mreviewText_token_list\u001b[0m\u001b[0;34m]\u001b[0m\u001b[0;34m)\u001b[0m\u001b[0;34m\u001b[0m\u001b[0m\n\u001b[0m",
      "\u001b[0;32m<ipython-input-122-9e9288b76a29>\u001b[0m in \u001b[0;36m<listcomp>\u001b[0;34m(.0)\u001b[0m\n\u001b[1;32m      1\u001b[0m \u001b[0;31m# Correct spelling from reviewText tokens\u001b[0m\u001b[0;34m\u001b[0m\u001b[0;34m\u001b[0m\u001b[0m\n\u001b[0;32m----> 2\u001b[0;31m \u001b[0msdf\u001b[0m \u001b[0;34m=\u001b[0m \u001b[0msdf\u001b[0m\u001b[0;34m.\u001b[0m\u001b[0massign\u001b[0m\u001b[0;34m(\u001b[0m\u001b[0mreviewText_token_list\u001b[0m \u001b[0;34m=\u001b[0m \u001b[0;34m[\u001b[0m\u001b[0;34m[\u001b[0m\u001b[0mcorrect\u001b[0m\u001b[0;34m(\u001b[0m\u001b[0mtokens\u001b[0m\u001b[0;34m)\u001b[0m \u001b[0;32mfor\u001b[0m \u001b[0mtokens\u001b[0m \u001b[0;32min\u001b[0m \u001b[0msentence_tokens\u001b[0m\u001b[0;34m]\u001b[0m \u001b[0;32mfor\u001b[0m \u001b[0msentence_tokens\u001b[0m \u001b[0;32min\u001b[0m \u001b[0msdf\u001b[0m\u001b[0;34m.\u001b[0m\u001b[0mreviewText_token_list\u001b[0m\u001b[0;34m]\u001b[0m\u001b[0;34m)\u001b[0m\u001b[0;34m\u001b[0m\u001b[0m\n\u001b[0m",
      "\u001b[0;32m<ipython-input-121-27c03c3f3a0e>\u001b[0m in \u001b[0;36mcorrect\u001b[0;34m(word)\u001b[0m\n\u001b[1;32m      6\u001b[0m     \u001b[0;31m# Priority is for edit distance 0, then 1, then 2\u001b[0m\u001b[0;34m\u001b[0m\u001b[0;34m\u001b[0m\u001b[0m\n\u001b[1;32m      7\u001b[0m     \u001b[0;31m# else defaults to the input word itself.\u001b[0m\u001b[0;34m\u001b[0m\u001b[0;34m\u001b[0m\u001b[0m\n\u001b[0;32m----> 8\u001b[0;31m     candidates = (known(edits0(word)) or \n\u001b[0m\u001b[1;32m      9\u001b[0m                   \u001b[0mknown\u001b[0m\u001b[0;34m(\u001b[0m\u001b[0medits1\u001b[0m\u001b[0;34m(\u001b[0m\u001b[0mword\u001b[0m\u001b[0;34m)\u001b[0m\u001b[0;34m)\u001b[0m \u001b[0;32mor\u001b[0m\u001b[0;34m\u001b[0m\u001b[0m\n\u001b[1;32m     10\u001b[0m                   known(edits2(word)) or [word])\n",
      "\u001b[0;32m<ipython-input-119-444ac2fe0a7f>\u001b[0m in \u001b[0;36medits0\u001b[0;34m(word)\u001b[0m\n\u001b[1;32m      5\u001b[0m     \u001b[0;32mfrom\u001b[0m \u001b[0mthe\u001b[0m \u001b[0minput\u001b[0m \u001b[0mword\u001b[0m \u001b[0;34m(\u001b[0m\u001b[0mi\u001b[0m\u001b[0;34m.\u001b[0m\u001b[0me\u001b[0m\u001b[0;34m.\u001b[0m\u001b[0;34m,\u001b[0m \u001b[0mthe\u001b[0m \u001b[0mword\u001b[0m \u001b[0mitself\u001b[0m\u001b[0;34m)\u001b[0m\u001b[0;34m.\u001b[0m\u001b[0;34m\u001b[0m\u001b[0m\n\u001b[1;32m      6\u001b[0m     \"\"\"\n\u001b[0;32m----> 7\u001b[0;31m     \u001b[0;32mreturn\u001b[0m \u001b[0;34m{\u001b[0m\u001b[0mword\u001b[0m\u001b[0;34m}\u001b[0m\u001b[0;34m\u001b[0m\u001b[0m\n\u001b[0m\u001b[1;32m      8\u001b[0m \u001b[0;34m\u001b[0m\u001b[0m\n\u001b[1;32m      9\u001b[0m \u001b[0;32mdef\u001b[0m \u001b[0medits1\u001b[0m\u001b[0;34m(\u001b[0m\u001b[0mword\u001b[0m\u001b[0;34m)\u001b[0m\u001b[0;34m:\u001b[0m\u001b[0;34m\u001b[0m\u001b[0m\n",
      "\u001b[0;31mTypeError\u001b[0m: unhashable type: 'list'"
     ]
    }
   ],
   "source": [
    "# Correct spelling from reviewText tokens\n",
    "sdf = sdf.assign(reviewText_token_list = [[correct(tokens) for tokens in sentence_tokens] for sentence_tokens in sdf.reviewText_token_list])"
   ]
  },
  {
   "cell_type": "code",
   "execution_count": null,
   "metadata": {
    "collapsed": true
   },
   "outputs": [],
   "source": [
    "# Correct spelling from summary tokens\n",
    "sdf = sdf.assign(reviewText_token_list = [[correct(tokens) for tokens in sentence_tokens] for sentence_tokens in sdf.summary_token_list])"
   ]
  },
  {
   "cell_type": "code",
   "execution_count": null,
   "metadata": {
    "collapsed": true
   },
   "outputs": [],
   "source": []
  },
  {
   "cell_type": "code",
   "execution_count": null,
   "metadata": {
    "collapsed": true
   },
   "outputs": [],
   "source": []
  },
  {
   "cell_type": "markdown",
   "metadata": {},
   "source": [
    "### 6. Lemmatization\n",
    "The process of lemmatization is to remove word affixes to get to a base form of the word. The base form is also known as the root word, or the lemma, will always be present in the dictionary."
   ]
  },
  {
   "cell_type": "code",
   "execution_count": null,
   "metadata": {
    "collapsed": true
   },
   "outputs": [],
   "source": [
    "from nltk.stem import WordNetLemmatizer\n",
    "wnl = WordNetLemmatizer()"
   ]
  },
  {
   "cell_type": "code",
   "execution_count": null,
   "metadata": {
    "collapsed": true
   },
   "outputs": [],
   "source": []
  },
  {
   "cell_type": "markdown",
   "metadata": {},
   "source": [
    "## IV. Feature Engeering"
   ]
  },
  {
   "cell_type": "code",
   "execution_count": null,
   "metadata": {
    "collapsed": true
   },
   "outputs": [],
   "source": []
  }
 ],
 "metadata": {
  "kernelspec": {
   "display_name": "Python 3",
   "language": "python",
   "name": "python3"
  },
  "language_info": {
   "codemirror_mode": {
    "name": "ipython",
    "version": 3
   },
   "file_extension": ".py",
   "mimetype": "text/x-python",
   "name": "python",
   "nbconvert_exporter": "python",
   "pygments_lexer": "ipython3",
   "version": "3.6.0"
  }
 },
 "nbformat": 4,
 "nbformat_minor": 2
}
