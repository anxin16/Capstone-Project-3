{
 "cells": [
  {
   "cell_type": "markdown",
   "metadata": {
    "collapsed": true
   },
   "source": [
    "# How many stars will I give? Predicting ratings of Amazon reviews"
   ]
  },
  {
   "cell_type": "markdown",
   "metadata": {},
   "source": [
    "----------------\n",
    "## Purpose\n",
    "Many product reviews (from other platforms than Amazon) are not accompanied by a scale rating system, consisting only of a textual evaluation. In this case, it becomes daunting and time-consuming to compare different products in order to eventually make a choice between them. Therefore, models able to predict the user rating from the text review are critically important. Getting an overall sense of a textual review could in turn improve consumer experience. Also, it can help business to increase sales, and improve the product by understanding customers' needs and pain-points.\n",
    "\n",
    "The purpose of this project is to develop models that are able to predict the user rating from the text review. While our model is built to work with any kind of product, the review dataset provided by Amazon only includes Clothing and Shoes  reviews.\n",
    " \n",
    "## Data-Source\n",
    "Amazon product data:  http://jmcauley.ucsd.edu/data/amazon/\n",
    "\n",
    "## Sample review:\n",
    "    \"reviewerID\": \"A2SUAM1J3GNN3B\",  \n",
    "    \"asin\": \"0000013714\",  \n",
    "    \"reviewerName\": \"J. McDonald\",  \n",
    "    \"helpful\": [2, 3],  \n",
    "    \"reviewText\": \"I bought this for my husband who plays the piano.  He is having a wonderful time playing these old hymns.  The music  is at times hard to read because we think the book was published for singing from more than playing from.  Great purchase though!\",  \n",
    "    \"overall\": 5.0,  \n",
    "    \"summary\": \"Heavenly Highway Hymns\",  \n",
    "    \"unixReviewTime\": 1252800000,  \n",
    "    \"reviewTime\": \"09 13, 2009\"  "
   ]
  },
  {
   "cell_type": "markdown",
   "metadata": {},
   "source": [
    "----------------\n",
    "## I. Preparing Amazon dataset"
   ]
  },
  {
   "cell_type": "code",
   "execution_count": 1,
   "metadata": {
    "collapsed": false
   },
   "outputs": [],
   "source": [
    "##########################################\n",
    "## 1.1 IMPORT DATA IN PANDAS\n",
    "##########################################\n",
    "import pandas as pd\n",
    "import numpy as np\n",
    "\n",
    "review_df = pd.read_json('Amazon_reviews/Clothing_Shoes_and_Jewelry_5.json', orient='records', lines=True)"
   ]
  },
  {
   "cell_type": "code",
   "execution_count": 2,
   "metadata": {
    "collapsed": false,
    "scrolled": true
   },
   "outputs": [
    {
     "name": "stdout",
     "output_type": "stream",
     "text": [
      "Total data: (278677, 9)\n"
     ]
    },
    {
     "data": {
      "text/html": [
       "<div>\n",
       "<table border=\"1\" class=\"dataframe\">\n",
       "  <thead>\n",
       "    <tr style=\"text-align: right;\">\n",
       "      <th></th>\n",
       "      <th>asin</th>\n",
       "      <th>helpful</th>\n",
       "      <th>Rating</th>\n",
       "      <th>reviewText</th>\n",
       "      <th>reviewTime</th>\n",
       "      <th>reviewerID</th>\n",
       "      <th>reviewerName</th>\n",
       "      <th>summary</th>\n",
       "      <th>unixReviewTime</th>\n",
       "    </tr>\n",
       "  </thead>\n",
       "  <tbody>\n",
       "    <tr>\n",
       "      <th>0</th>\n",
       "      <td>0000031887</td>\n",
       "      <td>[0, 0]</td>\n",
       "      <td>5</td>\n",
       "      <td>This is a great tutu and at a really great pri...</td>\n",
       "      <td>02 12, 2011</td>\n",
       "      <td>A1KLRMWW2FWPL4</td>\n",
       "      <td>Amazon Customer \"cameramom\"</td>\n",
       "      <td>Great tutu-  not cheaply made</td>\n",
       "      <td>1297468800</td>\n",
       "    </tr>\n",
       "    <tr>\n",
       "      <th>1</th>\n",
       "      <td>0000031887</td>\n",
       "      <td>[0, 0]</td>\n",
       "      <td>5</td>\n",
       "      <td>I bought this for my 4 yr old daughter for dan...</td>\n",
       "      <td>01 19, 2013</td>\n",
       "      <td>A2G5TCU2WDFZ65</td>\n",
       "      <td>Amazon Customer</td>\n",
       "      <td>Very Cute!!</td>\n",
       "      <td>1358553600</td>\n",
       "    </tr>\n",
       "    <tr>\n",
       "      <th>2</th>\n",
       "      <td>0000031887</td>\n",
       "      <td>[0, 0]</td>\n",
       "      <td>5</td>\n",
       "      <td>What can I say... my daughters have it in oran...</td>\n",
       "      <td>01 4, 2013</td>\n",
       "      <td>A1RLQXYNCMWRWN</td>\n",
       "      <td>Carola</td>\n",
       "      <td>I have buy more than one</td>\n",
       "      <td>1357257600</td>\n",
       "    </tr>\n",
       "    <tr>\n",
       "      <th>3</th>\n",
       "      <td>0000031887</td>\n",
       "      <td>[0, 0]</td>\n",
       "      <td>5</td>\n",
       "      <td>We bought several tutus at once, and they are ...</td>\n",
       "      <td>04 27, 2014</td>\n",
       "      <td>A8U3FAMSJVHS5</td>\n",
       "      <td>Caromcg</td>\n",
       "      <td>Adorable, Sturdy</td>\n",
       "      <td>1398556800</td>\n",
       "    </tr>\n",
       "    <tr>\n",
       "      <th>4</th>\n",
       "      <td>0000031887</td>\n",
       "      <td>[0, 0]</td>\n",
       "      <td>5</td>\n",
       "      <td>Thank you Halo Heaven great product for Little...</td>\n",
       "      <td>03 15, 2014</td>\n",
       "      <td>A3GEOILWLK86XM</td>\n",
       "      <td>CJ</td>\n",
       "      <td>Grammy's Angels Love it</td>\n",
       "      <td>1394841600</td>\n",
       "    </tr>\n",
       "  </tbody>\n",
       "</table>\n",
       "</div>"
      ],
      "text/plain": [
       "         asin helpful  Rating  \\\n",
       "0  0000031887  [0, 0]       5   \n",
       "1  0000031887  [0, 0]       5   \n",
       "2  0000031887  [0, 0]       5   \n",
       "3  0000031887  [0, 0]       5   \n",
       "4  0000031887  [0, 0]       5   \n",
       "\n",
       "                                          reviewText   reviewTime  \\\n",
       "0  This is a great tutu and at a really great pri...  02 12, 2011   \n",
       "1  I bought this for my 4 yr old daughter for dan...  01 19, 2013   \n",
       "2  What can I say... my daughters have it in oran...   01 4, 2013   \n",
       "3  We bought several tutus at once, and they are ...  04 27, 2014   \n",
       "4  Thank you Halo Heaven great product for Little...  03 15, 2014   \n",
       "\n",
       "       reviewerID                 reviewerName                        summary  \\\n",
       "0  A1KLRMWW2FWPL4  Amazon Customer \"cameramom\"  Great tutu-  not cheaply made   \n",
       "1  A2G5TCU2WDFZ65              Amazon Customer                    Very Cute!!   \n",
       "2  A1RLQXYNCMWRWN                       Carola       I have buy more than one   \n",
       "3   A8U3FAMSJVHS5                      Caromcg               Adorable, Sturdy   \n",
       "4  A3GEOILWLK86XM                           CJ        Grammy's Angels Love it   \n",
       "\n",
       "   unixReviewTime  \n",
       "0      1297468800  \n",
       "1      1358553600  \n",
       "2      1357257600  \n",
       "3      1398556800  \n",
       "4      1394841600  "
      ]
     },
     "execution_count": 2,
     "metadata": {},
     "output_type": "execute_result"
    }
   ],
   "source": [
    "##########################################\n",
    "## 1.2 CHECK DATA IN PANDAS\n",
    "##########################################\n",
    "\n",
    "# change column name \n",
    "review_df = review_df.rename(columns={'overall': 'Rating'})\n",
    "\n",
    "print (\"Total data:\", str(review_df.shape))\n",
    "review_df.head()"
   ]
  },
  {
   "cell_type": "markdown",
   "metadata": {
    "collapsed": true
   },
   "source": [
    "## II. Preliminary Analysis"
   ]
  },
  {
   "cell_type": "code",
   "execution_count": 3,
   "metadata": {
    "collapsed": false
   },
   "outputs": [
    {
     "name": "stdout",
     "output_type": "stream",
     "text": [
      "================================================\n",
      "Number of reviews:  278677\n",
      "\n",
      "Number of unique reviewers:  39387\n",
      "Prop of unique reviewers:  0.141\n",
      "\n",
      "Number of unique products:  23033\n",
      "Prop of unique products:  0.083\n",
      "\n",
      "Average rating score:  4.245\n",
      "================================================\n"
     ]
    }
   ],
   "source": [
    "##########################################\n",
    "## 2.1 DESCRIPTIVE STATISTICS\n",
    "##########################################\n",
    "\n",
    "print (\"================================================\")\n",
    "\n",
    "### Total reviews\n",
    "total = len(review_df)\n",
    "print (\"Number of reviews: \",total)\n",
    "print ()\n",
    "\n",
    "### How many unique reviewers?\n",
    "print (\"Number of unique reviewers: \",len(review_df.reviewerID.unique()))\n",
    "reviewer_prop = float(len(review_df.reviewerID.unique())/total)\n",
    "print (\"Prop of unique reviewers: \",round(reviewer_prop,3))\n",
    "print ()\n",
    "\n",
    "### How many unique products?\n",
    "print (\"Number of unique products: \", len(review_df.asin.unique()))\n",
    "product_prop = float(len(review_df.asin.unique())/total)\n",
    "print (\"Prop of unique products: \",round(product_prop,3))\n",
    "print ()\n",
    "\n",
    "### Average star score\n",
    "print (\"Average rating score: \",round(review_df.Rating.mean(),3))\n",
    "\n",
    "print (\"================================================\")"
   ]
  },
  {
   "cell_type": "code",
   "execution_count": 4,
   "metadata": {
    "collapsed": false,
    "scrolled": false
   },
   "outputs": [
    {
     "data": {
      "text/plain": [
       "Rating\n",
       "1     11192\n",
       "2     15463\n",
       "3     30425\n",
       "4     58357\n",
       "5    163240\n",
       "dtype: int64"
      ]
     },
     "execution_count": 4,
     "metadata": {},
     "output_type": "execute_result"
    }
   ],
   "source": [
    "##########################################\n",
    "## 2.2 DISTRIBUTION OF RATING SCORE\n",
    "########################################## \n",
    "\n",
    "%matplotlib inline\n",
    "import matplotlib.pyplot as plt\n",
    "import seaborn as sns\n",
    "\n",
    "class_counts = review_df.groupby('Rating').size()\n",
    "class_counts"
   ]
  },
  {
   "cell_type": "code",
   "execution_count": 5,
   "metadata": {
    "collapsed": false
   },
   "outputs": [
    {
     "data": {
      "text/plain": [
       "(array([0, 1, 2, 3, 4]), <a list of 5 Text xticklabel objects>)"
      ]
     },
     "execution_count": 5,
     "metadata": {},
     "output_type": "execute_result"
    },
    {
     "data": {
      "image/png": "[encoded data removed]",
      "text/plain": [
       "<matplotlib.figure.Figure at 0x7fdfbc28a780>"
      ]
     },
     "metadata": {},
     "output_type": "display_data"
    }
   ],
   "source": [
    "review_df.groupby('Rating').size().plot(kind='bar')\n",
    "plt.title(\"Frequency of Review Rating\")\n",
    "plt.xlabel(\"Rating\")\n",
    "plt.ylabel(\"Number of reviews\")\n",
    "plt.xticks(rotation=0)"
   ]
  },
  {
   "cell_type": "code",
   "execution_count": 6,
   "metadata": {
    "collapsed": false
   },
   "outputs": [
    {
     "data": {
      "text/plain": [
       "(array([0, 1, 2, 3, 4]), <a list of 5 Text xticklabel objects>)"
      ]
     },
     "execution_count": 6,
     "metadata": {},
     "output_type": "execute_result"
    },
    {
     "data": {
      "image/png": "[encoded data removed]",
      "text/plain": [
       "<matplotlib.figure.Figure at 0x7fdfc5f019e8>"
      ]
     },
     "metadata": {},
     "output_type": "display_data"
    }
   ],
   "source": [
    "##########################################\n",
    "## 2.3 DISTRIBUTION OF RATING PROPOTION\n",
    "########################################## \n",
    "\n",
    "(review_df.groupby('Rating').size()/total).plot(kind='bar')\n",
    "plt.title(\"Propotion of Review Rating\")\n",
    "plt.xlabel(\"Rating\")\n",
    "plt.ylabel(\"Propotion of reviews\")\n",
    "plt.xticks(rotation=0)"
   ]
  },
  {
   "cell_type": "code",
   "execution_count": 8,
   "metadata": {
    "collapsed": false
   },
   "outputs": [
    {
     "name": "stdout",
     "output_type": "stream",
     "text": [
      "30000\n"
     ]
    }
   ],
   "source": [
    "######################\n",
    "## 2.4 SUBSET DATA\n",
    "######################\n",
    "\n",
    "from datetime import datetime\n",
    "def toDate(dt_str):\n",
    "    return datetime.strptime(dt_str, '%m %d, %Y')\n",
    "\n",
    "## select first 30,000 review\n",
    "sub_df = review_df[0:30000]\n",
    "sub_total = len(sub_df)\n",
    "print (sub_total)"
   ]
  },
  {
   "cell_type": "code",
   "execution_count": 9,
   "metadata": {
    "collapsed": false
   },
   "outputs": [
    {
     "data": {
      "text/plain": [
       "Rating\n",
       "1     1070\n",
       "2     1541\n",
       "3     2842\n",
       "4     6042\n",
       "5    18505\n",
       "dtype: int64"
      ]
     },
     "execution_count": 9,
     "metadata": {},
     "output_type": "execute_result"
    }
   ],
   "source": [
    "class_counts = sub_df.groupby('Rating').size()\n",
    "class_counts"
   ]
  },
  {
   "cell_type": "code",
   "execution_count": 10,
   "metadata": {
    "collapsed": false
   },
   "outputs": [
    {
     "data": {
      "text/plain": [
       "(array([0, 1, 2, 3, 4]), <a list of 5 Text xticklabel objects>)"
      ]
     },
     "execution_count": 10,
     "metadata": {},
     "output_type": "execute_result"
    },
    {
     "data": {
      "image/png": "[encoded data removed]",
      "text/plain": [
       "<matplotlib.figure.Figure at 0x7fdfbc0a0630>"
      ]
     },
     "metadata": {},
     "output_type": "display_data"
    }
   ],
   "source": [
    "sub_df.groupby('Rating').size().plot(kind='bar')\n",
    "plt.title(\"Frequency of Review Rating\")\n",
    "plt.xlabel(\"Rating\")\n",
    "plt.ylabel(\"Number of reviews\")\n",
    "plt.xticks(rotation=0)"
   ]
  },
  {
   "cell_type": "code",
   "execution_count": 11,
   "metadata": {
    "collapsed": false
   },
   "outputs": [
    {
     "data": {
      "text/plain": [
       "(array([0, 1, 2, 3, 4]), <a list of 5 Text xticklabel objects>)"
      ]
     },
     "execution_count": 11,
     "metadata": {},
     "output_type": "execute_result"
    },
    {
     "data": {
      "image/png": "[encoded data removed]",
      "text/plain": [
       "<matplotlib.figure.Figure at 0x7fdfbc03d240>"
      ]
     },
     "metadata": {},
     "output_type": "display_data"
    }
   ],
   "source": [
    "(sub_df.groupby('Rating').size()/sub_total).plot(kind='bar')\n",
    "plt.title(\"Propotion of Review Rating\")\n",
    "plt.xlabel(\"Rating\")\n",
    "plt.ylabel(\"Propotion of reviews\")\n",
    "plt.xticks(rotation=0)"
   ]
  },
  {
   "cell_type": "markdown",
   "metadata": {},
   "source": [
    "## III. Pre-processing —— Text Normalization (Text Wrangling)\n",
    "Text normalization is defined as a process that consists of a series of steps that should be followed to wrangle, clean, and standardize textual data into a form that\n",
    "could be consumed by other NLP and analytics systems and applications as input. Besides tokenization, various other techniques include cleaning text, case conversion, correcting spellings,\n",
    "removing stopwords and other unnecessary terms, stemming, and lemmatization. Text normalization is also often called text cleansing or wrangling.  \n",
    "\n",
    "Below are various techniques used in the process of text normalization:\n",
    "* __Cleaning Text__\n",
    "* __Tokenizing Text__\n",
    "* __Removing Special Characters__\n",
    "* __Expanding Contractions__\n",
    "* __Case Conversions__\n",
    "* __Removing Stopwords__\n",
    "* __Correcting Words__\n",
    "* __Stemming__\n",
    "* __Lemmatization__"
   ]
  },
  {
   "cell_type": "code",
   "execution_count": 12,
   "metadata": {
    "collapsed": true
   },
   "outputs": [],
   "source": [
    "import nltk\n",
    "import re\n",
    "import string"
   ]
  },
  {
   "cell_type": "code",
   "execution_count": 13,
   "metadata": {
    "collapsed": false
   },
   "outputs": [
    {
     "data": {
      "text/html": [
       "<div>\n",
       "<table border=\"1\" class=\"dataframe\">\n",
       "  <thead>\n",
       "    <tr style=\"text-align: right;\">\n",
       "      <th></th>\n",
       "      <th>asin</th>\n",
       "      <th>helpful</th>\n",
       "      <th>Rating</th>\n",
       "      <th>reviewText</th>\n",
       "      <th>reviewTime</th>\n",
       "      <th>reviewerID</th>\n",
       "      <th>reviewerName</th>\n",
       "      <th>summary</th>\n",
       "      <th>unixReviewTime</th>\n",
       "    </tr>\n",
       "  </thead>\n",
       "  <tbody>\n",
       "    <tr>\n",
       "      <th>0</th>\n",
       "      <td>0000031887</td>\n",
       "      <td>[0, 0]</td>\n",
       "      <td>5</td>\n",
       "      <td>This is a great tutu and at a really great pri...</td>\n",
       "      <td>02 12, 2011</td>\n",
       "      <td>A1KLRMWW2FWPL4</td>\n",
       "      <td>Amazon Customer \"cameramom\"</td>\n",
       "      <td>Great tutu-  not cheaply made</td>\n",
       "      <td>1297468800</td>\n",
       "    </tr>\n",
       "    <tr>\n",
       "      <th>1</th>\n",
       "      <td>0000031887</td>\n",
       "      <td>[0, 0]</td>\n",
       "      <td>5</td>\n",
       "      <td>I bought this for my 4 yr old daughter for dan...</td>\n",
       "      <td>01 19, 2013</td>\n",
       "      <td>A2G5TCU2WDFZ65</td>\n",
       "      <td>Amazon Customer</td>\n",
       "      <td>Very Cute!!</td>\n",
       "      <td>1358553600</td>\n",
       "    </tr>\n",
       "    <tr>\n",
       "      <th>2</th>\n",
       "      <td>0000031887</td>\n",
       "      <td>[0, 0]</td>\n",
       "      <td>5</td>\n",
       "      <td>What can I say... my daughters have it in oran...</td>\n",
       "      <td>01 4, 2013</td>\n",
       "      <td>A1RLQXYNCMWRWN</td>\n",
       "      <td>Carola</td>\n",
       "      <td>I have buy more than one</td>\n",
       "      <td>1357257600</td>\n",
       "    </tr>\n",
       "    <tr>\n",
       "      <th>3</th>\n",
       "      <td>0000031887</td>\n",
       "      <td>[0, 0]</td>\n",
       "      <td>5</td>\n",
       "      <td>We bought several tutus at once, and they are ...</td>\n",
       "      <td>04 27, 2014</td>\n",
       "      <td>A8U3FAMSJVHS5</td>\n",
       "      <td>Caromcg</td>\n",
       "      <td>Adorable, Sturdy</td>\n",
       "      <td>1398556800</td>\n",
       "    </tr>\n",
       "    <tr>\n",
       "      <th>4</th>\n",
       "      <td>0000031887</td>\n",
       "      <td>[0, 0]</td>\n",
       "      <td>5</td>\n",
       "      <td>Thank you Halo Heaven great product for Little...</td>\n",
       "      <td>03 15, 2014</td>\n",
       "      <td>A3GEOILWLK86XM</td>\n",
       "      <td>CJ</td>\n",
       "      <td>Grammy's Angels Love it</td>\n",
       "      <td>1394841600</td>\n",
       "    </tr>\n",
       "  </tbody>\n",
       "</table>\n",
       "</div>"
      ],
      "text/plain": [
       "         asin helpful  Rating  \\\n",
       "0  0000031887  [0, 0]       5   \n",
       "1  0000031887  [0, 0]       5   \n",
       "2  0000031887  [0, 0]       5   \n",
       "3  0000031887  [0, 0]       5   \n",
       "4  0000031887  [0, 0]       5   \n",
       "\n",
       "                                          reviewText   reviewTime  \\\n",
       "0  This is a great tutu and at a really great pri...  02 12, 2011   \n",
       "1  I bought this for my 4 yr old daughter for dan...  01 19, 2013   \n",
       "2  What can I say... my daughters have it in oran...   01 4, 2013   \n",
       "3  We bought several tutus at once, and they are ...  04 27, 2014   \n",
       "4  Thank you Halo Heaven great product for Little...  03 15, 2014   \n",
       "\n",
       "       reviewerID                 reviewerName                        summary  \\\n",
       "0  A1KLRMWW2FWPL4  Amazon Customer \"cameramom\"  Great tutu-  not cheaply made   \n",
       "1  A2G5TCU2WDFZ65              Amazon Customer                    Very Cute!!   \n",
       "2  A1RLQXYNCMWRWN                       Carola       I have buy more than one   \n",
       "3   A8U3FAMSJVHS5                      Caromcg               Adorable, Sturdy   \n",
       "4  A3GEOILWLK86XM                           CJ        Grammy's Angels Love it   \n",
       "\n",
       "   unixReviewTime  \n",
       "0      1297468800  \n",
       "1      1358553600  \n",
       "2      1357257600  \n",
       "3      1398556800  \n",
       "4      1394841600  "
      ]
     },
     "execution_count": 13,
     "metadata": {},
     "output_type": "execute_result"
    }
   ],
   "source": [
    "sdf = sub_df.copy()\n",
    "sdf.index = range(sub_total)\n",
    "sdf.head()"
   ]
  },
  {
   "cell_type": "markdown",
   "metadata": {},
   "source": [
    "### 1. Expanding Contractions\n",
    "Contractions are shortened version of words or syllables. They exist in either written or spoken forms. Shortened versions of existing words are created by removing specific letters and sounds. In case of English contractions, they are often created by removing one of the vowels from the word. \n",
    "\n",
    "By nature, contractions do pose a problem for NLP and text analytics because, to start with, we have a special apostrophe character in the word. Ideally, we can have a proper mapping for contractions and their corresponding expansions and then use it to expand all the contractions in our text. "
   ]
  },
  {
   "cell_type": "code",
   "execution_count": 14,
   "metadata": {
    "collapsed": true
   },
   "outputs": [],
   "source": [
    "from contractions import CONTRACTION_MAP\n",
    "\n",
    "# Define function to expand contractions\n",
    "def expand_contractions(text):\n",
    "    contractions_pattern = re.compile('({})'.format('|'.join(CONTRACTION_MAP.keys())),flags=re.IGNORECASE|re.DOTALL)\n",
    "    def expand_match(contraction):\n",
    "        match = contraction.group(0)\n",
    "        first_char = match[0]\n",
    "        expanded_contraction = CONTRACTION_MAP.get(match)\\\n",
    "                        if CONTRACTION_MAP.get(match)\\\n",
    "                        else CONTRACTION_MAP.get(match.lower())\n",
    "        expanded_contraction = first_char+expanded_contraction[1:]\n",
    "        return expanded_contraction\n",
    "    \n",
    "    expanded_text = contractions_pattern.sub(expand_match, text)\n",
    "    expanded_text = re.sub(\"'\", \"\", expanded_text)\n",
    "    return expanded_text"
   ]
  },
  {
   "cell_type": "markdown",
   "metadata": {},
   "source": [
    "### 2. Removing Special Characters\n",
    "One important task in text normalization involves removing unnecessary and *special characters*. These may be special symbols or even punctuation that occurs in sentences. This step is often performed before or after tokenization. The main reason for doing so is because often punctuation or special characters do not have much significance when we analyze the text and utilize it for extracting features or information based on NLP and ML."
   ]
  },
  {
   "cell_type": "code",
   "execution_count": 15,
   "metadata": {
    "collapsed": true
   },
   "outputs": [],
   "source": [
    "# Define the function to remove special characters\n",
    "def remove_characters(text):\n",
    "    text = text.strip()\n",
    "    PATTERN = '[^a-zA-Z ]' # only extract alpha characters\n",
    "    filtered_text = re.sub(PATTERN, '', text)\n",
    "    return filtered_text"
   ]
  },
  {
   "cell_type": "markdown",
   "metadata": {},
   "source": [
    "### 3. Tokenizing Text\n",
    "Tokenization can be defined as the process of breaking down or splitting textual data into smaller meaningful components called tokens.  \n",
    "\n",
    "**Sentence tokenization** is the process of splitting a text corpus into sentences that act as the first level of tokens which the corpus is comprised of. This is also known as sentence segmentation , because we try to segment the text into meaningful sentences.  \n",
    "\n",
    "**Word tokenization** is the process of splitting or segmenting sentences into their constituent words. A sentence is a collection of words, and with tokenization we essentially split a sentence into a list of words that can be used to reconstruct the sentence.  "
   ]
  },
  {
   "cell_type": "code",
   "execution_count": 16,
   "metadata": {
    "collapsed": false
   },
   "outputs": [],
   "source": [
    "# Define the tokenization function\n",
    "def tokenize_text(text):\n",
    "    word_tokens = nltk.word_tokenize(text)\n",
    "    tokens = [token.strip() for token in word_tokens]\n",
    "    return tokens"
   ]
  },
  {
   "cell_type": "markdown",
   "metadata": {},
   "source": [
    "### 4. Removing Stopwords\n",
    "*Stopwords* are words that have little or no significance. They are usually removed from text during processing so as to retain words having maximum significance and context. Stopwords are usually words that end up occurring the most if you aggregated any corpus of text based on singular tokens and checked their frequencies. Words like a, the , me , and so on are stopwords."
   ]
  },
  {
   "cell_type": "code",
   "execution_count": 17,
   "metadata": {
    "collapsed": true
   },
   "outputs": [],
   "source": [
    "from nltk.corpus import stopwords\n",
    "# In Python, searching a set is much faster than searching a list, \n",
    "# so convert the stop words to a set\n",
    "stopword_list = set(stopwords.words(\"english\"))\n",
    "\n",
    "# Define function to remove stopwords\n",
    "def remove_stopwords(tokens):\n",
    "    filtered_tokens = [token for token in tokens if token not in stopword_list]\n",
    "    return filtered_tokens"
   ]
  },
  {
   "cell_type": "markdown",
   "metadata": {},
   "source": [
    "### 5. Correcting Words\n",
    "One of the main challenges faced in text normalization is the presence of incorrect words in the text. The definition of incorrect here covers words that have spelling mistakes as well as words with several letters repeated that do not contribute much to its overall significance."
   ]
  },
  {
   "cell_type": "markdown",
   "metadata": {},
   "source": [
    "**5.1 Correcting Repeating Characters**"
   ]
  },
  {
   "cell_type": "code",
   "execution_count": 18,
   "metadata": {
    "collapsed": true
   },
   "outputs": [],
   "source": [
    "from nltk.corpus import wordnet\n",
    "\n",
    "# Define function to remove repeated characters\n",
    "def remove_repeated_characters(tokens):\n",
    "    repeat_pattern = re.compile(r'(\\w*)(\\w)\\2(\\w*)')\n",
    "    match_substitution = r'\\1\\2\\3'\n",
    "    def replace(old_word):\n",
    "        if wordnet.synsets(old_word):\n",
    "            return old_word\n",
    "        new_word = repeat_pattern.sub(match_substitution, old_word)\n",
    "        return replace(new_word) if new_word != old_word else new_word\n",
    "\n",
    "    correct_tokens = [replace(word) for word in tokens]\n",
    "    return correct_tokens"
   ]
  },
  {
   "cell_type": "markdown",
   "metadata": {},
   "source": [
    "**5.2 Correcting Spellings**"
   ]
  },
  {
   "cell_type": "code",
   "execution_count": 19,
   "metadata": {
    "collapsed": true
   },
   "outputs": [],
   "source": [
    "from collections import Counter\n",
    "\n",
    "# Generate a map of frequently occurring words in English and their counts\n",
    "\"\"\"\n",
    "The input corpus we use is a file containing several books from the Gutenberg corpus and also \n",
    "a list of most frequent words from Wiktionary and the British National Corpus. You can find \n",
    "the file under the name big.txt or download it from http://norvig.com/big.txt and use it.\n",
    "\"\"\"\n",
    "def tokens(text):\n",
    "    \"\"\"\n",
    "    Get all words from the corpus\n",
    "    \"\"\"\n",
    "    return re.findall('[a-z]+', text.lower())\n",
    "\n",
    "WORDS = tokens(open('big.txt').read())\n",
    "WORD_COUNTS = Counter(WORDS)"
   ]
  },
  {
   "cell_type": "code",
   "execution_count": 20,
   "metadata": {
    "collapsed": true
   },
   "outputs": [],
   "source": [
    "# Define functions that compute sets of words that are one and two edits away from input word.\n",
    "def edits1(word):\n",
    "    \"All edits that are one edit away from `word`.\"\n",
    "    letters    = 'abcdefghijklmnopqrstuvwxyz'\n",
    "    splits     = [(word[:i], word[i:])    for i in range(len(word) + 1)]\n",
    "    deletes    = [L + R[1:]               for L, R in splits if R]\n",
    "    transposes = [L + R[1] + R[0] + R[2:] for L, R in splits if len(R)>1]\n",
    "    replaces   = [L + c + R[1:]           for L, R in splits if R for c in letters]\n",
    "    inserts    = [L + c + R               for L, R in splits for c in letters]\n",
    "    return set(deletes + transposes + replaces + inserts)\n",
    "\n",
    "def edits2(word): \n",
    "    \"All edits that are two edits away from `word`.\"\n",
    "    return (e2 for e1 in edits1(word) for e2 in edits1(e1))"
   ]
  },
  {
   "cell_type": "code",
   "execution_count": 21,
   "metadata": {
    "collapsed": true
   },
   "outputs": [],
   "source": [
    "# Define function that returns a subset of words from our candidate set of words obtained from \n",
    "# the edit functions, based on whether they occur in our vocabulary dictionary WORD_COUNTS.\n",
    "# This gives us a list of valid words from our set of candidate words.\n",
    "def known(words): \n",
    "    \"The subset of `words` that appear in the dictionary of WORD_COUNTS.\"\n",
    "    return set(w for w in words if w in WORD_COUNTS)"
   ]
  },
  {
   "cell_type": "code",
   "execution_count": 22,
   "metadata": {
    "collapsed": true
   },
   "outputs": [],
   "source": [
    "# Define function to correct words\n",
    "def correct(words):\n",
    "    # Get the best correct spellings for the input words\n",
    "    def candidates(word): \n",
    "        # Generate possible spelling corrections for word.\n",
    "        # Priority is for edit distance 0, then 1, then 2, else defaults to the input word itself.\n",
    "        candidates = known([word]) or known(edits1(word)) or known(edits2(word)) or [word]\n",
    "        return candidates\n",
    "    \n",
    "    corrected_words = [max(candidates(word), key=WORD_COUNTS.get) for word in words]\n",
    "    return corrected_words"
   ]
  },
  {
   "cell_type": "markdown",
   "metadata": {},
   "source": [
    "### 6. Lemmatization\n",
    "The process of lemmatization is to remove word affixes to get to a base form of the word. The base form is also known as the root word, or the lemma, will always be present in the dictionary."
   ]
  },
  {
   "cell_type": "code",
   "execution_count": 23,
   "metadata": {
    "collapsed": true
   },
   "outputs": [],
   "source": [
    "import spacy\n",
    "nlp = spacy.load(\"en\")"
   ]
  },
  {
   "cell_type": "code",
   "execution_count": 24,
   "metadata": {
    "collapsed": true
   },
   "outputs": [],
   "source": [
    "# Define function for Lemmatization\n",
    "def Lemmatize_tokens(tokens):\n",
    "    doc = ' '.join(tokens)\n",
    "    Lemmatized_tokens = [token.lemma_ for token in nlp(doc)]\n",
    "    return Lemmatized_tokens"
   ]
  },
  {
   "cell_type": "markdown",
   "metadata": {},
   "source": [
    "### 7. Text Normalization"
   ]
  },
  {
   "cell_type": "code",
   "execution_count": 25,
   "metadata": {
    "collapsed": true
   },
   "outputs": [],
   "source": [
    "def normalize_corpus(corpus):\n",
    "    normalized_corpus = []    \n",
    "    for text in corpus:\n",
    "        text = text.lower()\n",
    "        text = expand_contractions(text)\n",
    "        text = remove_characters(text)\n",
    "        tokens = tokenize_text(text)\n",
    "        tokens = remove_stopwords(tokens)\n",
    "        tokens = remove_repeated_characters(tokens)\n",
    "        tokens = correct(tokens)\n",
    "        tokens = Lemmatize_tokens(tokens)\n",
    "        text = ' '.join(tokens)\n",
    "        normalized_corpus.append(text)\n",
    "                    \n",
    "    return normalized_corpus"
   ]
  },
  {
   "cell_type": "code",
   "execution_count": 26,
   "metadata": {
    "collapsed": true
   },
   "outputs": [],
   "source": [
    "# Normalize reviewText\n",
    "sdf = sdf.assign(Norm_reviewText = normalize_corpus(sdf.reviewText))"
   ]
  },
  {
   "cell_type": "code",
   "execution_count": 27,
   "metadata": {
    "collapsed": false,
    "scrolled": true
   },
   "outputs": [
    {
     "data": {
      "text/html": [
       "<div>\n",
       "<table border=\"1\" class=\"dataframe\">\n",
       "  <thead>\n",
       "    <tr style=\"text-align: right;\">\n",
       "      <th></th>\n",
       "      <th>asin</th>\n",
       "      <th>helpful</th>\n",
       "      <th>Rating</th>\n",
       "      <th>reviewText</th>\n",
       "      <th>reviewTime</th>\n",
       "      <th>reviewerID</th>\n",
       "      <th>reviewerName</th>\n",
       "      <th>summary</th>\n",
       "      <th>unixReviewTime</th>\n",
       "      <th>Norm_reviewText</th>\n",
       "    </tr>\n",
       "  </thead>\n",
       "  <tbody>\n",
       "    <tr>\n",
       "      <th>0</th>\n",
       "      <td>0000031887</td>\n",
       "      <td>[0, 0]</td>\n",
       "      <td>5</td>\n",
       "      <td>This is a great tutu and at a really great pri...</td>\n",
       "      <td>02 12, 2011</td>\n",
       "      <td>A1KLRMWW2FWPL4</td>\n",
       "      <td>Amazon Customer \"cameramom\"</td>\n",
       "      <td>Great tutu-  not cheaply made</td>\n",
       "      <td>1297468800</td>\n",
       "      <td>great tut really great price look cheap glad l...</td>\n",
       "    </tr>\n",
       "    <tr>\n",
       "      <th>1</th>\n",
       "      <td>0000031887</td>\n",
       "      <td>[0, 0]</td>\n",
       "      <td>5</td>\n",
       "      <td>I bought this for my 4 yr old daughter for dan...</td>\n",
       "      <td>01 19, 2013</td>\n",
       "      <td>A2G5TCU2WDFZ65</td>\n",
       "      <td>Amazon Customer</td>\n",
       "      <td>Very Cute!!</td>\n",
       "      <td>1358553600</td>\n",
       "      <td>buy or old daughter dance class wear today fir...</td>\n",
       "    </tr>\n",
       "    <tr>\n",
       "      <th>2</th>\n",
       "      <td>0000031887</td>\n",
       "      <td>[0, 0]</td>\n",
       "      <td>5</td>\n",
       "      <td>What can I say... my daughters have it in oran...</td>\n",
       "      <td>01 4, 2013</td>\n",
       "      <td>A1RLQXYNCMWRWN</td>\n",
       "      <td>Carola</td>\n",
       "      <td>I have buy more than one</td>\n",
       "      <td>1357257600</td>\n",
       "      <td>say daughter orange black white pink thinking ...</td>\n",
       "    </tr>\n",
       "    <tr>\n",
       "      <th>3</th>\n",
       "      <td>0000031887</td>\n",
       "      <td>[0, 0]</td>\n",
       "      <td>5</td>\n",
       "      <td>We bought several tutus at once, and they are ...</td>\n",
       "      <td>04 27, 2014</td>\n",
       "      <td>A8U3FAMSJVHS5</td>\n",
       "      <td>Caromcg</td>\n",
       "      <td>Adorable, Sturdy</td>\n",
       "      <td>1398556800</td>\n",
       "      <td>buy several titus get high review sturdy seemi...</td>\n",
       "    </tr>\n",
       "    <tr>\n",
       "      <th>4</th>\n",
       "      <td>0000031887</td>\n",
       "      <td>[0, 0]</td>\n",
       "      <td>5</td>\n",
       "      <td>Thank you Halo Heaven great product for Little...</td>\n",
       "      <td>03 15, 2014</td>\n",
       "      <td>A3GEOILWLK86XM</td>\n",
       "      <td>CJ</td>\n",
       "      <td>Grammy's Angels Love it</td>\n",
       "      <td>1394841600</td>\n",
       "      <td>thank halo heaven great product little girl gr...</td>\n",
       "    </tr>\n",
       "  </tbody>\n",
       "</table>\n",
       "</div>"
      ],
      "text/plain": [
       "         asin helpful  Rating  \\\n",
       "0  0000031887  [0, 0]       5   \n",
       "1  0000031887  [0, 0]       5   \n",
       "2  0000031887  [0, 0]       5   \n",
       "3  0000031887  [0, 0]       5   \n",
       "4  0000031887  [0, 0]       5   \n",
       "\n",
       "                                          reviewText   reviewTime  \\\n",
       "0  This is a great tutu and at a really great pri...  02 12, 2011   \n",
       "1  I bought this for my 4 yr old daughter for dan...  01 19, 2013   \n",
       "2  What can I say... my daughters have it in oran...   01 4, 2013   \n",
       "3  We bought several tutus at once, and they are ...  04 27, 2014   \n",
       "4  Thank you Halo Heaven great product for Little...  03 15, 2014   \n",
       "\n",
       "       reviewerID                 reviewerName                        summary  \\\n",
       "0  A1KLRMWW2FWPL4  Amazon Customer \"cameramom\"  Great tutu-  not cheaply made   \n",
       "1  A2G5TCU2WDFZ65              Amazon Customer                    Very Cute!!   \n",
       "2  A1RLQXYNCMWRWN                       Carola       I have buy more than one   \n",
       "3   A8U3FAMSJVHS5                      Caromcg               Adorable, Sturdy   \n",
       "4  A3GEOILWLK86XM                           CJ        Grammy's Angels Love it   \n",
       "\n",
       "   unixReviewTime                                    Norm_reviewText  \n",
       "0      1297468800  great tut really great price look cheap glad l...  \n",
       "1      1358553600  buy or old daughter dance class wear today fir...  \n",
       "2      1357257600  say daughter orange black white pink thinking ...  \n",
       "3      1398556800  buy several titus get high review sturdy seemi...  \n",
       "4      1394841600  thank halo heaven great product little girl gr...  "
      ]
     },
     "execution_count": 27,
     "metadata": {},
     "output_type": "execute_result"
    }
   ],
   "source": [
    "sdf.head()"
   ]
  },
  {
   "cell_type": "code",
   "execution_count": 28,
   "metadata": {
    "collapsed": true
   },
   "outputs": [],
   "source": [
    "# Save data sets to files\n",
    "sdf.to_csv('normalized_sub-corpus-30k.csv', index=False)"
   ]
  },
  {
   "cell_type": "markdown",
   "metadata": {},
   "source": [
    "## IV. Feature Engineering"
   ]
  },
  {
   "cell_type": "markdown",
   "metadata": {
    "collapsed": true
   },
   "source": [
    "### 1. Bag of Words Model"
   ]
  },
  {
   "cell_type": "code",
   "execution_count": 29,
   "metadata": {
    "collapsed": true
   },
   "outputs": [],
   "source": [
    "from sklearn.feature_extraction.text import CountVectorizer\n",
    "\n",
    "def bow_extractor(corpus, ngram_range=(1,1)):\n",
    "    vectorizer = CountVectorizer(min_df=1, ngram_range=ngram_range, max_features = 5000)\n",
    "    features = vectorizer.fit_transform(corpus)\n",
    "    return vectorizer, features"
   ]
  },
  {
   "cell_type": "markdown",
   "metadata": {},
   "source": [
    "### 2. TF-IDF Model \n",
    "TF-IDF stands for Term Frequency-Inverse Document Frequency, a combination of two metrics: term frequency and inverse document frequency."
   ]
  },
  {
   "cell_type": "code",
   "execution_count": 30,
   "metadata": {
    "collapsed": true
   },
   "outputs": [],
   "source": [
    "from sklearn.feature_extraction.text import TfidfVectorizer\n",
    "\n",
    "# Define function to directly compute the tfidf-based feature vectors for documents from the raw documents.\n",
    "def tfidf_extractor(corpus, ngram_range=(1,1)):\n",
    "    vectorizer = TfidfVectorizer(min_df=1,\n",
    "                                 norm='l2',\n",
    "                                 smooth_idf=True,\n",
    "                                 use_idf=True,\n",
    "                                 ngram_range=ngram_range,\n",
    "                                 max_features = 5000)\n",
    "    features = vectorizer.fit_transform(corpus)\n",
    "    return vectorizer, features"
   ]
  },
  {
   "cell_type": "markdown",
   "metadata": {},
   "source": [
    "### 3. Averaged Word Vectors"
   ]
  },
  {
   "cell_type": "code",
   "execution_count": 31,
   "metadata": {
    "collapsed": true
   },
   "outputs": [],
   "source": [
    "import numpy as np    \n",
    "\n",
    "# Define function to average word vectors for a text document\n",
    "def average_word_vectors(words, model, vocabulary, num_features):\n",
    "    \n",
    "    feature_vector = np.zeros((num_features,),dtype=\"float64\")\n",
    "    nwords = 0.\n",
    "    \n",
    "    for word in words:\n",
    "        if word in vocabulary: \n",
    "            nwords = nwords + 1.\n",
    "            feature_vector = np.add(feature_vector, model[word])\n",
    "    \n",
    "    if nwords:\n",
    "        feature_vector = np.divide(feature_vector, nwords)\n",
    "        \n",
    "    return feature_vector"
   ]
  },
  {
   "cell_type": "code",
   "execution_count": 32,
   "metadata": {
    "collapsed": true
   },
   "outputs": [],
   "source": [
    "# Generalize above function for a corpus of documents  \n",
    "def averaged_word_vectorizer(corpus, model, num_features):\n",
    "    vocabulary = set(model.wv.index2word)\n",
    "    features = [average_word_vectors(sentence, model, vocabulary, num_features) for sentence in corpus]\n",
    "    return np.array(features)"
   ]
  },
  {
   "cell_type": "markdown",
   "metadata": {},
   "source": [
    "### 4. TF-IDF Weighted Averaged Word Vectors"
   ]
  },
  {
   "cell_type": "code",
   "execution_count": 33,
   "metadata": {
    "collapsed": true
   },
   "outputs": [],
   "source": [
    "# Define function to compute tfidf weighted averaged word vector for a document\n",
    "def tfidf_wtd_avg_word_vectors(words, tfidf_vector, tfidf_vocabulary, model, num_features):\n",
    "    \n",
    "    word_tfidfs = [tfidf_vector[0, tfidf_vocabulary.get(word)] \n",
    "                   if tfidf_vocabulary.get(word) \n",
    "                   else 0 for word in words]    \n",
    "    word_tfidf_map = {word:tfidf_val for word, tfidf_val in zip(words, word_tfidfs)}\n",
    "    \n",
    "    feature_vector = np.zeros((num_features,),dtype=\"float64\")\n",
    "    vocabulary = set(model.wv.index2word)\n",
    "    wts = 0.\n",
    "    for word in words:\n",
    "        if word in vocabulary: \n",
    "            word_vector = model[word]\n",
    "            weighted_word_vector = word_tfidf_map[word] * word_vector\n",
    "            wts = wts + word_tfidf_map[word]\n",
    "            feature_vector = np.add(feature_vector, weighted_word_vector)\n",
    "    if wts:\n",
    "        feature_vector = np.divide(feature_vector, wts)\n",
    "        \n",
    "    return feature_vector"
   ]
  },
  {
   "cell_type": "code",
   "execution_count": 34,
   "metadata": {
    "collapsed": true
   },
   "outputs": [],
   "source": [
    "# Generalize above function for a corpus of documents\n",
    "def tfidf_weighted_averaged_word_vectorizer(corpus, tfidf_vectors, \n",
    "                                   tfidf_vocabulary, model, num_features):\n",
    "                                       \n",
    "    docs_tfidfs = [(doc, doc_tfidf) \n",
    "                   for doc, doc_tfidf \n",
    "                   in zip(corpus, tfidf_vectors)]\n",
    "    features = [tfidf_wtd_avg_word_vectors(tokenized_sentence, tfidf, tfidf_vocabulary,\n",
    "                                   model, num_features)\n",
    "                    for tokenized_sentence, tfidf in docs_tfidfs]\n",
    "    return np.array(features) "
   ]
  },
  {
   "cell_type": "markdown",
   "metadata": {},
   "source": [
    "## V. Machine Learning"
   ]
  },
  {
   "cell_type": "markdown",
   "metadata": {},
   "source": [
    "### 1. Split data into train and test sets"
   ]
  },
  {
   "cell_type": "code",
   "execution_count": 35,
   "metadata": {
    "collapsed": false
   },
   "outputs": [
    {
     "name": "stdout",
     "output_type": "stream",
     "text": [
      "(24000,)\n",
      "(6000,)\n",
      "(24000,)\n",
      "(6000,)\n"
     ]
    }
   ],
   "source": [
    "from sklearn.model_selection import train_test_split\n",
    "\n",
    "X = sdf.Norm_reviewText\n",
    "Y = sdf.Rating\n",
    "train_X, test_X, train_Y, test_Y = train_test_split(X, Y, test_size=0.2, random_state=42, stratify=Y)\n",
    "print(train_X.shape)\n",
    "print(test_X.shape)\n",
    "print(train_Y.shape)\n",
    "print(test_Y.shape)"
   ]
  },
  {
   "cell_type": "code",
   "execution_count": 36,
   "metadata": {
    "collapsed": false
   },
   "outputs": [],
   "source": [
    "train_corpus, test_corpus = train_X.values.astype('U'), test_X.values.astype('U')\n",
    "train_labels, test_labels = train_Y, test_Y"
   ]
  },
  {
   "cell_type": "markdown",
   "metadata": {},
   "source": [
    "### 2. Feature Extraction for train and test sets"
   ]
  },
  {
   "cell_type": "code",
   "execution_count": 37,
   "metadata": {
    "collapsed": true
   },
   "outputs": [],
   "source": [
    "# Define function to display feature names\n",
    "def display_features(features, feature_names):\n",
    "    df = pd.DataFrame(data=features,\n",
    "                      columns=feature_names)\n",
    "    print (df)"
   ]
  },
  {
   "cell_type": "code",
   "execution_count": 38,
   "metadata": {
    "collapsed": true
   },
   "outputs": [],
   "source": [
    "feature_set = []"
   ]
  },
  {
   "cell_type": "markdown",
   "metadata": {},
   "source": [
    "* __Bag of Words Features__"
   ]
  },
  {
   "cell_type": "code",
   "execution_count": 39,
   "metadata": {
    "collapsed": false
   },
   "outputs": [],
   "source": [
    "# bag of words features\n",
    "bow_vectorizer, bow_train_features = bow_extractor(train_corpus)  \n",
    "bow_test_features = bow_vectorizer.transform(test_corpus) \n",
    "feature_set.append(('Bag of words features', bow_train_features, bow_test_features))"
   ]
  },
  {
   "cell_type": "code",
   "execution_count": 40,
   "metadata": {
    "collapsed": false
   },
   "outputs": [
    {
     "name": "stdout",
     "output_type": "stream",
     "text": [
      "['ab', 'abdominal', 'ability', 'able', 'abolish', 'about', 'abrasion', 'abroad', 'absent', 'absolute', 'absolutely', 'absorb', 'absorbent', 'absurd', 'abuse', 'accent', 'accentuate', 'accept', 'acceptable', 'access', 'accessible', 'accessory', 'accident', 'accidentally', 'accidently', 'accommodate', 'accompany', 'accomplish', 'accord', 'accordingly', 'account', 'accuracy', 'accurate', 'accurately', 'accustomed', 'ache', 'achieve', 'achille', 'acorn', 'acquire', 'across', 'acrylic', 'act', 'action', 'activate', 'active', 'activity', 'actual', 'actually', 'acutely', 'ad', 'adam', 'adapt', 'add', 'added', 'adding', 'addition', 'additional', 'address', 'adequate', 'adequately', 'adhere', 'adhesive', 'adjust', 'adjustable', 'adjusted', 'adjustment', 'admire', 'admit', 'admittedly', 'adorable', 'adore', 'adult', 'advance', 'advanced', 'advantage', 'adventure', 'advertise', 'advertised', 'advertisement', 'advertising', 'advice', 'advise', 'advocate', 'aerobic', 'aesthetic', 'aesthetically', 'affair', 'affect', 'afford', 'afghanistan', 'afraid', 'africa', 'after', 'afternoon', 'afterthought', 'afterwards', 'again', 'against', 'age', 'agent', 'aggressive', 'agitator', 'ago', 'agree', 'ah', 'ahead', 'aid', 'aide', 'aim', 'air', 'airline', 'airplane', 'airport', 'airy', 'aisle', 'ak', 'al', 'ala', 'alan', 'alarm', 'alas', 'alaska', 'albeit', 'alcohol', 'ali', 'alien', 'align', 'alike', 'all', 'allen', 'allergic', 'alleviate', 'alley', 'allot', 'allow', 'almost', 'alone', 'along', 'alphabet', 'already', 'alright', 'also', 'altar', 'alter', 'alteration', 'alternate', 'alternative', 'although', 'altimeter', 'altogether', 'aluminium', 'always', 'amaze', 'amazed', 'amazing', 'amazingly', 'amazon', 'amazoncom', 'amazonthe', 'amber', 'america', 'american', 'among', 'amongst', 'amount', 'ample', 'an', 'anadigi', 'analogy', 'anatomy', 'anchor', 'and', 'anel', 'angel', 'angle', 'angry', 'animal', 'ankl', 'ankle', 'ankles', 'anna', 'anniversary', 'annoy', 'annoyance', 'annoyed', 'annoying', 'another', 'answer', 'anti', 'anticipate', 'antimicrobial', 'antique', 'antitarnish', 'any', 'anybody', 'anyhow', 'anymore', 'anyone', 'anything', 'anyway', 'anywhere', 'apart', 'apparel', 'apparent', 'apparently', 'appeal', 'appealing', 'appear', 'appearance', 'apple', 'application', 'apply', 'appreciate', 'apprehensive', 'approach', 'appropriate', 'appropriately', 'approve', 'approximately', 'april', 'apron', 'arbat', 'arch', 'arctic', 'ardor', 'area', 'argue', 'arise', 'arizona', 'arm', 'armor', 'armour', 'armpit', 'army', 'aroma', 'around', 'arrange', 'arrangement', 'array', 'arrival', 'arrive', 'arrived', 'arrow', 'art', 'arthritis', 'article', 'articular', 'artificial', 'as', 'ascit', 'ascite', 'ash', 'asia', 'aside', 'ask', 'asleep', 'aspect', 'ass', 'assemble', 'assembly', 'assert', 'asset', 'assist', 'associate', 'assortment', 'assume', 'assure', 'at', 'athlete', 'athletic', 'atlantic', 'atomic', 'attach', 'attached', 'attachment', 'attack', 'attempt', 'attend', 'attention', 'attire', 'attitude', 'attract', 'attractive', 'attribute', 'audit', 'august', 'aunt', 'austin', 'australia', 'authentic', 'authenticity', 'authorize', 'auto', 'automatic', 'automatically', 'autumn', 'avail', 'availability', 'available', 'ave', 'avenue', 'average', 'avoid', 'await', 'aware', 'away', 'awe', 'awesome', 'awful', 'awhile', 'awkward', 'baby', 'back', 'background', 'backing', 'backlight', 'backpack', 'backpacking', 'backside', 'backward', 'backwards', 'bad', 'badge', 'badly', 'bag', 'bagalini', 'baggage', 'baggy', 'bah', 'bailey', 'baker', 'balaclava', 'balance', 'balanced', 'balconete', 'balcony', 'ball', 'ballet', 'ballroom', 'ban', 'banana', 'band', 'bandage', 'bandit', 'bandolier', 'bang', 'bangladesh', 'bank', 'banking', 'bar', 'bare', 'barefoot', 'barely', 'bargain', 'barn', 'barrier', 'base', 'baseball', 'basement', 'basic', 'basically', 'basis', 'basket', 'basketball', 'bass', 'bat', 'batch', 'bath', 'bathe', 'bathing', 'bathroom', 'batman', 'battery', 'battle', 'bay', 'bc', 'be', 'beach', 'bead', 'beam', 'bean', 'bear', 'bearable', 'bearer', 'bearpaw', 'beat', 'beating', 'beautiful', 'beautifully', 'beauty', 'because', 'become', 'bed', 'bedroom', 'bee', 'beef', 'beer', 'beeswax', 'before', 'beg', 'begin', 'beginning', 'behalf', 'behind', 'behold', 'beige', 'believe', 'believer', 'bell', 'belly', 'belong', 'belova', 'beloved', 'below', 'belt', 'bend', 'beneath', 'beneficial', 'benefit', 'bent', 'berkshire', 'beside', 'besides', 'best', 'bet', 'better', 'beware', 'beyond', 'bicycle', 'bid', 'bidding', 'bien', 'big', 'bigger', 'bike', 'bill', 'billfold', 'bin', 'bind', 'binder', 'binding', 'birch', 'bird', 'birkenstock', 'birth', 'birthday', 'birthstone', 'bit', 'bite', 'bitter', 'bizarre', 'black', 'bladder', 'blade', 'blaine', 'blame', 'blanket', 'blast', 'blaze', 'bleed', 'blend', 'bless', 'blessing', 'blind', 'blister', 'bloch', 'block', 'blood', 'blow', 'blue', 'bluish', 'blush', 'board', 'boat', 'bodice', 'body', 'bodysuit', 'boil', 'bold', 'bolster', 'bolt', 'bomb', 'bomber', 'bone', 'bonus', 'book', 'booklet', 'boot', 'border', 'bore', 'boring', 'boris', 'borrow', 'bosom', 'boss', 'boston', 'bostonian', 'both', 'bother', 'bothersome', 'bottle', 'bottom', 'bough', 'bought', 'bounce', 'bound', 'bout', 'boutique', 'bow', 'box', 'boxer', 'boy', 'boyfriend', 'boyshort', 'br', 'brace', 'bracelet', 'brag', 'brain', 'branch', 'brand', 'brass', 'bravado', 'brazil', 'breach', 'break', 'breaker', 'breaking', 'breast', 'breasted', 'breastfeed', 'breath', 'breathability', 'breathable', 'breathe', 'breathing', 'breeze', 'breezy', 'brick', 'bridesmaid', 'bridge', 'brief', 'briefcase', 'bright', 'brighter', 'brightly', 'brightness', 'brilliant', 'brim', 'bring', 'britain', 'british', 'brittle', 'broad', 'broke', 'broken', 'bronze', 'brother', 'brotherinlaw', 'brown', 'browse', 'bruise', 'brush', 'bsetup', 'bu', 'bubble', 'buck', 'bucket', 'buckle', 'bud', 'budget', 'buena', 'buff', 'bug', 'buggy', 'build', 'building', 'bulge', 'bulk', 'bulky', 'bull', 'bullet', 'bump', 'bunch', 'bundle', 'bunion', 'burgundy', 'burn', 'bury', 'bus', 'bush', 'bushy', 'business', 'bust', 'busy', 'but', 'butt', 'butter', 'butterfly', 'buttock', 'button', 'buxton', 'buy', 'buyer', 'buying', 'buzz', 'by', 'cadet', 'cage', 'cake', 'calculate', 'calculated', 'calculation', 'calendar', 'calf', 'calibre', 'calidad', 'california', 'call', 'calvin', 'camel', 'camera', 'camisole', 'camouflage', 'camp', 'camping', 'can', 'canada', 'cancel', 'cancer', 'candle', 'candy', 'canopy', 'canva', 'canvas', 'cap', 'capability', 'capable', 'capacity', 'cape', 'caper', 'capered', 'capezio', 'captain', 'capture', 'car', 'carbon', 'card', 'cardboard', 'cardinal', 'care', 'career', 'careful', 'carefully', 'careless', 'cargo', 'caribbean', 'carpenter', 'carpet', 'carpi', 'carrier', 'carry', 'cart', 'carter', 'case', 'caseback', 'cash', 'cashier', 'casque', 'cast', 'casual', 'casually', 'cat', 'catalogue', 'catch', 'category', 'caterpillar', 'cathcart', 'caught', 'causal', 'cause', 'caution', 'cautious', 'ce', 'cedar', 'celebrate', 'cell', 'cellar', 'celtic', 'cement', 'cent', 'center', 'central', 'century', 'ceremony', 'certain', 'certainly', 'chafe', 'chaff', 'chaffing', 'chain', 'chair', 'challenge', 'champ', 'champion', 'chance', 'change', 'changed', 'channel', 'chaos', 'character', 'characteristic', 'charcoal', 'charge', 'charity', 'charm', 'chart', 'chase', 'cheap', 'cheaper', 'cheaply', 'check', 'checkbook', 'checking', 'cheek', 'cheese', 'chemical', 'chemise', 'cherokee', 'chest', 'chester', 'chestnut', 'chew', 'chicago', 'chicken', 'chief', 'child', 'childhood', 'chill', 'chilly', 'chime', 'chin', 'china', 'chinchilla', 'chinese', 'chink', 'chintz', 'chip', 'chlorine', 'chocolate', 'choice', 'choke', 'choose', 'chose', 'christma', 'christmas', 'chronic', 'chronograph', 'chronometer', 'chubby', 'chuck', 'church', 'circle', 'circular', 'circulation', 'circumstance', 'citizen', 'city', 'civilian', 'cl', 'claim', 'clamp', 'clarity', 'clark', 'clasp', 'class', 'classic', 'classroom', 'claw', 'clean', 'cleaner', 'cleaning', 'clear', 'clearance', 'clearly', 'cleavage', 'cleft', 'clergy', 'clerk', 'clever', 'click', 'client', 'climate', 'climb', 'climbing', 'clinch', 'cling', 'clinical', 'clip', 'clock', 'close', 'closed', 'closely', 'closer', 'closet', 'closing', 'closure', 'clot', 'cloth', 'clothe', 'clothing', 'cloud', 'clown', 'club', 'clue', 'clumsy', 'clung', 'clutch', 'cm', 'co', 'coach', 'coal', 'coarse', 'coast', 'coat', 'coating', 'code', 'coffee', 'coffin', 'coil', 'coin', 'cold', 'colder', 'colfax', 'coli', 'collapse', 'collar', 'collect', 'collection', 'collector', 'college', 'colombia', 'color', 'colorado', 'colored', 'coloring', 'colour', 'coloured', 'colourful', 'columbia', 'comb', 'combat', 'combination', 'combine', 'come', 'comedy', 'comfort', 'comfortable', 'comfortablethe', 'comfortably', 'command', 'comment', 'commercial', 'common', 'commune', 'community', 'compact', 'companion', 'company', 'comparable', 'compare', 'comparison', 'compartment', 'compass', 'compensate', 'compete', 'competition', 'competitive', 'competitor', 'complain', 'complaint', 'complement', 'complete', 'completely', 'complex', 'complicate', 'complicated', 'compliment', 'comply', 'component', 'composite', 'compress', 'compression', 'compromise', 'computer', 'con', 'conceal', 'concentrate', 'concept', 'concern', 'concerned', 'concert', 'conclusion', 'concrete', 'condition', 'cone', 'confidence', 'confident', 'configuration', 'confine', 'confirm', 'conform', 'confuse', 'confused', 'confusing', 'conjunction', 'connect', 'connection', 'connoisseur', 'conscious', 'consequently', 'conservative', 'consider', 'considerable', 'considerably', 'consideration', 'considering', 'consist', 'consistency', 'consistent', 'consistently', 'console', 'constant', 'constantly', 'constrict', 'construct', 'construction', 'constructive', 'consult', 'consumer', 'contact', 'contain', 'container', 'content', 'contest', 'continually', 'continue', 'continuous', 'contour', 'contract', 'contractor', 'contrast', 'contribute', 'control', 'convenience', 'convenient', 'convention', 'conventional', 'conversation', 'converse', 'convert', 'convertible', 'convince', 'convinced', 'cook', 'cooking', 'cool', 'coolness', 'cooper', 'coordinate', 'copper', 'copy', 'coral', 'cord', 'cordon', 'core', 'cork', 'corn', 'corner', 'corporate', 'correct', 'correctly', 'correspond', 'corset', 'cortex', 'cosmetic', 'cost', 'costa', 'costly', 'costo', 'costume', 'cotton', 'couch', 'could', 'couldn', 'count', 'countdown', 'counter', 'counterfeit', 'countless', 'country', 'county', 'couple', 'coupon', 'course', 'court', 'cousin', 'couture', 'cover', 'coverage', 'covered', 'cowboy', 'crack', 'cradle', 'craft', 'craftsmanship', 'cram', 'cramp', 'cramped', 'crawl', 'crazy', 'cream', 'crease', 'create', 'credit', 'creek', 'creep', 'crew', 'crime', 'cripple', 'crisp', 'criterion', 'critical', 'criticism', 'crooked', 'crop', 'cros', 'crosbody', 'cross', 'crouch', 'crowd', 'crown', 'cruise', 'crumple', 'crush', 'crutch', 'cruz', 'cry', 'crystal', 'cuba', 'cuff', 'culture', 'cumberland', 'cumbersome', 'cup', 'cure', 'curious', 'curl', 'curly', 'currency', 'current', 'currently', 'curse', 'curve', 'curved', 'cushion', 'cushioned', 'custom', 'customer', 'cut', 'cycle', 'cycling', 'cyclop', 'cylinder', 'da', 'dad', 'daddy', 'daily', 'dainty', 'dakin', 'dakota', 'damage', 'damaged', 'damn', 'damp', 'dan', 'dance', 'dancer', 'dancing', 'danger', 'dangerous', 'dangle', 'daniel', 'dare', 'dark', 'darker', 'darkness', 'darling', 'database', 'date', 'datum', 'daughter', 'daughterinlaw', 'dawn', 'day', 'daycare', 'daylight', 'daypack', 'daysthe', 'daytime', 'dayton', 'de', 'dead', 'deal', 'dealer', 'dear', 'dearfoam', 'death', 'debate', 'debit', 'debut', 'decade', 'deceive', 'december', 'decent', 'decently', 'decide', 'decision', 'deck', 'declare', 'decline', 'decorate', 'decoration', 'decorative', 'deduce', 'deep', 'deeper', 'deer', 'def', 'default', 'defeat', 'defect', 'defective', 'defiantly', 'definite', 'definitely', 'definition', 'deglazer', 'degree', 'del', 'delay', 'delegate', 'delicate', 'delight', 'delighted', 'delightful', 'deliver', 'delivery', 'demand', 'deni', 'denis', 'dense', 'deny', 'deodorant', 'department', 'depend', 'dependable', 'dependent', 'depict', 'deploy', 'depth', 'describe', 'description', 'desert', 'deserve', 'design', 'designate', 'designer', 'desire', 'desk', 'desperate', 'despite', 'destination', 'destroy', 'detachable', 'detail', 'detailed', 'deter', 'detergent', 'deteriorate', 'determine', 'develop', 'device', 'dew', 'dexterity', 'diabetic', 'dial', 'diameter', 'diamond', 'didn', 'die', 'diet', 'differ', 'difference', 'different', 'differently', 'difficult', 'difficulty', 'dig', 'dighton', 'digit', 'digital', 'digitalanalog', 'dilute', 'dim', 'dimension', 'diminish', 'dingley', 'dingy', 'dining', 'dinner', 'dinnerless', 'dip', 'direct', 'direction', 'directly', 'dirt', 'dirty', 'disability', 'disabled', 'disagree', 'disappear', 'disappoint', 'disappointed', 'disappointing', 'disappointment', 'disc', 'discard', 'discoloration', 'discomfort', 'discontinue', 'discount', 'discover', 'discreet', 'discrepancy', 'discrete', 'disguise', 'dish', 'disintegrate', 'dislike', 'dismount', 'displace', 'display', 'disposable', 'disposal', 'dissection', 'distance', 'distinct', 'distinctive', 'distract', 'distressed', 'distribute', 'dive', 'diver', 'divide', 'diving', 'division', 'do', 'dock', 'doctor', 'document', 'doesn', 'dog', 'doll', 'dollar', 'dome', 'dominican', 'donate', 'donation', 'done', 'door', 'dootie', 'dose', 'dot', 'double', 'doubt', 'doubtful', 'down', 'downgrade', 'download', 'downpour', 'downside', 'downward', 'dozen', 'dr', 'drab', 'draft', 'drag', 'dragon', 'drain', 'drama', 'dramatic', 'dramatically', 'drape', 'draw', 'drawback', 'drawer', 'drawstr', 'drawstring', 'dread', 'dream', 'dres', 'dress', 'dressed', 'dresser', 'dressing', 'drift', 'drill', 'drink', 'drip', 'drive', 'driver', 'driveway', 'driving', 'drone', 'droning', 'droop', 'drop', 'dry', 'drying', 'du', 'dual', 'duck', 'duct', 'due', 'dull', 'dumb', 'dump', 'dung', 'dungaree', 'duplicate', 'duragold', 'during', 'dust', 'dusted', 'dutch', 'duty', 'dwyer', 'dye', 'each', 'eagle', 'ear', 'earlier', 'early', 'earmuff', 'earn', 'earner', 'earning', 'earring', 'earth', 'ease', 'easier', 'easily', 'east', 'easter', 'easy', 'eat', 'ebook', 'ecodrive', 'economic', 'economical', 'ecstatic', 'edge', 'edit', 'edition', 'edmund', 'effect', 'effective', 'effectively', 'efficient', 'effort', 'eg', 'egg', 'egypt', 'eight', 'either', 'el', 'elastic', 'elasticity', 'elbow', 'elder', 'elderly', 'electric', 'electricity', 'electronic', 'elegance', 'elegant', 'element', 'eleven', 'eligible', 'eliminate', 'elingwod', 'elite', 'elope', 'else', 'elsewhere', 'em', 'email', 'embarrass', 'embarrassed', 'embarrassing', 'emblem', 'emboss', 'embrace', 'embroider', 'embroidery', 'emergency', 'emphasize', 'employ', 'employment', 'empty', 'en', 'enable', 'enclose', 'encounter', 'encourage', 'end', 'endless', 'endorsement', 'endow', 'endowed', 'endure', 'enemy', 'energy', 'engage', 'engaged', 'engineer', 'engineering', 'england', 'english', 'enhance', 'enjoy', 'enormous', 'enough', 'ensure', 'enter', 'entire', 'entirely', 'entreat', 'entry', 'envelope', 'environment', 'equal', 'equally', 'equipment', 'equivalent', 'er', 'era', 'errand', 'error', 'es', 'escape', 'esp', 'especially', 'essential', 'essentially', 'est', 'estate', 'estimate', 'etc', 'euer', 'europe', 'european', 'evaluate', 'evan', 'eve', 'even', 'evening', 'evenly', 'event', 'eventhough', 'eventually', 'ever', 'every', 'everybody', 'everyday', 'everyone', 'everything', 'everytime', 'everywhere', 'evidence', 'evident', 'evidently', 'evil', 'ex', 'exact', 'exactly', 'examine', 'example', 'exceed', 'excellence', 'excellent', 'except', 'exception', 'exceptional', 'exceptionally', 'excess', 'excessive', 'excessively', 'exchange', 'excite', 'excited', 'excitement', 'exciting', 'exclusively', 'excursion', 'exercise', 'exist', 'exodri', 'exoficio', 'expand', 'expandable', 'expansion', 'expect', 'expectation', 'expected', 'expedition', 'expense', 'expensive', 'experience', 'experienced', 'experiment', 'expert', 'explain', 'explanation', 'explore', 'expose', 'exposure', 'express', 'extend', 'extended', 'extension', 'extensive', 'extent', 'exterior', 'external', 'extra', 'extreme', 'extremely', 'eye', 'eyeglass', 'eyelid', 'fabric', 'fabulous', 'face', 'facility', 'fact', 'factor', 'factory', 'fad', 'fade', 'fail', 'failure', 'fair', 'fairly', 'fairy', 'faithful', 'fall', 'false', 'familiar', 'family', 'famous', 'fan', 'fancy', 'fanny', 'fantastic', 'far', 'fare', 'farm', 'farmer', 'farther', 'fashion', 'fashionable', 'fashioned', 'fashioning', 'fast', 'fasten', 'fastened', 'fastener', 'faster', 'fat', 'father', 'fatherinlaw', 'fatigue', 'fatty', 'fault', 'faut', 'favor', 'favorit', 'favorite', 'favourite', 'fear', 'fearless', 'fearlessly', 'feather', 'feature', 'feb', 'february', 'fee', 'feed', 'feedback', 'feel', 'feeling', 'feet', 'fell', 'fellow', 'felt', 'female', 'feminine', 'fence', 'festival', 'fetch', 'fete', 'few', 'fiance', 'fianceacute', 'fiancee', 'fibre', 'field', 'fifteen', 'fifth', 'fifty', 'fig', 'fight', 'figure', 'figured', 'file', 'filigree', 'fill', 'film', 'filter', 'filthy', 'final', 'finally', 'find', 'finding', 'fine', 'finer', 'finger', 'fingernail', 'fingertip', 'finish', 'finished', 'fir', 'fire', 'firing', 'firm', 'firmly', 'first', 'firstly', 'fish', 'fisherman', 'fishing', 'fit', 'fitness', 'fitted', 'fitting', 'five', 'fivestar', 'fix', 'flag', 'flair', 'flame', 'flannel', 'flap', 'flaps', 'flare', 'flash', 'flashlight', 'flat', 'flatten', 'flatter', 'flattering', 'flaw', 'fleecy', 'flesh', 'flex', 'flexibility', 'flexible', 'flight', 'flipflop', 'flipflops', 'float', 'flog', 'flood', 'floor', 'flop', 'floppy', 'flora', 'florida', 'florsheim', 'flow', 'flower', 'fluctuate', 'fluff', 'fluffy', 'fluid', 'flush', 'fly', 'foam', 'focus', 'fog', 'foi', 'foil', 'fold', 'folk', 'follow', 'follower', 'fond', 'font', 'food', 'fool', 'foot', 'football', 'footgear', 'footstep', 'for', 'forbid', 'force', 'forearm', 'forehead', 'foreign', 'foreman', 'foremost', 'forest', 'forever', 'forgery', 'forget', 'forgive', 'form', 'formal', 'format', 'former', 'formula', 'forth', 'fortunate', 'fortunately', 'fortune', 'forty', 'forward', 'fossil', 'found', 'foundation', 'four', 'fourth', 'fox', 'fraction', 'fragile', 'frame', 'france', 'frankly', 'fraser', 'fray', 'frayed', 'freak', 'free', 'freedom', 'freely', 'freeze', 'french', 'frequent', 'frequently', 'fresh', 'friction', 'friday', 'friend', 'friendly', 'frigid', 'fringe', 'from', 'front', 'frontier', 'fruit', 'frustrate', 'frustrated', 'frustration', 'frye', 'ft', 'fulfil', 'fulfill', 'full', 'fully', 'fulsize', 'fun', 'function', 'functional', 'functionality', 'funeral', 'funny', 'fur', 'fuss', 'fussy', 'future', 'gain', 'gaiter', 'gal', 'gallery', 'gallop', 'gamble', 'game', 'gap', 'garage', 'garden', 'gardening', 'garment', 'garnish', 'garter', 'gas', 'gasp', 'gate', 'gather', 'gauge', 'gauzy', 'gear', 'gem', 'general', 'generally', 'generation', 'generous', 'generously', 'genetic', 'genius', 'gentle', 'gentleman', 'gently', 'genuine', 'georgia', 'german', 'germany', 'get', 'ghost', 'giant', 'gift', 'gigantic', 'gilman', 'ginger', 'girdle', 'girl', 'girlfriend', 'girth', 'give', 'glad', 'gladly', 'glamorise', 'glance', 'glander', 'glare', 'glass', 'glide', 'glimmer', 'glitter', 'glory', 'gloss', 'glossy', 'glove', 'glow', 'glue', 'go', 'goal', 'god', 'goddess', 'godlok', 'godson', 'gold', 'golden', 'golf', 'gone', 'good', 'goodness', 'goodwill', 'goose', 'gordon', 'gorge', 'gorgeous', 'got', 'gotten', 'gouge', 'gown', 'grab', 'gracious', 'grade', 'gradually', 'graduate', 'graft', 'grain', 'grand', 'grandchild', 'granddad', 'granddaughter', 'grandmother', 'grandson', 'granger', 'granny', 'grant', 'grape', 'graph', 'graphic', 'grass', 'grateful', 'grave', 'gravel', 'gravity', 'gray', 'grease', 'great', 'greatly', 'green', 'greenish', 'grey', 'grid', 'grime', 'grind', 'grip', 'grm', 'grocer', 'grocery', 'groin', 'grommet', 'groom', 'groove', 'gross', 'ground', 'group', 'grow', 'grown', 'growth', 'grumpy', 'guarantee', 'guard', 'gues', 'guess', 'guest', 'guide', 'guideline', 'guilty', 'gum', 'gumma', 'gun', 'gusset', 'gust', 'gustave', 'gusto', 'gut', 'guy', 'ha', 'habit', 'hack', 'hair', 'haired', 'haiti', 'half', 'halfsize', 'halfway', 'halloween', 'halo', 'halt', 'hammer', 'hamper', 'hand', 'handcuff', 'handful', 'handkerchief', 'handle', 'handling', 'handsome', 'handwash', 'handy', 'hang', 'hanging', 'happen', 'happier', 'happily', 'happy', 'hard', 'harder', 'hardihood', 'hardly', 'hardware', 'hardy', 'harley', 'harm', 'harness', 'harold', 'harry', 'harsh', 'haste', 'hat', 'hata', 'hate', 'haul', 'havaiana', 'havana', 'have', 'haven', 'hawaii', 'head', 'headache', 'headband', 'headphone', 'heal', 'healing', 'health', 'healthy', 'heap', 'hear', 'hearing', 'heart', 'heartbroken', 'heartfelt', 'heartily', 'heat', 'heathen', 'heather', 'heaven', 'heavenly', 'heavier', 'heavily', 'heavy', 'heavyduty', 'heavyweight', 'heel', 'height', 'held', 'hell', 'hello', 'helmet', 'help', 'helpful', 'hem', 'hemp', 'hence', 'henry', 'her', 'here', 'herethe', 'hero', 'hesitate', 'hesitation', 'hetty', 'hey', 'hi', 'hidden', 'hide', 'hideous', 'hiding', 'high', 'higher', 'highly', 'highquality', 'hill', 'hinder', 'hinge', 'hint', 'hip', 'hiram', 'history', 'hit', 'hm', 'ho', 'hobby', 'hold', 'holder', 'holding', 'hole', 'holiday', 'holy', 'homage', 'home', 'homework', 'hondura', 'honest', 'honestly', 'honey', 'honeymoon', 'honor', 'hood', 'hooded', 'hoofs', 'hook', 'hooked', 'hop', 'hope', 'hopeful', 'hopefully', 'hoping', 'horizontal', 'horn', 'horrible', 'horribly', 'horrid', 'horse', 'hosmer', 'hospital', 'host', 'hot', 'hotel', 'hour', 'hourglass', 'hours', 'house', 'household', 'how', 'however', 'hue', 'hug', 'huge', 'hum', 'human', 'humble', 'humid', 'humidity', 'hundred', 'hung', 'hunger', 'hunt', 'hunter', 'hunting', 'hurry', 'hurt', 'husband', 'husky', 'hut', 'hydration', 'ice', 'icy', 'idea', 'ideal', 'ideally', 'identical', 'identify', 'if', 'ignore', 'ii', 'ill', 'illuminate', 'illumination', 'iluminator', 'image', 'imagination', 'imagine', 'imitation', 'immediate', 'immediately', 'immensely', 'immersion', 'impact', 'imperfection', 'import', 'importance', 'important', 'importantly', 'impossible', 'impres', 'impress', 'impressed', 'impression', 'impressive', 'imprint', 'improve', 'improved', 'improvement', 'in', 'inaccurate', 'inbetwen', 'inch', 'incline', 'inclined', 'include', 'inconsistency', 'inconsistent', 'inconvenience', 'inconvenient', 'incorrect', 'incorrectly', 'increase', 'incredible', 'incredibly', 'indeed', 'indentation', 'indestructible', 'index', 'india', 'indicate', 'indicator', 'indie', 'indigo', 'individual', 'individually', 'indoor', 'indoors', 'induration', 'industrial', 'industry', 'inevitably', 'infant', 'infection', 'inferior', 'inflammable', 'inform', 'informal', 'information', 'ingenious', 'initial', 'initially', 'injury', 'ink', 'inner', 'insanely', 'insect', 'insert', 'inside', 'insight', 'insist', 'inspect', 'inspection', 'inspector', 'inspire', 'instal', 'install', 'instance', 'instant', 'instantly', 'instead', 'instep', 'instruction', 'instructor', 'instrument', 'insulate', 'insulated', 'insult', 'insurance', 'intact', 'integrity', 'intend', 'intended', 'intense', 'intent', 'intention', 'intentionally', 'interest', 'interested', 'interesting', 'interface', 'interfere', 'interior', 'internal', 'international', 'internet', 'interval', 'interview', 'intimate', 'into', 'introduce', 'intuition', 'invent', 'inventor', 'invest', 'investment', 'invisible', 'invite', 'involf', 'involve', 'involved', 'inward', 'ireland', 'iridium', 'irish', 'iron', 'ironic', 'irregular', 'irritate', 'irritated', 'irritating', 'irritation', 'island', 'isn', 'iso', 'isotoner', 'issue', 'it', 'italian', 'italy', 'itch', 'itchiness', 'itchy', 'item', 'ivory', 'jack', 'jacket', 'jam', 'jame', 'jan', 'jane', 'january', 'japan', 'japanese', 'jaw', 'jazz', 'jealous', 'jean', 'jeansthey', 'jerky', 'jersey', 'jesuit', 'jet', 'jewel', 'jeweller', 'jewellery', 'jezebel', 'jim', 'jingle', 'job', 'jockey', 'john', 'join', 'joint', 'joke', 'journey', 'joy', 'judge', 'julie', 'july', 'jump', 'jumper', 'jumping', 'june', 'jungle', 'junior', 'just', 'justice', 'justify', 'kangaroo', 'kayaking', 'keen', 'keep', 'keeper', 'keeping', 'keepsake', 'kenneth', 'kept', 'key', 'kick', 'kid', 'kill', 'killer', 'kind', 'kindle', 'kinetic', 'king', 'kis', 'kiss', 'kit', 'kitchen', 'kitty', 'knee', 'kneel', 'knife', 'knit', 'knob', 'knock', 'knockoff', 'knot', 'know', 'knowledge', 'known', 'knuckle', 'la', 'lab', 'label', 'labor', 'lace', 'lack', 'lacking', 'ladder', 'lady', 'lag', 'lagging', 'lake', 'lamb', 'lamp', 'land', 'landau', 'lane', 'language', 'lank', 'lap', 'large', 'largely', 'larger', 'las', 'last', 'lasting', 'lastly', 'latch', 'late', 'lately', 'later', 'lateral', 'lathe', 'latin', 'latter', 'laugh', 'laura', 'laurel', 'lavender', 'law', 'lawless', 'lawn', 'lawton', 'lay', 'layer', 'laying', 'layout', 'lazy', 'lb', 'le', 'lead', 'leader', 'leaf', 'leak', 'leakage', 'lean', 'leap', 'learn', 'learning', 'least', 'leather', 'leave', 'lee', 'left', 'leg', 'legendary', 'legging', 'legible', 'legs', 'leisure', 'len', 'lend', 'length', 'lengthen', 'lengthwise', 'lengthy', 'lens', 'leopard', 'les', 'less', 'lesson', 'let', 'letter', 'level', 'lever', 'leverback', 'levi', 'levy', 'lewi', 'lewis', 'liable', 'liberal', 'license', 'lick', 'lid', 'lie', 'life', 'lifesaver', 'lifespan', 'lifestyle', 'lifetime', 'lift', 'lifting', 'ligament', 'light', 'lighter', 'lighting', 'lightly', 'lightness', 'lightning', 'lightweight', 'like', 'liked', 'likely', 'likewise', 'liking', 'lilac', 'lilyete', 'limb', 'lime', 'limit', 'limitation', 'limited', 'limp', 'lincoln', 'line', 'liner', 'linger', 'lingered', 'lingo', 'lining', 'link', 'lint', 'lip', 'lipping', 'lipstick', 'liquid', 'list', 'listen', 'literally', 'lithe', 'lithium', 'little', 'live', 'living', 'll', 'lo', 'load', 'loaded', 'loafer', 'loathe', 'lobster', 'local', 'locally', 'locate', 'location', 'lock', 'locket', 'log', 'logging', 'lollipop', 'london', 'long', 'longer', 'longevity', 'longlast', 'longsleve', 'look', 'looked', 'looking', 'lookout', 'loom', 'loop', 'loose', 'loosely', 'loosen', 'loot', 'lord', 'los', 'lose', 'loss', 'lost', 'lot', 'lotion', 'loud', 'louise', 'lounge', 'lounging', 'louse', 'love', 'loved', 'lovely', 'lover', 'loving', 'low', 'lower', 'loyal', 'luck', 'luckily', 'lucky', 'luggage', 'lui', 'luke', 'luman', 'lumen', 'luminescent', 'luminous', 'lump', 'lunaire', 'lunch', 'lure', 'luster', 'luxurious', 'luxury', 'ma', 'machine', 'mad', 'made', 'madman', 'madonna', 'magazine', 'magic', 'magical', 'magnet', 'magnetic', 'magnify', 'magnifying', 'mahogany', 'maidenform', 'mail', 'mailbox', 'main', 'maine', 'mainly', 'maintain', 'maintenance', 'major', 'majority', 'make', 'maker', 'making', 'male', 'mall', 'mamma', 'man', 'manage', 'mandate', 'maneuver', 'manipulate', 'manly', 'manner', 'manual', 'manufacture', 'manufacturer', 'manufacturing', 'many', 'map', 'marathon', 'march', 'margin', 'marine', 'mark', 'marked', 'marker', 'market', 'marketing', 'marking', 'maroon', 'married', 'marshall', 'marvelous', 'mary', 'masculine', 'mask', 'mass', 'massage', 'massive', 'master', 'mat', 'match', 'material', 'matter', 'mature', 'max', 'maxim', 'maximum', 'may', 'maybe', 'mean', 'meaning', 'meant', 'meantime', 'measure', 'measured', 'measurement', 'mechanic', 'mechanical', 'mechanism', 'med', 'medal', 'medical', 'medium', 'meet', 'meeting', 'melissa', 'melt', 'member', 'membership', 'memory', 'mend', 'mental', 'mentally', 'mention', 'menu', 'mephisto', 'merchandise', 'merchant', 'mere', 'merely', 'merit', 'merry', 'mesh', 'mess', 'message', 'messenger', 'metal', 'metallic', 'mete', 'method', 'mexico', 'mi', 'michigan', 'micro', 'microfiber', 'microphone', 'mid', 'midcalf', 'middle', 'midnight', 'midst', 'midwife', 'milan', 'mild', 'mile', 'mileage', 'military', 'milk', 'million', 'mimi', 'min', 'mind', 'minded', 'mine', 'mineral', 'minetonka', 'minetonkas', 'minimal', 'minimalist', 'minimize', 'minimum', 'minor', 'minus', 'minute', 'miracle', 'mirror', 'mis', 'miserable', 'mislabel', 'mislead', 'miss', 'missing', 'mission', 'mistake', 'mistaken', 'misty', 'mix', 'mixed', 'mm', 'mo', 'mob', 'mobile', 'mock', 'mode', 'model', 'moderate', 'moderately', 'modern', 'modest', 'modestly', 'modesty', 'modification', 'modify', 'module', 'moisture', 'mold', 'molded', 'moment', 'mon', 'monday', 'money', 'monitor', 'monkey', 'monster', 'month', 'monthly', 'mood', 'moon', 'moral', 'more', 'moreover', 'mormon', 'morning', 'mortar', 'moscow', 'moss', 'most', 'mostly', 'mother', 'motherinlaw', 'motion', 'motorcycle', 'mount', 'mountain', 'mouth', 'movable', 'move', 'movement', 'movie', 'moving', 'mow', 'mrs', 'ms', 'much', 'mud', 'muddy', 'mug', 'mule', 'multi', 'multiple', 'multipurpose', 'mummy', 'munch', 'mundi', 'muscle', 'muscular', 'music', 'must', 'myoma', 'mystery', 'na', 'nail', 'naked', 'name', 'narrow', 'narrowed', 'nasal', 'naso', 'nasty', 'national', 'native', 'natural', 'naturally', 'nature', 'naval', 'navigable', 'navy', 'nd', 'ne', 'near', 'nearby', 'nearly', 'neat', 'neatly', 'necessarily', 'necessary', 'necessity', 'neck', 'necklace', 'need', 'needed', 'needle', 'needless', 'negative', 'neighbor', 'neighborhood', 'neither', 'neoprene', 'nephew', 'nerve', 'nervous', 'net', 'nether', 'network', 'neuro', 'neuroma', 'neuropathic', 'neutral', 'never', 'nevertheless', 'new', 'newer', 'newport', 'news', 'newspaper', 'next', 'nice', 'nicely', 'nicer', 'nicest', 'nicety', 'nickel', 'niece', 'night', 'nightgown', 'nightmare', 'nighttime', 'nina', 'nine', 'nip', 'nipper', 'nipple', 'no', 'nobody', 'nodule', 'noise', 'noisy', 'non', 'none', 'nonetheless', 'nonexistent', 'nonpolariz', 'nonsense', 'nonslip', 'nonstop', 'noon', 'nordstrom', 'norm', 'normal', 'normally', 'north', 'northeast', 'northern', 'northwest', 'nose', 'not', 'notch', 'note', 'notebook', 'noted', 'nothing', 'notice', 'noticeable', 'noticeably', 'noticed', 'november', 'now', 'nowadays', 'nowhere', 'numb', 'number', 'numerous', 'nurse', 'nursing', 'nut', 'nuts', 'ny', 'object', 'obnoxious', 'obscure', 'observation', 'obsess', 'obtain', 'obvious', 'obviously', 'occasion', 'occasional', 'occasionally', 'occur', 'ocean', 'october', 'odd', 'oddly', 'odor', 'of', 'off', 'offer', 'offering', 'office', 'officer', 'official', 'offset', 'often', 'oh', 'oil', 'oily', 'ointment', 'ok', 'oka', 'okay', 'old', 'oldfashion', 'olga', 'olive', 'on', 'one', 'onepiece', 'onethis', 'online', 'only', 'onset', 'onto', 'ooze', 'op', 'opaque', 'open', 'opened', 'opening', 'opera', 'operate', 'operation', 'operator', 'opinion', 'opportunity', 'oppose', 'opposite', 'opt', 'option', 'or', 'orange', 'order', 'ordered', 'ordering', 'ordinarily', 'ordinary', 'org', 'organic', 'organization', 'organizational', 'organize', 'organized', 'organizer', 'original', 'originally', 'orthopaedic', 'orthotic', 'other', 'otherwise', 'ought', 'ounce', 'out', 'outcast', 'outcome', 'outdoor', 'outer', 'outerwear', 'outfit', 'outgrowth', 'outing', 'outlet', 'outline', 'outrageous', 'outre', 'outside', 'outstanding', 'outward', 'oval', 'oven', 'over', 'overall', 'overcoat', 'overhead', 'overlap', 'overlay', 'overlie', 'overlook', 'overnight', 'overprice', 'overpriced', 'overseas', 'overshoe', 'overshoes', 'oversiz', 'oversized', 'overstuffed', 'overwhelming', 'owe', 'own', 'owner', 'oxford', 'oz', 'pace', 'pacific', 'pack', 'package', 'packed', 'packet', 'packing', 'pad', 'padded', 'paddle', 'page', 'pain', 'painful', 'painless', 'paint', 'painter', 'painting', 'pair', 'pairs', 'palace', 'pale', 'palm', 'palmar', 'panama', 'panel', 'pantyhose', 'pantyline', 'paper', 'paperthin', 'paperwork', 'par', 'para', 'parade', 'parameter', 'paratrooper', 'parent', 'paris', 'park', 'parking', 'part', 'partially', 'particular', 'particularly', 'partie', 'partition', 'partner', 'party', 'pas', 'pass', 'passion', 'passport', 'past', 'paste', 'patch', 'patent', 'paternity', 'path', 'pathfinder', 'patience', 'patient', 'pattern', 'pavement', 'paw', 'pay', 'peace', 'peak', 'pear', 'pearl', 'peasant', 'pebble', 'peddler', 'peel', 'pen', 'pencil', 'penetrate', 'penny', 'people', 'per', 'percent', 'percentage', 'perfect', 'perfection', 'perfectly', 'perform', 'performance', 'performer', 'perhaps', 'peri', 'period', 'periodically', 'periwinkle', 'permanent', 'permanently', 'perpetual', 'perry', 'person', 'personal', 'personality', 'personally', 'perspective', 'perspiration', 'pet', 'peter', 'petite', 'petty', 'phantom', 'phase', 'phone', 'photo', 'photograph', 'photographer', 'phrase', 'physical', 'pick', 'picking', 'pickpocket', 'picnic', 'picture', 'pictured', 'piece', 'pier', 'pierce', 'pierre', 'pig', 'pile', 'pill', 'pillage', 'pillow', 'pilot', 'pin', 'pinch', 'pink', 'pinkish', 'pip', 'pirate', 'pistol', 'pit', 'pitch', 'pity', 'place', 'placement', 'plague', 'plaid', 'plain', 'plan', 'plane', 'planet', 'planning', 'plant', 'plantar', 'planter', 'plastic', 'plate', 'platform', 'plating', 'platino', 'play', 'player', 'playing', 'plea', 'pleas', 'pleasant', 'pleasantly', 'please', 'pleased', 'pleasing', 'pleasure', 'plenty', 'pliable', 'plover', 'plug', 'plumber', 'plunge', 'plus', 'plush', 'pm', 'pobox', 'pock', 'pocket', 'podiatrist', 'point', 'pointed', 'poke', 'poland', 'polar', 'polarize', 'polarized', 'polartec', 'pole', 'police', 'policy', 'polish', 'polished', 'polite', 'poly', 'polyester', 'polyurethane', 'pool', 'poor', 'poorly', 'pop', 'popular', 'popularization', 'porch', 'port', 'portable', 'porter', 'portion', 'pose', 'position', 'positive', 'possibility', 'possible', 'possibly', 'post', 'postage', 'postpartum', 'posture', 'pot', 'potential', 'potentially', 'pouch', 'pound', 'pour', 'powder', 'power', 'powerful', 'pp', 'practical', 'practically', 'practice', 'praise', 'pre', 'preach', 'precious', 'precise', 'precisely', 'precision', 'predict', 'prefer', 'preference', 'preferred', 'pregnancy', 'pregnant', 'premature', 'premium', 'prepare', 'prepared', 'prepregnancy', 'preschool', 'prescription', 'present', 'presentable', 'presentation', 'preserve', 'preshrunk', 'press', 'pressure', 'pretend', 'pretty', 'prevent', 'previous', 'previously', 'price', 'pricethe', 'prick', 'pricking', 'pride', 'primarily', 'primary', 'prime', 'princess', 'print', 'printing', 'prior', 'priority', 'private', 'pro', 'probably', 'problem', 'problematical', 'process', 'produce', 'producer', 'product', 'production', 'profession', 'professional', 'professionally', 'profile', 'profit', 'program', 'progress', 'project', 'prolong', 'promise', 'promote', 'promotion', 'prompt', 'promptly', 'pron', 'pronation', 'prone', 'pronounce', 'pronounced', 'pronunciation', 'proof', 'prop', 'proper', 'properly', 'property', 'proportion', 'proportionate', 'protect', 'protection', 'protective', 'protrude', 'proud', 'prove', 'provide', 'public', 'pucker', 'puddle', 'puff', 'puffy', 'pull', 'pump', 'punch', 'punishment', 'puppet', 'puppy', 'purchase', 'purchased', 'purchaser', 'purchasing', 'pure', 'purple', 'purpose', 'purse', 'pursue', 'pus', 'push', 'put', 'quality', 'qualitythe', 'qualm', 'quantity', 'quarante', 'quart', 'quarter', 'que', 'queen', 'quest', 'question', 'quick', 'quickly', 'quiet', 'quietly', 'quit', 'quite', 'race', 'racerback', 'rack', 'radiant', 'radio', 'rag', 'ragged', 'rain', 'rainbow', 'raincoat', 'raincover', 'rainy', 'raise', 'ralph', 'ran', 'random', 'range', 'rank', 'rapid', 'rapidly', 'rare', 'rarely', 'rash', 'rat', 'rate', 'rather', 'rating', 'ratio', 'rattle', 'rave', 'raw', 'ray', 'rayban', 'razor', 'rd', 're', 'reach', 'reaction', 'read', 'readable', 'reader', 'readily', 'reading', 'readjust', 'ready', 'real', 'realise', 'realistic', 'reality', 'realize', 'really', 'rear', 'reason', 'reasonable', 'reasonably', 'recall', 'receipt', 'receive', 'received', 'receiver', 'recent', 'recently', 'reception', 'recess', 'recipient', 'reckless', 'recognition', 'recognize', 'recommend', 'recommendation', 'reconstruct', 'record', 'recorder', 'recover', 'rectangular', 'red', 'reddish', 'redoubt', 'redstone', 'reduce', 'reduction', 'reed', 'reef', 'refer', 'reference', 'reflect', 'reflection', 'reform', 'refresh', 'refund', 'refuse', 'regard', 'regardless', 'region', 'register', 'regret', 'regular', 'regularly', 'reinforce', 'reinforcement', 'relate', 'relation', 'relative', 'relatively', 'relax', 'relaxed', 'release', 'reliability', 'reliable', 'relief', 'relieve', 'relit', 'reluctant', 'reluctantly', 'rely', 'remain', 'remark', 'remarkable', 'remarkably', 'remedi', 'remedy', 'remember', 'remind', 'reminder', 'remote', 'removable', 'removal', 'remove', 'removed', 'render', 'renew', 'rep', 'repair', 'repeat', 'repeatedly', 'repellent', 'replace', 'replaceable', 'replaced', 'replacement', 'reply', 'report', 'represent', 'republic', 'reputation', 'request', 'require', 'requirement', 'research', 'resect', 'resemble', 'reservation', 'reserve', 'reside', 'resident', 'residue', 'resin', 'resist', 'resistance', 'resistant', 'resolve', 'resort', 'respect', 'respond', 'response', 'responsible', 'rest', 'restaurant', 'restore', 'restrict', 'restrictive', 'restroom', 'result', 'retail', 'retailer', 'retain', 'retainer', 'retire', 'retract', 'retro', 'return', 'returned', 'reveal', 'reverse', 'reversible', 'review', 'reviews', 'rib', 'ribbed', 'ribbon', 'ribcage', 'rich', 'rid', 'ride', 'rider', 'ridge', 'ridiculous', 'ridiculously', 'riding', 'right', 'rigid', 'rigidity', 'rigor', 'ring', 'rinse', 'rip', 'ripstop', 'rise', 'risk', 'risky', 'rite', 'rival', 'river', 'rivet', 'road', 'robe', 'robin', 'robust', 'rock', 'rocket', 'rockie', 'rockport', 'rocky', 'rod', 'role', 'roll', 'roller', 'rolling', 'roman', 'rome', 'roof', 'room', 'roomy', 'root', 'rope', 'rose', 'rosy', 'rotate', 'rotation', 'roth', 'rough', 'roughly', 'roughness', 'round', 'rounded', 'route', 'routine', 'row', 'royal', 'rub', 'rubber', 'rubberized', 'rude', 'ruffle', 'rug', 'rugg', 'rugged', 'ruin', 'rule', 'run', 'runner', 'running', 'rural', 'ruse', 'rush', 'russell', 'rust', 'ryazan', 'saber', 'sack', 'sacrifice', 'sad', 'saddle', 'sadly', 'safe', 'safely', 'safety', 'sage', 'sail', 'sailor', 'sake', 'salary', 'sale', 'salesperson', 'salon', 'salt', 'same', 'samoan', 'san', 'sanction', 'sand', 'sandbag', 'sandstone', 'sandy', 'sang', 'sank', 'santa', 'santo', 'sap', 'sapphire', 'satin', 'satisfaction', 'satisfactory', 'satisfied', 'satisfy', 'saturday', 'sausage', 'savage', 'save', 'saving', 'saw', 'say', 'scale', 'scan', 'scandal', 'scar', 'scarf', 'scenario', 'scent', 'schedule', 'scheme', 'school', 'scissor', 'scoop', 'score', 'scot', 'scrap', 'scratch', 'scratched', 'scream', 'screen', 'screw', 'screwdown', 'screwdriver', 'scrub', 'scuffle', 'se', 'sea', 'seal', 'seam', 'seams', 'sear', 'search', 'season', 'seat', 'seattle', 'seawalker', 'sebago', 'second', 'secondary', 'secondly', 'secret', 'section', 'secure', 'securely', 'security', 'see', 'seek', 'seem', 'seemingly', 'seen', 'seize', 'seizing', 'seldom', 'select', 'selection', 'self', 'sell', 'seller', 'selling', 'semi', 'send', 'senior', 'sensation', 'sense', 'sensitive', 'sensitivity', 'separate', 'separately', 'separation', 'september', 'serie', 'series', 'serious', 'seriously', 'serve', 'service', 'serviceable', 'session', 'set', 'setting', 'settle', 'seven', 'several', 'severe', 'sevi', 'sew', 'sewing', 'sewn', 'sex', 'shade', 'shadowline', 'shaft', 'shake', 'shako', 'shakos', 'shall', 'shallow', 'shalt', 'shame', 'shampoo', 'shape', 'shapely', 'shapewear', 'share', 'sharp', 'shave', 'shaving', 'shawl', 'sheath', 'shed', 'sheen', 'sheep', 'sheepskin', 'sheer', 'sheet', 'shelf', 'shell', 'shelter', 'sherman', 'shield', 'shift', 'shill', 'shin', 'shine', 'shiny', 'ship', 'shipment', 'shipper', 'shipping', 'shirt', 'shiver', 'shock', 'shocked', 'shod', 'shoe', 'shoelace', 'shoesandal', 'shoesthe', 'shoesthey', 'shoot', 'shop', 'shopping', 'shore', 'short', 'shortcoming', 'shorten', 'shorter', 'shortly', 'shot', 'should', 'shoulder', 'shout', 'shove', 'shovel', 'show', 'shower', 'showing', 'shrank', 'shred', 'shrink', 'shrinkage', 'shrinktofit', 'shrunk', 'shut', 'shy', 'si', 'sick', 'sickle', 'sickness', 'side', 'sidewalk', 'sideways', 'sigh', 'sight', 'sign', 'signal', 'signature', 'significant', 'significantly', 'silent', 'silhouette', 'silicon', 'silicone', 'silk', 'silly', 'silver', 'silvery', 'similar', 'similarly', 'simon', 'simple', 'simplicity', 'simply', 'sin', 'since', 'sing', 'singapore', 'single', 'sink', 'sinner', 'sister', 'sit', 'site', 'situation', 'six', 'size', 'sized', 'sizethe', 'skeptically', 'sketch', 'ski', 'skill', 'skin', 'skinny', 'skirt', 'skull', 'sky', 'slack', 'slander', 'slap', 'slate', 'sleek', 'sleep', 'sleeping', 'sleepless', 'sleev', 'sleeve', 'slender', 'slice', 'slide', 'slight', 'slightly', 'slim', 'sling', 'slip', 'slipper', 'slippered', 'slippers', 'slippery', 'slit', 'slogger', 'slope', 'slot', 'slough', 'sloughy', 'slow', 'slowly', 'small', 'smaller', 'smallish', 'smart', 'smartphone', 'smartwol', 'smash', 'smell', 'smile', 'smith', 'smoke', 'smooth', 'smoothly', 'smoothness', 'smudge', 'smythe', 'snack', 'snake', 'snakeskin', 'snap', 'sneer', 'snorkel', 'snort', 'snow', 'snowy', 'snuff', 'snug', 'snuggery', 'snugly', 'so', 'soak', 'soap', 'soccer', 'social', 'society', 'sock', 'socket', 'soda', 'soft', 'soften', 'softer', 'softly', 'softness', 'software', 'soil', 'sol', 'solar', 'solaratomic', 'soldier', 'sole', 'solid', 'solo', 'solution', 'solve', 'some', 'somebody', 'someday', 'somehow', 'someone', 'someplace', 'something', 'sometime', 'sometimes', 'somewhat', 'somewhere', 'son', 'song', 'soon', 'sooner', 'soothe', 'sophisticated', 'sore', 'sorry', 'sort', 'soul', 'sound', 'source', 'south', 'southern', 'space', 'spacious', 'spade', 'spaghetti', 'spain', 'span', 'spanish', 'spare', 'sparkle', 'speak', 'speaker', 'special', 'specially', 'specific', 'specifically', 'specification', 'specify', 'speck', 'spectacular', 'speech', 'speed', 'speedy', 'spell', 'spend', 'spending', 'spent', 'spice', 'spider', 'spike', 'spill', 'spin', 'spine', 'spiral', 'spirit', 'spit', 'spite', 'splash', 'splint', 'split', 'spoil', 'sponge', 'spoon', 'sport', 'sporting', 'spot', 'spouse', 'spr', 'spray', 'spread', 'spring', 'springsumer', 'spur', 'spy', 'spyglass', 'square', 'squat', 'squeak', 'squeaky', 'squeeze', 'squish', 'squishy', 'st', 'stab', 'stability', 'stabilizer', 'stable', 'staff', 'stage', 'stain', 'stair', 'stamp', 'stance', 'stand', 'standard', 'standing', 'staple', 'star', 'starch', 'start', 'startle', 'state', 'statement', 'static', 'station', 'stationary', 'status', 'stay', 'stayed', 'stays', 'steady', 'steal', 'steam', 'steel', 'steep', 'stem', 'step', 'sterling', 'sternum', 'stick', 'sticky', 'stiff', 'stiffen', 'stiffness', 'still', 'stink', 'stitch', 'stitching', 'stock', 'stocking', 'stomach', 'stone', 'stonewash', 'stop', 'stoper', 'stoppage', 'stopwatch', 'storage', 'store', 'storm', 'story', 'stout', 'str', 'straight', 'straighten', 'straightforward', 'strain', 'strange', 'strangely', 'stranger', 'strap', 'straps', 'strapsthe', 'stray', 'stream', 'street', 'strength', 'strenuous', 'stress', 'stretch', 'stretchable', 'stretcher', 'stretchiness', 'strict', 'strictly', 'stride', 'strike', 'string', 'strip', 'stripe', 'stroke', 'stroll', 'strong', 'strongly', 'structure', 'struggle', 'stuck', 'stud', 'student', 'studio', 'study', 'stuff', 'stuffed', 'stumble', 'stun', 'stunning', 'stupid', 'sturdiness', 'sturdy', 'style', 'stylish', 'sub', 'subject', 'subjective', 'submarine', 'submerge', 'substance', 'substantial', 'substantially', 'substitute', 'subtle', 'subtract', 'success', 'successful', 'successfully', 'such', 'suck', 'sudden', 'suddenly', 'sue', 'suffer', 'suffice', 'sufficient', 'sufficiently', 'suggest', 'suggestion', 'suit', 'suitable', 'suitcase', 'suited', 'sum', 'summary', 'summer', 'summertime', 'sun', 'sunday', 'sundry', 'sunglass', 'sunlight', 'sunny', 'sunscreen', 'sunshine', 'super', 'superb', 'superbe', 'superbreak', 'superhero', 'superior', 'supper', 'supple', 'supplement', 'supplier', 'supply', 'support', 'suppose', 'supposed', 'supposedly', 'suppurative', 'sure', 'surely', 'surf', 'surface', 'surge', 'surgery', 'surgical', 'surpass', 'surplus', 'surprise', 'surprised', 'surprising', 'surprisingly', 'surround', 'survive', 'suspect', 'suspend', 'swam', 'swamp', 'swan', 'swap', 'swarovski', 'swear', 'sweat', 'sweatpant', 'sweatshirt', 'sweep', 'sweet', 'sweeter', 'swell', 'swim', 'swimmer', 'swimming', 'swimsuit', 'swing', 'swis', 'swiss', 'switch', 'swollen', 'sword', 'symbol', 'synthesis', 'system', 'ta', 'tabe', 'table', 'tablet', 'tack', 'tactical', 'tag', 'tail', 'tailor', 'take', 'talk', 'tall', 'tamarac', 'tangle', 'tank', 'tap', 'tape', 'taper', 'target', 'tarso', 'tasha', 'task', 'taste', 'tattoo', 'tax', 'taylor', 'te', 'tea', 'teach', 'teacher', 'teaching', 'team', 'teamster', 'tear', 'technical', 'technically', 'technique', 'technology', 'teenage', 'teenager', 'telephone', 'tell', 'temp', 'temperature', 'temple', 'temporary', 'tempt', 'ten', 'tend', 'tendency', 'tender', 'tendon', 'tennis', 'tension', 'tent', 'tenth', 'teramar', 'term', 'terrain', 'terrible', 'terribly', 'terrific', 'test', 'testing', 'texas', 'text', 'textbook', 'texture', 'th', 'thailand', 'than', 'thank', 'thankful', 'that', 'the', 'theater', 'thembut', 'theme', 'themthese', 'themthey', 'themthis', 'then', 'theory', 'there', 'therefore', 'thermal', 'thermasilk', 'thermometer', 'these', 'thesethey', 'thick', 'thicker', 'thickness', 'thigh', 'thighigh', 'thighs', 'thin', 'thing', 'think', 'thinking', 'thinner', 'thinness', 'third', 'thirty', 'this', 'thither', 'thorax', 'thorn', 'thoroughly', 'those', 'thou', 'though', 'thought', 'thousand', 'thread', 'threadbare', 'three', 'threw', 'thrifty', 'thrill', 'thrilled', 'through', 'throughout', 'throw', 'thumb', 'thumbs', 'thursday', 'thus', 'thy', 'ti', 'tick', 'ticket', 'tie', 'tien', 'tiger', 'tight', 'tighten', 'tighter', 'tightly', 'tightness', 'til', 'tile', 'till', 'tilt', 'timberland', 'time', 'timekeeping', 'timely', 'timepiece', 'timezone', 'timing', 'timothy', 'tin', 'tint', 'tiny', 'tip', 'tire', 'tired', 'tireless', 'tis', 'tissue', 'tit', 'titanic', 'title', 'titus', 'tm', 'to', 'toast', 'today', 'toe', 'toes', 'together', 'toi', 'toil', 'toilet', 'toiletry', 'tolerable', 'tolerance', 'tolerate', 'toller', 'tomorrow', 'ton', 'tone', 'tongue', 'tonic', 'tonight', 'tonsil', 'too', 'tool', 'tooth', 'toothbrush', 'toothpaste', 'top', 'torn', 'tortoise', 'torture', 'tory', 'toss', 'total', 'totally', 'touch', 'tough', 'tour', 'tourist', 'toward', 'towards', 'towel', 'tower', 'town', 'toy', 'trace', 'track', 'traction', 'trade', 'tradeoff', 'tradition', 'traditional', 'traffic', 'trail', 'train', 'trainer', 'training', 'tramp', 'transfer', 'transition', 'translate', 'transparent', 'transport', 'trap', 'trash', 'travel', 'traveler', 'traveling', 'traveltime', 'tray', 'tread', 'treadmill', 'treasure', 'treat', 'treatment', 'tree', 'tremendous', 'trend', 'trial', 'triangle', 'triangular', 'triathlon', 'trick', 'tricky', 'trifle', 'trigger', 'trim', 'trip', 'triple', 'troop', 'tropical', 'trotter', 'trouble', 'trouser', 'truck', 'true', 'truetosize', 'truly', 'trunk', 'trust', 'trusty', 'truth', 'try', 'trying', 'tub', 'tube', 'tuck', 'tucked', 'tug', 'tumble', 'tune', 'tungsten', 'tunic', 'turk', 'turn', 'turquoise', 'turtle', 'turtleneck', 'tut', 'twelve', 'twenty', 'twice', 'twin', 'twist', 'twisted', 'twitch', 'two', 'twofold', 'twotone', 'type', 'typical', 'typically', 'ugh', 'ugliness', 'ugly', 'ultimate', 'ultimately', 'ultra', 'ultrasonic', 'umbrella', 'un', 'unable', 'unacceptable', 'unattractive', 'unbearable', 'unbelievable', 'unbelievably', 'uncle', 'uncomfortable', 'under', 'underarm', 'undergarment', 'undermine', 'underneath', 'underpant', 'undershirt', 'undersized', 'understand', 'undertake', 'underwater', 'underwear', 'underwir', 'underwire', 'undo', 'undone', 'uneven', 'unexpected', 'unexpectedly', 'unfordable', 'unfortunate', 'unfortunately', 'unhappy', 'unidirectional', 'uniform', 'union', 'unique', 'unit', 'unite', 'united', 'universal', 'unknown', 'unless', 'unlike', 'unlikely', 'unload', 'unlock', 'unnatural', 'unnecessary', 'unobtrusive', 'unpack', 'unpleasant', 'unravel', 'unseen', 'unsightly', 'untied', 'until', 'unusual', 'unusually', 'unwanted', 'up', 'update', 'updated', 'upgrade', 'uplift', 'upon', 'upper', 'upright', 'upset', 'upside', 'upward', 'upwards', 'urban', 'urge', 'us', 'usage', 'use', 'used', 'useful', 'usefulness', 'useless', 'user', 'usual', 'usually', 'utilitarian', 'utility', 'utilize', 'utterly', 'vacation', 'vagrant', 'valentine', 'valley', 'valuable', 'value', 'van', 'vanity', 'vantage', 'variation', 'variety', 'various', 'varnish', 'vary', 'vector', 'vehicle', 'vein', 'velcro', 'velvet', 'vendor', 'venezuela', 'venice', 'ventilator', 'venture', 'verdict', 'verify', 'versatile', 'versatility', 'version', 'versus', 'vertical', 'very', 'vest', 'via', 'vice', 'victor', 'victoria', 'victory', 'video', 'vienna', 'view', 'viewing', 'vigor', 'vigorous', 'vinegar', 'virtually', 'visibility', 'visible', 'vision', 'visit', 'visitor', 'visual', 'vital', 'vivid', 'vocabulary', 'voice', 'voila', 'vol', 'volume', 'vote', 'vs', 'wa', 'wad', 'wagram', 'waist', 'waistband', 'wait', 'wake', 'walk', 'walker', 'walking', 'walks', 'wall', 'wallerian', 'wallet', 'walnut', 'wan', 'wand', 'wander', 'want', 'wanted', 'war', 'wardrobe', 'ware', 'warehouse', 'warfare', 'warm', 'warmer', 'warmth', 'warn', 'warning', 'warrant', 'warranty', 'wary', 'wash', 'washable', 'washed', 'washerdryer', 'washing', 'washington', 'waste', 'watch', 'watchband', 'watchful', 'watchman', 'watchthe', 'watchthis', 'water', 'wateresistant', 'waterproof', 'waterproofing', 'wave', 'wax', 'way', 'wayfarer', 'weak', 'wealth', 'weapon', 'wear', 'wearer', 'wearing', 'wears', 'weary', 'weather', 'weave', 'web', 'webbing', 'webpage', 'webster', 'wed', 'wedding', 'wedge', 'wee', 'week', 'weekend', 'weekly', 'weeper', 'weigh', 'weight', 'weird', 'welcome', 'welfare', 'welfit', 'well', 'went', 'weren', 'west', 'western', 'wet', 'what', 'whatev', 'whatnot', 'whatsoever', 'wheel', 'wheelchair', 'when', 'whenever', 'whereas', 'wherever', 'whether', 'whichev', 'whim', 'whisper', 'whistle', 'white', 'who', 'whoever', 'whole', 'whose', 'wick', 'wicked', 'wide', 'widely', 'widen', 'wider', 'width', 'wife', 'wig', 'wild', 'wildly', 'will', 'willing', 'win', 'wind', 'windbreaker', 'winding', 'window', 'windsor', 'windy', 'wine', 'wing', 'winner', 'winter', 'wipe', 'wire', 'wirefre', 'wisconsin', 'wise', 'wish', 'with', 'within', 'without', 'withstand', 'wizard', 'wo', 'wodlore', 'wolf', 'woman', 'wonder', 'wonderful', 'wonderfully', 'wood', 'wooden', 'woodland', 'woodwork', 'wool', 'word', 'wore', 'work', 'workbag', 'worked', 'worker', 'workhouse', 'working', 'workmanship', 'workout', 'workshop', 'world', 'worldly', 'worn', 'worried', 'worry', 'worse', 'worth', 'worthless', 'worthwhile', 'worthy', 'would', 'wouldn', 'wound', 'wrangle', 'wrap', 'wreck', 'wrestle', 'wriggle', 'wrinkle', 'wrinkled', 'wrist', 'wristband', 'write', 'writer', 'writing', 'wrong', 'wythe', 'xx', 'yaktrax', 'yard', 'yea', 'yeah', 'year', 'yellow', 'yep', 'yes', 'yesterday', 'yet', 'yoke', 'york', 'young', 'youth', 'zealand', 'zenger', 'zero', 'zip', 'zone']\n"
     ]
    }
   ],
   "source": [
    "# Print feature names\n",
    "feature_names = bow_vectorizer.get_feature_names()\n",
    "print (feature_names)"
   ]
  },
  {
   "cell_type": "code",
   "execution_count": 41,
   "metadata": {
    "collapsed": false
   },
   "outputs": [
    {
     "name": "stdout",
     "output_type": "stream",
     "text": [
      "   ab  abdominal  ability  able  abolish  about  abrasion  abroad  absent  \\\n",
      "0   0          0        0     0        0      0         0       0       0   \n",
      "1   0          0        0     0        0      0         0       0       0   \n",
      "2   0          0        0     0        0      0         0       0       0   \n",
      "3   0          0        0     0        0      0         0       0       0   \n",
      "4   0          0        0     0        0      0         0       0       0   \n",
      "\n",
      "   absolute  ...   yet  yoke  york  young  youth  zealand  zenger  zero  zip  \\\n",
      "0         0  ...     0     0     0      0      0        0       0     0    0   \n",
      "1         0  ...     0     0     0      0      0        0       0     0    0   \n",
      "2         0  ...     0     0     0      0      0        0       0     0    0   \n",
      "3         0  ...     0     0     0      0      0        0       0     0    0   \n",
      "4         0  ...     0     0     0      0      0        0       0     0    0   \n",
      "\n",
      "   zone  \n",
      "0     0  \n",
      "1     0  \n",
      "2     0  \n",
      "3     0  \n",
      "4     0  \n",
      "\n",
      "[5 rows x 5000 columns]\n"
     ]
    }
   ],
   "source": [
    "features_bow = bow_train_features.todense()\n",
    "display_features(features_bow[0:5], feature_names)"
   ]
  },
  {
   "cell_type": "markdown",
   "metadata": {},
   "source": [
    "* __TF-IDF Features__"
   ]
  },
  {
   "cell_type": "code",
   "execution_count": 42,
   "metadata": {
    "collapsed": true
   },
   "outputs": [],
   "source": [
    "# tfidf features\n",
    "tfidf_vectorizer, tfidf_train_features = tfidf_extractor(train_corpus)  \n",
    "tfidf_test_features = tfidf_vectorizer.transform(test_corpus)\n",
    "feature_set.append(('Tfidf features', tfidf_train_features, tfidf_test_features))"
   ]
  },
  {
   "cell_type": "code",
   "execution_count": 43,
   "metadata": {
    "collapsed": false
   },
   "outputs": [
    {
     "name": "stdout",
     "output_type": "stream",
     "text": [
      "['ab', 'abdominal', 'ability', 'able', 'abolish', 'about', 'abrasion', 'abroad', 'absent', 'absolute', 'absolutely', 'absorb', 'absorbent', 'absurd', 'abuse', 'accent', 'accentuate', 'accept', 'acceptable', 'access', 'accessible', 'accessory', 'accident', 'accidentally', 'accidently', 'accommodate', 'accompany', 'accomplish', 'accord', 'accordingly', 'account', 'accuracy', 'accurate', 'accurately', 'accustomed', 'ache', 'achieve', 'achille', 'acorn', 'acquire', 'across', 'acrylic', 'act', 'action', 'activate', 'active', 'activity', 'actual', 'actually', 'acutely', 'ad', 'adam', 'adapt', 'add', 'added', 'adding', 'addition', 'additional', 'address', 'adequate', 'adequately', 'adhere', 'adhesive', 'adjust', 'adjustable', 'adjusted', 'adjustment', 'admire', 'admit', 'admittedly', 'adorable', 'adore', 'adult', 'advance', 'advanced', 'advantage', 'adventure', 'advertise', 'advertised', 'advertisement', 'advertising', 'advice', 'advise', 'advocate', 'aerobic', 'aesthetic', 'aesthetically', 'affair', 'affect', 'afford', 'afghanistan', 'afraid', 'africa', 'after', 'afternoon', 'afterthought', 'afterwards', 'again', 'against', 'age', 'agent', 'aggressive', 'agitator', 'ago', 'agree', 'ah', 'ahead', 'aid', 'aide', 'aim', 'air', 'airline', 'airplane', 'airport', 'airy', 'aisle', 'ak', 'al', 'ala', 'alan', 'alarm', 'alas', 'alaska', 'albeit', 'alcohol', 'ali', 'alien', 'align', 'alike', 'all', 'allen', 'allergic', 'alleviate', 'alley', 'allot', 'allow', 'almost', 'alone', 'along', 'alphabet', 'already', 'alright', 'also', 'altar', 'alter', 'alteration', 'alternate', 'alternative', 'although', 'altimeter', 'altogether', 'aluminium', 'always', 'amaze', 'amazed', 'amazing', 'amazingly', 'amazon', 'amazoncom', 'amazonthe', 'amber', 'america', 'american', 'among', 'amongst', 'amount', 'ample', 'an', 'anadigi', 'analogy', 'anatomy', 'anchor', 'and', 'anel', 'angel', 'angle', 'angry', 'animal', 'ankl', 'ankle', 'ankles', 'anna', 'anniversary', 'annoy', 'annoyance', 'annoyed', 'annoying', 'another', 'answer', 'anti', 'anticipate', 'antimicrobial', 'antique', 'antitarnish', 'any', 'anybody', 'anyhow', 'anymore', 'anyone', 'anything', 'anyway', 'anywhere', 'apart', 'apparel', 'apparent', 'apparently', 'appeal', 'appealing', 'appear', 'appearance', 'apple', 'application', 'apply', 'appreciate', 'apprehensive', 'approach', 'appropriate', 'appropriately', 'approve', 'approximately', 'april', 'apron', 'arbat', 'arch', 'arctic', 'ardor', 'area', 'argue', 'arise', 'arizona', 'arm', 'armor', 'armour', 'armpit', 'army', 'aroma', 'around', 'arrange', 'arrangement', 'array', 'arrival', 'arrive', 'arrived', 'arrow', 'art', 'arthritis', 'article', 'articular', 'artificial', 'as', 'ascit', 'ascite', 'ash', 'asia', 'aside', 'ask', 'asleep', 'aspect', 'ass', 'assemble', 'assembly', 'assert', 'asset', 'assist', 'associate', 'assortment', 'assume', 'assure', 'at', 'athlete', 'athletic', 'atlantic', 'atomic', 'attach', 'attached', 'attachment', 'attack', 'attempt', 'attend', 'attention', 'attire', 'attitude', 'attract', 'attractive', 'attribute', 'audit', 'august', 'aunt', 'austin', 'australia', 'authentic', 'authenticity', 'authorize', 'auto', 'automatic', 'automatically', 'autumn', 'avail', 'availability', 'available', 'ave', 'avenue', 'average', 'avoid', 'await', 'aware', 'away', 'awe', 'awesome', 'awful', 'awhile', 'awkward', 'baby', 'back', 'background', 'backing', 'backlight', 'backpack', 'backpacking', 'backside', 'backward', 'backwards', 'bad', 'badge', 'badly', 'bag', 'bagalini', 'baggage', 'baggy', 'bah', 'bailey', 'baker', 'balaclava', 'balance', 'balanced', 'balconete', 'balcony', 'ball', 'ballet', 'ballroom', 'ban', 'banana', 'band', 'bandage', 'bandit', 'bandolier', 'bang', 'bangladesh', 'bank', 'banking', 'bar', 'bare', 'barefoot', 'barely', 'bargain', 'barn', 'barrier', 'base', 'baseball', 'basement', 'basic', 'basically', 'basis', 'basket', 'basketball', 'bass', 'bat', 'batch', 'bath', 'bathe', 'bathing', 'bathroom', 'batman', 'battery', 'battle', 'bay', 'bc', 'be', 'beach', 'bead', 'beam', 'bean', 'bear', 'bearable', 'bearer', 'bearpaw', 'beat', 'beating', 'beautiful', 'beautifully', 'beauty', 'because', 'become', 'bed', 'bedroom', 'bee', 'beef', 'beer', 'beeswax', 'before', 'beg', 'begin', 'beginning', 'behalf', 'behind', 'behold', 'beige', 'believe', 'believer', 'bell', 'belly', 'belong', 'belova', 'beloved', 'below', 'belt', 'bend', 'beneath', 'beneficial', 'benefit', 'bent', 'berkshire', 'beside', 'besides', 'best', 'bet', 'better', 'beware', 'beyond', 'bicycle', 'bid', 'bidding', 'bien', 'big', 'bigger', 'bike', 'bill', 'billfold', 'bin', 'bind', 'binder', 'binding', 'birch', 'bird', 'birkenstock', 'birth', 'birthday', 'birthstone', 'bit', 'bite', 'bitter', 'bizarre', 'black', 'bladder', 'blade', 'blaine', 'blame', 'blanket', 'blast', 'blaze', 'bleed', 'blend', 'bless', 'blessing', 'blind', 'blister', 'bloch', 'block', 'blood', 'blow', 'blue', 'bluish', 'blush', 'board', 'boat', 'bodice', 'body', 'bodysuit', 'boil', 'bold', 'bolster', 'bolt', 'bomb', 'bomber', 'bone', 'bonus', 'book', 'booklet', 'boot', 'border', 'bore', 'boring', 'boris', 'borrow', 'bosom', 'boss', 'boston', 'bostonian', 'both', 'bother', 'bothersome', 'bottle', 'bottom', 'bough', 'bought', 'bounce', 'bound', 'bout', 'boutique', 'bow', 'box', 'boxer', 'boy', 'boyfriend', 'boyshort', 'br', 'brace', 'bracelet', 'brag', 'brain', 'branch', 'brand', 'brass', 'bravado', 'brazil', 'breach', 'break', 'breaker', 'breaking', 'breast', 'breasted', 'breastfeed', 'breath', 'breathability', 'breathable', 'breathe', 'breathing', 'breeze', 'breezy', 'brick', 'bridesmaid', 'bridge', 'brief', 'briefcase', 'bright', 'brighter', 'brightly', 'brightness', 'brilliant', 'brim', 'bring', 'britain', 'british', 'brittle', 'broad', 'broke', 'broken', 'bronze', 'brother', 'brotherinlaw', 'brown', 'browse', 'bruise', 'brush', 'bsetup', 'bu', 'bubble', 'buck', 'bucket', 'buckle', 'bud', 'budget', 'buena', 'buff', 'bug', 'buggy', 'build', 'building', 'bulge', 'bulk', 'bulky', 'bull', 'bullet', 'bump', 'bunch', 'bundle', 'bunion', 'burgundy', 'burn', 'bury', 'bus', 'bush', 'bushy', 'business', 'bust', 'busy', 'but', 'butt', 'butter', 'butterfly', 'buttock', 'button', 'buxton', 'buy', 'buyer', 'buying', 'buzz', 'by', 'cadet', 'cage', 'cake', 'calculate', 'calculated', 'calculation', 'calendar', 'calf', 'calibre', 'calidad', 'california', 'call', 'calvin', 'camel', 'camera', 'camisole', 'camouflage', 'camp', 'camping', 'can', 'canada', 'cancel', 'cancer', 'candle', 'candy', 'canopy', 'canva', 'canvas', 'cap', 'capability', 'capable', 'capacity', 'cape', 'caper', 'capered', 'capezio', 'captain', 'capture', 'car', 'carbon', 'card', 'cardboard', 'cardinal', 'care', 'career', 'careful', 'carefully', 'careless', 'cargo', 'caribbean', 'carpenter', 'carpet', 'carpi', 'carrier', 'carry', 'cart', 'carter', 'case', 'caseback', 'cash', 'cashier', 'casque', 'cast', 'casual', 'casually', 'cat', 'catalogue', 'catch', 'category', 'caterpillar', 'cathcart', 'caught', 'causal', 'cause', 'caution', 'cautious', 'ce', 'cedar', 'celebrate', 'cell', 'cellar', 'celtic', 'cement', 'cent', 'center', 'central', 'century', 'ceremony', 'certain', 'certainly', 'chafe', 'chaff', 'chaffing', 'chain', 'chair', 'challenge', 'champ', 'champion', 'chance', 'change', 'changed', 'channel', 'chaos', 'character', 'characteristic', 'charcoal', 'charge', 'charity', 'charm', 'chart', 'chase', 'cheap', 'cheaper', 'cheaply', 'check', 'checkbook', 'checking', 'cheek', 'cheese', 'chemical', 'chemise', 'cherokee', 'chest', 'chester', 'chestnut', 'chew', 'chicago', 'chicken', 'chief', 'child', 'childhood', 'chill', 'chilly', 'chime', 'chin', 'china', 'chinchilla', 'chinese', 'chink', 'chintz', 'chip', 'chlorine', 'chocolate', 'choice', 'choke', 'choose', 'chose', 'christma', 'christmas', 'chronic', 'chronograph', 'chronometer', 'chubby', 'chuck', 'church', 'circle', 'circular', 'circulation', 'circumstance', 'citizen', 'city', 'civilian', 'cl', 'claim', 'clamp', 'clarity', 'clark', 'clasp', 'class', 'classic', 'classroom', 'claw', 'clean', 'cleaner', 'cleaning', 'clear', 'clearance', 'clearly', 'cleavage', 'cleft', 'clergy', 'clerk', 'clever', 'click', 'client', 'climate', 'climb', 'climbing', 'clinch', 'cling', 'clinical', 'clip', 'clock', 'close', 'closed', 'closely', 'closer', 'closet', 'closing', 'closure', 'clot', 'cloth', 'clothe', 'clothing', 'cloud', 'clown', 'club', 'clue', 'clumsy', 'clung', 'clutch', 'cm', 'co', 'coach', 'coal', 'coarse', 'coast', 'coat', 'coating', 'code', 'coffee', 'coffin', 'coil', 'coin', 'cold', 'colder', 'colfax', 'coli', 'collapse', 'collar', 'collect', 'collection', 'collector', 'college', 'colombia', 'color', 'colorado', 'colored', 'coloring', 'colour', 'coloured', 'colourful', 'columbia', 'comb', 'combat', 'combination', 'combine', 'come', 'comedy', 'comfort', 'comfortable', 'comfortablethe', 'comfortably', 'command', 'comment', 'commercial', 'common', 'commune', 'community', 'compact', 'companion', 'company', 'comparable', 'compare', 'comparison', 'compartment', 'compass', 'compensate', 'compete', 'competition', 'competitive', 'competitor', 'complain', 'complaint', 'complement', 'complete', 'completely', 'complex', 'complicate', 'complicated', 'compliment', 'comply', 'component', 'composite', 'compress', 'compression', 'compromise', 'computer', 'con', 'conceal', 'concentrate', 'concept', 'concern', 'concerned', 'concert', 'conclusion', 'concrete', 'condition', 'cone', 'confidence', 'confident', 'configuration', 'confine', 'confirm', 'conform', 'confuse', 'confused', 'confusing', 'conjunction', 'connect', 'connection', 'connoisseur', 'conscious', 'consequently', 'conservative', 'consider', 'considerable', 'considerably', 'consideration', 'considering', 'consist', 'consistency', 'consistent', 'consistently', 'console', 'constant', 'constantly', 'constrict', 'construct', 'construction', 'constructive', 'consult', 'consumer', 'contact', 'contain', 'container', 'content', 'contest', 'continually', 'continue', 'continuous', 'contour', 'contract', 'contractor', 'contrast', 'contribute', 'control', 'convenience', 'convenient', 'convention', 'conventional', 'conversation', 'converse', 'convert', 'convertible', 'convince', 'convinced', 'cook', 'cooking', 'cool', 'coolness', 'cooper', 'coordinate', 'copper', 'copy', 'coral', 'cord', 'cordon', 'core', 'cork', 'corn', 'corner', 'corporate', 'correct', 'correctly', 'correspond', 'corset', 'cortex', 'cosmetic', 'cost', 'costa', 'costly', 'costo', 'costume', 'cotton', 'couch', 'could', 'couldn', 'count', 'countdown', 'counter', 'counterfeit', 'countless', 'country', 'county', 'couple', 'coupon', 'course', 'court', 'cousin', 'couture', 'cover', 'coverage', 'covered', 'cowboy', 'crack', 'cradle', 'craft', 'craftsmanship', 'cram', 'cramp', 'cramped', 'crawl', 'crazy', 'cream', 'crease', 'create', 'credit', 'creek', 'creep', 'crew', 'crime', 'cripple', 'crisp', 'criterion', 'critical', 'criticism', 'crooked', 'crop', 'cros', 'crosbody', 'cross', 'crouch', 'crowd', 'crown', 'cruise', 'crumple', 'crush', 'crutch', 'cruz', 'cry', 'crystal', 'cuba', 'cuff', 'culture', 'cumberland', 'cumbersome', 'cup', 'cure', 'curious', 'curl', 'curly', 'currency', 'current', 'currently', 'curse', 'curve', 'curved', 'cushion', 'cushioned', 'custom', 'customer', 'cut', 'cycle', 'cycling', 'cyclop', 'cylinder', 'da', 'dad', 'daddy', 'daily', 'dainty', 'dakin', 'dakota', 'damage', 'damaged', 'damn', 'damp', 'dan', 'dance', 'dancer', 'dancing', 'danger', 'dangerous', 'dangle', 'daniel', 'dare', 'dark', 'darker', 'darkness', 'darling', 'database', 'date', 'datum', 'daughter', 'daughterinlaw', 'dawn', 'day', 'daycare', 'daylight', 'daypack', 'daysthe', 'daytime', 'dayton', 'de', 'dead', 'deal', 'dealer', 'dear', 'dearfoam', 'death', 'debate', 'debit', 'debut', 'decade', 'deceive', 'december', 'decent', 'decently', 'decide', 'decision', 'deck', 'declare', 'decline', 'decorate', 'decoration', 'decorative', 'deduce', 'deep', 'deeper', 'deer', 'def', 'default', 'defeat', 'defect', 'defective', 'defiantly', 'definite', 'definitely', 'definition', 'deglazer', 'degree', 'del', 'delay', 'delegate', 'delicate', 'delight', 'delighted', 'delightful', 'deliver', 'delivery', 'demand', 'deni', 'denis', 'dense', 'deny', 'deodorant', 'department', 'depend', 'dependable', 'dependent', 'depict', 'deploy', 'depth', 'describe', 'description', 'desert', 'deserve', 'design', 'designate', 'designer', 'desire', 'desk', 'desperate', 'despite', 'destination', 'destroy', 'detachable', 'detail', 'detailed', 'deter', 'detergent', 'deteriorate', 'determine', 'develop', 'device', 'dew', 'dexterity', 'diabetic', 'dial', 'diameter', 'diamond', 'didn', 'die', 'diet', 'differ', 'difference', 'different', 'differently', 'difficult', 'difficulty', 'dig', 'dighton', 'digit', 'digital', 'digitalanalog', 'dilute', 'dim', 'dimension', 'diminish', 'dingley', 'dingy', 'dining', 'dinner', 'dinnerless', 'dip', 'direct', 'direction', 'directly', 'dirt', 'dirty', 'disability', 'disabled', 'disagree', 'disappear', 'disappoint', 'disappointed', 'disappointing', 'disappointment', 'disc', 'discard', 'discoloration', 'discomfort', 'discontinue', 'discount', 'discover', 'discreet', 'discrepancy', 'discrete', 'disguise', 'dish', 'disintegrate', 'dislike', 'dismount', 'displace', 'display', 'disposable', 'disposal', 'dissection', 'distance', 'distinct', 'distinctive', 'distract', 'distressed', 'distribute', 'dive', 'diver', 'divide', 'diving', 'division', 'do', 'dock', 'doctor', 'document', 'doesn', 'dog', 'doll', 'dollar', 'dome', 'dominican', 'donate', 'donation', 'done', 'door', 'dootie', 'dose', 'dot', 'double', 'doubt', 'doubtful', 'down', 'downgrade', 'download', 'downpour', 'downside', 'downward', 'dozen', 'dr', 'drab', 'draft', 'drag', 'dragon', 'drain', 'drama', 'dramatic', 'dramatically', 'drape', 'draw', 'drawback', 'drawer', 'drawstr', 'drawstring', 'dread', 'dream', 'dres', 'dress', 'dressed', 'dresser', 'dressing', 'drift', 'drill', 'drink', 'drip', 'drive', 'driver', 'driveway', 'driving', 'drone', 'droning', 'droop', 'drop', 'dry', 'drying', 'du', 'dual', 'duck', 'duct', 'due', 'dull', 'dumb', 'dump', 'dung', 'dungaree', 'duplicate', 'duragold', 'during', 'dust', 'dusted', 'dutch', 'duty', 'dwyer', 'dye', 'each', 'eagle', 'ear', 'earlier', 'early', 'earmuff', 'earn', 'earner', 'earning', 'earring', 'earth', 'ease', 'easier', 'easily', 'east', 'easter', 'easy', 'eat', 'ebook', 'ecodrive', 'economic', 'economical', 'ecstatic', 'edge', 'edit', 'edition', 'edmund', 'effect', 'effective', 'effectively', 'efficient', 'effort', 'eg', 'egg', 'egypt', 'eight', 'either', 'el', 'elastic', 'elasticity', 'elbow', 'elder', 'elderly', 'electric', 'electricity', 'electronic', 'elegance', 'elegant', 'element', 'eleven', 'eligible', 'eliminate', 'elingwod', 'elite', 'elope', 'else', 'elsewhere', 'em', 'email', 'embarrass', 'embarrassed', 'embarrassing', 'emblem', 'emboss', 'embrace', 'embroider', 'embroidery', 'emergency', 'emphasize', 'employ', 'employment', 'empty', 'en', 'enable', 'enclose', 'encounter', 'encourage', 'end', 'endless', 'endorsement', 'endow', 'endowed', 'endure', 'enemy', 'energy', 'engage', 'engaged', 'engineer', 'engineering', 'england', 'english', 'enhance', 'enjoy', 'enormous', 'enough', 'ensure', 'enter', 'entire', 'entirely', 'entreat', 'entry', 'envelope', 'environment', 'equal', 'equally', 'equipment', 'equivalent', 'er', 'era', 'errand', 'error', 'es', 'escape', 'esp', 'especially', 'essential', 'essentially', 'est', 'estate', 'estimate', 'etc', 'euer', 'europe', 'european', 'evaluate', 'evan', 'eve', 'even', 'evening', 'evenly', 'event', 'eventhough', 'eventually', 'ever', 'every', 'everybody', 'everyday', 'everyone', 'everything', 'everytime', 'everywhere', 'evidence', 'evident', 'evidently', 'evil', 'ex', 'exact', 'exactly', 'examine', 'example', 'exceed', 'excellence', 'excellent', 'except', 'exception', 'exceptional', 'exceptionally', 'excess', 'excessive', 'excessively', 'exchange', 'excite', 'excited', 'excitement', 'exciting', 'exclusively', 'excursion', 'exercise', 'exist', 'exodri', 'exoficio', 'expand', 'expandable', 'expansion', 'expect', 'expectation', 'expected', 'expedition', 'expense', 'expensive', 'experience', 'experienced', 'experiment', 'expert', 'explain', 'explanation', 'explore', 'expose', 'exposure', 'express', 'extend', 'extended', 'extension', 'extensive', 'extent', 'exterior', 'external', 'extra', 'extreme', 'extremely', 'eye', 'eyeglass', 'eyelid', 'fabric', 'fabulous', 'face', 'facility', 'fact', 'factor', 'factory', 'fad', 'fade', 'fail', 'failure', 'fair', 'fairly', 'fairy', 'faithful', 'fall', 'false', 'familiar', 'family', 'famous', 'fan', 'fancy', 'fanny', 'fantastic', 'far', 'fare', 'farm', 'farmer', 'farther', 'fashion', 'fashionable', 'fashioned', 'fashioning', 'fast', 'fasten', 'fastened', 'fastener', 'faster', 'fat', 'father', 'fatherinlaw', 'fatigue', 'fatty', 'fault', 'faut', 'favor', 'favorit', 'favorite', 'favourite', 'fear', 'fearless', 'fearlessly', 'feather', 'feature', 'feb', 'february', 'fee', 'feed', 'feedback', 'feel', 'feeling', 'feet', 'fell', 'fellow', 'felt', 'female', 'feminine', 'fence', 'festival', 'fetch', 'fete', 'few', 'fiance', 'fianceacute', 'fiancee', 'fibre', 'field', 'fifteen', 'fifth', 'fifty', 'fig', 'fight', 'figure', 'figured', 'file', 'filigree', 'fill', 'film', 'filter', 'filthy', 'final', 'finally', 'find', 'finding', 'fine', 'finer', 'finger', 'fingernail', 'fingertip', 'finish', 'finished', 'fir', 'fire', 'firing', 'firm', 'firmly', 'first', 'firstly', 'fish', 'fisherman', 'fishing', 'fit', 'fitness', 'fitted', 'fitting', 'five', 'fivestar', 'fix', 'flag', 'flair', 'flame', 'flannel', 'flap', 'flaps', 'flare', 'flash', 'flashlight', 'flat', 'flatten', 'flatter', 'flattering', 'flaw', 'fleecy', 'flesh', 'flex', 'flexibility', 'flexible', 'flight', 'flipflop', 'flipflops', 'float', 'flog', 'flood', 'floor', 'flop', 'floppy', 'flora', 'florida', 'florsheim', 'flow', 'flower', 'fluctuate', 'fluff', 'fluffy', 'fluid', 'flush', 'fly', 'foam', 'focus', 'fog', 'foi', 'foil', 'fold', 'folk', 'follow', 'follower', 'fond', 'font', 'food', 'fool', 'foot', 'football', 'footgear', 'footstep', 'for', 'forbid', 'force', 'forearm', 'forehead', 'foreign', 'foreman', 'foremost', 'forest', 'forever', 'forgery', 'forget', 'forgive', 'form', 'formal', 'format', 'former', 'formula', 'forth', 'fortunate', 'fortunately', 'fortune', 'forty', 'forward', 'fossil', 'found', 'foundation', 'four', 'fourth', 'fox', 'fraction', 'fragile', 'frame', 'france', 'frankly', 'fraser', 'fray', 'frayed', 'freak', 'free', 'freedom', 'freely', 'freeze', 'french', 'frequent', 'frequently', 'fresh', 'friction', 'friday', 'friend', 'friendly', 'frigid', 'fringe', 'from', 'front', 'frontier', 'fruit', 'frustrate', 'frustrated', 'frustration', 'frye', 'ft', 'fulfil', 'fulfill', 'full', 'fully', 'fulsize', 'fun', 'function', 'functional', 'functionality', 'funeral', 'funny', 'fur', 'fuss', 'fussy', 'future', 'gain', 'gaiter', 'gal', 'gallery', 'gallop', 'gamble', 'game', 'gap', 'garage', 'garden', 'gardening', 'garment', 'garnish', 'garter', 'gas', 'gasp', 'gate', 'gather', 'gauge', 'gauzy', 'gear', 'gem', 'general', 'generally', 'generation', 'generous', 'generously', 'genetic', 'genius', 'gentle', 'gentleman', 'gently', 'genuine', 'georgia', 'german', 'germany', 'get', 'ghost', 'giant', 'gift', 'gigantic', 'gilman', 'ginger', 'girdle', 'girl', 'girlfriend', 'girth', 'give', 'glad', 'gladly', 'glamorise', 'glance', 'glander', 'glare', 'glass', 'glide', 'glimmer', 'glitter', 'glory', 'gloss', 'glossy', 'glove', 'glow', 'glue', 'go', 'goal', 'god', 'goddess', 'godlok', 'godson', 'gold', 'golden', 'golf', 'gone', 'good', 'goodness', 'goodwill', 'goose', 'gordon', 'gorge', 'gorgeous', 'got', 'gotten', 'gouge', 'gown', 'grab', 'gracious', 'grade', 'gradually', 'graduate', 'graft', 'grain', 'grand', 'grandchild', 'granddad', 'granddaughter', 'grandmother', 'grandson', 'granger', 'granny', 'grant', 'grape', 'graph', 'graphic', 'grass', 'grateful', 'grave', 'gravel', 'gravity', 'gray', 'grease', 'great', 'greatly', 'green', 'greenish', 'grey', 'grid', 'grime', 'grind', 'grip', 'grm', 'grocer', 'grocery', 'groin', 'grommet', 'groom', 'groove', 'gross', 'ground', 'group', 'grow', 'grown', 'growth', 'grumpy', 'guarantee', 'guard', 'gues', 'guess', 'guest', 'guide', 'guideline', 'guilty', 'gum', 'gumma', 'gun', 'gusset', 'gust', 'gustave', 'gusto', 'gut', 'guy', 'ha', 'habit', 'hack', 'hair', 'haired', 'haiti', 'half', 'halfsize', 'halfway', 'halloween', 'halo', 'halt', 'hammer', 'hamper', 'hand', 'handcuff', 'handful', 'handkerchief', 'handle', 'handling', 'handsome', 'handwash', 'handy', 'hang', 'hanging', 'happen', 'happier', 'happily', 'happy', 'hard', 'harder', 'hardihood', 'hardly', 'hardware', 'hardy', 'harley', 'harm', 'harness', 'harold', 'harry', 'harsh', 'haste', 'hat', 'hata', 'hate', 'haul', 'havaiana', 'havana', 'have', 'haven', 'hawaii', 'head', 'headache', 'headband', 'headphone', 'heal', 'healing', 'health', 'healthy', 'heap', 'hear', 'hearing', 'heart', 'heartbroken', 'heartfelt', 'heartily', 'heat', 'heathen', 'heather', 'heaven', 'heavenly', 'heavier', 'heavily', 'heavy', 'heavyduty', 'heavyweight', 'heel', 'height', 'held', 'hell', 'hello', 'helmet', 'help', 'helpful', 'hem', 'hemp', 'hence', 'henry', 'her', 'here', 'herethe', 'hero', 'hesitate', 'hesitation', 'hetty', 'hey', 'hi', 'hidden', 'hide', 'hideous', 'hiding', 'high', 'higher', 'highly', 'highquality', 'hill', 'hinder', 'hinge', 'hint', 'hip', 'hiram', 'history', 'hit', 'hm', 'ho', 'hobby', 'hold', 'holder', 'holding', 'hole', 'holiday', 'holy', 'homage', 'home', 'homework', 'hondura', 'honest', 'honestly', 'honey', 'honeymoon', 'honor', 'hood', 'hooded', 'hoofs', 'hook', 'hooked', 'hop', 'hope', 'hopeful', 'hopefully', 'hoping', 'horizontal', 'horn', 'horrible', 'horribly', 'horrid', 'horse', 'hosmer', 'hospital', 'host', 'hot', 'hotel', 'hour', 'hourglass', 'hours', 'house', 'household', 'how', 'however', 'hue', 'hug', 'huge', 'hum', 'human', 'humble', 'humid', 'humidity', 'hundred', 'hung', 'hunger', 'hunt', 'hunter', 'hunting', 'hurry', 'hurt', 'husband', 'husky', 'hut', 'hydration', 'ice', 'icy', 'idea', 'ideal', 'ideally', 'identical', 'identify', 'if', 'ignore', 'ii', 'ill', 'illuminate', 'illumination', 'iluminator', 'image', 'imagination', 'imagine', 'imitation', 'immediate', 'immediately', 'immensely', 'immersion', 'impact', 'imperfection', 'import', 'importance', 'important', 'importantly', 'impossible', 'impres', 'impress', 'impressed', 'impression', 'impressive', 'imprint', 'improve', 'improved', 'improvement', 'in', 'inaccurate', 'inbetwen', 'inch', 'incline', 'inclined', 'include', 'inconsistency', 'inconsistent', 'inconvenience', 'inconvenient', 'incorrect', 'incorrectly', 'increase', 'incredible', 'incredibly', 'indeed', 'indentation', 'indestructible', 'index', 'india', 'indicate', 'indicator', 'indie', 'indigo', 'individual', 'individually', 'indoor', 'indoors', 'induration', 'industrial', 'industry', 'inevitably', 'infant', 'infection', 'inferior', 'inflammable', 'inform', 'informal', 'information', 'ingenious', 'initial', 'initially', 'injury', 'ink', 'inner', 'insanely', 'insect', 'insert', 'inside', 'insight', 'insist', 'inspect', 'inspection', 'inspector', 'inspire', 'instal', 'install', 'instance', 'instant', 'instantly', 'instead', 'instep', 'instruction', 'instructor', 'instrument', 'insulate', 'insulated', 'insult', 'insurance', 'intact', 'integrity', 'intend', 'intended', 'intense', 'intent', 'intention', 'intentionally', 'interest', 'interested', 'interesting', 'interface', 'interfere', 'interior', 'internal', 'international', 'internet', 'interval', 'interview', 'intimate', 'into', 'introduce', 'intuition', 'invent', 'inventor', 'invest', 'investment', 'invisible', 'invite', 'involf', 'involve', 'involved', 'inward', 'ireland', 'iridium', 'irish', 'iron', 'ironic', 'irregular', 'irritate', 'irritated', 'irritating', 'irritation', 'island', 'isn', 'iso', 'isotoner', 'issue', 'it', 'italian', 'italy', 'itch', 'itchiness', 'itchy', 'item', 'ivory', 'jack', 'jacket', 'jam', 'jame', 'jan', 'jane', 'january', 'japan', 'japanese', 'jaw', 'jazz', 'jealous', 'jean', 'jeansthey', 'jerky', 'jersey', 'jesuit', 'jet', 'jewel', 'jeweller', 'jewellery', 'jezebel', 'jim', 'jingle', 'job', 'jockey', 'john', 'join', 'joint', 'joke', 'journey', 'joy', 'judge', 'julie', 'july', 'jump', 'jumper', 'jumping', 'june', 'jungle', 'junior', 'just', 'justice', 'justify', 'kangaroo', 'kayaking', 'keen', 'keep', 'keeper', 'keeping', 'keepsake', 'kenneth', 'kept', 'key', 'kick', 'kid', 'kill', 'killer', 'kind', 'kindle', 'kinetic', 'king', 'kis', 'kiss', 'kit', 'kitchen', 'kitty', 'knee', 'kneel', 'knife', 'knit', 'knob', 'knock', 'knockoff', 'knot', 'know', 'knowledge', 'known', 'knuckle', 'la', 'lab', 'label', 'labor', 'lace', 'lack', 'lacking', 'ladder', 'lady', 'lag', 'lagging', 'lake', 'lamb', 'lamp', 'land', 'landau', 'lane', 'language', 'lank', 'lap', 'large', 'largely', 'larger', 'las', 'last', 'lasting', 'lastly', 'latch', 'late', 'lately', 'later', 'lateral', 'lathe', 'latin', 'latter', 'laugh', 'laura', 'laurel', 'lavender', 'law', 'lawless', 'lawn', 'lawton', 'lay', 'layer', 'laying', 'layout', 'lazy', 'lb', 'le', 'lead', 'leader', 'leaf', 'leak', 'leakage', 'lean', 'leap', 'learn', 'learning', 'least', 'leather', 'leave', 'lee', 'left', 'leg', 'legendary', 'legging', 'legible', 'legs', 'leisure', 'len', 'lend', 'length', 'lengthen', 'lengthwise', 'lengthy', 'lens', 'leopard', 'les', 'less', 'lesson', 'let', 'letter', 'level', 'lever', 'leverback', 'levi', 'levy', 'lewi', 'lewis', 'liable', 'liberal', 'license', 'lick', 'lid', 'lie', 'life', 'lifesaver', 'lifespan', 'lifestyle', 'lifetime', 'lift', 'lifting', 'ligament', 'light', 'lighter', 'lighting', 'lightly', 'lightness', 'lightning', 'lightweight', 'like', 'liked', 'likely', 'likewise', 'liking', 'lilac', 'lilyete', 'limb', 'lime', 'limit', 'limitation', 'limited', 'limp', 'lincoln', 'line', 'liner', 'linger', 'lingered', 'lingo', 'lining', 'link', 'lint', 'lip', 'lipping', 'lipstick', 'liquid', 'list', 'listen', 'literally', 'lithe', 'lithium', 'little', 'live', 'living', 'll', 'lo', 'load', 'loaded', 'loafer', 'loathe', 'lobster', 'local', 'locally', 'locate', 'location', 'lock', 'locket', 'log', 'logging', 'lollipop', 'london', 'long', 'longer', 'longevity', 'longlast', 'longsleve', 'look', 'looked', 'looking', 'lookout', 'loom', 'loop', 'loose', 'loosely', 'loosen', 'loot', 'lord', 'los', 'lose', 'loss', 'lost', 'lot', 'lotion', 'loud', 'louise', 'lounge', 'lounging', 'louse', 'love', 'loved', 'lovely', 'lover', 'loving', 'low', 'lower', 'loyal', 'luck', 'luckily', 'lucky', 'luggage', 'lui', 'luke', 'luman', 'lumen', 'luminescent', 'luminous', 'lump', 'lunaire', 'lunch', 'lure', 'luster', 'luxurious', 'luxury', 'ma', 'machine', 'mad', 'made', 'madman', 'madonna', 'magazine', 'magic', 'magical', 'magnet', 'magnetic', 'magnify', 'magnifying', 'mahogany', 'maidenform', 'mail', 'mailbox', 'main', 'maine', 'mainly', 'maintain', 'maintenance', 'major', 'majority', 'make', 'maker', 'making', 'male', 'mall', 'mamma', 'man', 'manage', 'mandate', 'maneuver', 'manipulate', 'manly', 'manner', 'manual', 'manufacture', 'manufacturer', 'manufacturing', 'many', 'map', 'marathon', 'march', 'margin', 'marine', 'mark', 'marked', 'marker', 'market', 'marketing', 'marking', 'maroon', 'married', 'marshall', 'marvelous', 'mary', 'masculine', 'mask', 'mass', 'massage', 'massive', 'master', 'mat', 'match', 'material', 'matter', 'mature', 'max', 'maxim', 'maximum', 'may', 'maybe', 'mean', 'meaning', 'meant', 'meantime', 'measure', 'measured', 'measurement', 'mechanic', 'mechanical', 'mechanism', 'med', 'medal', 'medical', 'medium', 'meet', 'meeting', 'melissa', 'melt', 'member', 'membership', 'memory', 'mend', 'mental', 'mentally', 'mention', 'menu', 'mephisto', 'merchandise', 'merchant', 'mere', 'merely', 'merit', 'merry', 'mesh', 'mess', 'message', 'messenger', 'metal', 'metallic', 'mete', 'method', 'mexico', 'mi', 'michigan', 'micro', 'microfiber', 'microphone', 'mid', 'midcalf', 'middle', 'midnight', 'midst', 'midwife', 'milan', 'mild', 'mile', 'mileage', 'military', 'milk', 'million', 'mimi', 'min', 'mind', 'minded', 'mine', 'mineral', 'minetonka', 'minetonkas', 'minimal', 'minimalist', 'minimize', 'minimum', 'minor', 'minus', 'minute', 'miracle', 'mirror', 'mis', 'miserable', 'mislabel', 'mislead', 'miss', 'missing', 'mission', 'mistake', 'mistaken', 'misty', 'mix', 'mixed', 'mm', 'mo', 'mob', 'mobile', 'mock', 'mode', 'model', 'moderate', 'moderately', 'modern', 'modest', 'modestly', 'modesty', 'modification', 'modify', 'module', 'moisture', 'mold', 'molded', 'moment', 'mon', 'monday', 'money', 'monitor', 'monkey', 'monster', 'month', 'monthly', 'mood', 'moon', 'moral', 'more', 'moreover', 'mormon', 'morning', 'mortar', 'moscow', 'moss', 'most', 'mostly', 'mother', 'motherinlaw', 'motion', 'motorcycle', 'mount', 'mountain', 'mouth', 'movable', 'move', 'movement', 'movie', 'moving', 'mow', 'mrs', 'ms', 'much', 'mud', 'muddy', 'mug', 'mule', 'multi', 'multiple', 'multipurpose', 'mummy', 'munch', 'mundi', 'muscle', 'muscular', 'music', 'must', 'myoma', 'mystery', 'na', 'nail', 'naked', 'name', 'narrow', 'narrowed', 'nasal', 'naso', 'nasty', 'national', 'native', 'natural', 'naturally', 'nature', 'naval', 'navigable', 'navy', 'nd', 'ne', 'near', 'nearby', 'nearly', 'neat', 'neatly', 'necessarily', 'necessary', 'necessity', 'neck', 'necklace', 'need', 'needed', 'needle', 'needless', 'negative', 'neighbor', 'neighborhood', 'neither', 'neoprene', 'nephew', 'nerve', 'nervous', 'net', 'nether', 'network', 'neuro', 'neuroma', 'neuropathic', 'neutral', 'never', 'nevertheless', 'new', 'newer', 'newport', 'news', 'newspaper', 'next', 'nice', 'nicely', 'nicer', 'nicest', 'nicety', 'nickel', 'niece', 'night', 'nightgown', 'nightmare', 'nighttime', 'nina', 'nine', 'nip', 'nipper', 'nipple', 'no', 'nobody', 'nodule', 'noise', 'noisy', 'non', 'none', 'nonetheless', 'nonexistent', 'nonpolariz', 'nonsense', 'nonslip', 'nonstop', 'noon', 'nordstrom', 'norm', 'normal', 'normally', 'north', 'northeast', 'northern', 'northwest', 'nose', 'not', 'notch', 'note', 'notebook', 'noted', 'nothing', 'notice', 'noticeable', 'noticeably', 'noticed', 'november', 'now', 'nowadays', 'nowhere', 'numb', 'number', 'numerous', 'nurse', 'nursing', 'nut', 'nuts', 'ny', 'object', 'obnoxious', 'obscure', 'observation', 'obsess', 'obtain', 'obvious', 'obviously', 'occasion', 'occasional', 'occasionally', 'occur', 'ocean', 'october', 'odd', 'oddly', 'odor', 'of', 'off', 'offer', 'offering', 'office', 'officer', 'official', 'offset', 'often', 'oh', 'oil', 'oily', 'ointment', 'ok', 'oka', 'okay', 'old', 'oldfashion', 'olga', 'olive', 'on', 'one', 'onepiece', 'onethis', 'online', 'only', 'onset', 'onto', 'ooze', 'op', 'opaque', 'open', 'opened', 'opening', 'opera', 'operate', 'operation', 'operator', 'opinion', 'opportunity', 'oppose', 'opposite', 'opt', 'option', 'or', 'orange', 'order', 'ordered', 'ordering', 'ordinarily', 'ordinary', 'org', 'organic', 'organization', 'organizational', 'organize', 'organized', 'organizer', 'original', 'originally', 'orthopaedic', 'orthotic', 'other', 'otherwise', 'ought', 'ounce', 'out', 'outcast', 'outcome', 'outdoor', 'outer', 'outerwear', 'outfit', 'outgrowth', 'outing', 'outlet', 'outline', 'outrageous', 'outre', 'outside', 'outstanding', 'outward', 'oval', 'oven', 'over', 'overall', 'overcoat', 'overhead', 'overlap', 'overlay', 'overlie', 'overlook', 'overnight', 'overprice', 'overpriced', 'overseas', 'overshoe', 'overshoes', 'oversiz', 'oversized', 'overstuffed', 'overwhelming', 'owe', 'own', 'owner', 'oxford', 'oz', 'pace', 'pacific', 'pack', 'package', 'packed', 'packet', 'packing', 'pad', 'padded', 'paddle', 'page', 'pain', 'painful', 'painless', 'paint', 'painter', 'painting', 'pair', 'pairs', 'palace', 'pale', 'palm', 'palmar', 'panama', 'panel', 'pantyhose', 'pantyline', 'paper', 'paperthin', 'paperwork', 'par', 'para', 'parade', 'parameter', 'paratrooper', 'parent', 'paris', 'park', 'parking', 'part', 'partially', 'particular', 'particularly', 'partie', 'partition', 'partner', 'party', 'pas', 'pass', 'passion', 'passport', 'past', 'paste', 'patch', 'patent', 'paternity', 'path', 'pathfinder', 'patience', 'patient', 'pattern', 'pavement', 'paw', 'pay', 'peace', 'peak', 'pear', 'pearl', 'peasant', 'pebble', 'peddler', 'peel', 'pen', 'pencil', 'penetrate', 'penny', 'people', 'per', 'percent', 'percentage', 'perfect', 'perfection', 'perfectly', 'perform', 'performance', 'performer', 'perhaps', 'peri', 'period', 'periodically', 'periwinkle', 'permanent', 'permanently', 'perpetual', 'perry', 'person', 'personal', 'personality', 'personally', 'perspective', 'perspiration', 'pet', 'peter', 'petite', 'petty', 'phantom', 'phase', 'phone', 'photo', 'photograph', 'photographer', 'phrase', 'physical', 'pick', 'picking', 'pickpocket', 'picnic', 'picture', 'pictured', 'piece', 'pier', 'pierce', 'pierre', 'pig', 'pile', 'pill', 'pillage', 'pillow', 'pilot', 'pin', 'pinch', 'pink', 'pinkish', 'pip', 'pirate', 'pistol', 'pit', 'pitch', 'pity', 'place', 'placement', 'plague', 'plaid', 'plain', 'plan', 'plane', 'planet', 'planning', 'plant', 'plantar', 'planter', 'plastic', 'plate', 'platform', 'plating', 'platino', 'play', 'player', 'playing', 'plea', 'pleas', 'pleasant', 'pleasantly', 'please', 'pleased', 'pleasing', 'pleasure', 'plenty', 'pliable', 'plover', 'plug', 'plumber', 'plunge', 'plus', 'plush', 'pm', 'pobox', 'pock', 'pocket', 'podiatrist', 'point', 'pointed', 'poke', 'poland', 'polar', 'polarize', 'polarized', 'polartec', 'pole', 'police', 'policy', 'polish', 'polished', 'polite', 'poly', 'polyester', 'polyurethane', 'pool', 'poor', 'poorly', 'pop', 'popular', 'popularization', 'porch', 'port', 'portable', 'porter', 'portion', 'pose', 'position', 'positive', 'possibility', 'possible', 'possibly', 'post', 'postage', 'postpartum', 'posture', 'pot', 'potential', 'potentially', 'pouch', 'pound', 'pour', 'powder', 'power', 'powerful', 'pp', 'practical', 'practically', 'practice', 'praise', 'pre', 'preach', 'precious', 'precise', 'precisely', 'precision', 'predict', 'prefer', 'preference', 'preferred', 'pregnancy', 'pregnant', 'premature', 'premium', 'prepare', 'prepared', 'prepregnancy', 'preschool', 'prescription', 'present', 'presentable', 'presentation', 'preserve', 'preshrunk', 'press', 'pressure', 'pretend', 'pretty', 'prevent', 'previous', 'previously', 'price', 'pricethe', 'prick', 'pricking', 'pride', 'primarily', 'primary', 'prime', 'princess', 'print', 'printing', 'prior', 'priority', 'private', 'pro', 'probably', 'problem', 'problematical', 'process', 'produce', 'producer', 'product', 'production', 'profession', 'professional', 'professionally', 'profile', 'profit', 'program', 'progress', 'project', 'prolong', 'promise', 'promote', 'promotion', 'prompt', 'promptly', 'pron', 'pronation', 'prone', 'pronounce', 'pronounced', 'pronunciation', 'proof', 'prop', 'proper', 'properly', 'property', 'proportion', 'proportionate', 'protect', 'protection', 'protective', 'protrude', 'proud', 'prove', 'provide', 'public', 'pucker', 'puddle', 'puff', 'puffy', 'pull', 'pump', 'punch', 'punishment', 'puppet', 'puppy', 'purchase', 'purchased', 'purchaser', 'purchasing', 'pure', 'purple', 'purpose', 'purse', 'pursue', 'pus', 'push', 'put', 'quality', 'qualitythe', 'qualm', 'quantity', 'quarante', 'quart', 'quarter', 'que', 'queen', 'quest', 'question', 'quick', 'quickly', 'quiet', 'quietly', 'quit', 'quite', 'race', 'racerback', 'rack', 'radiant', 'radio', 'rag', 'ragged', 'rain', 'rainbow', 'raincoat', 'raincover', 'rainy', 'raise', 'ralph', 'ran', 'random', 'range', 'rank', 'rapid', 'rapidly', 'rare', 'rarely', 'rash', 'rat', 'rate', 'rather', 'rating', 'ratio', 'rattle', 'rave', 'raw', 'ray', 'rayban', 'razor', 'rd', 're', 'reach', 'reaction', 'read', 'readable', 'reader', 'readily', 'reading', 'readjust', 'ready', 'real', 'realise', 'realistic', 'reality', 'realize', 'really', 'rear', 'reason', 'reasonable', 'reasonably', 'recall', 'receipt', 'receive', 'received', 'receiver', 'recent', 'recently', 'reception', 'recess', 'recipient', 'reckless', 'recognition', 'recognize', 'recommend', 'recommendation', 'reconstruct', 'record', 'recorder', 'recover', 'rectangular', 'red', 'reddish', 'redoubt', 'redstone', 'reduce', 'reduction', 'reed', 'reef', 'refer', 'reference', 'reflect', 'reflection', 'reform', 'refresh', 'refund', 'refuse', 'regard', 'regardless', 'region', 'register', 'regret', 'regular', 'regularly', 'reinforce', 'reinforcement', 'relate', 'relation', 'relative', 'relatively', 'relax', 'relaxed', 'release', 'reliability', 'reliable', 'relief', 'relieve', 'relit', 'reluctant', 'reluctantly', 'rely', 'remain', 'remark', 'remarkable', 'remarkably', 'remedi', 'remedy', 'remember', 'remind', 'reminder', 'remote', 'removable', 'removal', 'remove', 'removed', 'render', 'renew', 'rep', 'repair', 'repeat', 'repeatedly', 'repellent', 'replace', 'replaceable', 'replaced', 'replacement', 'reply', 'report', 'represent', 'republic', 'reputation', 'request', 'require', 'requirement', 'research', 'resect', 'resemble', 'reservation', 'reserve', 'reside', 'resident', 'residue', 'resin', 'resist', 'resistance', 'resistant', 'resolve', 'resort', 'respect', 'respond', 'response', 'responsible', 'rest', 'restaurant', 'restore', 'restrict', 'restrictive', 'restroom', 'result', 'retail', 'retailer', 'retain', 'retainer', 'retire', 'retract', 'retro', 'return', 'returned', 'reveal', 'reverse', 'reversible', 'review', 'reviews', 'rib', 'ribbed', 'ribbon', 'ribcage', 'rich', 'rid', 'ride', 'rider', 'ridge', 'ridiculous', 'ridiculously', 'riding', 'right', 'rigid', 'rigidity', 'rigor', 'ring', 'rinse', 'rip', 'ripstop', 'rise', 'risk', 'risky', 'rite', 'rival', 'river', 'rivet', 'road', 'robe', 'robin', 'robust', 'rock', 'rocket', 'rockie', 'rockport', 'rocky', 'rod', 'role', 'roll', 'roller', 'rolling', 'roman', 'rome', 'roof', 'room', 'roomy', 'root', 'rope', 'rose', 'rosy', 'rotate', 'rotation', 'roth', 'rough', 'roughly', 'roughness', 'round', 'rounded', 'route', 'routine', 'row', 'royal', 'rub', 'rubber', 'rubberized', 'rude', 'ruffle', 'rug', 'rugg', 'rugged', 'ruin', 'rule', 'run', 'runner', 'running', 'rural', 'ruse', 'rush', 'russell', 'rust', 'ryazan', 'saber', 'sack', 'sacrifice', 'sad', 'saddle', 'sadly', 'safe', 'safely', 'safety', 'sage', 'sail', 'sailor', 'sake', 'salary', 'sale', 'salesperson', 'salon', 'salt', 'same', 'samoan', 'san', 'sanction', 'sand', 'sandbag', 'sandstone', 'sandy', 'sang', 'sank', 'santa', 'santo', 'sap', 'sapphire', 'satin', 'satisfaction', 'satisfactory', 'satisfied', 'satisfy', 'saturday', 'sausage', 'savage', 'save', 'saving', 'saw', 'say', 'scale', 'scan', 'scandal', 'scar', 'scarf', 'scenario', 'scent', 'schedule', 'scheme', 'school', 'scissor', 'scoop', 'score', 'scot', 'scrap', 'scratch', 'scratched', 'scream', 'screen', 'screw', 'screwdown', 'screwdriver', 'scrub', 'scuffle', 'se', 'sea', 'seal', 'seam', 'seams', 'sear', 'search', 'season', 'seat', 'seattle', 'seawalker', 'sebago', 'second', 'secondary', 'secondly', 'secret', 'section', 'secure', 'securely', 'security', 'see', 'seek', 'seem', 'seemingly', 'seen', 'seize', 'seizing', 'seldom', 'select', 'selection', 'self', 'sell', 'seller', 'selling', 'semi', 'send', 'senior', 'sensation', 'sense', 'sensitive', 'sensitivity', 'separate', 'separately', 'separation', 'september', 'serie', 'series', 'serious', 'seriously', 'serve', 'service', 'serviceable', 'session', 'set', 'setting', 'settle', 'seven', 'several', 'severe', 'sevi', 'sew', 'sewing', 'sewn', 'sex', 'shade', 'shadowline', 'shaft', 'shake', 'shako', 'shakos', 'shall', 'shallow', 'shalt', 'shame', 'shampoo', 'shape', 'shapely', 'shapewear', 'share', 'sharp', 'shave', 'shaving', 'shawl', 'sheath', 'shed', 'sheen', 'sheep', 'sheepskin', 'sheer', 'sheet', 'shelf', 'shell', 'shelter', 'sherman', 'shield', 'shift', 'shill', 'shin', 'shine', 'shiny', 'ship', 'shipment', 'shipper', 'shipping', 'shirt', 'shiver', 'shock', 'shocked', 'shod', 'shoe', 'shoelace', 'shoesandal', 'shoesthe', 'shoesthey', 'shoot', 'shop', 'shopping', 'shore', 'short', 'shortcoming', 'shorten', 'shorter', 'shortly', 'shot', 'should', 'shoulder', 'shout', 'shove', 'shovel', 'show', 'shower', 'showing', 'shrank', 'shred', 'shrink', 'shrinkage', 'shrinktofit', 'shrunk', 'shut', 'shy', 'si', 'sick', 'sickle', 'sickness', 'side', 'sidewalk', 'sideways', 'sigh', 'sight', 'sign', 'signal', 'signature', 'significant', 'significantly', 'silent', 'silhouette', 'silicon', 'silicone', 'silk', 'silly', 'silver', 'silvery', 'similar', 'similarly', 'simon', 'simple', 'simplicity', 'simply', 'sin', 'since', 'sing', 'singapore', 'single', 'sink', 'sinner', 'sister', 'sit', 'site', 'situation', 'six', 'size', 'sized', 'sizethe', 'skeptically', 'sketch', 'ski', 'skill', 'skin', 'skinny', 'skirt', 'skull', 'sky', 'slack', 'slander', 'slap', 'slate', 'sleek', 'sleep', 'sleeping', 'sleepless', 'sleev', 'sleeve', 'slender', 'slice', 'slide', 'slight', 'slightly', 'slim', 'sling', 'slip', 'slipper', 'slippered', 'slippers', 'slippery', 'slit', 'slogger', 'slope', 'slot', 'slough', 'sloughy', 'slow', 'slowly', 'small', 'smaller', 'smallish', 'smart', 'smartphone', 'smartwol', 'smash', 'smell', 'smile', 'smith', 'smoke', 'smooth', 'smoothly', 'smoothness', 'smudge', 'smythe', 'snack', 'snake', 'snakeskin', 'snap', 'sneer', 'snorkel', 'snort', 'snow', 'snowy', 'snuff', 'snug', 'snuggery', 'snugly', 'so', 'soak', 'soap', 'soccer', 'social', 'society', 'sock', 'socket', 'soda', 'soft', 'soften', 'softer', 'softly', 'softness', 'software', 'soil', 'sol', 'solar', 'solaratomic', 'soldier', 'sole', 'solid', 'solo', 'solution', 'solve', 'some', 'somebody', 'someday', 'somehow', 'someone', 'someplace', 'something', 'sometime', 'sometimes', 'somewhat', 'somewhere', 'son', 'song', 'soon', 'sooner', 'soothe', 'sophisticated', 'sore', 'sorry', 'sort', 'soul', 'sound', 'source', 'south', 'southern', 'space', 'spacious', 'spade', 'spaghetti', 'spain', 'span', 'spanish', 'spare', 'sparkle', 'speak', 'speaker', 'special', 'specially', 'specific', 'specifically', 'specification', 'specify', 'speck', 'spectacular', 'speech', 'speed', 'speedy', 'spell', 'spend', 'spending', 'spent', 'spice', 'spider', 'spike', 'spill', 'spin', 'spine', 'spiral', 'spirit', 'spit', 'spite', 'splash', 'splint', 'split', 'spoil', 'sponge', 'spoon', 'sport', 'sporting', 'spot', 'spouse', 'spr', 'spray', 'spread', 'spring', 'springsumer', 'spur', 'spy', 'spyglass', 'square', 'squat', 'squeak', 'squeaky', 'squeeze', 'squish', 'squishy', 'st', 'stab', 'stability', 'stabilizer', 'stable', 'staff', 'stage', 'stain', 'stair', 'stamp', 'stance', 'stand', 'standard', 'standing', 'staple', 'star', 'starch', 'start', 'startle', 'state', 'statement', 'static', 'station', 'stationary', 'status', 'stay', 'stayed', 'stays', 'steady', 'steal', 'steam', 'steel', 'steep', 'stem', 'step', 'sterling', 'sternum', 'stick', 'sticky', 'stiff', 'stiffen', 'stiffness', 'still', 'stink', 'stitch', 'stitching', 'stock', 'stocking', 'stomach', 'stone', 'stonewash', 'stop', 'stoper', 'stoppage', 'stopwatch', 'storage', 'store', 'storm', 'story', 'stout', 'str', 'straight', 'straighten', 'straightforward', 'strain', 'strange', 'strangely', 'stranger', 'strap', 'straps', 'strapsthe', 'stray', 'stream', 'street', 'strength', 'strenuous', 'stress', 'stretch', 'stretchable', 'stretcher', 'stretchiness', 'strict', 'strictly', 'stride', 'strike', 'string', 'strip', 'stripe', 'stroke', 'stroll', 'strong', 'strongly', 'structure', 'struggle', 'stuck', 'stud', 'student', 'studio', 'study', 'stuff', 'stuffed', 'stumble', 'stun', 'stunning', 'stupid', 'sturdiness', 'sturdy', 'style', 'stylish', 'sub', 'subject', 'subjective', 'submarine', 'submerge', 'substance', 'substantial', 'substantially', 'substitute', 'subtle', 'subtract', 'success', 'successful', 'successfully', 'such', 'suck', 'sudden', 'suddenly', 'sue', 'suffer', 'suffice', 'sufficient', 'sufficiently', 'suggest', 'suggestion', 'suit', 'suitable', 'suitcase', 'suited', 'sum', 'summary', 'summer', 'summertime', 'sun', 'sunday', 'sundry', 'sunglass', 'sunlight', 'sunny', 'sunscreen', 'sunshine', 'super', 'superb', 'superbe', 'superbreak', 'superhero', 'superior', 'supper', 'supple', 'supplement', 'supplier', 'supply', 'support', 'suppose', 'supposed', 'supposedly', 'suppurative', 'sure', 'surely', 'surf', 'surface', 'surge', 'surgery', 'surgical', 'surpass', 'surplus', 'surprise', 'surprised', 'surprising', 'surprisingly', 'surround', 'survive', 'suspect', 'suspend', 'swam', 'swamp', 'swan', 'swap', 'swarovski', 'swear', 'sweat', 'sweatpant', 'sweatshirt', 'sweep', 'sweet', 'sweeter', 'swell', 'swim', 'swimmer', 'swimming', 'swimsuit', 'swing', 'swis', 'swiss', 'switch', 'swollen', 'sword', 'symbol', 'synthesis', 'system', 'ta', 'tabe', 'table', 'tablet', 'tack', 'tactical', 'tag', 'tail', 'tailor', 'take', 'talk', 'tall', 'tamarac', 'tangle', 'tank', 'tap', 'tape', 'taper', 'target', 'tarso', 'tasha', 'task', 'taste', 'tattoo', 'tax', 'taylor', 'te', 'tea', 'teach', 'teacher', 'teaching', 'team', 'teamster', 'tear', 'technical', 'technically', 'technique', 'technology', 'teenage', 'teenager', 'telephone', 'tell', 'temp', 'temperature', 'temple', 'temporary', 'tempt', 'ten', 'tend', 'tendency', 'tender', 'tendon', 'tennis', 'tension', 'tent', 'tenth', 'teramar', 'term', 'terrain', 'terrible', 'terribly', 'terrific', 'test', 'testing', 'texas', 'text', 'textbook', 'texture', 'th', 'thailand', 'than', 'thank', 'thankful', 'that', 'the', 'theater', 'thembut', 'theme', 'themthese', 'themthey', 'themthis', 'then', 'theory', 'there', 'therefore', 'thermal', 'thermasilk', 'thermometer', 'these', 'thesethey', 'thick', 'thicker', 'thickness', 'thigh', 'thighigh', 'thighs', 'thin', 'thing', 'think', 'thinking', 'thinner', 'thinness', 'third', 'thirty', 'this', 'thither', 'thorax', 'thorn', 'thoroughly', 'those', 'thou', 'though', 'thought', 'thousand', 'thread', 'threadbare', 'three', 'threw', 'thrifty', 'thrill', 'thrilled', 'through', 'throughout', 'throw', 'thumb', 'thumbs', 'thursday', 'thus', 'thy', 'ti', 'tick', 'ticket', 'tie', 'tien', 'tiger', 'tight', 'tighten', 'tighter', 'tightly', 'tightness', 'til', 'tile', 'till', 'tilt', 'timberland', 'time', 'timekeeping', 'timely', 'timepiece', 'timezone', 'timing', 'timothy', 'tin', 'tint', 'tiny', 'tip', 'tire', 'tired', 'tireless', 'tis', 'tissue', 'tit', 'titanic', 'title', 'titus', 'tm', 'to', 'toast', 'today', 'toe', 'toes', 'together', 'toi', 'toil', 'toilet', 'toiletry', 'tolerable', 'tolerance', 'tolerate', 'toller', 'tomorrow', 'ton', 'tone', 'tongue', 'tonic', 'tonight', 'tonsil', 'too', 'tool', 'tooth', 'toothbrush', 'toothpaste', 'top', 'torn', 'tortoise', 'torture', 'tory', 'toss', 'total', 'totally', 'touch', 'tough', 'tour', 'tourist', 'toward', 'towards', 'towel', 'tower', 'town', 'toy', 'trace', 'track', 'traction', 'trade', 'tradeoff', 'tradition', 'traditional', 'traffic', 'trail', 'train', 'trainer', 'training', 'tramp', 'transfer', 'transition', 'translate', 'transparent', 'transport', 'trap', 'trash', 'travel', 'traveler', 'traveling', 'traveltime', 'tray', 'tread', 'treadmill', 'treasure', 'treat', 'treatment', 'tree', 'tremendous', 'trend', 'trial', 'triangle', 'triangular', 'triathlon', 'trick', 'tricky', 'trifle', 'trigger', 'trim', 'trip', 'triple', 'troop', 'tropical', 'trotter', 'trouble', 'trouser', 'truck', 'true', 'truetosize', 'truly', 'trunk', 'trust', 'trusty', 'truth', 'try', 'trying', 'tub', 'tube', 'tuck', 'tucked', 'tug', 'tumble', 'tune', 'tungsten', 'tunic', 'turk', 'turn', 'turquoise', 'turtle', 'turtleneck', 'tut', 'twelve', 'twenty', 'twice', 'twin', 'twist', 'twisted', 'twitch', 'two', 'twofold', 'twotone', 'type', 'typical', 'typically', 'ugh', 'ugliness', 'ugly', 'ultimate', 'ultimately', 'ultra', 'ultrasonic', 'umbrella', 'un', 'unable', 'unacceptable', 'unattractive', 'unbearable', 'unbelievable', 'unbelievably', 'uncle', 'uncomfortable', 'under', 'underarm', 'undergarment', 'undermine', 'underneath', 'underpant', 'undershirt', 'undersized', 'understand', 'undertake', 'underwater', 'underwear', 'underwir', 'underwire', 'undo', 'undone', 'uneven', 'unexpected', 'unexpectedly', 'unfordable', 'unfortunate', 'unfortunately', 'unhappy', 'unidirectional', 'uniform', 'union', 'unique', 'unit', 'unite', 'united', 'universal', 'unknown', 'unless', 'unlike', 'unlikely', 'unload', 'unlock', 'unnatural', 'unnecessary', 'unobtrusive', 'unpack', 'unpleasant', 'unravel', 'unseen', 'unsightly', 'untied', 'until', 'unusual', 'unusually', 'unwanted', 'up', 'update', 'updated', 'upgrade', 'uplift', 'upon', 'upper', 'upright', 'upset', 'upside', 'upward', 'upwards', 'urban', 'urge', 'us', 'usage', 'use', 'used', 'useful', 'usefulness', 'useless', 'user', 'usual', 'usually', 'utilitarian', 'utility', 'utilize', 'utterly', 'vacation', 'vagrant', 'valentine', 'valley', 'valuable', 'value', 'van', 'vanity', 'vantage', 'variation', 'variety', 'various', 'varnish', 'vary', 'vector', 'vehicle', 'vein', 'velcro', 'velvet', 'vendor', 'venezuela', 'venice', 'ventilator', 'venture', 'verdict', 'verify', 'versatile', 'versatility', 'version', 'versus', 'vertical', 'very', 'vest', 'via', 'vice', 'victor', 'victoria', 'victory', 'video', 'vienna', 'view', 'viewing', 'vigor', 'vigorous', 'vinegar', 'virtually', 'visibility', 'visible', 'vision', 'visit', 'visitor', 'visual', 'vital', 'vivid', 'vocabulary', 'voice', 'voila', 'vol', 'volume', 'vote', 'vs', 'wa', 'wad', 'wagram', 'waist', 'waistband', 'wait', 'wake', 'walk', 'walker', 'walking', 'walks', 'wall', 'wallerian', 'wallet', 'walnut', 'wan', 'wand', 'wander', 'want', 'wanted', 'war', 'wardrobe', 'ware', 'warehouse', 'warfare', 'warm', 'warmer', 'warmth', 'warn', 'warning', 'warrant', 'warranty', 'wary', 'wash', 'washable', 'washed', 'washerdryer', 'washing', 'washington', 'waste', 'watch', 'watchband', 'watchful', 'watchman', 'watchthe', 'watchthis', 'water', 'wateresistant', 'waterproof', 'waterproofing', 'wave', 'wax', 'way', 'wayfarer', 'weak', 'wealth', 'weapon', 'wear', 'wearer', 'wearing', 'wears', 'weary', 'weather', 'weave', 'web', 'webbing', 'webpage', 'webster', 'wed', 'wedding', 'wedge', 'wee', 'week', 'weekend', 'weekly', 'weeper', 'weigh', 'weight', 'weird', 'welcome', 'welfare', 'welfit', 'well', 'went', 'weren', 'west', 'western', 'wet', 'what', 'whatev', 'whatnot', 'whatsoever', 'wheel', 'wheelchair', 'when', 'whenever', 'whereas', 'wherever', 'whether', 'whichev', 'whim', 'whisper', 'whistle', 'white', 'who', 'whoever', 'whole', 'whose', 'wick', 'wicked', 'wide', 'widely', 'widen', 'wider', 'width', 'wife', 'wig', 'wild', 'wildly', 'will', 'willing', 'win', 'wind', 'windbreaker', 'winding', 'window', 'windsor', 'windy', 'wine', 'wing', 'winner', 'winter', 'wipe', 'wire', 'wirefre', 'wisconsin', 'wise', 'wish', 'with', 'within', 'without', 'withstand', 'wizard', 'wo', 'wodlore', 'wolf', 'woman', 'wonder', 'wonderful', 'wonderfully', 'wood', 'wooden', 'woodland', 'woodwork', 'wool', 'word', 'wore', 'work', 'workbag', 'worked', 'worker', 'workhouse', 'working', 'workmanship', 'workout', 'workshop', 'world', 'worldly', 'worn', 'worried', 'worry', 'worse', 'worth', 'worthless', 'worthwhile', 'worthy', 'would', 'wouldn', 'wound', 'wrangle', 'wrap', 'wreck', 'wrestle', 'wriggle', 'wrinkle', 'wrinkled', 'wrist', 'wristband', 'write', 'writer', 'writing', 'wrong', 'wythe', 'xx', 'yaktrax', 'yard', 'yea', 'yeah', 'year', 'yellow', 'yep', 'yes', 'yesterday', 'yet', 'yoke', 'york', 'young', 'youth', 'zealand', 'zenger', 'zero', 'zip', 'zone']\n"
     ]
    }
   ],
   "source": [
    "# Print feature names\n",
    "feature_names = tfidf_vectorizer.get_feature_names()\n",
    "print (feature_names)"
   ]
  },
  {
   "cell_type": "code",
   "execution_count": 44,
   "metadata": {
    "collapsed": false
   },
   "outputs": [
    {
     "name": "stdout",
     "output_type": "stream",
     "text": [
      "    ab  abdominal  ability  able  abolish  about  abrasion  abroad  absent  \\\n",
      "0  0.0        0.0      0.0   0.0      0.0    0.0       0.0     0.0     0.0   \n",
      "1  0.0        0.0      0.0   0.0      0.0    0.0       0.0     0.0     0.0   \n",
      "2  0.0        0.0      0.0   0.0      0.0    0.0       0.0     0.0     0.0   \n",
      "3  0.0        0.0      0.0   0.0      0.0    0.0       0.0     0.0     0.0   \n",
      "4  0.0        0.0      0.0   0.0      0.0    0.0       0.0     0.0     0.0   \n",
      "\n",
      "   absolute  ...   yet  yoke  york  young  youth  zealand  zenger  zero  zip  \\\n",
      "0       0.0  ...   0.0   0.0   0.0    0.0    0.0      0.0     0.0   0.0  0.0   \n",
      "1       0.0  ...   0.0   0.0   0.0    0.0    0.0      0.0     0.0   0.0  0.0   \n",
      "2       0.0  ...   0.0   0.0   0.0    0.0    0.0      0.0     0.0   0.0  0.0   \n",
      "3       0.0  ...   0.0   0.0   0.0    0.0    0.0      0.0     0.0   0.0  0.0   \n",
      "4       0.0  ...   0.0   0.0   0.0    0.0    0.0      0.0     0.0   0.0  0.0   \n",
      "\n",
      "   zone  \n",
      "0   0.0  \n",
      "1   0.0  \n",
      "2   0.0  \n",
      "3   0.0  \n",
      "4   0.0  \n",
      "\n",
      "[5 rows x 5000 columns]\n"
     ]
    }
   ],
   "source": [
    "features = tfidf_train_features.todense()\n",
    "features_tfidf = np.round(features, 2)\n",
    "display_features(features_tfidf[0:5], feature_names)"
   ]
  },
  {
   "cell_type": "markdown",
   "metadata": {},
   "source": [
    "* __Averaged Word Vector Features__"
   ]
  },
  {
   "cell_type": "code",
   "execution_count": 45,
   "metadata": {
    "collapsed": true
   },
   "outputs": [],
   "source": [
    "# tokenize documents\n",
    "tokenized_train = [nltk.word_tokenize(text) for text in train_corpus]\n",
    "tokenized_test = [nltk.word_tokenize(text) for text in test_corpus]"
   ]
  },
  {
   "cell_type": "code",
   "execution_count": 46,
   "metadata": {
    "collapsed": true
   },
   "outputs": [],
   "source": [
    "import gensim\n",
    "\n",
    "# build word2vec model                   \n",
    "model = gensim.models.Word2Vec(tokenized_train,\n",
    "                               size=5000,\n",
    "                               window=100,\n",
    "                               min_count=2,\n",
    "                               sample=1e-3) "
   ]
  },
  {
   "cell_type": "code",
   "execution_count": 47,
   "metadata": {
    "collapsed": true
   },
   "outputs": [],
   "source": [
    "# averaged word vector features\n",
    "avg_wv_train_features = averaged_word_vectorizer(corpus=tokenized_train,\n",
    "                                                 model=model,\n",
    "                                                 num_features=5000)                   \n",
    "avg_wv_test_features = averaged_word_vectorizer(corpus=tokenized_test,\n",
    "                                                model=model,\n",
    "                                                num_features=5000) \n",
    "feature_set.append(('Averaged word vector features', avg_wv_train_features, avg_wv_test_features))"
   ]
  },
  {
   "cell_type": "code",
   "execution_count": 48,
   "metadata": {
    "collapsed": false
   },
   "outputs": [
    {
     "name": "stdout",
     "output_type": "stream",
     "text": [
      "[[-0.009  0.065 -0.076 ..., -0.026 -0.001  0.076]\n",
      " [ 0.033  0.539 -0.5   ...,  0.073  0.087 -0.023]\n",
      " [ 0.063  0.545 -0.355 ..., -0.121 -0.078 -0.048]\n",
      " ..., \n",
      " [ 0.129  0.565 -0.377 ..., -0.049  0.046  0.053]\n",
      " [ 0.054  0.172 -0.232 ..., -0.171 -0.111  0.248]\n",
      " [ 0.057  0.241 -0.168 ..., -0.064  0.015  0.026]]\n"
     ]
    }
   ],
   "source": [
    "# Print test features\n",
    "print (np.round(avg_wv_test_features, 3))"
   ]
  },
  {
   "cell_type": "markdown",
   "metadata": {},
   "source": [
    "* __TF-IDF Weighted Averaged Word Vector features__"
   ]
  },
  {
   "cell_type": "code",
   "execution_count": 49,
   "metadata": {
    "collapsed": true
   },
   "outputs": [],
   "source": [
    "# tfidf weighted averaged word vector features\n",
    "vocab = tfidf_vectorizer.vocabulary_\n",
    "tfidf_wv_train_features = tfidf_weighted_averaged_word_vectorizer(corpus=tokenized_train, \n",
    "                                                                  tfidf_vectors=tfidf_train_features, \n",
    "                                                                  tfidf_vocabulary=vocab, \n",
    "                                                                  model=model, \n",
    "                                                                  num_features=5000)\n",
    "tfidf_wv_test_features = tfidf_weighted_averaged_word_vectorizer(corpus=tokenized_test, \n",
    "                                                                 tfidf_vectors=tfidf_test_features, \n",
    "                                                                 tfidf_vocabulary=vocab, \n",
    "                                                                 model=model, \n",
    "                                                                 num_features=5000)\n",
    "feature_set.append(('Tfidf weighted averaged word vector features', \n",
    "                    tfidf_wv_train_features, tfidf_wv_test_features))"
   ]
  },
  {
   "cell_type": "code",
   "execution_count": 50,
   "metadata": {
    "collapsed": false
   },
   "outputs": [
    {
     "name": "stdout",
     "output_type": "stream",
     "text": [
      "[[  4.00000000e-03   1.03000000e-01  -9.20000000e-02 ...,  -3.00000000e-02\n",
      "    1.00000000e-03   5.00000000e-02]\n",
      " [  1.75000000e-01   1.48900000e+00  -1.30300000e+00 ...,   2.56000000e-01\n",
      "    2.75000000e-01  -2.06000000e-01]\n",
      " [  4.30000000e-02   5.59000000e-01  -3.66000000e-01 ...,  -1.02000000e-01\n",
      "   -8.10000000e-02  -5.80000000e-02]\n",
      " ..., \n",
      " [  1.02000000e-01   4.81000000e-01  -3.28000000e-01 ...,  -3.50000000e-02\n",
      "    3.70000000e-02   6.30000000e-02]\n",
      " [  5.40000000e-02   1.00000000e-01  -2.01000000e-01 ...,  -1.82000000e-01\n",
      "   -1.32000000e-01   3.32000000e-01]\n",
      " [  4.50000000e-02   2.02000000e-01  -1.41000000e-01 ...,  -5.50000000e-02\n",
      "    1.80000000e-02   1.80000000e-02]]\n"
     ]
    }
   ],
   "source": [
    "# Print test features\n",
    "print (np.round(tfidf_wv_test_features, 3))"
   ]
  },
  {
   "cell_type": "markdown",
   "metadata": {},
   "source": [
    "### 3. Function for Evaluating Classification Models"
   ]
  },
  {
   "cell_type": "code",
   "execution_count": 51,
   "metadata": {
    "collapsed": true
   },
   "outputs": [],
   "source": [
    "from sklearn.metrics import accuracy_score, classification_report\n",
    "\n",
    "def get_metrics(true_labels, predicted_labels):\n",
    "    print ('Accuracy: ', accuracy_score(true_labels,predicted_labels))\n",
    "    print (classification_report(true_labels, predicted_labels))"
   ]
  },
  {
   "cell_type": "code",
   "execution_count": 52,
   "metadata": {
    "collapsed": true
   },
   "outputs": [],
   "source": [
    "def train_predict_evaluate_model(classifier, \n",
    "                                 train_features, train_labels, \n",
    "                                 test_features, test_labels):\n",
    "    # build model    \n",
    "    classifier.fit(train_features, train_labels)\n",
    "    # predict using model\n",
    "    train_predictions = classifier.predict(train_features)\n",
    "    test_predictions = classifier.predict(test_features) \n",
    "    # evaluate model prediction performance \n",
    "    print ('Training set performance:')\n",
    "    get_metrics(true_labels=train_labels, predicted_labels=train_predictions)\n",
    "    print ('Test set performance:')\n",
    "    get_metrics(true_labels=test_labels, predicted_labels=test_predictions)\n",
    "    return test_predictions    "
   ]
  },
  {
   "cell_type": "markdown",
   "metadata": {},
   "source": [
    "### 4. Develop and Evaluate Models"
   ]
  },
  {
   "cell_type": "code",
   "execution_count": 53,
   "metadata": {
    "collapsed": true
   },
   "outputs": [],
   "source": [
    "# Build ML methods\n",
    "from sklearn.linear_model import LogisticRegression\n",
    "from sklearn.naive_bayes import MultinomialNB\n",
    "from sklearn.svm import LinearSVC\n",
    "from sklearn.linear_model import SGDClassifier\n",
    "from sklearn.ensemble import RandomForestClassifier\n",
    "\n",
    "# Put all models in a main model\n",
    "models = []\n",
    "models.append(('LR', LogisticRegression()))\n",
    "models.append(('MNB', MultinomialNB()))\n",
    "models.append(('LSVC', LinearSVC()))\n",
    "models.append(('SGD', SGDClassifier()))\n",
    "models.append(('RFC', RandomForestClassifier()))"
   ]
  },
  {
   "cell_type": "code",
   "execution_count": 54,
   "metadata": {
    "collapsed": false,
    "scrolled": true
   },
   "outputs": [
    {
     "name": "stdout",
     "output_type": "stream",
     "text": [
      "==================================================\n",
      "Model: LR\n",
      "Bag of words features\n",
      "Training set performance:\n",
      "Accuracy:  0.790166666667\n",
      "             precision    recall  f1-score   support\n",
      "\n",
      "          1       0.90      0.67      0.77       856\n",
      "          2       0.86      0.55      0.67      1233\n",
      "          3       0.77      0.52      0.62      2273\n",
      "          4       0.71      0.47      0.57      4834\n",
      "          5       0.80      0.96      0.87     14804\n",
      "\n",
      "avg / total       0.78      0.79      0.77     24000\n",
      "\n",
      "Test set performance:\n",
      "Accuracy:  0.653666666667\n",
      "             precision    recall  f1-score   support\n",
      "\n",
      "          1       0.48      0.25      0.33       214\n",
      "          2       0.35      0.20      0.26       308\n",
      "          3       0.34      0.23      0.27       569\n",
      "          4       0.41      0.26      0.32      1208\n",
      "          5       0.74      0.91      0.81      3701\n",
      "\n",
      "avg / total       0.60      0.65      0.62      6000\n",
      "\n",
      "--------------------------------------------------\n",
      "Tfidf features\n",
      "Training set performance:\n",
      "Accuracy:  0.703458333333\n",
      "             precision    recall  f1-score   support\n",
      "\n",
      "          1       0.81      0.23      0.35       856\n",
      "          2       0.68      0.19      0.30      1233\n",
      "          3       0.60      0.26      0.36      2273\n",
      "          4       0.56      0.32      0.41      4834\n",
      "          5       0.73      0.97      0.83     14804\n",
      "\n",
      "avg / total       0.68      0.70      0.66     24000\n",
      "\n",
      "Test set performance:\n",
      "Accuracy:  0.658\n",
      "             precision    recall  f1-score   support\n",
      "\n",
      "          1       0.65      0.15      0.24       214\n",
      "          2       0.31      0.08      0.13       308\n",
      "          3       0.38      0.17      0.24       569\n",
      "          4       0.41      0.23      0.29      1208\n",
      "          5       0.71      0.95      0.81      3701\n",
      "\n",
      "avg / total       0.60      0.66      0.60      6000\n",
      "\n",
      "--------------------------------------------------\n",
      "Averaged word vector features\n",
      "Training set performance:\n",
      "Accuracy:  0.639666666667\n",
      "             precision    recall  f1-score   support\n",
      "\n",
      "          1       0.36      0.07      0.11       856\n",
      "          2       0.39      0.03      0.06      1233\n",
      "          3       0.29      0.07      0.11      2273\n",
      "          4       0.39      0.18      0.24      4834\n",
      "          5       0.68      0.96      0.80     14804\n",
      "\n",
      "avg / total       0.56      0.64      0.56     24000\n",
      "\n",
      "Test set performance:\n",
      "Accuracy:  0.640666666667\n",
      "             precision    recall  f1-score   support\n",
      "\n",
      "          1       0.48      0.07      0.12       214\n",
      "          2       0.37      0.02      0.04       308\n",
      "          3       0.29      0.07      0.12       569\n",
      "          4       0.40      0.18      0.24      1208\n",
      "          5       0.68      0.96      0.80      3701\n",
      "\n",
      "avg / total       0.56      0.64      0.56      6000\n",
      "\n",
      "--------------------------------------------------\n",
      "Tfidf weighted averaged word vector features\n",
      "Training set performance:\n",
      "Accuracy:  0.6335\n",
      "             precision    recall  f1-score   support\n",
      "\n",
      "          1       0.35      0.04      0.08       856\n",
      "          2       0.27      0.01      0.03      1233\n",
      "          3       0.27      0.06      0.09      2273\n",
      "          4       0.39      0.16      0.23      4834\n",
      "          5       0.67      0.96      0.79     14804\n",
      "\n",
      "avg / total       0.54      0.63      0.55     24000\n",
      "\n",
      "Test set performance:\n",
      "Accuracy:  0.636\n",
      "             precision    recall  f1-score   support\n",
      "\n",
      "          1       0.39      0.03      0.06       214\n",
      "          2       0.50      0.02      0.04       308\n",
      "          3       0.23      0.05      0.08       569\n",
      "          4       0.40      0.16      0.23      1208\n",
      "          5       0.67      0.97      0.79      3701\n",
      "\n",
      "avg / total       0.55      0.64      0.55      6000\n",
      "\n",
      "--------------------------------------------------\n",
      "==================================================\n",
      "Model: MNB\n",
      "Bag of words features\n",
      "Training set performance:\n",
      "Accuracy:  0.714916666667\n",
      "             precision    recall  f1-score   support\n",
      "\n",
      "          1       0.65      0.52      0.58       856\n",
      "          2       0.59      0.46      0.52      1233\n",
      "          3       0.52      0.47      0.50      2273\n",
      "          4       0.53      0.42      0.47      4834\n",
      "          5       0.79      0.88      0.83     14804\n",
      "\n",
      "avg / total       0.70      0.71      0.70     24000\n",
      "\n",
      "Test set performance:\n",
      "Accuracy:  0.637\n",
      "             precision    recall  f1-score   support\n",
      "\n",
      "          1       0.46      0.30      0.37       214\n",
      "          2       0.25      0.18      0.21       308\n",
      "          3       0.31      0.27      0.29       569\n",
      "          4       0.37      0.32      0.34      1208\n",
      "          5       0.77      0.86      0.81      3701\n",
      "\n",
      "avg / total       0.61      0.64      0.62      6000\n",
      "\n",
      "--------------------------------------------------\n",
      "Tfidf features\n",
      "Training set performance:\n",
      "Accuracy:  0.630708333333\n",
      "             precision    recall  f1-score   support\n",
      "\n",
      "          1       1.00      0.01      0.02       856\n",
      "          2       0.80      0.00      0.01      1233\n",
      "          3       0.57      0.01      0.03      2273\n",
      "          4       0.58      0.07      0.13      4834\n",
      "          5       0.63      1.00      0.77     14804\n",
      "\n",
      "avg / total       0.64      0.63      0.51     24000\n",
      "\n",
      "Test set performance:\n",
      "Accuracy:  0.621\n",
      "             precision    recall  f1-score   support\n",
      "\n",
      "          1       0.00      0.00      0.00       214\n",
      "          2       1.00      0.00      0.01       308\n",
      "          3       0.57      0.01      0.01       569\n",
      "          4       0.38      0.03      0.06      1208\n",
      "          5       0.63      0.99      0.77      3701\n",
      "\n",
      "avg / total       0.57      0.62      0.49      6000\n",
      "\n",
      "--------------------------------------------------\n",
      "==================================================\n",
      "Model: LSVC\n",
      "Bag of words features\n"
     ]
    },
    {
     "name": "stderr",
     "output_type": "stream",
     "text": [
      "/home/toniachu/ProgramFiles/Anaconda3/lib/python3.6/site-packages/sklearn/metrics/classification.py:1113: UndefinedMetricWarning: Precision and F-score are ill-defined and being set to 0.0 in labels with no predicted samples.\n",
      "  'precision', 'predicted', average, warn_for)\n"
     ]
    },
    {
     "name": "stdout",
     "output_type": "stream",
     "text": [
      "Training set performance:\n",
      "Accuracy:  0.835583333333\n",
      "             precision    recall  f1-score   support\n",
      "\n",
      "          1       0.95      0.87      0.91       856\n",
      "          2       0.91      0.77      0.83      1233\n",
      "          3       0.84      0.67      0.74      2273\n",
      "          4       0.77      0.54      0.64      4834\n",
      "          5       0.84      0.96      0.89     14804\n",
      "\n",
      "avg / total       0.83      0.84      0.83     24000\n",
      "\n",
      "Test set performance:\n",
      "Accuracy:  0.629833333333\n",
      "             precision    recall  f1-score   support\n",
      "\n",
      "          1       0.37      0.31      0.34       214\n",
      "          2       0.28      0.24      0.26       308\n",
      "          3       0.29      0.23      0.26       569\n",
      "          4       0.36      0.25      0.30      1208\n",
      "          5       0.75      0.87      0.80      3701\n",
      "\n",
      "avg / total       0.59      0.63      0.61      6000\n",
      "\n",
      "--------------------------------------------------\n",
      "Tfidf features\n",
      "Training set performance:\n",
      "Accuracy:  0.78325\n",
      "             precision    recall  f1-score   support\n",
      "\n",
      "          1       0.88      0.69      0.77       856\n",
      "          2       0.82      0.54      0.65      1233\n",
      "          3       0.76      0.49      0.60      2273\n",
      "          4       0.68      0.46      0.55      4834\n",
      "          5       0.80      0.96      0.87     14804\n",
      "\n",
      "avg / total       0.78      0.78      0.77     24000\n",
      "\n",
      "Test set performance:\n",
      "Accuracy:  0.6545\n",
      "             precision    recall  f1-score   support\n",
      "\n",
      "          1       0.48      0.29      0.36       214\n",
      "          2       0.36      0.19      0.25       308\n",
      "          3       0.36      0.23      0.28       569\n",
      "          4       0.38      0.26      0.31      1208\n",
      "          5       0.74      0.91      0.82      3701\n",
      "\n",
      "avg / total       0.61      0.65      0.62      6000\n",
      "\n",
      "--------------------------------------------------\n",
      "Averaged word vector features\n",
      "Training set performance:\n",
      "Accuracy:  0.638041666667\n",
      "             precision    recall  f1-score   support\n",
      "\n",
      "          1       0.41      0.03      0.06       856\n",
      "          2       0.31      0.01      0.01      1233\n",
      "          3       0.29      0.05      0.08      2273\n",
      "          4       0.39      0.17      0.24      4834\n",
      "          5       0.67      0.97      0.79     14804\n",
      "\n",
      "avg / total       0.55      0.64      0.55     24000\n",
      "\n",
      "Test set performance:\n",
      "Accuracy:  0.638666666667\n",
      "             precision    recall  f1-score   support\n",
      "\n",
      "          1       0.45      0.02      0.04       214\n",
      "          2       0.25      0.01      0.01       308\n",
      "          3       0.18      0.03      0.05       569\n",
      "          4       0.40      0.17      0.24      1208\n",
      "          5       0.67      0.97      0.79      3701\n",
      "\n",
      "avg / total       0.54      0.64      0.54      6000\n",
      "\n",
      "--------------------------------------------------\n",
      "Tfidf weighted averaged word vector features\n",
      "Training set performance:\n",
      "Accuracy:  0.633791666667\n",
      "             precision    recall  f1-score   support\n",
      "\n",
      "          1       0.40      0.02      0.04       856\n",
      "          2       0.24      0.00      0.01      1233\n",
      "          3       0.30      0.03      0.06      2273\n",
      "          4       0.38      0.16      0.22      4834\n",
      "          5       0.66      0.97      0.79     14804\n",
      "\n",
      "avg / total       0.54      0.63      0.54     24000\n",
      "\n",
      "Test set performance:\n",
      "Accuracy:  0.635833333333\n",
      "             precision    recall  f1-score   support\n",
      "\n",
      "          1       0.33      0.01      0.02       214\n",
      "          2       0.25      0.00      0.01       308\n",
      "          3       0.21      0.02      0.04       569\n",
      "          4       0.40      0.16      0.22      1208\n",
      "          5       0.66      0.98      0.79      3701\n",
      "\n",
      "avg / total       0.53      0.64      0.54      6000\n",
      "\n",
      "--------------------------------------------------\n",
      "==================================================\n",
      "Model: SGD\n",
      "Bag of words features\n",
      "Training set performance:\n",
      "Accuracy:  0.712291666667\n",
      "             precision    recall  f1-score   support\n",
      "\n",
      "          1       0.61      0.54      0.58       856\n",
      "          2       0.57      0.34      0.43      1233\n",
      "          3       0.58      0.31      0.40      2273\n",
      "          4       0.50      0.51      0.50      4834\n",
      "          5       0.80      0.88      0.84     14804\n",
      "\n",
      "avg / total       0.70      0.71      0.70     24000\n",
      "\n",
      "Test set performance:\n",
      "Accuracy:  0.623666666667\n",
      "             precision    recall  f1-score   support\n",
      "\n",
      "          1       0.37      0.30      0.33       214\n",
      "          2       0.26      0.16      0.20       308\n",
      "          3       0.29      0.14      0.19       569\n",
      "          4       0.35      0.36      0.35      1208\n",
      "          5       0.76      0.84      0.80      3701\n",
      "\n",
      "avg / total       0.59      0.62      0.60      6000\n",
      "\n",
      "--------------------------------------------------\n",
      "Tfidf features\n",
      "Training set performance:\n",
      "Accuracy:  0.701375\n",
      "             precision    recall  f1-score   support\n",
      "\n",
      "          1       0.81      0.41      0.55       856\n",
      "          2       0.75      0.30      0.43      1233\n",
      "          3       0.72      0.24      0.36      2273\n",
      "          4       0.61      0.21      0.31      4834\n",
      "          5       0.71      0.98      0.82     14804\n",
      "\n",
      "avg / total       0.69      0.70      0.64     24000\n",
      "\n",
      "Test set performance:\n",
      "Accuracy:  0.655\n",
      "             precision    recall  f1-score   support\n",
      "\n",
      "          1       0.55      0.25      0.35       214\n",
      "          2       0.34      0.12      0.17       308\n",
      "          3       0.42      0.12      0.19       569\n",
      "          4       0.41      0.14      0.20      1208\n",
      "          5       0.69      0.97      0.81      3701\n",
      "\n",
      "avg / total       0.58      0.66      0.58      6000\n",
      "\n",
      "--------------------------------------------------\n",
      "Averaged word vector features\n",
      "Training set performance:\n",
      "Accuracy:  0.618041666667\n",
      "             precision    recall  f1-score   support\n",
      "\n",
      "          1       0.29      0.11      0.16       856\n",
      "          2       0.18      0.06      0.09      1233\n",
      "          3       0.23      0.00      0.01      2273\n",
      "          4       0.32      0.41      0.36      4834\n",
      "          5       0.74      0.86      0.80     14804\n",
      "\n",
      "avg / total       0.56      0.62      0.57     24000\n",
      "\n",
      "Test set performance:\n",
      "Accuracy:  0.6205\n",
      "             precision    recall  f1-score   support\n",
      "\n",
      "          1       0.37      0.10      0.16       214\n",
      "          2       0.15      0.06      0.08       308\n",
      "          3       0.12      0.00      0.00       569\n",
      "          4       0.32      0.40      0.36      1208\n",
      "          5       0.74      0.86      0.80      3701\n",
      "\n",
      "avg / total       0.56      0.62      0.57      6000\n",
      "\n",
      "--------------------------------------------------\n",
      "Tfidf weighted averaged word vector features\n",
      "Training set performance:\n",
      "Accuracy:  0.603\n",
      "             precision    recall  f1-score   support\n",
      "\n",
      "          1       0.25      0.06      0.10       856\n",
      "          2       0.18      0.00      0.00      1233\n",
      "          3       0.21      0.13      0.16      2273\n",
      "          4       0.31      0.14      0.20      4834\n",
      "          5       0.67      0.91      0.77     14804\n",
      "\n",
      "avg / total       0.51      0.60      0.53     24000\n",
      "\n",
      "Test set performance:\n",
      "Accuracy:  0.600333333333\n",
      "             precision    recall  f1-score   support\n",
      "\n",
      "          1       0.23      0.06      0.09       214\n",
      "          2       1.00      0.00      0.01       308\n",
      "          3       0.19      0.12      0.15       569\n",
      "          4       0.30      0.15      0.20      1208\n",
      "          5       0.67      0.90      0.77      3701\n",
      "\n",
      "avg / total       0.55      0.60      0.53      6000\n",
      "\n",
      "--------------------------------------------------\n",
      "==================================================\n",
      "Model: RFC\n",
      "Bag of words features\n",
      "Training set performance:\n",
      "Accuracy:  0.989041666667\n",
      "             precision    recall  f1-score   support\n",
      "\n",
      "          1       1.00      0.99      0.99       856\n",
      "          2       1.00      0.98      0.99      1233\n",
      "          3       1.00      0.98      0.99      2273\n",
      "          4       0.99      0.97      0.98      4834\n",
      "          5       0.98      1.00      0.99     14804\n",
      "\n",
      "avg / total       0.99      0.99      0.99     24000\n",
      "\n",
      "Test set performance:\n",
      "Accuracy:  0.6155\n",
      "             precision    recall  f1-score   support\n",
      "\n",
      "          1       0.42      0.09      0.15       214\n",
      "          2       0.18      0.05      0.07       308\n",
      "          3       0.23      0.10      0.14       569\n",
      "          4       0.33      0.20      0.25      1208\n",
      "          5       0.69      0.91      0.78      3701\n",
      "\n",
      "avg / total       0.54      0.62      0.56      6000\n",
      "\n",
      "--------------------------------------------------\n",
      "Tfidf features\n",
      "Training set performance:\n",
      "Accuracy:  0.990041666667\n",
      "             precision    recall  f1-score   support\n",
      "\n",
      "          1       1.00      0.97      0.98       856\n",
      "          2       1.00      0.97      0.98      1233\n",
      "          3       1.00      0.98      0.99      2273\n",
      "          4       1.00      0.98      0.99      4834\n",
      "          5       0.99      1.00      0.99     14804\n",
      "\n",
      "avg / total       0.99      0.99      0.99     24000\n",
      "\n",
      "Test set performance:\n",
      "Accuracy:  0.624666666667\n",
      "             precision    recall  f1-score   support\n",
      "\n",
      "          1       0.29      0.07      0.11       214\n",
      "          2       0.23      0.05      0.08       308\n",
      "          3       0.31      0.11      0.16       569\n",
      "          4       0.34      0.18      0.24      1208\n",
      "          5       0.68      0.93      0.79      3701\n",
      "\n",
      "avg / total       0.54      0.62      0.56      6000\n",
      "\n",
      "--------------------------------------------------\n",
      "Averaged word vector features\n",
      "Training set performance:\n",
      "Accuracy:  0.99075\n",
      "             precision    recall  f1-score   support\n",
      "\n",
      "          1       0.99      0.98      0.99       856\n",
      "          2       1.00      0.98      0.99      1233\n",
      "          3       0.99      0.98      0.99      2273\n",
      "          4       0.99      0.98      0.99      4834\n",
      "          5       0.99      1.00      0.99     14804\n",
      "\n",
      "avg / total       0.99      0.99      0.99     24000\n",
      "\n",
      "Test set performance:\n",
      "Accuracy:  0.5955\n",
      "             precision    recall  f1-score   support\n",
      "\n",
      "          1       0.20      0.10      0.13       214\n",
      "          2       0.14      0.07      0.10       308\n",
      "          3       0.24      0.15      0.19       569\n",
      "          4       0.31      0.26      0.28      1208\n",
      "          5       0.72      0.85      0.78      3701\n",
      "\n",
      "avg / total       0.54      0.60      0.56      6000\n",
      "\n",
      "--------------------------------------------------\n",
      "Tfidf weighted averaged word vector features\n",
      "Training set performance:\n",
      "Accuracy:  0.989125\n",
      "             precision    recall  f1-score   support\n",
      "\n",
      "          1       0.99      0.98      0.98       856\n",
      "          2       0.99      0.98      0.99      1233\n",
      "          3       0.99      0.97      0.98      2273\n",
      "          4       0.99      0.98      0.98      4834\n",
      "          5       0.99      1.00      0.99     14804\n",
      "\n",
      "avg / total       0.99      0.99      0.99     24000\n",
      "\n",
      "Test set performance:\n",
      "Accuracy:  0.588166666667\n",
      "             precision    recall  f1-score   support\n",
      "\n",
      "          1       0.24      0.09      0.13       214\n",
      "          2       0.16      0.08      0.11       308\n",
      "          3       0.22      0.14      0.17       569\n",
      "          4       0.29      0.24      0.26      1208\n",
      "          5       0.70      0.84      0.77      3701\n",
      "\n",
      "avg / total       0.53      0.59      0.55      6000\n",
      "\n",
      "--------------------------------------------------\n"
     ]
    }
   ],
   "source": [
    "# Train, predict and evaluate models\n",
    "predict_result = []\n",
    "for m_name, model in models:\n",
    "    print('==================================================')\n",
    "    print('Model:', m_name)\n",
    "    for f_name, train_features, test_features in feature_set:\n",
    "        if m_name=='MNB':\n",
    "            if (f_name=='Averaged word vector features' or f_name=='Tfidf weighted averaged word vector features'):\n",
    "                break\n",
    "        print(f_name)\n",
    "        predictions = train_predict_evaluate_model(model, train_features, train_labels, test_features, test_labels)\n",
    "        print('--------------------------------------------------')\n",
    "        predict_result.append((m_name, f_name, predictions))"
   ]
  },
  {
   "cell_type": "markdown",
   "metadata": {},
   "source": [
    "### 5. Confusion Matrix of Models"
   ]
  },
  {
   "cell_type": "code",
   "execution_count": 55,
   "metadata": {
    "collapsed": false,
    "scrolled": true
   },
   "outputs": [
    {
     "name": "stdout",
     "output_type": "stream",
     "text": [
      "Model LR with Bag of words features:\n",
      "    1   2    3    4     5\n",
      "1  54  42   19   20    79\n",
      "2  20  62   60   47   119\n",
      "3  21  45  129  155   219\n",
      "4   8  16   93  318   773\n",
      "5   9  11   77  245  3359\n",
      "\n",
      "Model LR with Tfidf features:\n",
      "    1   2   3    4     5\n",
      "1  32  28  27   21   106\n",
      "2  12  26  59   47   164\n",
      "3   3  19  99  161   287\n",
      "4   2   6  55  272   873\n",
      "5   0   4  21  157  3519\n",
      "\n",
      "Model LR with Averaged word vector features:\n",
      "    1  2   3    4     5\n",
      "1  14  4  26   23   147\n",
      "2   7  7  37   55   202\n",
      "3   0  4  42  136   387\n",
      "4   2  0  28  214   964\n",
      "5   6  4  12  112  3567\n",
      "\n",
      "Model LR with Tfidf weighted averaged word vector features:\n",
      "   1  2   3    4     5\n",
      "1  7  2  25   23   157\n",
      "2  5  7  32   47   217\n",
      "3  1  2  29  124   413\n",
      "4  1  1  25  197   984\n",
      "5  4  2  17  102  3576\n",
      "\n",
      "Model MNB with Bag of words features:\n",
      "    1   2    3    4     5\n",
      "1  65  48   32   23    46\n",
      "2  30  55   83   55    85\n",
      "3  14  53  151  172   179\n",
      "4   9  30  128  383   658\n",
      "5  23  32   89  389  3168\n",
      "\n",
      "Model MNB with Tfidf features:\n",
      "   1  2  3   4     5\n",
      "1  0  0  0   9   205\n",
      "2  0  1  2  10   295\n",
      "3  0  0  4  26   539\n",
      "4  0  0  1  39  1168\n",
      "5  0  0  0  19  3682\n",
      "\n",
      "Model LSVC with Bag of words features:\n",
      "    1   2    3    4     5\n",
      "1  67  47   25   23    52\n",
      "2  40  73   59   43    93\n",
      "3  38  53  130  147   201\n",
      "4  22  43  118  305   720\n",
      "5  15  47  111  324  3204\n",
      "\n",
      "Model LSVC with Tfidf features:\n",
      "    1   2    3    4     5\n",
      "1  62  35   24   23    70\n",
      "2  28  60   50   58   112\n",
      "3  19  42  129  168   211\n",
      "4  12  18   93  314   771\n",
      "5   7  14   61  257  3362\n",
      "\n",
      "Model LSVC with Averaged word vector features:\n",
      "   1  2   3    4     5\n",
      "1  5  4  16   26   163\n",
      "2  5  2  30   54   217\n",
      "3  0  2  16  139   412\n",
      "4  0  0  16  204   988\n",
      "5  1  0   9   86  3605\n",
      "\n",
      "Model LSVC with Tfidf weighted averaged word vector features:\n",
      "   1  2   3    4     5\n",
      "1  2  1  12   27   172\n",
      "2  3  1  24   47   233\n",
      "3  0  2  13  127   427\n",
      "4  0  0  10  188  1010\n",
      "5  1  0   4   85  3611\n",
      "\n",
      "Model SGD with Bag of words features:\n",
      "    1   2   3    4     5\n",
      "1  64  29  18   42    61\n",
      "2  34  50  35   92    97\n",
      "3  30  56  80  207   196\n",
      "4  19  31  87  429   642\n",
      "5  25  27  58  472  3119\n",
      "\n",
      "Model SGD with Tfidf features:\n",
      "    1   2   3    4     5\n",
      "1  54  22  10   10   118\n",
      "2  20  36  34   41   177\n",
      "3  12  28  69  118   342\n",
      "4   9  14  35  164   986\n",
      "5   3   7  16   68  3607\n",
      "\n",
      "Model SGD with Averaged word vector features:\n",
      "    1   2  3    4     5\n",
      "1  22  25  1   95    71\n",
      "2  14  17  1  160   116\n",
      "3   7  23  1  325   213\n",
      "4   3  14  3  485   703\n",
      "5  14  32  2  455  3198\n",
      "\n",
      "Model SGD with Tfidf weighted averaged word vector features:\n",
      "    1  2    3    4     5\n",
      "1  12  0   40   30   132\n",
      "2  12  1   44   56   195\n",
      "3   9  0   66   88   406\n",
      "4   8  0   88  180   932\n",
      "5  12  0  101  245  3343\n",
      "\n",
      "Model RFC with Bag of words features:\n",
      "    1   2   3    4     5\n",
      "1  20  14  24   40   116\n",
      "2  12  14  46   67   169\n",
      "3   6  24  58  121   360\n",
      "4   6  14  66  245   877\n",
      "5   4  11  53  277  3356\n",
      "\n",
      "Model RFC with Tfidf features:\n",
      "    1   2   3    4     5\n",
      "1  15  15  21   31   132\n",
      "2  15  15  28   64   186\n",
      "3   9  13  62  116   369\n",
      "4   8  12  46  218   924\n",
      "5   5  10  40  208  3438\n",
      "\n",
      "Model RFC with Averaged word vector features:\n",
      "    1   2   3    4     5\n",
      "1  21  24  34   48    87\n",
      "2  22  23  58   80   125\n",
      "3  20  27  86  171   265\n",
      "4  19  36  84  313   756\n",
      "5  22  56  94  399  3130\n",
      "\n",
      "Model RFC with Tfidf weighted averaged word vector features:\n",
      "    1   2    3    4     5\n",
      "1  19  25   31   40    99\n",
      "2   9  26   62   69   142\n",
      "3  10  34   80  163   282\n",
      "4  16  38   86  284   784\n",
      "5  24  37  113  407  3120\n",
      "\n"
     ]
    }
   ],
   "source": [
    "from sklearn.metrics import confusion_matrix\n",
    "\n",
    "for m_name, f_name, predictions in predict_result:\n",
    "    print(\"Model {} with {}:\".format(m_name, f_name))\n",
    "    cm = confusion_matrix(test_labels, predictions)\n",
    "    print(pd.DataFrame(cm, index=range(1,6), columns=range(1,6)))\n",
    "    print()"
   ]
  },
  {
   "cell_type": "markdown",
   "metadata": {
    "collapsed": true
   },
   "source": [
    "### 6. Hyperparameter Tuning"
   ]
  },
  {
   "cell_type": "code",
   "execution_count": 56,
   "metadata": {
    "collapsed": true
   },
   "outputs": [],
   "source": [
    "from sklearn.model_selection import GridSearchCV\n",
    "\n",
    "def get_optimal_parameters(classifier, param_grid, \n",
    "                    train_features, train_labels, \n",
    "                    test_features, test_labels):\n",
    "    # Instantiate the GridSearchCV object\n",
    "    classifier_cv = GridSearchCV(classifier, param_grid, cv=5)\n",
    "    # build model    \n",
    "    classifier_cv.fit(train_features, train_labels)\n",
    "    # predict using model\n",
    "    test_predictions = classifier_cv.predict(test_features) \n",
    "    print(\"Tuned Parameter: {}\".format(classifier_cv.best_params_))\n",
    "    print(\"Tuned Score: {}\".format(classifier_cv.best_score_))\n",
    "    print()\n",
    "    # evaluate model prediction performance \n",
    "    print ('Test set performance:')\n",
    "    get_metrics(true_labels=test_labels, predicted_labels=test_predictions)\n",
    "    # Print the optimal parameters and best score\n",
    "    return classifier_cv"
   ]
  },
  {
   "cell_type": "markdown",
   "metadata": {
    "collapsed": true
   },
   "source": [
    "* __Logistic Regression__"
   ]
  },
  {
   "cell_type": "code",
   "execution_count": 57,
   "metadata": {
    "collapsed": true
   },
   "outputs": [],
   "source": [
    "# Create the hyperparameter grid\n",
    "c_space = np.logspace(-3, 2, 9)\n",
    "param_grid = {'C': c_space, 'penalty': ['l1', 'l2']}"
   ]
  },
  {
   "cell_type": "code",
   "execution_count": 59,
   "metadata": {
    "collapsed": false
   },
   "outputs": [
    {
     "name": "stdout",
     "output_type": "stream",
     "text": [
      "Tuned Parameter: {'C': 0.31622776601683794, 'penalty': 'l1'}\n",
      "Tuned Score: 0.65825\n",
      "\n",
      "Test set performance:\n",
      "Accuracy:  0.6605\n",
      "             precision    recall  f1-score   support\n",
      "\n",
      "          1       0.49      0.22      0.31       214\n",
      "          2       0.32      0.10      0.15       308\n",
      "          3       0.38      0.18      0.25       569\n",
      "          4       0.43      0.24      0.31      1208\n",
      "          5       0.72      0.94      0.82      3701\n",
      "\n",
      "avg / total       0.60      0.66      0.61      6000\n",
      "\n"
     ]
    }
   ],
   "source": [
    "# Logistic Regression with bag of words features\n",
    "LR_bow_model = get_optimal_parameters(classifier=LogisticRegression(), \n",
    "                                    param_grid=param_grid, \n",
    "                                    train_features=bow_train_features,\n",
    "                                    train_labels=train_labels,\n",
    "                                    test_features=bow_test_features,\n",
    "                                    test_labels=test_labels)"
   ]
  },
  {
   "cell_type": "code",
   "execution_count": 60,
   "metadata": {
    "collapsed": true
   },
   "outputs": [],
   "source": [
    "# Create the hyperparameter grid\n",
    "c_space = np.logspace(-3, 2, 9)\n",
    "param_grid = {'C': c_space, 'penalty': ['l1', 'l2']}"
   ]
  },
  {
   "cell_type": "code",
   "execution_count": 61,
   "metadata": {
    "collapsed": false
   },
   "outputs": [
    {
     "name": "stdout",
     "output_type": "stream",
     "text": [
      "Tuned Parameter: {'C': 1.333521432163324, 'penalty': 'l1'}\n",
      "Tuned Score: 0.661375\n",
      "\n",
      "Test set performance:\n",
      "Accuracy:  0.662\n",
      "             precision    recall  f1-score   support\n",
      "\n",
      "          1       0.58      0.24      0.34       214\n",
      "          2       0.33      0.11      0.17       308\n",
      "          3       0.39      0.19      0.26       569\n",
      "          4       0.42      0.24      0.31      1208\n",
      "          5       0.72      0.94      0.82      3701\n",
      "\n",
      "avg / total       0.60      0.66      0.61      6000\n",
      "\n"
     ]
    }
   ],
   "source": [
    "# Logistic Regression with tfidf features\n",
    "LR_tfidf_model = get_optimal_parameters(classifier=LogisticRegression(), \n",
    "                                        param_grid=param_grid, \n",
    "                                        train_features=tfidf_train_features,\n",
    "                                        train_labels=train_labels,\n",
    "                                        test_features=tfidf_test_features,\n",
    "                                        test_labels=test_labels)"
   ]
  },
  {
   "cell_type": "markdown",
   "metadata": {},
   "source": [
    "* __Multinomial Naive Bayes__"
   ]
  },
  {
   "cell_type": "code",
   "execution_count": 62,
   "metadata": {
    "collapsed": true
   },
   "outputs": [],
   "source": [
    "# Create the hyperparameter grid\n",
    "alpha_space = np.logspace(-3, 3, 10)\n",
    "param_grid = {'alpha': alpha_space}"
   ]
  },
  {
   "cell_type": "code",
   "execution_count": 63,
   "metadata": {
    "collapsed": false
   },
   "outputs": [
    {
     "name": "stdout",
     "output_type": "stream",
     "text": [
      "Tuned Parameter: {'alpha': 2.154434690031882}\n",
      "Tuned Score: 0.6335833333333334\n",
      "\n",
      "Test set performance:\n",
      "Accuracy:  0.636166666667\n",
      "             precision    recall  f1-score   support\n",
      "\n",
      "          1       0.50      0.22      0.31       214\n",
      "          2       0.28      0.13      0.17       308\n",
      "          3       0.29      0.21      0.25       569\n",
      "          4       0.36      0.32      0.34      1208\n",
      "          5       0.75      0.87      0.81      3701\n",
      "\n",
      "avg / total       0.60      0.64      0.61      6000\n",
      "\n"
     ]
    }
   ],
   "source": [
    "# Multinomial Naive Bayes with bag of words features\n",
    "MNB_bow_model = get_optimal_parameters(classifier=MultinomialNB(), \n",
    "                                    param_grid=param_grid, \n",
    "                                    train_features=bow_train_features,\n",
    "                                    train_labels=train_labels,\n",
    "                                    test_features=bow_test_features,\n",
    "                                    test_labels=test_labels)"
   ]
  },
  {
   "cell_type": "markdown",
   "metadata": {},
   "source": [
    "* __Linear Support Vector Classification__"
   ]
  },
  {
   "cell_type": "code",
   "execution_count": 64,
   "metadata": {
    "collapsed": true
   },
   "outputs": [],
   "source": [
    "# Create the hyperparameter grid\n",
    "c_space = np.logspace(-3, 2, 10)\n",
    "param_grid = {'C': c_space}"
   ]
  },
  {
   "cell_type": "code",
   "execution_count": 65,
   "metadata": {
    "collapsed": false
   },
   "outputs": [
    {
     "name": "stdout",
     "output_type": "stream",
     "text": [
      "Tuned Parameter: {'C': 0.1668100537200059}\n",
      "Tuned Score: 0.6562083333333333\n",
      "\n",
      "Test set performance:\n",
      "Accuracy:  0.662166666667\n",
      "             precision    recall  f1-score   support\n",
      "\n",
      "          1       0.62      0.21      0.32       214\n",
      "          2       0.36      0.12      0.18       308\n",
      "          3       0.37      0.17      0.23       569\n",
      "          4       0.41      0.23      0.30      1208\n",
      "          5       0.72      0.95      0.82      3701\n",
      "\n",
      "avg / total       0.60      0.66      0.61      6000\n",
      "\n"
     ]
    }
   ],
   "source": [
    "# Linear Support Vector Classification with tfidf features                                           \n",
    "LSVC_tfidf_model = get_optimal_parameters(classifier=LinearSVC(), param_grid=param_grid, \n",
    "                                           train_features=tfidf_train_features,\n",
    "                                           train_labels=train_labels,\n",
    "                                           test_features=tfidf_test_features,\n",
    "                                           test_labels=test_labels)"
   ]
  },
  {
   "cell_type": "markdown",
   "metadata": {},
   "source": [
    "* __SGD Classifier__"
   ]
  },
  {
   "cell_type": "code",
   "execution_count": 66,
   "metadata": {
    "collapsed": true
   },
   "outputs": [],
   "source": [
    "# Create the hyperparameter grid\n",
    "l1_space = np.linspace(0, 1, 20)\n",
    "param_grid = {'l1_ratio': l1_space}"
   ]
  },
  {
   "cell_type": "code",
   "execution_count": 67,
   "metadata": {
    "collapsed": false
   },
   "outputs": [
    {
     "name": "stdout",
     "output_type": "stream",
     "text": [
      "Tuned Parameter: {'l1_ratio': 0.84210526315789469}\n",
      "Tuned Score: 0.653625\n",
      "\n",
      "Test set performance:\n",
      "Accuracy:  0.657833333333\n",
      "             precision    recall  f1-score   support\n",
      "\n",
      "          1       0.54      0.26      0.35       214\n",
      "          2       0.40      0.13      0.20       308\n",
      "          3       0.41      0.19      0.26       569\n",
      "          4       0.42      0.13      0.19      1208\n",
      "          5       0.70      0.97      0.81      3701\n",
      "\n",
      "avg / total       0.59      0.66      0.59      6000\n",
      "\n"
     ]
    }
   ],
   "source": [
    "# SGD Classifier with tfidf features \n",
    "SGD_tfidf_model = get_optimal_parameters(classifier=SGDClassifier(), \n",
    "                                         param_grid=param_grid,\n",
    "                                         train_features=tfidf_train_features,\n",
    "                                         train_labels=train_labels,\n",
    "                                         test_features=tfidf_test_features,\n",
    "                                         test_labels=test_labels)"
   ]
  },
  {
   "cell_type": "markdown",
   "metadata": {},
   "source": [
    "* __Random Forest Classifier__"
   ]
  },
  {
   "cell_type": "code",
   "execution_count": 68,
   "metadata": {
    "collapsed": true
   },
   "outputs": [],
   "source": [
    "# Create the hyperparameter grid\n",
    "n_options = [10,20,50,100,200]\n",
    "sample_leaf_options = [1,5,10,50,100,200,500]\n",
    "param_grid = {'n_estimators': n_options, 'min_samples_leaf': sample_leaf_options}"
   ]
  },
  {
   "cell_type": "code",
   "execution_count": 69,
   "metadata": {
    "collapsed": false
   },
   "outputs": [
    {
     "name": "stdout",
     "output_type": "stream",
     "text": [
      "Tuned Parameter: {'min_samples_leaf': 10, 'n_estimators': 200}\n",
      "Tuned Score: 0.635625\n",
      "\n",
      "Test set performance:\n",
      "Accuracy:  0.636666666667\n",
      "             precision    recall  f1-score   support\n",
      "\n",
      "          1       0.57      0.06      0.11       214\n",
      "          2       0.24      0.04      0.06       308\n",
      "          3       0.27      0.07      0.11       569\n",
      "          4       0.35      0.17      0.23      1208\n",
      "          5       0.68      0.96      0.80      3701\n",
      "\n",
      "avg / total       0.55      0.64      0.56      6000\n",
      "\n"
     ]
    }
   ],
   "source": [
    "# Random Forest Classifier with averaged word vector features\n",
    "RFC_avgwv_model = get_optimal_parameters(classifier=RandomForestClassifier(), \n",
    "                                         param_grid=param_grid,\n",
    "                                         train_features=avg_wv_train_features,\n",
    "                                         train_labels=train_labels,\n",
    "                                         test_features=avg_wv_test_features,\n",
    "                                         test_labels=test_labels)"
   ]
  },
  {
   "cell_type": "code",
   "execution_count": null,
   "metadata": {
    "collapsed": true
   },
   "outputs": [],
   "source": []
  }
 ],
 "metadata": {
  "kernelspec": {
   "display_name": "Python 3",
   "language": "python",
   "name": "python3"
  },
  "language_info": {
   "codemirror_mode": {
    "name": "ipython",
    "version": 3
   },
   "file_extension": ".py",
   "mimetype": "text/x-python",
   "name": "python",
   "nbconvert_exporter": "python",
   "pygments_lexer": "ipython3",
   "version": "3.6.0"
  }
 },
 "nbformat": 4,
 "nbformat_minor": 2
}
